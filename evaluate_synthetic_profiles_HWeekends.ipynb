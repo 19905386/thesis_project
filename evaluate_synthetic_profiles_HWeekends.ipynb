{
 "cells": [
  {
   "cell_type": "markdown",
   "metadata": {},
   "source": [
    "#### Script that evalueates the synthetic profiles for the 4 types of profiles present"
   ]
  },
  {
   "cell_type": "code",
   "execution_count": 1,
   "metadata": {},
   "outputs": [
    {
     "name": "stdout",
     "output_type": "stream",
     "text": [
      "C:\\Users\\Jason\\AppData\\Local\\Programs\\Python\\Python39\\lib\\os.py\n",
      "c:\\Users\\Jason\\thesis_project\n"
     ]
    },
    {
     "data": {
      "text/html": [
       "        <script type=\"text/javascript\">\n",
       "        window.PlotlyConfig = {MathJaxConfig: 'local'};\n",
       "        if (window.MathJax) {MathJax.Hub.Config({SVG: {font: \"STIX-Web\"}});}\n",
       "        if (typeof require !== 'undefined') {\n",
       "        require.undef(\"plotly\");\n",
       "        requirejs.config({\n",
       "            paths: {\n",
       "                'plotly': ['https://cdn.plot.ly/plotly-2.6.3.min']\n",
       "            }\n",
       "        });\n",
       "        require(['plotly'], function(Plotly) {\n",
       "            window._Plotly = Plotly;\n",
       "        });\n",
       "        }\n",
       "        </script>\n",
       "        "
      ]
     },
     "metadata": {},
     "output_type": "display_data"
    }
   ],
   "source": [
    "import pandas as pd\n",
    "import numpy as np\n",
    "import os\n",
    "import glob\n",
    "import random\n",
    "from tqdm import tqdm_notebook as tqdm\n",
    "import seaborn as sns\n",
    "from fitter import Fitter, get_common_distributions, get_distributions\n",
    "from sklearn.metrics import mean_squared_error\n",
    "import pickle\n",
    "import scipy.stats\n",
    "from scipy.stats import *\n",
    "\n",
    "from support import *\n",
    "from features.feature_ts import genX\n",
    "from experiment.algorithms.cluster_prep import *\n",
    "from Gauss_fit_functions import extractFIT, extractToPs , gauss, straight_line\n",
    "\n",
    "from synthetic_profiles_functions import *"
   ]
  },
  {
   "cell_type": "code",
   "execution_count": 2,
   "metadata": {},
   "outputs": [
    {
     "name": "stdout",
     "output_type": "stream",
     "text": [
      "dropping all zero rows\n"
     ]
    }
   ],
   "source": [
    "X = genX([1994,2014],drop_0 = True)"
   ]
  },
  {
   "cell_type": "code",
   "execution_count": 3,
   "metadata": {},
   "outputs": [],
   "source": [
    "profileIDs = pd.read_pickle('ProfileIDs.pkl') # Read pickle file"
   ]
  },
  {
   "cell_type": "markdown",
   "metadata": {},
   "source": [
    "## High Season Weekdays a.k.a. Winter Weekdays\n"
   ]
  },
  {
   "cell_type": "code",
   "execution_count": 4,
   "metadata": {},
   "outputs": [],
   "source": [
    "# Collect only winter weekday profiles from dataset\n",
    "df = X.copy()\n",
    "\n",
    "df.reset_index(inplace = True)\n",
    "\n",
    "# Extract Season\n",
    "df['month'] = df.date.dt.month\n",
    "df['season'] = df['month'].apply(lambda x: 'winter' if x in [6, 7, 8] else 'summer') \n",
    "df_winter = df[df['season'] == 'winter'] # Create dataframe with all the winter months, excluding weekends\n",
    "\n",
    "# Extract Weekdays\n",
    "weekdays = ['Monday', 'Tuesday', 'Wednesday', 'Thursday','Friday']\n",
    "df_winter['day_names'] = df_winter.date.dt.day_name()\n",
    "df_winter['daytype'] = df_winter.day_names.where(~df_winter.day_names.isin(weekdays), 'weekday')\n",
    "df_winter.drop(['day_names'], axis = 1, inplace = True)\n",
    "df_winter_weekdays  = df_winter[df_winter['daytype'] == 'weekday'] # Create dataframe with only weekdays\n",
    "df_winter_weekdays.drop(['month', 'season','daytype'], axis = 1, inplace = True)\n",
    "df_winter_weekdays =  df_winter_weekdays[df_winter_weekdays.ProfileID.isin(profileIDs)]\n",
    "# df_winter_weekdays.set_index(['ProfileID','date'], inplace=True)"
   ]
  },
  {
   "cell_type": "markdown",
   "metadata": {},
   "source": [
    "# High Season Weekends a.k.a. Winter Weekends"
   ]
  },
  {
   "cell_type": "code",
   "execution_count": 5,
   "metadata": {},
   "outputs": [],
   "source": [
    "# Collect only winter weekday profiles from dataset\n",
    "df = X.copy()\n",
    "\n",
    "df.reset_index(inplace = True)\n",
    "\n",
    "# Extract Season\n",
    "df['month'] = df.date.dt.month\n",
    "df['season'] = df['month'].apply(lambda x: 'winter' if x in [6, 7, 8] else 'summer') \n",
    "df_winter = df[df['season'] == 'winter'] # Create dataframe with all the winter months, excluding weekends\n",
    "\n",
    "\n",
    "# Extract Weekdays\n",
    "weekends = ['Sunday', 'Saturday']\n",
    "df_winter['day_names'] = df_winter.date.dt.day_name()\n",
    "df_winter['daytype'] = df_winter.day_names.where(~df_winter.day_names.isin(weekends), 'weekend')\n",
    "df_winter.drop(['day_names'], axis = 1, inplace = True)\n",
    "df_winter_weekend  = df_winter[df_winter['daytype'] == 'weekend'] # Create dataframe with only weekdays\n",
    "df_winter_weekend.drop(['month', 'season','daytype'], axis = 1, inplace = True)\n",
    "df_winter_weekend = df_winter_weekend[df_winter_weekend.ProfileID.isin(profileIDs)]"
   ]
  },
  {
   "cell_type": "markdown",
   "metadata": {},
   "source": [
    "## Low Season Weekday a.k.a. Not Winter Weekday"
   ]
  },
  {
   "cell_type": "code",
   "execution_count": 6,
   "metadata": {},
   "outputs": [],
   "source": [
    "# Collect only winter weekday profiles from dataset\n",
    "df = X.copy()\n",
    "\n",
    "df.reset_index(inplace = True)\n",
    "\n",
    "# Extract Season\n",
    "df['month'] = df.date.dt.month\n",
    "df['season'] = df['month'].apply(lambda x: 'winter' if x in [6, 7, 8] else 'summer') \n",
    "df_summer = df[df['season'] == 'summer'] # Create dataframe with all the winter months, excluding weekends\n",
    "\n",
    "\n",
    "# Extract Weekdays\n",
    "weekdays = ['Monday', 'Tuesday', 'Wednesday', 'Thursday','Friday']\n",
    "weekends = ['Sunday', 'Saturday']\n",
    "df_summer['day_names'] = df_summer.date.dt.day_name()\n",
    "df_summer['daytype'] = df_summer.day_names.where(~df_summer.day_names.isin(weekdays), 'weekday')\n",
    "df_summer.drop(['day_names'], axis = 1, inplace = True)\n",
    "df_summer_weekday  = df_summer[df_summer['daytype'] == 'weekday'] # Create dataframe with only weekdays\n",
    "df_summer_weekday.drop(['month', 'season','daytype'], axis = 1, inplace = True)\n",
    "df_summer_weekday = df_summer_weekday[df_summer_weekday.ProfileID.isin(profileIDs)]"
   ]
  },
  {
   "cell_type": "markdown",
   "metadata": {},
   "source": [
    "## Low Season Weekend a.k.a. Not Winter Weekend"
   ]
  },
  {
   "cell_type": "code",
   "execution_count": 7,
   "metadata": {},
   "outputs": [],
   "source": [
    "# Collect only winter weekday profiles from dataset\n",
    "df = X.copy()\n",
    "\n",
    "df.reset_index(inplace = True)\n",
    "\n",
    "# Extract Season\n",
    "df['month'] = df.date.dt.month\n",
    "df['season'] = df['month'].apply(lambda x: 'winter' if x in [6, 7, 8] else 'summer') \n",
    "df_summer = df[df['season'] == 'summer'] # Create dataframe with all the winter months, excluding weekends\n",
    "\n",
    "\n",
    "# Extract Weekdays\n",
    "weekdays = ['Monday', 'Tuesday', 'Wednesday', 'Thursday','Friday']\n",
    "weekends = ['Sunday', 'Saturday']\n",
    "df_summer['day_names'] = df_summer.date.dt.day_name()\n",
    "df_summer['daytype'] = df_summer.day_names.where(~df_summer.day_names.isin(weekends), 'weekend')\n",
    "df_summer.drop(['day_names'], axis = 1, inplace = True)\n",
    "df_summer_weekends  = df_summer[df_summer['daytype'] == 'weekend'] # Create dataframe with only weekdays\n",
    "df_summer_weekends.drop(['month', 'season','daytype'], axis = 1, inplace = True)\n",
    "df_summer_weekends = df_summer_weekends[df_summer_weekends.ProfileID.isin(profileIDs)]"
   ]
  },
  {
   "cell_type": "markdown",
   "metadata": {},
   "source": [
    "# Load The Gauss Fit Features"
   ]
  },
  {
   "cell_type": "markdown",
   "metadata": {},
   "source": [
    "## High Season Weekdays"
   ]
  },
  {
   "cell_type": "code",
   "execution_count": 8,
   "metadata": {},
   "outputs": [],
   "source": [
    "season = \"High_Season_Weekends\" #HighSeason_weekdays, Low_season_weekdays, Low_season_weekends, High_season_weekends\n",
    "\n",
    "\n",
    "if season == \"Low_season_weekdays\":\n",
    "    cleaned_df = df_summer_weekday.copy()\n",
    "\n",
    "elif season == \"Low_season_weekends\":\n",
    "    cleaned_df = df_summer_weekends.copy()\n",
    "\n",
    "elif season == \"HighSeason_weekdays\":\n",
    "    cleaned_df = df_winter_weekdays.copy()\n",
    "    \n",
    "elif season == \"High_Season_Weekends\":\n",
    "    cleaned_df = df_winter_weekend.copy()\n",
    "\n",
    "\n",
    "gaus_fit_features = pd.read_csv('FitFeatures_' + season + '.csv')\n",
    "gauss_profileIds = gaus_fit_features['ProfileID'].unique()\n",
    "cleaned_df_profile_ids = cleaned_df['ProfileID'].unique()\n",
    "\n",
    "profileIDs_2 = np.intersect1d(gauss_profileIds, cleaned_df_profile_ids)\n",
    "\n",
    "cleaned_df = cleaned_df.loc[cleaned_df.ProfileID.isin(profileIDs_2),:]\n",
    "gauss_fit_features = gaus_fit_features.loc[gaus_fit_features.ProfileID.isin(profileIDs_2),:]"
   ]
  },
  {
   "cell_type": "markdown",
   "metadata": {},
   "source": [
    "## Extract the Amplitudes from the measured profiles"
   ]
  },
  {
   "cell_type": "code",
   "execution_count": 9,
   "metadata": {},
   "outputs": [],
   "source": [
    "# # Create cols\n",
    "# cols = ['ProfileID','A1','A2','mu1','mu2']\n",
    "\n",
    "# # Create dummy variables\n",
    "# mu1 = 0\n",
    "# A1 = 0 \n",
    "# mu2 = 0\n",
    "# A2 = 0\n",
    "\n",
    "# data=[['DROP_ROW',A1,A2,mu1,mu2]]\n",
    "\n",
    "# amplitudes_df = pd.DataFrame(data, columns=cols)\n",
    "\n",
    "# profileIDs_3 = gauss_fit_features['ProfileID'].unique()\n",
    "\n",
    "# for id in tqdm(profileIDs_3):\n",
    "#     for index in cleaned_df[cleaned_df['ProfileID'] == id].index:\n",
    "#         A1, A2, mu1, mu2, check = extractToPs(cleaned_df[cleaned_df['ProfileID'] == id].loc[index])\n",
    "#         if check == False:\n",
    "#             continue\n",
    "        \n",
    "#         data=[[id,A1,A2,mu1,mu2]]\n",
    "#         temp_df = pd.DataFrame(data, columns=cols)\n",
    "#         # temp_df.set_index(['ProfileID'])\n",
    "#         amplitudes_df = amplitudes_df.append(temp_df)\n",
    "    \n",
    "# amplitudes_df = amplitudes_df.set_index(['ProfileID'])\n",
    "# temporary = amplitudes_df.copy()\n",
    "# temporary.drop(['DROP_ROW'],axis = 0, inplace = True)"
   ]
  },
  {
   "cell_type": "markdown",
   "metadata": {},
   "source": [
    "# Save all the peak values of the measured profiles"
   ]
  },
  {
   "cell_type": "code",
   "execution_count": 9,
   "metadata": {},
   "outputs": [],
   "source": [
    "# temporary.to_csv(\"High_Season_weekends_amplitudes.csv\")\n",
    "temporary = pd.read_csv(\"High_Season_weekends_amplitudes.csv\", index_col = ['ProfileID'])"
   ]
  },
  {
   "cell_type": "code",
   "execution_count": 11,
   "metadata": {},
   "outputs": [],
   "source": [
    "def standard_deviation(my_list):\n",
    "    #calculate population standard deviation of list \n",
    "    return (sum((x-(sum(my_list) / len(my_list)))**2 for x in my_list) / len(my_list))**0.5"
   ]
  },
  {
   "cell_type": "code",
   "execution_count": 12,
   "metadata": {},
   "outputs": [
    {
     "data": {
      "application/vnd.jupyter.widget-view+json": {
       "model_id": "1e06a7bcad674ab4b4406edbf8f0adb2",
       "version_major": 2,
       "version_minor": 0
      },
      "text/plain": [
       "  0%|          | 0/9787 [00:00<?, ?it/s]"
      ]
     },
     "metadata": {},
     "output_type": "display_data"
    },
    {
     "name": "stdout",
     "output_type": "stream",
     "text": [
      "TypeError\n"
     ]
    }
   ],
   "source": [
    "daily_consumption = pd.DataFrame()\n",
    "\n",
    "daily_consumption['Daily_Consumption'] = cleaned_df.set_index([\"ProfileID\"]).sum(axis = 1)\n",
    "\n",
    "std_deviation_df = pd.DataFrame(index = temporary.index.unique())\n",
    "\n",
    "for id in tqdm(temporary.index.unique()):\n",
    "    try:\n",
    "        std_deviation_df.loc[id,'A1_std'] = standard_deviation(temporary.loc[id]['A1'])\n",
    "        std_deviation_df.loc[id,'A2_std'] = standard_deviation(temporary.loc[id]['A2'])\n",
    "        std_deviation_df.loc[id,'mu1_std'] = standard_deviation(temporary.loc[id]['mu1'])\n",
    "        std_deviation_df.loc[id,'mu2_std'] = standard_deviation(temporary.loc[id]['mu2'])\n",
    "        std_deviation_df.loc[id,'DC_std'] = standard_deviation(daily_consumption.loc[id]['Daily_Consumption'])\n",
    "    except TypeError:\n",
    "        print('TypeError')\n",
    "        continue"
   ]
  },
  {
   "cell_type": "code",
   "execution_count": 13,
   "metadata": {},
   "outputs": [],
   "source": [
    "gauss_fit_features.set_index(['ProfileID'], inplace = True)\n",
    "combined_df = pd.merge(gauss_fit_features,std_deviation_df, left_index = True, right_index = True)"
   ]
  },
  {
   "cell_type": "markdown",
   "metadata": {},
   "source": [
    "## Loop that extracts the distributions fitted to user profiles measured peaks"
   ]
  },
  {
   "cell_type": "code",
   "execution_count": 15,
   "metadata": {},
   "outputs": [
    {
     "data": {
      "application/vnd.jupyter.widget-view+json": {
       "model_id": "f0cf8c5c82634d2c8190da2ea25b57a8",
       "version_major": 2,
       "version_minor": 0
      },
      "text/plain": [
       "  0%|          | 0/9787 [00:00<?, ?it/s]"
      ]
     },
     "metadata": {},
     "output_type": "display_data"
    }
   ],
   "source": [
    "# profiles_ids = combined_df.index.unique().values\n",
    "\n",
    "# cols = pd.MultiIndex.from_tuples([#(\"ProfileID\",''),\n",
    "#                                 ('A1', 'Distribution'),\n",
    "#                                  (\"A1\", \"chi_square\"), \n",
    "#                                   (\"A1\", \"params\"), \n",
    "#                                   (\"A2\", \"Distribution\"),\n",
    "#                                   (\"A2\", \"chi_square\"),\n",
    "#                                   (\"A2\", \"params\") \n",
    "#                                   #, ('t1', 'Distribution'),\n",
    "#                                   # (\"t1\", \"chi_square\"), \n",
    "#                                   # (\"t1\", \"params\"), \n",
    "#                                   # (\"t2\", \"Distribution\"),\n",
    "#                                   # (\"t2\", \"chi_square\"),\n",
    "#                                   # (\"t2\", \"params\"),\n",
    "#                                 ])\n",
    "# distributions_df = pd.DataFrame(index = profiles_ids,columns = cols)\n",
    "# results = []\n",
    "# for id in tqdm(profiles_ids):\n",
    "#   # Extract the best distribution fitted\n",
    "#   try:\n",
    "#     results1 = fit_distribution(temporary.loc[id],'A1',0.99,0.01)\n",
    "#     results2 = fit_distribution(temporary.loc[id],'A2',0.99,0.01)\n",
    "#     # results3 = fit_distribution(temporary.loc[id],'mu1',0.99,0.01)\n",
    "#     # results4 = fit_distribution(temporary.loc[id],'mu2',0.99,0.01)\n",
    "\n",
    "#     results = [results1.values[0],results1.values[1],results1.values[2], results2.values[0],results2.values[1],results2.values[2]]\n",
    "#               # ,results3.values[0],results3.values[1],results3.values[2], results4.values[0],results4.values[1],results4.values[2]]\n",
    "\n",
    "#     distributions_df.loc[id] = results\n",
    "#   except Exception:\n",
    "#     continue"
   ]
  },
  {
   "cell_type": "code",
   "execution_count": 10,
   "metadata": {},
   "outputs": [],
   "source": [
    "# distributions_df.to_csv('High_Season_Weekends_Distributions.csv')\n",
    "distributions_df = pd.read_csv('High_Season_Weekends_Distributions.csv', header = [0,1], index_col=0).dropna()"
   ]
  },
  {
   "cell_type": "markdown",
   "metadata": {},
   "source": [
    "# Loop that generates the synthetic peaks from the fitted distributions"
   ]
  },
  {
   "cell_type": "code",
   "execution_count": 14,
   "metadata": {},
   "outputs": [
    {
     "data": {
      "application/vnd.jupyter.widget-view+json": {
       "model_id": "e10efc71135241ba9864900daa158a43",
       "version_major": 2,
       "version_minor": 0
      },
      "text/plain": [
       "  0%|          | 0/9745 [00:00<?, ?it/s]"
      ]
     },
     "metadata": {},
     "output_type": "display_data"
    }
   ],
   "source": [
    "level_0 = distributions_df.columns.get_level_values(0).unique()\n",
    "inv_data_df = pd.DataFrame()\n",
    "temp_df_inv = pd.DataFrame()\n",
    "for houseID in tqdm(distributions_df.index):\n",
    "    for column in level_0:\n",
    "\n",
    "        distributions = distributions_df[column].loc[houseID]['Distribution']\n",
    "        parameters = distributions_df[column].loc[houseID]['params']\n",
    "        parameters = eval(parameters)\n",
    "        loc = combined_df.loc[houseID][column] + combined_df.loc[houseID]['H_offset']\n",
    "        scale = combined_df.loc[houseID][column + '_std']  \n",
    "        # loc = parameters[-2]\n",
    "        # scale = parameters[-1]\n",
    "        size = len(cleaned_df[cleaned_df['ProfileID'] == houseID])\n",
    "        try:\n",
    "            if distributions == 'invgauss':\n",
    "                # print('invgauss')\n",
    "                data_points = invgauss.rvs(parameters[0],loc = loc,scale = scale,size = size)\n",
    "            elif distributions == 'weibull_min':\n",
    "                # print('weibull_min')\n",
    "                data_points = weibull_min.rvs(parameters[0], loc = loc,scale = scale, size = size)\n",
    "            elif distributions == 'weibull_max':\n",
    "                # print('weibull_max')\n",
    "                # print(f'loc = {loc}, scale = {scale}')\n",
    "                data_points = weibull_max.rvs(parameters[0], loc = loc, scale = scale, size = size)\n",
    "                # data_points = weibull_max.rvs(parameters[0], parameters[1], parameters[2], size = 60)\n",
    "            elif distributions == 'beta':\n",
    "                # print('beta')\n",
    "                data_points = beta.rvs(parameters[0], parameters[1], loc = loc,scale = scale, size = size)\n",
    "                # data_points = beta.rvs(parameters[0], parameters[1], parameters[2],parameters[3], size = 60)\n",
    "            elif distributions == 'norm':\n",
    "                # print('norm')\n",
    "                data_points = norm.rvs(parameters[0], parameters[1], size = size)\n",
    "            elif distributions == 'triang':\n",
    "                # print('triang')\n",
    "                data_points = triang.rvs(parameters[0], loc = loc,scale = scale, size = size)\n",
    "            elif distributions == 'pearson3':\n",
    "                # print('pearson3')\n",
    "                data_points = pearson3.rvs(parameters[0], loc = loc,scale = scale, size = size)\n",
    "            elif distributions == 'lognorm':\n",
    "                # print('lognorm')\n",
    "                data_points = lognorm.rvs(parameters[0], loc = loc,scale = scale, size = size)\n",
    "            elif distributions == 'uniform':\n",
    "                # print('uniform')\n",
    "                data_points = uniform.rvs(loc = loc,scale = scale, size = size)\n",
    "            elif distributions == 'expon':\n",
    "                # print('expon')\n",
    "                data_points = expon.rvs(loc = loc,scale = scale, size = size)\n",
    "            elif distributions == 'gamma':\n",
    "                # print('gamma')\n",
    "                data_points = gamma.rvs(parameters[0], loc = loc,scale = scale, size = size)\n",
    "            elif distributions == 'alpha':\n",
    "                # print('alpha')\n",
    "                data_points = alpha.rvs(parameters[0], loc=loc, scale = scale,size=size)\n",
    "            elif distributions == 'arcsine':\n",
    "                # print('arcsine')\n",
    "                data_points = arcsine.rvs(loc=loc, scale = scale,size=size)\n",
    "            elif distributions == 'cauchy':\n",
    "                # print('cauchy')\n",
    "                data_points = cauchy.rvs(loc=loc, scale = scale,size=size)\n",
    "            elif distributions == 'dweibull':\n",
    "                # print('dweibull')\n",
    "                data_points = dweibull.rvs(parameters[0], loc=loc, scale = scale,size=size)\n",
    "            elif distributions == 'exponnorm':\n",
    "                # print('exponnorm')\n",
    "                data_points = exponnorm.rvs(K=1.5, loc=loc, scale = scale,size=size)\n",
    "            elif distributions == 'halflogistic':\n",
    "                # print('halflogistic')\n",
    "                data_points = halflogistic.rvs(loc=loc, scale = scale,size=size)\n",
    "            elif distributions == 'logistic':\n",
    "                # print('logistic')\n",
    "                data_points = logistic.rvs(loc=loc, scale = scale,size=size)\n",
    "            elif distributions == 'loggamma':\n",
    "                # print('loggamma')\n",
    "                data_points = loggamma.rvs(parameters[0], loc=loc, scale = scale,size=size)\n",
    "            elif distributions == 'powerlaw':\n",
    "                # print('powerlaw')\n",
    "                data_points = powerlaw.rvs(parameters[0], loc=loc, scale = scale,size=size)\n",
    "            elif distributions == 'powernorm':\n",
    "                # print('powernorm')\n",
    "                data_points = powernorm.rvs(parameters[0], loc=loc, scale = scale,size=size)\n",
    "        except ValueError:\n",
    "            print(\"ValueError\")\n",
    "            continue\n",
    "        \n",
    "\n",
    "        # print(column)\n",
    "        # inverse_data_points = inverse_StandardScalar(data_points,temporary.loc[id],column,0.99,0.01)\n",
    "        temp_df_inv['ProfileID'] = houseID\n",
    "        temp_df_inv[column] = data_points#inverse_data_points\n",
    "        \n",
    "    inv_data_df = inv_data_df.append(temp_df_inv)\n",
    "    temp_df_inv = pd.DataFrame()\n",
    "        # if column == 'A1':\n",
    "        #     data_pointA1 = data_points#inverse_data_points\n",
    "        # elif column == 'A2':\n",
    "        #     data_pointsA2 = data_points#inverse_data_points\n",
    "\n",
    "inv_data_df = inv_data_df.dropna()\n",
    "inv_data_df.set_index(['ProfileID'], inplace = True)"
   ]
  },
  {
   "cell_type": "code",
   "execution_count": 21,
   "metadata": {},
   "outputs": [
    {
     "data": {
      "text/html": [
       "<div>\n",
       "<style scoped>\n",
       "    .dataframe tbody tr th:only-of-type {\n",
       "        vertical-align: middle;\n",
       "    }\n",
       "\n",
       "    .dataframe tbody tr th {\n",
       "        vertical-align: top;\n",
       "    }\n",
       "\n",
       "    .dataframe thead th {\n",
       "        text-align: right;\n",
       "    }\n",
       "</style>\n",
       "<table border=\"1\" class=\"dataframe\">\n",
       "  <thead>\n",
       "    <tr style=\"text-align: right;\">\n",
       "      <th></th>\n",
       "      <th>H_offset</th>\n",
       "      <th>sigma1</th>\n",
       "      <th>sigma2</th>\n",
       "      <th>mu1</th>\n",
       "      <th>A1</th>\n",
       "      <th>sigma3</th>\n",
       "      <th>sigma4</th>\n",
       "      <th>mu2</th>\n",
       "      <th>A2</th>\n",
       "      <th>A1_std</th>\n",
       "      <th>A2_std</th>\n",
       "      <th>mu1_std</th>\n",
       "      <th>mu2_std</th>\n",
       "      <th>DC_std</th>\n",
       "    </tr>\n",
       "    <tr>\n",
       "      <th>ProfileID</th>\n",
       "      <th></th>\n",
       "      <th></th>\n",
       "      <th></th>\n",
       "      <th></th>\n",
       "      <th></th>\n",
       "      <th></th>\n",
       "      <th></th>\n",
       "      <th></th>\n",
       "      <th></th>\n",
       "      <th></th>\n",
       "      <th></th>\n",
       "      <th></th>\n",
       "      <th></th>\n",
       "      <th></th>\n",
       "    </tr>\n",
       "  </thead>\n",
       "  <tbody>\n",
       "    <tr>\n",
       "      <th>1</th>\n",
       "      <td>1.218333</td>\n",
       "      <td>1.481481</td>\n",
       "      <td>2.500000</td>\n",
       "      <td>9</td>\n",
       "      <td>1.852222</td>\n",
       "      <td>2.222222</td>\n",
       "      <td>1.904762</td>\n",
       "      <td>20</td>\n",
       "      <td>1.978056</td>\n",
       "      <td>1.755424</td>\n",
       "      <td>3.220074</td>\n",
       "      <td>2.494988</td>\n",
       "      <td>2.545606</td>\n",
       "      <td>14.932944</td>\n",
       "    </tr>\n",
       "    <tr>\n",
       "      <th>3</th>\n",
       "      <td>8.027572</td>\n",
       "      <td>1.034483</td>\n",
       "      <td>1.265823</td>\n",
       "      <td>9</td>\n",
       "      <td>4.522606</td>\n",
       "      <td>1.369863</td>\n",
       "      <td>2.564103</td>\n",
       "      <td>18</td>\n",
       "      <td>4.582815</td>\n",
       "      <td>5.273250</td>\n",
       "      <td>4.281288</td>\n",
       "      <td>2.653300</td>\n",
       "      <td>2.334286</td>\n",
       "      <td>72.855316</td>\n",
       "    </tr>\n",
       "    <tr>\n",
       "      <th>5</th>\n",
       "      <td>1.706310</td>\n",
       "      <td>1.538462</td>\n",
       "      <td>0.377358</td>\n",
       "      <td>5</td>\n",
       "      <td>0.323993</td>\n",
       "      <td>2.222222</td>\n",
       "      <td>2.727273</td>\n",
       "      <td>19</td>\n",
       "      <td>11.518440</td>\n",
       "      <td>5.903542</td>\n",
       "      <td>5.181261</td>\n",
       "      <td>2.326886</td>\n",
       "      <td>2.135416</td>\n",
       "      <td>27.246273</td>\n",
       "    </tr>\n",
       "    <tr>\n",
       "      <th>6</th>\n",
       "      <td>1.364330</td>\n",
       "      <td>1.369863</td>\n",
       "      <td>3.076923</td>\n",
       "      <td>9</td>\n",
       "      <td>7.738147</td>\n",
       "      <td>1.666667</td>\n",
       "      <td>2.051282</td>\n",
       "      <td>16</td>\n",
       "      <td>4.562117</td>\n",
       "      <td>5.505751</td>\n",
       "      <td>4.290396</td>\n",
       "      <td>1.989573</td>\n",
       "      <td>1.933287</td>\n",
       "      <td>18.893456</td>\n",
       "    </tr>\n",
       "    <tr>\n",
       "      <th>10</th>\n",
       "      <td>1.239188</td>\n",
       "      <td>1.111111</td>\n",
       "      <td>2.000000</td>\n",
       "      <td>7</td>\n",
       "      <td>4.538361</td>\n",
       "      <td>2.222222</td>\n",
       "      <td>2.790698</td>\n",
       "      <td>18</td>\n",
       "      <td>4.634514</td>\n",
       "      <td>1.675179</td>\n",
       "      <td>1.634485</td>\n",
       "      <td>1.151690</td>\n",
       "      <td>2.121320</td>\n",
       "      <td>12.055113</td>\n",
       "    </tr>\n",
       "    <tr>\n",
       "      <th>...</th>\n",
       "      <td>...</td>\n",
       "      <td>...</td>\n",
       "      <td>...</td>\n",
       "      <td>...</td>\n",
       "      <td>...</td>\n",
       "      <td>...</td>\n",
       "      <td>...</td>\n",
       "      <td>...</td>\n",
       "      <td>...</td>\n",
       "      <td>...</td>\n",
       "      <td>...</td>\n",
       "      <td>...</td>\n",
       "      <td>...</td>\n",
       "      <td>...</td>\n",
       "    </tr>\n",
       "    <tr>\n",
       "      <th>12029045</th>\n",
       "      <td>2.902469</td>\n",
       "      <td>1.259843</td>\n",
       "      <td>4.242424</td>\n",
       "      <td>8</td>\n",
       "      <td>15.936420</td>\n",
       "      <td>3.200000</td>\n",
       "      <td>1.739130</td>\n",
       "      <td>18</td>\n",
       "      <td>15.739506</td>\n",
       "      <td>5.234387</td>\n",
       "      <td>3.041959</td>\n",
       "      <td>0.944263</td>\n",
       "      <td>1.133115</td>\n",
       "      <td>46.219704</td>\n",
       "    </tr>\n",
       "    <tr>\n",
       "      <th>12029049</th>\n",
       "      <td>0.140123</td>\n",
       "      <td>2.051282</td>\n",
       "      <td>0.388350</td>\n",
       "      <td>8</td>\n",
       "      <td>0.387654</td>\n",
       "      <td>1.818182</td>\n",
       "      <td>1.666667</td>\n",
       "      <td>18</td>\n",
       "      <td>1.830247</td>\n",
       "      <td>0.653790</td>\n",
       "      <td>1.245719</td>\n",
       "      <td>2.573570</td>\n",
       "      <td>1.368672</td>\n",
       "      <td>5.780693</td>\n",
       "    </tr>\n",
       "    <tr>\n",
       "      <th>12029058</th>\n",
       "      <td>11.655000</td>\n",
       "      <td>2.278481</td>\n",
       "      <td>1.739130</td>\n",
       "      <td>9</td>\n",
       "      <td>15.397500</td>\n",
       "      <td>1.538462</td>\n",
       "      <td>2.222222</td>\n",
       "      <td>18</td>\n",
       "      <td>26.855833</td>\n",
       "      <td>4.713443</td>\n",
       "      <td>7.185221</td>\n",
       "      <td>1.351851</td>\n",
       "      <td>0.600000</td>\n",
       "      <td>58.571605</td>\n",
       "    </tr>\n",
       "    <tr>\n",
       "      <th>12029062</th>\n",
       "      <td>6.428333</td>\n",
       "      <td>1.750000</td>\n",
       "      <td>4.615385</td>\n",
       "      <td>9</td>\n",
       "      <td>6.536667</td>\n",
       "      <td>2.285714</td>\n",
       "      <td>2.142857</td>\n",
       "      <td>18</td>\n",
       "      <td>10.896667</td>\n",
       "      <td>3.980921</td>\n",
       "      <td>3.330344</td>\n",
       "      <td>2.586503</td>\n",
       "      <td>0.920598</td>\n",
       "      <td>38.590313</td>\n",
       "    </tr>\n",
       "    <tr>\n",
       "      <th>12029066</th>\n",
       "      <td>19.065000</td>\n",
       "      <td>1.750000</td>\n",
       "      <td>1.904762</td>\n",
       "      <td>9</td>\n",
       "      <td>24.744167</td>\n",
       "      <td>2.400000</td>\n",
       "      <td>2.448980</td>\n",
       "      <td>18</td>\n",
       "      <td>31.504167</td>\n",
       "      <td>11.217260</td>\n",
       "      <td>7.544322</td>\n",
       "      <td>2.114454</td>\n",
       "      <td>1.758241</td>\n",
       "      <td>84.878734</td>\n",
       "    </tr>\n",
       "  </tbody>\n",
       "</table>\n",
       "<p>9787 rows × 14 columns</p>\n",
       "</div>"
      ],
      "text/plain": [
       "            H_offset    sigma1    sigma2  mu1         A1    sigma3    sigma4  \\\n",
       "ProfileID                                                                      \n",
       "1           1.218333  1.481481  2.500000    9   1.852222  2.222222  1.904762   \n",
       "3           8.027572  1.034483  1.265823    9   4.522606  1.369863  2.564103   \n",
       "5           1.706310  1.538462  0.377358    5   0.323993  2.222222  2.727273   \n",
       "6           1.364330  1.369863  3.076923    9   7.738147  1.666667  2.051282   \n",
       "10          1.239188  1.111111  2.000000    7   4.538361  2.222222  2.790698   \n",
       "...              ...       ...       ...  ...        ...       ...       ...   \n",
       "12029045    2.902469  1.259843  4.242424    8  15.936420  3.200000  1.739130   \n",
       "12029049    0.140123  2.051282  0.388350    8   0.387654  1.818182  1.666667   \n",
       "12029058   11.655000  2.278481  1.739130    9  15.397500  1.538462  2.222222   \n",
       "12029062    6.428333  1.750000  4.615385    9   6.536667  2.285714  2.142857   \n",
       "12029066   19.065000  1.750000  1.904762    9  24.744167  2.400000  2.448980   \n",
       "\n",
       "           mu2         A2     A1_std    A2_std   mu1_std   mu2_std     DC_std  \n",
       "ProfileID                                                                      \n",
       "1           20   1.978056   1.755424  3.220074  2.494988  2.545606  14.932944  \n",
       "3           18   4.582815   5.273250  4.281288  2.653300  2.334286  72.855316  \n",
       "5           19  11.518440   5.903542  5.181261  2.326886  2.135416  27.246273  \n",
       "6           16   4.562117   5.505751  4.290396  1.989573  1.933287  18.893456  \n",
       "10          18   4.634514   1.675179  1.634485  1.151690  2.121320  12.055113  \n",
       "...        ...        ...        ...       ...       ...       ...        ...  \n",
       "12029045    18  15.739506   5.234387  3.041959  0.944263  1.133115  46.219704  \n",
       "12029049    18   1.830247   0.653790  1.245719  2.573570  1.368672   5.780693  \n",
       "12029058    18  26.855833   4.713443  7.185221  1.351851  0.600000  58.571605  \n",
       "12029062    18  10.896667   3.980921  3.330344  2.586503  0.920598  38.590313  \n",
       "12029066    18  31.504167  11.217260  7.544322  2.114454  1.758241  84.878734  \n",
       "\n",
       "[9787 rows x 14 columns]"
      ]
     },
     "execution_count": 21,
     "metadata": {},
     "output_type": "execute_result"
    }
   ],
   "source": [
    "combined_df"
   ]
  },
  {
   "cell_type": "markdown",
   "metadata": {},
   "source": [
    "# Loop That creates the synthetic Profiles"
   ]
  },
  {
   "cell_type": "code",
   "execution_count": 19,
   "metadata": {},
   "outputs": [],
   "source": [
    "# Function that generates synthetic profiles\n",
    "def generate_synth_profiles1(id,A1,A2,mu1,mu2, H_offset, sigma1, sigma2, sigma3, sigma4):    \n",
    "    # Straight line approximation between: mu1 + 4 to mu2 - 4\n",
    "    # Determine the complete synthetic profile\n",
    "    \n",
    "    i = 0\n",
    "    temp = pd.DataFrame()\n",
    "    for A1_item, A2_item in zip(A1.A1.iteritems(), A2.A2.iteritems()):\n",
    "        integer = 3\n",
    "        x_1 = np.arange(0,mu1,1)\n",
    "        x_2 = np.arange(mu1,mu1+integer,1)\n",
    "        x_3 = np.arange(mu2-integer,mu2,1)\n",
    "        x_4 = np.arange(mu2,24,1)\n",
    "\n",
    "        x_vals = np.hstack((x_1,x_2,x_3,x_4))\n",
    "\n",
    "        if len(x_vals) > 24:\n",
    "            integer = integer - 1\n",
    "            x_1 = np.arange(0,mu1,1)\n",
    "            x_2 = np.arange(mu1,mu1+integer,1)\n",
    "            x_3 = np.arange(mu2-integer,mu2,1)\n",
    "            x_4 = np.arange(mu2,24,1)\n",
    "            x_vals = np.hstack((x_1,x_2,x_3,x_4))\n",
    "        # print(f\"integer == {integer}\")    \n",
    "\n",
    "        x_vals_1 = np.unique(x_vals)\n",
    "        # if id == 3268:\n",
    "        # print(f\"mu1 = {mu1}\")\n",
    "        # print(f\"mu2 = {mu2}\")\n",
    "        # print(f\"x_1 = {x_1}, x2 = {x_2}, x_3 = {x_3}, x4 = {x_4}\")\n",
    "        # print(f\"x_vals = {x_vals_1}\")\n",
    "        # synthetic_df2 = pd.DataFrame()\n",
    "        \n",
    "        i = i + 1\n",
    "        gauss1 = gauss(x_1, H_offset ,A1_item[1], mu1, sigma1)\n",
    "        gauss2 = gauss(x_2, H_offset ,A1_item[1], mu1, sigma2)\n",
    "        gauss3 = gauss(x_3, H_offset ,A2_item[1], mu2, sigma3)\n",
    "        gauss4 = gauss(x_4, H_offset ,A2_item[1], mu2, sigma4)\n",
    "        # print(A1_item[1])\n",
    "        # if id == 3268:\n",
    "        # print(f'len(gauss1) = {len(gauss1)}')\n",
    "        # print(f'len(gauss2) = {len(gauss2)}')\n",
    "        # print(f'len(gauss3) = {len(gauss3)}')\n",
    "        # print(f'len(gauss4) = {len(gauss4)}')\n",
    "        i2 = mu1 + integer\n",
    "        i3 = mu2 - integer\n",
    "        # print(f\"i2 = {i2}, i3 = {i3}\")\n",
    "        if len(x_vals) == 24:\n",
    "                # print(\"Entire array is captured\")\n",
    "                if x_2[-1] == x_3[0]:\n",
    "                    x_3 = x_3[1:] # Remove the first value of the x-array\n",
    "                    y3 = gauss(x_3, H_offset,A2_item[1],mu2,sigma3) # Re-calculate the y-values for gauss 3\n",
    "                    synth = np.hstack((gauss1,gauss2,gauss3,gauss4)) # Generate the synthetic values\n",
    "                else:\n",
    "                    synth = np.hstack((gauss1,gauss2,gauss3,gauss4)) # If there is no repeating values in x_2 and x_3 then generate synthetic profiles without adjusting x_3's values\n",
    "\n",
    "        elif len(x_vals) < 24:\n",
    "            # print(\"Missing hours need to be saved\")\n",
    "            x_5 = np.arange(i2,i3,1)\n",
    "            x_vals_1 = np.hstack((x_1,x_2,x_5,x_3,x_4))\n",
    "            x_vals_1 = np.unique(x_vals_1)\n",
    "            if len(x_5) == 1:\n",
    "                y_mid = np.abs(gauss(x_5[0], H_offset,A1_item[1],mu1,sigma2) - gauss(x_5[0], H_offset,A2_item[1],mu2,sigma3))/2\n",
    "\n",
    "            else:    \n",
    "                # Synthesize the mid range behaviour\n",
    "                m = (gauss(x_5[-1], H_offset,A2_item[1],mu2,sigma3) - gauss(x_5[0], H_offset,A1_item[1],mu1,sigma2))/(x_5[-1]-x_5[0]) # Calculate slope\n",
    "                b = gauss(x_5[-1], H_offset,A2_item[1],mu2,sigma3) - m*x_5[-1] # Calculate b constant for straight line equation\n",
    "                y_mid = straight_line(m,x_5,b)\n",
    "                \n",
    "            synth = np.hstack((gauss1,gauss2,y_mid,gauss3,gauss4))\n",
    "            # if id == 3268:\n",
    "\n",
    "        elif len(x_vals) > 24:    \n",
    "            if x_2[-1] == x_3[0]:\n",
    "                x_3 = x_3[1:] # Remove the first value of the x-array\n",
    "                y3 = gauss(x_3, H_offset,A2_item[1],mu2,sigma3) # Re-calculate the y-values for gauss 3\n",
    "                synth = np.hstack((gauss1,gauss2,gauss3,gauss4)) # Generate the synthetic values\n",
    "                # print(x_3)\n",
    "            else:\n",
    "                synth = np.hstack((gauss1,gauss2,gauss3,gauss4)) # If there is no repeating values in x_2 and x_3 then generate synthetic profiles without adjusting x_3's values\n",
    "\n",
    "\n",
    "        values = synth.tolist()\n",
    "        df = pd.DataFrame(values)\n",
    "        df = df.T\n",
    "        temp = temp.append(df)\n",
    "\n",
    "\n",
    "    temp['ProfileID'] = id\n",
    "    temp.set_index(['ProfileID'], inplace = True)        \n",
    "\n",
    "    return temp"
   ]
  },
  {
   "cell_type": "code",
   "execution_count": 20,
   "metadata": {},
   "outputs": [
    {
     "data": {
      "application/vnd.jupyter.widget-view+json": {
       "model_id": "48b779dcd19041e5a6e355fa48e09989",
       "version_major": 2,
       "version_minor": 0
      },
      "text/plain": [
       "  0%|          | 0/9787 [00:00<?, ?it/s]"
      ]
     },
     "metadata": {},
     "output_type": "display_data"
    }
   ],
   "source": [
    "synthetic_df = pd.DataFrame()\n",
    "for id in tqdm(distributions_df.index.unique()):\n",
    "    houseID = id\n",
    "    try:\n",
    "        H_offset = combined_df.loc[houseID]['H_offset']\n",
    "        # H_offset = 0.0\n",
    "        mu1 = combined_df.loc[houseID]['mu1']\n",
    "        mu2 = combined_df.loc[houseID]['mu2']\n",
    "        \n",
    "        sigma1 = combined_df.loc[houseID]['sigma1']\n",
    "        sigma2 = combined_df.loc[houseID]['sigma2']\n",
    "        sigma3 = combined_df.loc[houseID]['sigma3']\n",
    "        sigma4 = combined_df.loc[houseID]['sigma4']\n",
    "\n",
    "        A1 = inv_data_df.loc[houseID]['A1']\n",
    "        A2 = inv_data_df.loc[houseID]['A2']\n",
    "    except KeyError:\n",
    "        continue\n",
    "    A1 = pd.DataFrame(A1)\n",
    "    A2 = pd.DataFrame(A2)\n",
    "    A1 = A1 - H_offset\n",
    "    A2 = A2 - H_offset\n",
    "\n",
    "    A1.reset_index(inplace=True)\n",
    "    A2.reset_index(inplace=True)\n",
    "\n",
    "\n",
    "    synth = generate_synth_profiles1(houseID,A1,A2,mu1,mu2,H_offset,sigma1,sigma2, sigma3,sigma4)\n",
    "\n",
    "    # temp = pd.DataFrame(synth)\n",
    "    # temp = temp.T\n",
    "    synthetic_df = synthetic_df.append(synth)\n",
    "    synthetic_df"
   ]
  },
  {
   "cell_type": "code",
   "execution_count": 21,
   "metadata": {},
   "outputs": [],
   "source": [
    "synthetic_df_temp = synthetic_df.reset_index()\n",
    "synthetic_df_mean = synthetic_df_temp.groupby(['ProfileID']).mean()\n",
    "synthetic_df_mean.drop(synthetic_df_mean.columns[[-1]], axis = 1, inplace = True)"
   ]
  },
  {
   "cell_type": "code",
   "execution_count": 22,
   "metadata": {},
   "outputs": [],
   "source": [
    "def mean_absolute_percentage_error(y_true, y_pred): \n",
    "    y_true, y_pred = np.array(y_true), np.array(y_pred)\n",
    "    return np.mean(np.abs((y_true - y_pred) / y_true)) * 100\n",
    "\n",
    "def smape(a, f):\n",
    "    return 1/len(a) * np.sum(2 * np.abs(f-a) / (np.abs(a) + np.abs(f))*100)"
   ]
  },
  {
   "cell_type": "code",
   "execution_count": 23,
   "metadata": {},
   "outputs": [
    {
     "data": {
      "application/vnd.jupyter.widget-view+json": {
       "model_id": "7a9079223b6843999174154d40993a40",
       "version_major": 2,
       "version_minor": 0
      },
      "text/plain": [
       "  0%|          | 0/9787 [00:00<?, ?it/s]"
      ]
     },
     "metadata": {},
     "output_type": "display_data"
    }
   ],
   "source": [
    "cols = ['ProfileID','RMSE', 'sMAPE', 'MAPE']\n",
    "\n",
    "errors = pd.DataFrame(columns = cols)\n",
    "\n",
    "for houseID in tqdm(synthetic_df_mean.index):\n",
    "    try:\n",
    "        # Measured Mean profile\n",
    "        actual = cleaned_df[cleaned_df[\"ProfileID\"] == houseID]\n",
    "        actual = actual.groupby(['ProfileID']).mean().values[0]\n",
    "\n",
    "        # predicted = synthetic_df_temp[synthetic_df_temp['ProfileID'] == houseID]\n",
    "        predicted = synthetic_df_mean.loc[houseID]\n",
    "\n",
    "        MSE = mean_squared_error(actual, predicted)\n",
    "        RMSE = math.sqrt(MSE)\n",
    "        MAPE = mean_absolute_percentage_error(actual, predicted)\n",
    "        sMAPE = smape(actual, predicted)\n",
    "\n",
    "        data = [[houseID, RMSE,sMAPE,MAPE]]\n",
    "        temp = pd.DataFrame(data, columns = cols)\n",
    "        errors = errors.append(temp)\n",
    "    except ValueError:\n",
    "        continue\n",
    "\n",
    "errors.set_index(['ProfileID'], inplace = True)\n",
    "# errors.to_csv('Errors_of_synth_vs_actual.csv')"
   ]
  },
  {
   "cell_type": "code",
   "execution_count": 24,
   "metadata": {},
   "outputs": [],
   "source": [
    "# Filter out all households with an sMAPE higher than 35%\n",
    "profile_ids_good_fit = errors[errors['sMAPE'] < 35.0].index.values"
   ]
  },
  {
   "cell_type": "markdown",
   "metadata": {},
   "source": [
    "# Plot Distributions of the Peaks"
   ]
  },
  {
   "cell_type": "markdown",
   "metadata": {},
   "source": [
    "### First filter out any outliers"
   ]
  },
  {
   "cell_type": "code",
   "execution_count": 15,
   "metadata": {},
   "outputs": [],
   "source": [
    "def Remove_Outlier_Indices(df):\n",
    "    Q1 = df.quantile(0.25)\n",
    "    Q3 = df.quantile(0.95)\n",
    "    IQR = Q3 - Q1\n",
    "    trueList = ~((df < (Q1 - 1.5 * IQR)) |(df > (Q3 + 1.5 * IQR)))\n",
    "    return trueList"
   ]
  },
  {
   "cell_type": "code",
   "execution_count": 16,
   "metadata": {},
   "outputs": [],
   "source": [
    "synthetic_peaks_filtered = inv_data_df#.loc[inv_data_df.index.isin(profile_ids_good_fit),:]\n",
    "synthetic_peaks_filtered.reset_index(inplace = True)\n",
    "\n",
    "\n",
    "synthetic_peaks_filtered_temp = synthetic_peaks_filtered[Remove_Outlier_Indices(synthetic_peaks_filtered['A1'])]\n",
    "synthetic_peaks_filtered_temp = synthetic_peaks_filtered_temp[Remove_Outlier_Indices(synthetic_peaks_filtered_temp['A2'])]"
   ]
  },
  {
   "cell_type": "code",
   "execution_count": 26,
   "metadata": {},
   "outputs": [
    {
     "name": "stdout",
     "output_type": "stream",
     "text": [
      "Old Shape:  (107906, 3)\n",
      "New Shape:  (107542, 3)\n"
     ]
    }
   ],
   "source": [
    "# synthetic_peaks_filtered = inv_data_df.loc[inv_data_df.index.isin(profile_ids_good_fit),:]\n",
    "# synthetic_peaks_filtered.reset_index(inplace = True)\n",
    "# ''' Detection '''\n",
    "# # IQR\n",
    "# Q1 = np.percentile(synthetic_peaks_filtered['A1'], 0,\n",
    "#                    interpolation = 'midpoint')\n",
    " \n",
    "# Q3 = np.percentile(synthetic_peaks_filtered['A1'], 90,\n",
    "#                    interpolation = 'midpoint')\n",
    "# IQR = Q3 - Q1\n",
    " \n",
    "# print(\"Old Shape: \", synthetic_peaks_filtered.shape)\n",
    " \n",
    "# # Upper bound\n",
    "# upper = np.where(synthetic_peaks_filtered['A1'] >= (Q3+1.5*IQR))\n",
    "# # Lower bound\n",
    "# lower = np.where(synthetic_peaks_filtered['A1'] <= (Q1-1.5*IQR))\n",
    " \n",
    "# ''' Removing the Outliers '''\n",
    "# synthetic_peaks_filtered.drop(upper[0], inplace = True)\n",
    "# synthetic_peaks_filtered.drop(lower[0], inplace = True)\n",
    " \n",
    "# print(\"New Shape: \", synthetic_peaks_filtered.shape)"
   ]
  },
  {
   "cell_type": "markdown",
   "metadata": {},
   "source": [
    "# Distribution Plots"
   ]
  },
  {
   "cell_type": "code",
   "execution_count": 55,
   "metadata": {},
   "outputs": [
    {
     "data": {
      "image/png": "[encoded data removed]",
      "text/plain": [
       "<Figure size 800x560 with 1 Axes>"
      ]
     },
     "metadata": {},
     "output_type": "display_data"
    }
   ],
   "source": [
    "measured_peaks_filtered = temporary.loc[temporary.index.isin(synthetic_peaks_filtered_temp.ProfileID.unique()),:]\n",
    "# synthetic_peaks_filtered = inv_data_df.loc[inv_data_df.index.isin(profile_ids_good_fit),:]\n",
    "\n",
    "act_A1 = measured_peaks_filtered['A1']\n",
    "# act_A2 = measured_peaks_filtered['A2']\n",
    "synth_A1 = synthetic_peaks_filtered_temp['A1']\n",
    "# synth_A2 = synthetic_peaks_filtered['A2']\n",
    "\n",
    "# Normalize\n",
    "kwargs = dict(alpha=0.5, bins=100, density=True, stacked=True)\n",
    "\n",
    "# Plot\n",
    "plt.figure(figsize=(10,7), dpi= 80)\n",
    "plt.hist(act_A1, **kwargs, color='r', label='Measured')\n",
    "plt.hist(synth_A1, **kwargs, color='g', label='Synthetic')\n",
    "# plt.hist(x3, **kwargs, color='r', label='Good')\n",
    "# plt.gca().set(title='High Season Weekdays: Distribution Plot of A1 peaks', ylabel='Probability')\n",
    "# plt.xlabel('Consumption [Ah]')\n",
    "# plt.rcParams.update({'font.size': 15})\n",
    "plt.title('High Season Weekends: Distribution Plot of A1 peaks', fontsize = 15)\n",
    "plt.ylabel('Probability', fontsize = 15)\n",
    "plt.xlabel('Consumption [Ah]', fontsize = 15)\n",
    "plt.xticks(fontsize = 15)\n",
    "plt.yticks(fontsize = 15)\n",
    "# plt.legend(fontsize = 30)\n",
    "plt.xlim(0,35)\n",
    "plt.legend();"
   ]
  },
  {
   "cell_type": "code",
   "execution_count": 56,
   "metadata": {},
   "outputs": [
    {
     "data": {
      "image/png": "[encoded data removed]",
      "text/plain": [
       "<Figure size 800x560 with 1 Axes>"
      ]
     },
     "metadata": {},
     "output_type": "display_data"
    }
   ],
   "source": [
    "# act_A1 = measured_peaks_filtered['A1']\n",
    "act_A2 = measured_peaks_filtered['A2']\n",
    "# synth_A1 = synthetic_peaks_filtered['A1']\n",
    "synth_A2 = synthetic_peaks_filtered_temp['A2']\n",
    "\n",
    "# Normalize\n",
    "kwargs1 = dict(alpha=0.5, bins=100, density=True, stacked=True)\n",
    "kwargs2 = dict(alpha=0.5, bins=100, density=True, stacked=True)\n",
    "\n",
    "# Plot\n",
    "plt.figure(figsize=(10,7), dpi= 80)\n",
    "plt.hist(act_A2, **kwargs1, color='r', label='Measured')\n",
    "plt.hist(synth_A2, **kwargs2, color='g', label='Synthetic')\n",
    "# plt.hist(x3, **kwargs, color='r', label='Good')\n",
    "# plt.gca().set(title='Low Season Weekdays: Distribution Plot of A2 peaks', ylabel='Probability')\n",
    "plt.xlabel('Consumption [Ah]')\n",
    "plt.title('High Season Weekends: Distribution Plot of A2 peaks', fontsize = 15)\n",
    "plt.ylabel('Probability', fontsize = 15)\n",
    "plt.xlabel('Consumption [Ah]', fontsize = 15)\n",
    "plt.xticks(fontsize = 15)\n",
    "plt.yticks(fontsize = 15)\n",
    "# plt.legend(fontsize = 'x-large', title_fontsize = 15)\n",
    "# plt.rcParams.update({'font.size': 50})\n",
    "plt.xlim(0,50)\n",
    "plt.legend();"
   ]
  },
  {
   "cell_type": "code",
   "execution_count": 29,
   "metadata": {},
   "outputs": [
    {
     "name": "stdout",
     "output_type": "stream",
     "text": [
      "Old Shape:  (225145, 2)\n",
      "New Shape:  (220950, 2)\n"
     ]
    }
   ],
   "source": [
    "daily_energy_synth = synthetic_df.sum(axis = 1)\n",
    "daily_energy_synth = pd.DataFrame(daily_energy_synth, columns = ['Daily Energy'])\n",
    "daily_energy_synth.reset_index(inplace = True)\n",
    "\n",
    "# IQR\n",
    "Q1 = np.percentile(daily_energy_synth['Daily Energy'], 0,\n",
    "                   interpolation = 'midpoint')\n",
    " \n",
    "Q3 = np.percentile(daily_energy_synth['Daily Energy'], 90,\n",
    "                   interpolation = 'midpoint')\n",
    "IQR = Q3 - Q1\n",
    " \n",
    "print(\"Old Shape: \", daily_energy_synth.shape)\n",
    " \n",
    "# Upper bound\n",
    "upper = np.where(daily_energy_synth['Daily Energy'] >= (Q3+1.5*IQR))\n",
    "# Lower bound\n",
    "lower = np.where(daily_energy_synth['Daily Energy'] <= (Q1-1.5*IQR))\n",
    " \n",
    "''' Removing the Outliers '''\n",
    "daily_energy_synth.drop(upper[0], inplace = True)\n",
    "daily_energy_synth.drop(lower[0], inplace = True)\n",
    " \n",
    "print(\"New Shape: \", daily_energy_synth.shape)"
   ]
  },
  {
   "cell_type": "code",
   "execution_count": 30,
   "metadata": {},
   "outputs": [
    {
     "data": {
      "image/png": "[encoded data removed]",
      "text/plain": [
       "<Figure size 800x560 with 1 Axes>"
      ]
     },
     "metadata": {
      "needs_background": "light"
     },
     "output_type": "display_data"
    }
   ],
   "source": [
    "new_df = cleaned_df.copy()\n",
    "new_df.set_index(['ProfileID','date'], inplace = True)\n",
    "new_df_sum = new_df.sum(axis = 1)\n",
    "daily_energy_actual = pd.DataFrame(new_df_sum, columns = ['Daily Energy'])\n",
    "\n",
    "# daily_energy_synth = synthetic_df.sum(axis = 1)\n",
    "# daily_energy_synth = pd.DataFrame(daily_energy_synth, columns = ['Daily Energy'])\n",
    "\n",
    "daily_energy_actual.reset_index(inplace = True)\n",
    "# daily_energy_synth.reset_index(inplace = True)\n",
    "daily_energy_synth_filtered = daily_energy_synth#.loc[daily_energy_synth.ProfileID.isin(profile_ids_good_fit),:]\n",
    "daily_energy_actual_filtered = daily_energy_actual.loc[daily_energy_actual.ProfileID.isin(daily_energy_synth.ProfileID.unique()),:]\n",
    "\n",
    "x1 = daily_energy_synth_filtered['Daily Energy']#*230/1000\n",
    "x2 = daily_energy_actual_filtered['Daily Energy']#*230/1000\n",
    "\n",
    "# Normalize\n",
    "kwargs = dict(alpha=0.5, bins=100, density=True, stacked=True)\n",
    "\n",
    "# Plot\n",
    "plt.figure(figsize=(10,7), dpi= 80)\n",
    "plt.hist(x2, **kwargs, color='r', label='Measured')\n",
    "plt.hist(x1, **kwargs, color='g', label='Synthetic')\n",
    "# plt.hist(x3, **kwargs, color='r', label='Good')\n",
    "plt.gca().set(title='High Season Weekends: Distribution Plot of Daily Consumption', ylabel='Probability')\n",
    "plt.xlabel('Consumption [Ah]')\n",
    "plt.xlim(0,400)\n",
    "plt.legend();"
   ]
  },
  {
   "cell_type": "code",
   "execution_count": 31,
   "metadata": {},
   "outputs": [
    {
     "data": {
      "image/png": "[encoded data removed]",
      "text/plain": [
       "<Figure size 800x560 with 1 Axes>"
      ]
     },
     "metadata": {
      "needs_background": "light"
     },
     "output_type": "display_data"
    }
   ],
   "source": [
    "x1 = daily_energy_synth_filtered.groupby(['ProfileID'])['Daily Energy'].sum()#*230/1000\n",
    "x2 = daily_energy_actual_filtered.groupby(['ProfileID'])['Daily Energy'].sum()#*230/1000\n",
    "\n",
    "# Normalize\n",
    "kwargs = dict(alpha=0.5, bins=100, density=True, stacked=True)\n",
    "\n",
    "# Plot\n",
    "plt.figure(figsize=(10,7), dpi= 80)\n",
    "plt.hist(x2, **kwargs, color='r', label='Measured')\n",
    "plt.hist(x1, **kwargs, color='g', label='Synthetic')\n",
    "# plt.hist(x3, **kwargs, color='r', label='Good')\n",
    "plt.gca().set(title='High Season Weekends: Distribution Plot of Aggregate Consumption', ylabel='Probability')\n",
    "plt.xlabel('Consumption [Ah]')\n",
    "plt.xlim(0,10000)\n",
    "plt.legend();"
   ]
  },
  {
   "cell_type": "code",
   "execution_count": null,
   "metadata": {},
   "outputs": [],
   "source": []
  },
  {
   "cell_type": "markdown",
   "metadata": {},
   "source": [
    "# Boxplots"
   ]
  },
  {
   "cell_type": "code",
   "execution_count": 46,
   "metadata": {},
   "outputs": [],
   "source": [
    "measured_peaks_filtered = temporary.loc[temporary.index.isin(synthetic_peaks_filtered.ProfileID.unique()),:]\n",
    "\n",
    "# act_A1 = measured_peaks_filtered['A1']\n",
    "# act_A2 = measured_peaks_filtered['A2']\n",
    "# synth_A1 = synthetic_peaks_filtered_temp['A1']\n",
    "# synth_A2 = synthetic_peaks_filtered_temp['A2']"
   ]
  },
  {
   "cell_type": "code",
   "execution_count": 51,
   "metadata": {},
   "outputs": [],
   "source": [
    "# act_A1_percentiles = np.percentile(act_A1, [25, 50, 75])\n",
    "# act_A2_percentiles = np.percentile(act_A2, [25, 50, 75])\n",
    "# synth_A1_percentiles = np.percentile(synth_A1, [25, 50, 75])\n",
    "# synth_A2_percentiles = np.percentile(synth_A2, [25, 50, 75])\n",
    "\n",
    "# MSE = mean_squared_error(actual, predicted)\n",
    "# RMSE = math.sqrt(MSE)\n",
    "# sMAPE = smape(actual, predicted)\n",
    "\n",
    "# A1_25_RMSE = np.abs(act_A1_percentiles[0] - synth_A1_percentiles[0])/act_A1_percentiles[0]*100\n",
    "# A1_50_RMSE = np.abs(act_A1_percentiles[1] - synth_A1_percentiles[1])/act_A1_percentiles[1]*100\n",
    "# A1_75_RMSE = np.abs(act_A1_percentiles[2] - synth_A1_percentiles[2])/act_A1_percentiles[2]*100\n",
    "# A2_25_RMSE = np.abs(act_A2_percentiles[0] - synth_A2_percentiles[0])/act_A2_percentiles[0]*100\n",
    "# A2_50_RMSE = np.abs(act_A2_percentiles[1] - synth_A2_percentiles[1])/act_A2_percentiles[1]*100\n",
    "# A2_75_RMSE = np.abs(act_A2_percentiles[2] - synth_A2_percentiles[2])/act_A2_percentiles[2]*100\n",
    "\n",
    "# Percentiles A1\n",
    "act_A1_25th = measured_peaks_filtered.describe().loc['25%']['A1']\n",
    "act_A1_50th = measured_peaks_filtered.describe().loc['50%']['A1']\n",
    "act_A1_75th = measured_peaks_filtered.describe().loc['75%']['A1']\n",
    "\n",
    "synth_A1_25th = synthetic_peaks_filtered_temp.describe().loc['25%']['A1']\n",
    "synth_A1_50th = synthetic_peaks_filtered_temp.describe().loc['50%']['A1']\n",
    "synth_A1_75th = synthetic_peaks_filtered_temp.describe().loc['75%']['A1']\n",
    "\n",
    "# Percentiles A2\n",
    "act_A2_25th = measured_peaks_filtered.describe().loc['25%']['A2']\n",
    "act_A2_50th = measured_peaks_filtered.describe().loc['50%']['A2']\n",
    "act_A2_75th = measured_peaks_filtered.describe().loc['75%']['A2']\n",
    "\n",
    "synth_A2_25th = synthetic_peaks_filtered_temp.describe().loc['25%']['A2']\n",
    "synth_A2_50th = synthetic_peaks_filtered_temp.describe().loc['50%']['A2']\n",
    "synth_A2_75th = synthetic_peaks_filtered_temp.describe().loc['75%']['A2']\n",
    "\n",
    "# Percentage Error A1\n",
    "A1_25_RMSE = np.abs(act_A1_25th - synth_A1_25th)/act_A1_25th*100\n",
    "A1_50_RMSE = np.abs(act_A1_50th - synth_A1_50th)/act_A1_50th*100\n",
    "A1_75_RMSE = np.abs(act_A1_75th - synth_A1_75th)/act_A1_75th*100\n",
    "\n",
    "# Percentage Error A2\n",
    "A2_25_RMSE = np.abs(act_A2_25th - synth_A2_25th)/act_A2_25th*100\n",
    "A2_50_RMSE = np.abs(act_A2_50th - synth_A2_50th)/act_A2_50th*100\n",
    "A2_75_RMSE = np.abs(act_A2_75th - synth_A2_75th)/act_A2_75th*100"
   ]
  },
  {
   "cell_type": "code",
   "execution_count": 57,
   "metadata": {},
   "outputs": [
    {
     "data": {
      "image/png": "[encoded data removed]",
      "text/plain": [
       "<Figure size 720x792 with 1 Axes>"
      ]
     },
     "metadata": {},
     "output_type": "display_data"
    }
   ],
   "source": [
    "act_A1 = measured_peaks_filtered['A1']#*230/1000\n",
    "act_A2 = measured_peaks_filtered['A2']#*230/1000\n",
    "synth_A1 = synthetic_peaks_filtered_temp['A1']#*230/1000\n",
    "synth_A2 = synthetic_peaks_filtered_temp['A2']#*230/1000\n",
    "\n",
    "data_to_plot = [act_A1,synth_A1,act_A2,synth_A2]\n",
    "# sns.set(font_scale=2)\n",
    "bp = sns.boxplot(data=data_to_plot, showfliers = False)\n",
    "\n",
    "\n",
    "q1_A1 = synth_A1.quantile(0.25) + 0.45\n",
    "q2_A1 = synth_A1.quantile(0.5) + 0.45\n",
    "q3_A1 = synth_A1.quantile(0.75) + 0.45\n",
    "\n",
    "q1_A2 = synth_A2.quantile(0.25) + 0.45\n",
    "q2_A2 = synth_A2.quantile(0.5) + 0.45\n",
    "q3_A2 = synth_A2.quantile(0.75) + 0.45\n",
    "# Box 1\n",
    "# 25th Percentile\n",
    "plt.text(0.75, q1_A1,\n",
    "         'Q1 = ' + str('{0:.2g}').format(A1_25_RMSE) + '%',\n",
    "         bbox=dict(facecolor='red',\n",
    "                   alpha=0.5),\n",
    "         fontsize='medium')\n",
    "\n",
    "# 50th Percentile\n",
    "plt.text(0.75, q2_A1,\n",
    "         'Q2 = ' + str('{0:.2g}').format(A1_50_RMSE) + '%',\n",
    "         bbox=dict(facecolor='red',\n",
    "                   alpha=0.5),\n",
    "         fontsize='medium')\n",
    "\n",
    "# 75th Percentile\n",
    "plt.text(0.75, q3_A1,\n",
    "         'Q3 = ' + str('{0:.2g}').format(A1_75_RMSE) + '%',\n",
    "         bbox=dict(facecolor='red',\n",
    "                   alpha=0.5),\n",
    "         fontsize='medium')\n",
    "\n",
    "# Box 3\n",
    "# 25th Percentile\n",
    "plt.text(2.75, q1_A2,\n",
    "         'Q1 = ' + str('{0:.3g}').format(A2_25_RMSE) + '%',\n",
    "         bbox=dict(facecolor='red',\n",
    "                   alpha=0.5),\n",
    "         fontsize='medium')\n",
    "\n",
    "# 50th Percentile\n",
    "plt.text(2.75, q2_A2,\n",
    "         'Q2 = ' + str('{0:.3g}').format(A2_50_RMSE) + '%',\n",
    "         bbox=dict(facecolor='red',\n",
    "                   alpha=0.5),\n",
    "         fontsize='medium')\n",
    "\n",
    "# 75th Percentile\n",
    "plt.text(2.75, q3_A2,\n",
    "         'Q3 = ' + str('{0:.2g}').format(A2_75_RMSE) + '%',\n",
    "         bbox=dict(facecolor='red',\n",
    "         alpha=0.5),\n",
    "         fontsize='medium')\n",
    "\n",
    "\n",
    " \n",
    "# plt.text(95,1,\n",
    "#          'Points beyond beyond 75% value',\n",
    "#          bbox=dict(facecolor='pink',\n",
    "#                    alpha=0.5),\n",
    "#          horizontalalignment='right',\n",
    "#          fontsize='small')\n",
    "\n",
    "sns.set(rc={\"figure.figsize\":(10, 11)}) #width=3, #height=4\n",
    "plt.title(\"High Season Weekends: Synth vs. Act. Peaks\",fontsize = 20)\n",
    "plt.ylabel('Consumption [Ah]',fontsize = 15)\n",
    "plt.xticks([0,1,2,3],['Measured A1', 'Synthetic A1','Measured A2', 'Synthetic A2'],fontsize = 15)\n",
    "plt.yticks(fontsize = 15)\n",
    "# plt.legend(title='Legend', loc='upper left', labels=['Measured A1', 'Synthetic A1','Measured A2', 'Synthetic A2'])\n",
    "plt.rcParams.update({'font.size': 15})\n",
    "# plt.legend(labels = ['Synthetic A1', 'Measured A1','Synthetic A2', 'Measured A2'], fontsize = 'medium')"
   ]
  },
  {
   "cell_type": "code",
   "execution_count": 42,
   "metadata": {},
   "outputs": [
    {
     "ename": "TypeError",
     "evalue": "'AxesSubplot' object is not subscriptable",
     "output_type": "error",
     "traceback": [
      "\u001b[1;31m---------------------------------------------------------------------------\u001b[0m",
      "\u001b[1;31mTypeError\u001b[0m                                 Traceback (most recent call last)",
      "\u001b[1;32m<ipython-input-42-30dd3a099d20>\u001b[0m in \u001b[0;36m<module>\u001b[1;34m\u001b[0m\n\u001b[1;32m----> 1\u001b[1;33m \u001b[0mmeans\u001b[0m \u001b[1;33m=\u001b[0m \u001b[1;33m[\u001b[0m\u001b[0mitem\u001b[0m\u001b[1;33m.\u001b[0m\u001b[0mget_ydata\u001b[0m\u001b[1;33m(\u001b[0m\u001b[1;33m)\u001b[0m\u001b[1;33m[\u001b[0m\u001b[1;36m0\u001b[0m\u001b[1;33m]\u001b[0m \u001b[1;32mfor\u001b[0m \u001b[0mitem\u001b[0m \u001b[1;32min\u001b[0m \u001b[0mbp\u001b[0m\u001b[1;33m[\u001b[0m\u001b[1;34m'means'\u001b[0m\u001b[1;33m]\u001b[0m\u001b[1;33m]\u001b[0m\u001b[1;33m\u001b[0m\u001b[1;33m\u001b[0m\u001b[0m\n\u001b[0m",
      "\u001b[1;31mTypeError\u001b[0m: 'AxesSubplot' object is not subscriptable"
     ]
    }
   ],
   "source": [
    "means = [item.get_ydata()[0] for item in bp['means']]"
   ]
  },
  {
   "cell_type": "code",
   "execution_count": 49,
   "metadata": {},
   "outputs": [
    {
     "data": {
      "text/html": [
       "<div>\n",
       "<style scoped>\n",
       "    .dataframe tbody tr th:only-of-type {\n",
       "        vertical-align: middle;\n",
       "    }\n",
       "\n",
       "    .dataframe tbody tr th {\n",
       "        vertical-align: top;\n",
       "    }\n",
       "\n",
       "    .dataframe thead th {\n",
       "        text-align: right;\n",
       "    }\n",
       "</style>\n",
       "<table border=\"1\" class=\"dataframe\">\n",
       "  <thead>\n",
       "    <tr style=\"text-align: right;\">\n",
       "      <th></th>\n",
       "      <th>A1</th>\n",
       "      <th>A2</th>\n",
       "      <th>mu1</th>\n",
       "      <th>mu2</th>\n",
       "    </tr>\n",
       "  </thead>\n",
       "  <tbody>\n",
       "    <tr>\n",
       "      <th>count</th>\n",
       "      <td>217607.000000</td>\n",
       "      <td>217607.000000</td>\n",
       "      <td>217607.000000</td>\n",
       "      <td>217607.000000</td>\n",
       "    </tr>\n",
       "    <tr>\n",
       "      <th>mean</th>\n",
       "      <td>5.422742</td>\n",
       "      <td>6.940559</td>\n",
       "      <td>7.141209</td>\n",
       "      <td>17.800880</td>\n",
       "    </tr>\n",
       "    <tr>\n",
       "      <th>std</th>\n",
       "      <td>6.223951</td>\n",
       "      <td>6.952867</td>\n",
       "      <td>2.363423</td>\n",
       "      <td>2.270051</td>\n",
       "    </tr>\n",
       "    <tr>\n",
       "      <th>min</th>\n",
       "      <td>0.000583</td>\n",
       "      <td>0.000083</td>\n",
       "      <td>1.000000</td>\n",
       "      <td>13.000000</td>\n",
       "    </tr>\n",
       "    <tr>\n",
       "      <th>25%</th>\n",
       "      <td>1.144667</td>\n",
       "      <td>1.866667</td>\n",
       "      <td>6.000000</td>\n",
       "      <td>17.000000</td>\n",
       "    </tr>\n",
       "    <tr>\n",
       "      <th>50%</th>\n",
       "      <td>3.247083</td>\n",
       "      <td>4.883333</td>\n",
       "      <td>8.000000</td>\n",
       "      <td>18.000000</td>\n",
       "    </tr>\n",
       "    <tr>\n",
       "      <th>75%</th>\n",
       "      <td>7.567083</td>\n",
       "      <td>9.783458</td>\n",
       "      <td>9.000000</td>\n",
       "      <td>19.000000</td>\n",
       "    </tr>\n",
       "    <tr>\n",
       "      <th>max</th>\n",
       "      <td>66.237167</td>\n",
       "      <td>73.894750</td>\n",
       "      <td>10.000000</td>\n",
       "      <td>22.000000</td>\n",
       "    </tr>\n",
       "  </tbody>\n",
       "</table>\n",
       "</div>"
      ],
      "text/plain": [
       "                  A1             A2            mu1            mu2\n",
       "count  217607.000000  217607.000000  217607.000000  217607.000000\n",
       "mean        5.422742       6.940559       7.141209      17.800880\n",
       "std         6.223951       6.952867       2.363423       2.270051\n",
       "min         0.000583       0.000083       1.000000      13.000000\n",
       "25%         1.144667       1.866667       6.000000      17.000000\n",
       "50%         3.247083       4.883333       8.000000      18.000000\n",
       "75%         7.567083       9.783458       9.000000      19.000000\n",
       "max        66.237167      73.894750      10.000000      22.000000"
      ]
     },
     "execution_count": 49,
     "metadata": {},
     "output_type": "execute_result"
    }
   ],
   "source": [
    "measured_peaks_filtered.describe()"
   ]
  },
  {
   "cell_type": "code",
   "execution_count": 44,
   "metadata": {},
   "outputs": [
    {
     "data": {
      "text/html": [
       "<div>\n",
       "<style scoped>\n",
       "    .dataframe tbody tr th:only-of-type {\n",
       "        vertical-align: middle;\n",
       "    }\n",
       "\n",
       "    .dataframe tbody tr th {\n",
       "        vertical-align: top;\n",
       "    }\n",
       "\n",
       "    .dataframe thead th {\n",
       "        text-align: right;\n",
       "    }\n",
       "</style>\n",
       "<table border=\"1\" class=\"dataframe\">\n",
       "  <thead>\n",
       "    <tr style=\"text-align: right;\">\n",
       "      <th></th>\n",
       "      <th>ProfileID</th>\n",
       "      <th>A1</th>\n",
       "      <th>A2</th>\n",
       "    </tr>\n",
       "  </thead>\n",
       "  <tbody>\n",
       "    <tr>\n",
       "      <th>count</th>\n",
       "      <td>2.194560e+05</td>\n",
       "      <td>219456.000000</td>\n",
       "      <td>219456.000000</td>\n",
       "    </tr>\n",
       "    <tr>\n",
       "      <th>mean</th>\n",
       "      <td>3.535172e+06</td>\n",
       "      <td>5.518051</td>\n",
       "      <td>6.457430</td>\n",
       "    </tr>\n",
       "    <tr>\n",
       "      <th>std</th>\n",
       "      <td>5.207889e+06</td>\n",
       "      <td>6.011696</td>\n",
       "      <td>6.096415</td>\n",
       "    </tr>\n",
       "    <tr>\n",
       "      <th>min</th>\n",
       "      <td>1.000000e+00</td>\n",
       "      <td>0.003386</td>\n",
       "      <td>0.006101</td>\n",
       "    </tr>\n",
       "    <tr>\n",
       "      <th>25%</th>\n",
       "      <td>4.152000e+03</td>\n",
       "      <td>1.493687</td>\n",
       "      <td>2.253394</td>\n",
       "    </tr>\n",
       "    <tr>\n",
       "      <th>50%</th>\n",
       "      <td>1.000691e+06</td>\n",
       "      <td>3.411322</td>\n",
       "      <td>4.615676</td>\n",
       "    </tr>\n",
       "    <tr>\n",
       "      <th>75%</th>\n",
       "      <td>1.200274e+07</td>\n",
       "      <td>7.420947</td>\n",
       "      <td>8.742496</td>\n",
       "    </tr>\n",
       "    <tr>\n",
       "      <th>max</th>\n",
       "      <td>1.202906e+07</td>\n",
       "      <td>46.670084</td>\n",
       "      <td>46.304145</td>\n",
       "    </tr>\n",
       "  </tbody>\n",
       "</table>\n",
       "</div>"
      ],
      "text/plain": [
       "          ProfileID             A1             A2\n",
       "count  2.194560e+05  219456.000000  219456.000000\n",
       "mean   3.535172e+06       5.518051       6.457430\n",
       "std    5.207889e+06       6.011696       6.096415\n",
       "min    1.000000e+00       0.003386       0.006101\n",
       "25%    4.152000e+03       1.493687       2.253394\n",
       "50%    1.000691e+06       3.411322       4.615676\n",
       "75%    1.200274e+07       7.420947       8.742496\n",
       "max    1.202906e+07      46.670084      46.304145"
      ]
     },
     "execution_count": 44,
     "metadata": {},
     "output_type": "execute_result"
    }
   ],
   "source": [
    "synthetic_peaks_filtered_temp.describe()"
   ]
  },
  {
   "cell_type": "markdown",
   "metadata": {},
   "source": [
    "# Q-Q plots of peaks"
   ]
  },
  {
   "cell_type": "code",
   "execution_count": 17,
   "metadata": {},
   "outputs": [],
   "source": [
    "measured_peaks_filtered = temporary.loc[temporary.index.isin(synthetic_peaks_filtered_temp.ProfileID.unique()),:]\n",
    "synthetic_peaks_filtered = inv_data_df#.loc[inv_data_df.index.isin(profile_ids_good_fit),:]\n",
    "\n",
    "act_A1 = measured_peaks_filtered['A1']\n",
    "act_A2 = measured_peaks_filtered['A2']\n",
    "synth_A1 = synthetic_peaks_filtered_temp['A1']\n",
    "synth_A2 = synthetic_peaks_filtered['A2']"
   ]
  },
  {
   "cell_type": "code",
   "execution_count": 18,
   "metadata": {},
   "outputs": [],
   "source": [
    "def standarise(df,pct,pct_lower):    \n",
    "    sc = StandardScaler() \n",
    "    y = df.values\n",
    "    y.sort()\n",
    "    len_y = len(y)\n",
    "    y = y[int(pct_lower * len_y):int(len_y * pct)]\n",
    "    len_y = len(y)\n",
    "    yy=([[x] for x in y])\n",
    "    sc.fit(yy)\n",
    "    y_std =sc.transform(yy)\n",
    "    y_std = y_std.flatten()\n",
    "    return y_std,len_y,y"
   ]
  },
  {
   "cell_type": "code",
   "execution_count": 20,
   "metadata": {},
   "outputs": [
    {
     "data": {
      "image/png": "[encoded data removed]",
      "text/plain": [
       "<Figure size 576x576 with 1 Axes>"
      ]
     },
     "metadata": {
      "needs_background": "light"
     },
     "output_type": "display_data"
    }
   ],
   "source": [
    "y_std,len_y,y = standarise(synth_A1,0.99,0.01)\n",
    "\n",
    "y_std = y\n",
    "\n",
    "f, ax = plt.subplots(figsize=(8,8))\n",
    "ax.plot([-2, 50], [-2, 50], ls=\"--\", c=\".3\")\n",
    "\n",
    "percentile_bins = np.linspace(0,100,100)\n",
    "percentile_cutoffs1 = np.percentile(synth_A1, percentile_bins)\n",
    "\n",
    "percentile_cutoffs = np.percentile(act_A1, percentile_bins)\n",
    "\n",
    "ax.scatter(percentile_cutoffs1,percentile_cutoffs,c='r',s = 40)\n",
    "ax.set_title('Q-Q Plot: Actual vs. Synthetic A1 peaks\\nHigh Season Weekends') \n",
    "ax.set_xlabel('Theoretical cumulative distribution')\n",
    "ax.set_ylabel('Observed cumulative distribution')\n",
    "# ax.legend()\n",
    "ax.set_ylim(-2,50)\n",
    "ax.set_xlim(-2,50)\n",
    "plt.show()"
   ]
  },
  {
   "cell_type": "code",
   "execution_count": 23,
   "metadata": {},
   "outputs": [
    {
     "data": {
      "image/png": "[encoded data removed]",
      "text/plain": [
       "<Figure size 576x576 with 1 Axes>"
      ]
     },
     "metadata": {
      "needs_background": "light"
     },
     "output_type": "display_data"
    }
   ],
   "source": [
    "y_std,len_y,y = standarise(synth_A2,0.99,0.01)\n",
    "\n",
    "y_std = y\n",
    "\n",
    "f, ax = plt.subplots(figsize=(8,8))\n",
    "ax.plot([-2, 50], [-2, 50], ls=\"--\", c=\".3\")\n",
    "\n",
    "percentile_bins = np.linspace(0,100,100)\n",
    "percentile_cutoffs1 = np.percentile(y_std, percentile_bins)\n",
    "\n",
    "percentile_cutoffs = np.percentile(act_A2, percentile_bins)\n",
    "\n",
    "ax.scatter(percentile_cutoffs1,percentile_cutoffs,c='r',s = 40)\n",
    "ax.set_title('Q-Q Plot: Actual vs. Synthetic A2 peaks\\n High Season Weekends') \n",
    "ax.set_xlabel('Theoretical quantiles')\n",
    "ax.set_ylabel('Observed quantiles')\n",
    "# ax.legend()\n",
    "ax.set_ylim(-2,50)\n",
    "ax.set_xlim(-2,50)\n",
    "plt.show()"
   ]
  },
  {
   "cell_type": "code",
   "execution_count": null,
   "metadata": {},
   "outputs": [],
   "source": []
  }
 ],
 "metadata": {
  "interpreter": {
   "hash": "52469ae204d1d50c448c04334a11ed7bbfc3a11760631521f4bdc0e8f20089d8"
  },
  "kernelspec": {
   "display_name": "Python 3.9.6 64-bit",
   "language": "python",
   "name": "python3"
  },
  "language_info": {
   "codemirror_mode": {
    "name": "ipython",
    "version": 3
   },
   "file_extension": ".py",
   "mimetype": "text/x-python",
   "name": "python",
   "nbconvert_exporter": "python",
   "pygments_lexer": "ipython3",
   "version": "3.9.6"
  },
  "orig_nbformat": 4
 },
 "nbformat": 4,
 "nbformat_minor": 2
}
