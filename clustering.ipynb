{
 "cells": [
  {
   "cell_type": "code",
   "execution_count": 13,
   "metadata": {},
   "outputs": [],
   "source": [
    "import pandas as pd\n",
    "import numpy as np\n",
    "import time\n",
    "from tqdm import tqdm_notebook as tqdm\n",
    "import warnings\n",
    "warnings.filterwarnings('ignore')\n",
    "from sklearn.cluster import DBSCAN\n",
    "import matplotlib.pyplot as plt\n",
    "import scipy.stats as stats\n",
    "import seaborn as sns\n",
    "from sklearn import metrics\n",
    "%matplotlib inline\n",
    "from itertools import chain\n",
    "from sklearn.cluster import KMeans\n",
    "from sklearn.metrics import silhouette_score\n",
    "import seaborn as sns\n",
    "import gower\n",
    "\n",
    "\n",
    "from sklearn.cluster import MiniBatchKMeans, KMeans\n",
    "\n",
    "from experiment.algorithms.cluster_prep import xBins, clusterStats, bestClusters, saveLabels, saveResults"
   ]
  },
  {
   "cell_type": "markdown",
   "metadata": {},
   "source": [
    "# Load Fit Features"
   ]
  },
  {
   "cell_type": "code",
   "execution_count": 5,
   "metadata": {},
   "outputs": [],
   "source": [
    "# data = pd.read_pickle('sorted_households.pkl') # Read pickle file\n",
    "# # Read in only the sorted households, combine the dataframes with the sorted households features, perform clustering!!\n",
    "# # Include the other finished bins that completed feature extraction\n",
    "\n",
    "# df_50_150 = pd.read_csv(r'data/features/FitFeatures/FitFeatures_50_150.csv',  header=[0, 1], index_col = 0)\n",
    "# df_150_400 = pd.read_csv(r'data/features/FitFeatures/FitFeatures_150_400.csv',  header=[0, 1], index_col = 0)\n",
    "# df_400_600 = pd.read_csv(r'data/features/FitFeatures/FitFeatures_400_600.csv',  header=[0, 1], index_col = 0)\n",
    "# df_600_1200 = pd.read_csv('data/features/FitFeatures/FitFeatures_600_1200.csv',  header=[0, 1], index_col = 0)\n",
    "# df_1200_2500 = pd.read_csv(r'data/features/FitFeatures/FitFeatures_1200_2500.csv',  header=[0, 1], index_col = 0)\n",
    "# df_2500_4000 = pd.read_csv(r'data/features/FitFeatures/FitFeatures_2500_4000.csv',  header=[0, 1], index_col = 0)\n",
    "\n",
    "# # Select all filtered households \n",
    "# df_50_150.loc[data['50_150']] \n",
    "# df_150_400.loc[data['150_400']]\n",
    "# df_400_600.loc[data['400_600']] \n",
    "# df_600_1200.loc[data['600_1200']] \n",
    "# df_1200_2500.loc[data['1200_2500']] \n",
    "\n",
    "# # Combine all the data\n",
    "# frame = [df_150_400,df_400_600,df_1200_2500,df_2500_4000]\n",
    "\n",
    "# df = pd.DataFrame()\n",
    "# df = df_50_150.append(frame)"
   ]
  },
  {
   "cell_type": "code",
   "execution_count": 6,
   "metadata": {},
   "outputs": [],
   "source": [
    "# data = pd.read_pickle('sorted_households.pkl') # Read pickle file\n",
    "\n",
    "# # Read in average monthly consumption data\n",
    "# X = pd.read_csv('AMC_dataframe.csv', index_col=['ProfileID'])\n",
    "\n",
    "# X.reset_index(inplace = True)\n",
    "# # Extract household IDs\n",
    "# household_ids = list(data.values())\n",
    "# householdIDs =  [l.tolist() for l in household_ids]\n",
    "# householdIDs = list(map(int, chain.from_iterable(householdIDs)))\n",
    "\n",
    "# #Select rows based on condition \n",
    "# AMC_df = X[X['ProfileID'].isin(householdIDs)] \n",
    "\n",
    "# AMC_df.set_index(['ProfileID'], inplace=True)\n",
    "\n",
    "\n",
    "# df_50_150 = pd.read_csv(r'data/features/FitFeatures/FitFeatures_50_150.csv',  header=[0, 1], index_col = 0)\n",
    "# df_150_400 = pd.read_csv(r'data/features/FitFeatures/FitFeatures_150_400.csv',  header=[0, 1], index_col = 0)\n",
    "# df_400_600 = pd.read_csv(r'data/features/FitFeatures/FitFeatures_400_600.csv',  header=[0, 1], index_col = 0)\n",
    "# df_600_1200 = pd.read_csv('data/features/FitFeatures/FitFeatures_600_1200.csv',  header=[0, 1], index_col = 0)\n",
    "# df_1200_2500 = pd.read_csv(r'data/features/FitFeatures/FitFeatures_1200_2500.csv',  header=[0, 1], index_col = 0)\n",
    "# df_2500_4000 = pd.read_csv(r'data/features/FitFeatures/FitFeatures_2500_4000.csv',  header=[0, 1], index_col = 0)\n",
    "\n",
    "# # Select all filtered households \n",
    "# df_50_150.loc[data['50_150']] \n",
    "# df_150_400.loc[data['150_400']]\n",
    "# df_400_600.loc[data['400_600']] \n",
    "# df_600_1200.loc[data['600_1200']] \n",
    "# df_1200_2500.loc[data['1200_2500']] \n",
    "\n",
    "# # Combine all the data\n",
    "# frame = [df_150_400,df_400_600,df_1200_2500,df_2500_4000]\n",
    "\n",
    "# df = pd.DataFrame()\n",
    "# df = df_50_150.append(frame)\n",
    "\n",
    "# #Select rows based on condition \n",
    "# df.reset_index(inplace=True)\n",
    "# df = df[df['ProfileID'].isin(AMC_df.index.values)]\n",
    "\n",
    "# df.set_index(['ProfileID'], inplace=True)\n",
    "\n",
    "\n",
    "# #Select rows based on conditio\n",
    "# AMC_df.reset_index(['ProfileID'], inplace=True)\n",
    "\n",
    "# AMC_df = X[X['ProfileID'].isin(df.index.values)] \n",
    "\n",
    "# AMC_df.set_index(['ProfileID'], inplace=True)\n"
   ]
  },
  {
   "cell_type": "markdown",
   "metadata": {},
   "source": [
    "# Load meta data features,fit features and AMC features"
   ]
  },
  {
   "cell_type": "code",
   "execution_count": 35,
   "metadata": {},
   "outputs": [],
   "source": [
    "# data = pd.read_pickle('sorted_households.pkl') # Read pickle file\n",
    "\n",
    "# Read in average monthly consumption data\n",
    "X = pd.read_csv('AMC_dataframe.csv', index_col=['ProfileID'])\n",
    "AMC_df = X.copy()\n",
    "\n",
    "X.reset_index(inplace = True)\n",
    "# # Extract household IDs\n",
    "# household_ids = list(data.values())\n",
    "# householdIDs =  [l.tolist() for l in household_ids]\n",
    "# householdIDs = list(map(int, chain.from_iterable(householdIDs)))\n",
    "\n",
    "#Select rows based on condition \n",
    "# AMC_df = X[X['ProfileID'].isin(householdIDs)] \n",
    "\n",
    "# AMC_df.set_index(['ProfileID'], inplace=True)\n",
    "\n",
    "\n",
    "# Load fit features\n",
    "df_50_150 = pd.read_csv(r'data/features/FitFeatures/FitFeatures_50_150.csv',  header=[0, 1], index_col = 0)\n",
    "df_150_400 = pd.read_csv(r'data/features/FitFeatures/FitFeatures_150_400.csv',  header=[0, 1], index_col = 0)\n",
    "df_400_600 = pd.read_csv(r'data/features/FitFeatures/FitFeatures_400_600.csv',  header=[0, 1], index_col = 0)\n",
    "df_600_1200 = pd.read_csv('data/features/FitFeatures/FitFeatures_600_1200.csv',  header=[0, 1], index_col = 0)\n",
    "df_1200_2500 = pd.read_csv(r'data/features/FitFeatures/FitFeatures_1200_2500.csv',  header=[0, 1], index_col = 0)\n",
    "df_2500_4000 = pd.read_csv(r'data/features/FitFeatures/FitFeatures_2500_4000.csv',  header=[0, 1], index_col = 0)\n",
    "\n",
    "# Load the winter months features\n",
    "# df_50_150 = pd.read_csv(r'data/features/FitFeatures/Winter_Weekdays/Winter_weekdays_FitFeatures_50_150.csv',  header=[0, 1], index_col = 0)\n",
    "# # df_150_400 = pd.read_csv(r'data/features/FitFeatures/Winter_Weekdays/Winter_weekdays_FitFeatures_150_400.csv',  header=[0, 1], index_col = 0)\n",
    "# df_400_600 = pd.read_csv(r'data/features/FitFeatures/Winter_Weekdays/Winter_weekdays_FitFeatures_400_600.csv',  header=[0, 1], index_col = 0)\n",
    "# df_600_1200 = pd.read_csv('data/features/FitFeatures/Winter_Weekdays/Winter_weekdays_FitFeatures_600_1200.csv',  header=[0, 1], index_col = 0)\n",
    "# df_1200_2500 = pd.read_csv(r'data/features/FitFeatures/Winter_Weekdays/Winter_weekdays_FitFeatures_1200_2500.csv',  header=[0, 1], index_col = 0)\n",
    "# # df_2500_4000 = pd.read_csv(r'data/features/FitFeatures/Winter_Weekdays/Winter_weekdays_FitFeatures_2500_4000.csv',  header=[0, 1], index_col = 0)\n",
    "\n",
    "# Select all filtered households \n",
    "# df_50_150.loc[data['50_150']] \n",
    "# df_150_400.loc[data['150_400']]\n",
    "# df_400_600.loc[data['400_600']] \n",
    "# df_600_1200.loc[data['600_1200']] \n",
    "# df_1200_2500.loc[data['1200_2500']] \n",
    "\n",
    "# Combine all the data\n",
    "frame = [df_150_400,df_400_600,df_600_1200,df_1200_2500,df_2500_4000]#\n",
    "\n",
    "df = pd.DataFrame()\n",
    "df = df_50_150.append(frame)\n",
    "\n",
    "#Select rows based on condition \n",
    "df.reset_index(inplace=True)\n",
    "\n",
    "# Create dataframe with the geauss fit features\n",
    "df = df[df['ProfileID'].isin(AMC_df.index.values)].copy()\n",
    "df.set_index(['ProfileID'], inplace=True)\n",
    "df = df.droplevel([0],axis = 1) # Drop level on multi column\n",
    "\n",
    "# # Create dataframe with the winter weekday gauss fit features\n",
    "# df_winter_weekdays = df[df['ProfileID'].isin(AMC_df.index.values)].copy()\n",
    "# df_winter_weekdays.set_index(['ProfileID'], inplace=True)\n",
    "# df_winter_weekdays = df_winter_weekdays.droplevel([0],axis = 1) # Drop level on multi column\n",
    "\n",
    "\n",
    "#Select rows based on condition\n",
    "AMC_df.reset_index(['ProfileID'], inplace=True)\n",
    "AMC_df = X[X['ProfileID'].isin(df.index.values)] #df_winter_weekdays.index.values\n",
    "AMC_df.set_index(['ProfileID'], inplace=True)\n",
    "\n",
    "# Load Metadata\n",
    "df1 = pd.read_csv(r\"data/survey_data/delskv-1994-2014.csv\",  header=[0], index_col = 0)\n",
    "meta_df = df1[['floor_area', 'wall_material','total_adults', 'total_children','monthly_income','water_access','roof_material','years_electrified']] # Select relevant features\n",
    "meta_df['total_residents'] = meta_df['total_adults'] + meta_df['total_children'] # Create total_residents feature"
   ]
  },
  {
   "cell_type": "markdown",
   "metadata": {},
   "source": [
    "# Sort and filter datasets by ProfileIDs"
   ]
  },
  {
   "cell_type": "code",
   "execution_count": 36,
   "metadata": {},
   "outputs": [],
   "source": [
    "# Drop all NaN values from dataframe\n",
    "meta_df = meta_df.dropna()\n",
    "\n",
    "# Filter out only households with Gauss Fit that completed a survey\n",
    "households_ids1 = AMC_df.index.to_list()\n",
    "meta_df_filtered = meta_df.loc[meta_df.index.isin(households_ids1),:]\n",
    "\n",
    "# # Filter out only households that completed a survey from Gauss Fit\n",
    "households_ids2 = meta_df_filtered.index.to_list()\n",
    "AMC_df_filtered = AMC_df.loc[AMC_df.index.isin(households_ids2),:]"
   ]
  },
  {
   "cell_type": "code",
   "execution_count": 4,
   "metadata": {},
   "outputs": [],
   "source": [
    "# ids_winters_months = pd.read_pickle(r'winter_months_ids') # Uncomment when using only winter weekdays data"
   ]
  },
  {
   "cell_type": "markdown",
   "metadata": {},
   "source": [
    "# Encode non-numeric features"
   ]
  },
  {
   "cell_type": "code",
   "execution_count": 37,
   "metadata": {},
   "outputs": [],
   "source": [
    "from sklearn.preprocessing import LabelEncoder\n",
    "enc = LabelEncoder()\n",
    "enc.fit(meta_df_filtered['roof_material'])\n",
    "meta_df_filtered['roof_material_ENC'] = enc.transform(meta_df_filtered['roof_material'])\n",
    "\n",
    "enc.fit(meta_df_filtered['water_access'])\n",
    "meta_df_filtered['water_access_ENC'] = enc.transform(meta_df_filtered['water_access'])\n",
    "\n",
    "enc.fit(meta_df_filtered['wall_material'])\n",
    "meta_df_filtered['wall_material_ENC'] = enc.transform(meta_df_filtered['wall_material'])\n",
    "\n",
    "meta_df_encoded = meta_df_filtered[['floor_area', 'monthly_income','total_residents','roof_material_ENC','water_access_ENC','wall_material_ENC', 'years_electrified']]\n",
    "encoded_df = pd.merge(meta_df_encoded,AMC_df, left_index = True,right_index=True)"
   ]
  },
  {
   "cell_type": "markdown",
   "metadata": {},
   "source": [
    "# Filter out households with missing winter months"
   ]
  },
  {
   "cell_type": "code",
   "execution_count": 38,
   "metadata": {},
   "outputs": [],
   "source": [
    "encoded_df2 = pd.merge(encoded_df, df, left_index = True, right_index = True) # df_winter_weekdays\n",
    "\n",
    "# encoded_df_filtered = encoded_df2.loc[encoded_df2.index.isin(ids_winters_months),:] # Uncomment when using winter weekdays dataframe"
   ]
  },
  {
   "cell_type": "markdown",
   "metadata": {},
   "source": [
    "# Select either Morning or Afternoon Fit Features"
   ]
  },
  {
   "cell_type": "code",
   "execution_count": 12,
   "metadata": {},
   "outputs": [],
   "source": [
    "# tod = 'Afternoon'\n",
    "# amplitude = True\n",
    "\n",
    "\n",
    "# if tod == 'Afternoon':\n",
    "#     s1 = 'sigma3'\n",
    "#     s2 = 'sigma4'   \n",
    "#     if amplitude == True:\n",
    "#         temp_df = df[tod][[s1,s2,'A2']] \n",
    "#     elif amplitude == False:\n",
    "#         temp_df = df[tod][[s1,s2]] \n",
    "\n",
    "# elif tod == 'Morning':\n",
    "#     s1 = 'sigma1'\n",
    "#     s2 = 'sigma2'\n",
    "#     if amplitude == True:\n",
    "#         temp_df = df[tod][[s1,s2,'A1']] \n",
    "#     elif amplitude == False:\n",
    "#         temp_df = df[tod][[s1,s2]]  "
   ]
  },
  {
   "cell_type": "markdown",
   "metadata": {},
   "source": [
    "### Remove outliers in standard deviation values"
   ]
  },
  {
   "cell_type": "code",
   "execution_count": 6,
   "metadata": {},
   "outputs": [],
   "source": [
    "df.drop(df['sigma1'].idxmax(), inplace= True) # Remove outlier in the dataframe\n",
    "df.drop(df['sigma2'].idxmax(), inplace= True) # Remove outlier in the dataframe"
   ]
  },
  {
   "cell_type": "markdown",
   "metadata": {},
   "source": [
    "# Standardize dataset"
   ]
  },
  {
   "cell_type": "code",
   "execution_count": 622,
   "metadata": {},
   "outputs": [],
   "source": [
    "from sklearn.preprocessing import StandardScaler \n",
    "# create the scaler \n",
    "ss = StandardScaler() \n",
    "# take a subset of the dataframe you want to scale \n",
    "temp_df_subset = temp_df\n",
    "# apply the scaler to the dataframe subset \n",
    "temp_df_scaled = ss.fit_transform(temp_df_subset)\n",
    "\n",
    "scaled_df = pd.DataFrame(temp_df_scaled)"
   ]
  },
  {
   "cell_type": "code",
   "execution_count": 621,
   "metadata": {},
   "outputs": [],
   "source": [
    "# Remove outliers\n",
    "# temp_df = df['sigma3','sigma4']]\n",
    "# Find absolute value of z-score for each observation\n",
    "z = np.abs(stats.zscore(temp_df))\n",
    "\n",
    "# #only keep rows in dataframe with all z-scores less than absolute value of 3 \n",
    "temp_df = temp_df[(z<3).all(axis=1)]"
   ]
  },
  {
   "cell_type": "markdown",
   "metadata": {},
   "source": [
    "### Check the distribution of the mean times"
   ]
  },
  {
   "cell_type": "code",
   "execution_count": 18,
   "metadata": {},
   "outputs": [],
   "source": [
    "# # Creating histogram\n",
    "# bins = 10\n",
    "# fig, ax = plt.subplots(figsize =(10, 7))\n",
    "# ax.hist(df['Afternoon']['mu2'], bins = bins)\n",
    "\n",
    "# ax.set_title(\"Histogram of Afternoon ToPs\")\n",
    "# ax.set_xlabel(\"Time of Peak\")\n",
    "# ax.set_ylabel(\"Count\")\n",
    "# # Show plot\n",
    "# plt.show()\n",
    "\n",
    "# # Save Fig\n",
    "# fig.savefig('Histogram_Afternoon_ToPs.png', dpi=72, bbox_inches='tight')"
   ]
  },
  {
   "cell_type": "markdown",
   "metadata": {},
   "source": [
    "# Create scatter plots of the sigma values"
   ]
  },
  {
   "cell_type": "markdown",
   "metadata": {},
   "source": [
    "### 2D plot"
   ]
  },
  {
   "cell_type": "code",
   "execution_count": 49,
   "metadata": {},
   "outputs": [
    {
     "data": {
      "image/png": "[encoded data removed]",
      "text/plain": [
       "<Figure size 1080x576 with 1 Axes>"
      ]
     },
     "metadata": {
      "needs_background": "light"
     },
     "output_type": "display_data"
    }
   ],
   "source": [
    "# s1 = 'sigma3'\n",
    "# s2 = 'sigma4'\n",
    "# x = temp_df[s1]\n",
    "# y = temp_df[s2]\n",
    "# scale = 'log'\n",
    "scale = ''\n",
    "\n",
    "feature1 = 'AMC_yearly'\n",
    "feature2 = 'A1'\n",
    "\n",
    "x = encoded_df2[feature1]\n",
    "y = encoded_df2[feature2]*230/1000\n",
    "\n",
    "x_label = feature1\n",
    "y_label = feature2\n",
    "\n",
    "fig, ax = plt.subplots(figsize =(15, 8))\n",
    "\n",
    "plt.scatter(x, y)\n",
    "plt.rc('axes', titlesize=25) \n",
    "plt.rc('axes', labelsize=15)\n",
    "plt.title(\"Scatter plot: \" + x_label + ' vs.' + y_label)\n",
    "ax.set_ylabel(y_label + \"[\" + scale + \"]\")\n",
    "ax.set_xlabel(x_label + \" [\" + scale +\"]\")\n",
    "# ax.set_yscale(scale)\n",
    "# ax.set_xscale(scale)\n",
    "plt.show()\n",
    "\n",
    "# # Save Fig\n",
    "# fig.savefig('SP_Afternoon_' + x_label + 'vs' + y_label + '.png', dpi=72, bbox_inches='tight')"
   ]
  },
  {
   "cell_type": "markdown",
   "metadata": {},
   "source": [
    "### 3D plot"
   ]
  },
  {
   "cell_type": "code",
   "execution_count": 172,
   "metadata": {},
   "outputs": [],
   "source": [
    "# # importing required libraries\n",
    "# from mpl_toolkits.mplot3d import Axes3D\n",
    "\n",
    "# # for creating a responsive plot\n",
    "# %matplotlib widget\n",
    "\n",
    "# X = pd.DataFrame()\n",
    "# X = encoded_df_filtered.copy()\n",
    "# # Create 3-D Scatter plot\n",
    "# ## Creating Dataset\n",
    "# z = X['A1']\n",
    "# y = X['sigma2']\n",
    "# x = X['sigma1']\n",
    "\n",
    "# # Creating figure\n",
    "# fig = plt.figure(figsize = (10, 7))\n",
    "# ax = Axes3D(fig)\n",
    "  \n",
    "\n",
    "# # Creating plot\n",
    "# ax.scatter(x, y, z)\n",
    "# # setting title and labels\n",
    "# ax.set_title(\"3D plot\")\n",
    "# ax.set_xlabel('Sigma1')\n",
    "# ax.set_ylabel('Sigma2')\n",
    "# ax.set_zlabel('Amplitude')\n",
    "\n",
    "# # show plot\n",
    "# plt.show()\n",
    "\n",
    "# # fig, axes = plt.subplots(1, 1, figsize=(16,8))\n",
    "# # # axes[0].scatter(df[0], df[1], c=df['target'])\n",
    "# # axes.scatter( c=X['k_means'], cmap=plt.cm.Set1)\n",
    "# # axes[0].set_title('Actual', fontsize=18)\n",
    "# # axes.set_title('K_Means', fontsize=18)"
   ]
  },
  {
   "cell_type": "code",
   "execution_count": 10,
   "metadata": {},
   "outputs": [],
   "source": [
    "def kmeans(X, range_n_clusters, top_lbls=10, experiment_name = False):\n",
    "    \"\"\"\n",
    "    This function applies the MiniBatchKmeans algorithm from sklearn on inputs X for range_n_clusters.\n",
    "    If preprossing = True, X is normalised with sklearn.preprocessing.normalize()\n",
    "    Returns cluster stats, cluster centroids and cluster labels.\n",
    "    \"\"\"\n",
    "    # Transform dataframe to array\n",
    "    temp_df = X['Morning']\n",
    "    A = temp_df.iloc[:,:4].to_numpy()\n",
    "\n",
    "    # Create dataframes for cluster results\n",
    "    centroids = pd.DataFrame()\n",
    "    stats = pd.DataFrame() \n",
    "    cluster_lbls = pd.DataFrame()\n",
    "\n",
    "    dim = 0 #set dim to 0 to match SOM formating  \n",
    "    cluster_lbls_dim = {}\n",
    "    stats_dim = pd.DataFrame()\n",
    "    \n",
    "    for n_clust in range_n_clusters:\n",
    "        \n",
    "        clusterer = KMeans(n_clusters=n_clust, random_state=10)\n",
    "                    \n",
    "        #train clustering algorithm\n",
    "        tic = time.time()        \n",
    "        clusterer.fit(A)\n",
    "        cluster_labels = clusterer.predict(A)\n",
    "        toc = time.time()\n",
    "        \n",
    "        ## Calculate scores\n",
    "        cluster_stats = clusterStats({}, n_clust, A, cluster_labels, \n",
    "                                         transform = None,\n",
    "                                        tic = tic, toc = toc)        # preprocessing = preprocessing,\n",
    "        cluster_centroids = clusterer.cluster_centers_ \n",
    "        \n",
    "        eval_results, centroid_results = saveResults(experiment_name, cluster_stats,\n",
    "                                                        cluster_centroids, dim)\n",
    "        \n",
    "        stats_dim = stats_dim.append(eval_results)\n",
    "        centroids = centroids.append(centroid_results)\n",
    "\n",
    "        cluster_lbls_dim[n_clust] = cluster_labels\n",
    "\n",
    "    #outside n_clust loop\n",
    "    best_clusters, best_stats = bestClusters(cluster_lbls_dim, stats_dim, top_lbls)\n",
    "    cluster_lbls = pd.concat([cluster_lbls, best_clusters], axis=1)\n",
    "    stats = pd.concat([stats, best_stats], axis=0)\n",
    "    \n",
    "    stats.reset_index(drop=True, inplace=True)\n",
    "\n",
    "\n",
    "    saveLabels(cluster_lbls, stats)\n",
    "    \n",
    "    return stats, centroids, cluster_lbls        "
   ]
  },
  {
   "cell_type": "markdown",
   "metadata": {},
   "source": [
    "# Choosing optimal number of clusters: Elbow Method"
   ]
  },
  {
   "cell_type": "code",
   "execution_count": 50,
   "metadata": {},
   "outputs": [
    {
     "data": {
      "image/png": "[encoded data removed]",
      "text/plain": [
       "<Figure size 1080x576 with 1 Axes>"
      ]
     },
     "metadata": {
      "needs_background": "light"
     },
     "output_type": "display_data"
    }
   ],
   "source": [
    "feature1 = 'A1'\n",
    "feature2 = 'AMC_yearly'\n",
    "\n",
    "title_label = feature1 + \" vs \" + feature2\n",
    "\n",
    "X = encoded_df2[[feature1,feature2]].copy() # Comment out when removing outliers with z-score\n",
    "\n",
    "# Create dataset\n",
    "# temp_df = temp_df['Morning']\n",
    "A = X.to_numpy()\n",
    "\n",
    "# x = AMC_df['AMC_winter']\n",
    "# y = temp_df['A1']\n",
    "\n",
    "# Calculate distortions\n",
    "distortions = []\n",
    "K = range(1,10)\n",
    "for k in K:\n",
    "    kmeanModel = KMeans(n_clusters=k)\n",
    "    kmeanModel.fit(A)\n",
    "    distortions.append(kmeanModel.inertia_)\n",
    "\n",
    "fig, ax = plt.subplots(figsize =(15, 8))\n",
    "\n",
    "# Create Elbow Plot\n",
    "# plt.figure(figsize=(15,8))\n",
    "plt.plot(K, distortions, 'bx-')\n",
    "ax.set_xlabel('k')\n",
    "ax.set_ylabel('Distortion')\n",
    "ax.set_title('Elbow Method(Weekdays and Winter): ' + title_label)\n",
    "\n",
    "plt.show()\n",
    "\n",
    "# # Save Fig\n",
    "# fig.savefig('EM_Morning_' + title_label + '.png', dpi=72, bbox_inches='tight')"
   ]
  },
  {
   "cell_type": "code",
   "execution_count": null,
   "metadata": {},
   "outputs": [],
   "source": []
  },
  {
   "cell_type": "markdown",
   "metadata": {},
   "source": [
    "## Determine the goodness of fit of the clustering method: Silhouette Coefficient"
   ]
  },
  {
   "cell_type": "code",
   "execution_count": 185,
   "metadata": {},
   "outputs": [],
   "source": [
    "kmeans_df = pd.DataFrame(columns = ['Features', 'n_clusters', 'Silhouette Score'])"
   ]
  },
  {
   "cell_type": "code",
   "execution_count": 207,
   "metadata": {},
   "outputs": [
    {
     "name": "stdout",
     "output_type": "stream",
     "text": [
      "Silhouette Score(n=2): 0.39980593762335714\n",
      "Silhouette Score(n=3): 0.33808493829542124\n",
      "Silhouette Score(n=4): 0.335853761703924\n",
      "Silhouette Score(n=5): 0.3270453357641187\n",
      "Silhouette Score(n=6): 0.33158018299525105\n",
      "Silhouette Score(n=7): 0.33156352050089344\n",
      "Silhouette Score(n=8): 0.3317893092189828\n",
      "Silhouette Score(n=9): 0.32877311079295457\n"
     ]
    }
   ],
   "source": [
    "import plotly.graph_objects as go\n",
    "# Select Features\n",
    "s1 = 'sigma3'\n",
    "s2 = 'sigma4'\n",
    "\n",
    "# X[s1] = np.log(X[s1])\n",
    "# X[s2] = np.log(X[s2])\n",
    "\n",
    "A = encoded_df2[[s1,s2]].copy()\n",
    "features = s1 + ' vs ' + s2\n",
    "\n",
    "SC = []\n",
    "n_cluster = []\n",
    "for i in range(2,10):\n",
    "    KMean= KMeans(n_clusters=i)\n",
    "    KMean.fit(A)\n",
    "    label=KMean.predict(A)\n",
    "\n",
    "    n_cluster.append(i)\n",
    "    SC.append(f'{silhouette_score(A, label):.3f}')\n",
    "    # Determine the Silhouette Score\n",
    "    print(f'Silhouette Score(n={i}): {silhouette_score(A, label)}')\n",
    "\n",
    "df2 = pd.DataFrame({'Features': features, 'n_clusters': n_cluster,'Silhouette Score': SC})\n",
    "\n",
    "#add new row to end of DataFrame\n",
    "kmeans_df = kmeans_df.append(df2, ignore_index = True)\n",
    "\n",
    "# fig = go.Figure(data=[go.Table(  columnwidth = [12,10,15],header=dict(values=['Features','n_clusters', 'Silhouette Score']),\n",
    "#                  cells=dict(values=[features,n_cluster, SC]))\n",
    "#                      ])    \n",
    "\n",
    "# fig.update_layout(width=600, height=500)\n",
    "\n",
    "# fig.show()"
   ]
  },
  {
   "cell_type": "markdown",
   "metadata": {},
   "source": [
    "### Save results of KMeans CLustering Silhouette Scores"
   ]
  },
  {
   "cell_type": "code",
   "execution_count": 210,
   "metadata": {},
   "outputs": [
    {
     "data": {
      "application/vnd.plotly.v1+json": {
       "config": {
        "plotlyServerURL": "https://plot.ly"
       },
       "data": [
        {
         "colorscale": [
          [
           0,
           "#00083e"
          ],
          [
           0.5,
           "#ededee"
          ],
          [
           1,
           "#ffffff"
          ]
         ],
         "hoverinfo": "none",
         "opacity": 0.75,
         "showscale": false,
         "type": "heatmap",
         "z": [
          [
           0,
           0
          ],
          [
           0.5,
           0.5
          ],
          [
           1,
           1
          ],
          [
           0.5,
           0.5
          ],
          [
           1,
           1
          ],
          [
           0.5,
           0.5
          ],
          [
           1,
           1
          ],
          [
           0.5,
           0.5
          ],
          [
           1,
           1
          ],
          [
           0.5,
           0.5
          ],
          [
           1,
           1
          ],
          [
           0.5,
           0.5
          ],
          [
           1,
           1
          ],
          [
           0.5,
           0.5
          ],
          [
           1,
           1
          ],
          [
           0.5,
           0.5
          ],
          [
           1,
           1
          ],
          [
           0.5,
           0.5
          ],
          [
           1,
           1
          ],
          [
           0.5,
           0.5
          ],
          [
           1,
           1
          ],
          [
           0.5,
           0.5
          ]
         ]
        }
       ],
       "layout": {
        "annotations": [
         {
          "align": "left",
          "font": {
           "color": "#ffffff"
          },
          "showarrow": false,
          "text": "<b>Features</b>",
          "x": -0.45,
          "xanchor": "left",
          "xref": "x",
          "y": 0,
          "yref": "y"
         },
         {
          "align": "left",
          "font": {
           "color": "#ffffff"
          },
          "showarrow": false,
          "text": "<b>Silhouette Score</b>",
          "x": 0.55,
          "xanchor": "left",
          "xref": "x",
          "y": 0,
          "yref": "y"
         },
         {
          "align": "left",
          "font": {
           "color": "#000000"
          },
          "showarrow": false,
          "text": "A1 vs AMC_winter",
          "x": -0.45,
          "xanchor": "left",
          "xref": "x",
          "y": 1,
          "yref": "y"
         },
         {
          "align": "left",
          "font": {
           "color": "#000000"
          },
          "showarrow": false,
          "text": "0.708",
          "x": 0.55,
          "xanchor": "left",
          "xref": "x",
          "y": 1,
          "yref": "y"
         },
         {
          "align": "left",
          "font": {
           "color": "#000000"
          },
          "showarrow": false,
          "text": "A1 vs AMC_yearly",
          "x": -0.45,
          "xanchor": "left",
          "xref": "x",
          "y": 2,
          "yref": "y"
         },
         {
          "align": "left",
          "font": {
           "color": "#000000"
          },
          "showarrow": false,
          "text": "0.672",
          "x": 0.55,
          "xanchor": "left",
          "xref": "x",
          "y": 2,
          "yref": "y"
         },
         {
          "align": "left",
          "font": {
           "color": "#000000"
          },
          "showarrow": false,
          "text": "A1 vs floor_area",
          "x": -0.45,
          "xanchor": "left",
          "xref": "x",
          "y": 3,
          "yref": "y"
         },
         {
          "align": "left",
          "font": {
           "color": "#000000"
          },
          "showarrow": false,
          "text": "0.797",
          "x": 0.55,
          "xanchor": "left",
          "xref": "x",
          "y": 3,
          "yref": "y"
         },
         {
          "align": "left",
          "font": {
           "color": "#000000"
          },
          "showarrow": false,
          "text": "A1 vs monthly_income",
          "x": -0.45,
          "xanchor": "left",
          "xref": "x",
          "y": 4,
          "yref": "y"
         },
         {
          "align": "left",
          "font": {
           "color": "#000000"
          },
          "showarrow": false,
          "text": "0.874",
          "x": 0.55,
          "xanchor": "left",
          "xref": "x",
          "y": 4,
          "yref": "y"
         },
         {
          "align": "left",
          "font": {
           "color": "#000000"
          },
          "showarrow": false,
          "text": "A1 vs sigma1",
          "x": -0.45,
          "xanchor": "left",
          "xref": "x",
          "y": 5,
          "yref": "y"
         },
         {
          "align": "left",
          "font": {
           "color": "#000000"
          },
          "showarrow": false,
          "text": "1.000",
          "x": 0.55,
          "xanchor": "left",
          "xref": "x",
          "y": 5,
          "yref": "y"
         },
         {
          "align": "left",
          "font": {
           "color": "#000000"
          },
          "showarrow": false,
          "text": "A1 vs sigma2",
          "x": -0.45,
          "xanchor": "left",
          "xref": "x",
          "y": 6,
          "yref": "y"
         },
         {
          "align": "left",
          "font": {
           "color": "#000000"
          },
          "showarrow": false,
          "text": "0.636",
          "x": 0.55,
          "xanchor": "left",
          "xref": "x",
          "y": 6,
          "yref": "y"
         },
         {
          "align": "left",
          "font": {
           "color": "#000000"
          },
          "showarrow": false,
          "text": "A2 vs A1",
          "x": -0.45,
          "xanchor": "left",
          "xref": "x",
          "y": 7,
          "yref": "y"
         },
         {
          "align": "left",
          "font": {
           "color": "#000000"
          },
          "showarrow": false,
          "text": "0.650",
          "x": 0.55,
          "xanchor": "left",
          "xref": "x",
          "y": 7,
          "yref": "y"
         },
         {
          "align": "left",
          "font": {
           "color": "#000000"
          },
          "showarrow": false,
          "text": "A2 vs AMC_winter",
          "x": -0.45,
          "xanchor": "left",
          "xref": "x",
          "y": 8,
          "yref": "y"
         },
         {
          "align": "left",
          "font": {
           "color": "#000000"
          },
          "showarrow": false,
          "text": "0.708",
          "x": 0.55,
          "xanchor": "left",
          "xref": "x",
          "y": 8,
          "yref": "y"
         },
         {
          "align": "left",
          "font": {
           "color": "#000000"
          },
          "showarrow": false,
          "text": "A2 vs AMC_yearly",
          "x": -0.45,
          "xanchor": "left",
          "xref": "x",
          "y": 9,
          "yref": "y"
         },
         {
          "align": "left",
          "font": {
           "color": "#000000"
          },
          "showarrow": false,
          "text": "0.672",
          "x": 0.55,
          "xanchor": "left",
          "xref": "x",
          "y": 9,
          "yref": "y"
         },
         {
          "align": "left",
          "font": {
           "color": "#000000"
          },
          "showarrow": false,
          "text": "A2 vs floor_area",
          "x": -0.45,
          "xanchor": "left",
          "xref": "x",
          "y": 10,
          "yref": "y"
         },
         {
          "align": "left",
          "font": {
           "color": "#000000"
          },
          "showarrow": false,
          "text": "0.797",
          "x": 0.55,
          "xanchor": "left",
          "xref": "x",
          "y": 10,
          "yref": "y"
         },
         {
          "align": "left",
          "font": {
           "color": "#000000"
          },
          "showarrow": false,
          "text": "A2 vs monthly_income",
          "x": -0.45,
          "xanchor": "left",
          "xref": "x",
          "y": 11,
          "yref": "y"
         },
         {
          "align": "left",
          "font": {
           "color": "#000000"
          },
          "showarrow": false,
          "text": "0.874",
          "x": 0.55,
          "xanchor": "left",
          "xref": "x",
          "y": 11,
          "yref": "y"
         },
         {
          "align": "left",
          "font": {
           "color": "#000000"
          },
          "showarrow": false,
          "text": "A2 vs sigma3",
          "x": -0.45,
          "xanchor": "left",
          "xref": "x",
          "y": 12,
          "yref": "y"
         },
         {
          "align": "left",
          "font": {
           "color": "#000000"
          },
          "showarrow": false,
          "text": "0.634",
          "x": 0.55,
          "xanchor": "left",
          "xref": "x",
          "y": 12,
          "yref": "y"
         },
         {
          "align": "left",
          "font": {
           "color": "#000000"
          },
          "showarrow": false,
          "text": "A2 vs sigma4",
          "x": -0.45,
          "xanchor": "left",
          "xref": "x",
          "y": 13,
          "yref": "y"
         },
         {
          "align": "left",
          "font": {
           "color": "#000000"
          },
          "showarrow": false,
          "text": "0.652",
          "x": 0.55,
          "xanchor": "left",
          "xref": "x",
          "y": 13,
          "yref": "y"
         },
         {
          "align": "left",
          "font": {
           "color": "#000000"
          },
          "showarrow": false,
          "text": "AMC_yearly vs floor_area",
          "x": -0.45,
          "xanchor": "left",
          "xref": "x",
          "y": 14,
          "yref": "y"
         },
         {
          "align": "left",
          "font": {
           "color": "#000000"
          },
          "showarrow": false,
          "text": "0.637",
          "x": 0.55,
          "xanchor": "left",
          "xref": "x",
          "y": 14,
          "yref": "y"
         },
         {
          "align": "left",
          "font": {
           "color": "#000000"
          },
          "showarrow": false,
          "text": "AMC_yearly vs monthly_income",
          "x": -0.45,
          "xanchor": "left",
          "xref": "x",
          "y": 15,
          "yref": "y"
         },
         {
          "align": "left",
          "font": {
           "color": "#000000"
          },
          "showarrow": false,
          "text": "0.873",
          "x": 0.55,
          "xanchor": "left",
          "xref": "x",
          "y": 15,
          "yref": "y"
         },
         {
          "align": "left",
          "font": {
           "color": "#000000"
          },
          "showarrow": false,
          "text": "AMC_yearly vs sigma1",
          "x": -0.45,
          "xanchor": "left",
          "xref": "x",
          "y": 16,
          "yref": "y"
         },
         {
          "align": "left",
          "font": {
           "color": "#000000"
          },
          "showarrow": false,
          "text": "1.000",
          "x": 0.55,
          "xanchor": "left",
          "xref": "x",
          "y": 16,
          "yref": "y"
         },
         {
          "align": "left",
          "font": {
           "color": "#000000"
          },
          "showarrow": false,
          "text": "AMC_yearly vs sigma2",
          "x": -0.45,
          "xanchor": "left",
          "xref": "x",
          "y": 17,
          "yref": "y"
         },
         {
          "align": "left",
          "font": {
           "color": "#000000"
          },
          "showarrow": false,
          "text": "0.672",
          "x": 0.55,
          "xanchor": "left",
          "xref": "x",
          "y": 17,
          "yref": "y"
         },
         {
          "align": "left",
          "font": {
           "color": "#000000"
          },
          "showarrow": false,
          "text": "AMC_yearly vs sigma3",
          "x": -0.45,
          "xanchor": "left",
          "xref": "x",
          "y": 18,
          "yref": "y"
         },
         {
          "align": "left",
          "font": {
           "color": "#000000"
          },
          "showarrow": false,
          "text": "0.672",
          "x": 0.55,
          "xanchor": "left",
          "xref": "x",
          "y": 18,
          "yref": "y"
         },
         {
          "align": "left",
          "font": {
           "color": "#000000"
          },
          "showarrow": false,
          "text": "AMC_yearly vs sigma4",
          "x": -0.45,
          "xanchor": "left",
          "xref": "x",
          "y": 19,
          "yref": "y"
         },
         {
          "align": "left",
          "font": {
           "color": "#000000"
          },
          "showarrow": false,
          "text": "0.672",
          "x": 0.55,
          "xanchor": "left",
          "xref": "x",
          "y": 19,
          "yref": "y"
         },
         {
          "align": "left",
          "font": {
           "color": "#000000"
          },
          "showarrow": false,
          "text": "sigma1 vs sigma2",
          "x": -0.45,
          "xanchor": "left",
          "xref": "x",
          "y": 20,
          "yref": "y"
         },
         {
          "align": "left",
          "font": {
           "color": "#000000"
          },
          "showarrow": false,
          "text": "1.000",
          "x": 0.55,
          "xanchor": "left",
          "xref": "x",
          "y": 20,
          "yref": "y"
         },
         {
          "align": "left",
          "font": {
           "color": "#000000"
          },
          "showarrow": false,
          "text": "sigma3 vs sigma4",
          "x": -0.45,
          "xanchor": "left",
          "xref": "x",
          "y": 21,
          "yref": "y"
         },
         {
          "align": "left",
          "font": {
           "color": "#000000"
          },
          "showarrow": false,
          "text": "0.400",
          "x": 0.55,
          "xanchor": "left",
          "xref": "x",
          "y": 21,
          "yref": "y"
         }
        ],
        "height": 710,
        "margin": {
         "b": 0,
         "l": 0,
         "r": 0,
         "t": 0
        },
        "template": {
         "data": {
          "bar": [
           {
            "error_x": {
             "color": "#2a3f5f"
            },
            "error_y": {
             "color": "#2a3f5f"
            },
            "marker": {
             "line": {
              "color": "#E5ECF6",
              "width": 0.5
             },
             "pattern": {
              "fillmode": "overlay",
              "size": 10,
              "solidity": 0.2
             }
            },
            "type": "bar"
           }
          ],
          "barpolar": [
           {
            "marker": {
             "line": {
              "color": "#E5ECF6",
              "width": 0.5
             },
             "pattern": {
              "fillmode": "overlay",
              "size": 10,
              "solidity": 0.2
             }
            },
            "type": "barpolar"
           }
          ],
          "carpet": [
           {
            "aaxis": {
             "endlinecolor": "#2a3f5f",
             "gridcolor": "white",
             "linecolor": "white",
             "minorgridcolor": "white",
             "startlinecolor": "#2a3f5f"
            },
            "baxis": {
             "endlinecolor": "#2a3f5f",
             "gridcolor": "white",
             "linecolor": "white",
             "minorgridcolor": "white",
             "startlinecolor": "#2a3f5f"
            },
            "type": "carpet"
           }
          ],
          "choropleth": [
           {
            "colorbar": {
             "outlinewidth": 0,
             "ticks": ""
            },
            "type": "choropleth"
           }
          ],
          "contour": [
           {
            "colorbar": {
             "outlinewidth": 0,
             "ticks": ""
            },
            "colorscale": [
             [
              0,
              "#0d0887"
             ],
             [
              0.1111111111111111,
              "#46039f"
             ],
             [
              0.2222222222222222,
              "#7201a8"
             ],
             [
              0.3333333333333333,
              "#9c179e"
             ],
             [
              0.4444444444444444,
              "#bd3786"
             ],
             [
              0.5555555555555556,
              "#d8576b"
             ],
             [
              0.6666666666666666,
              "#ed7953"
             ],
             [
              0.7777777777777778,
              "#fb9f3a"
             ],
             [
              0.8888888888888888,
              "#fdca26"
             ],
             [
              1,
              "#f0f921"
             ]
            ],
            "type": "contour"
           }
          ],
          "contourcarpet": [
           {
            "colorbar": {
             "outlinewidth": 0,
             "ticks": ""
            },
            "type": "contourcarpet"
           }
          ],
          "heatmap": [
           {
            "colorbar": {
             "outlinewidth": 0,
             "ticks": ""
            },
            "colorscale": [
             [
              0,
              "#0d0887"
             ],
             [
              0.1111111111111111,
              "#46039f"
             ],
             [
              0.2222222222222222,
              "#7201a8"
             ],
             [
              0.3333333333333333,
              "#9c179e"
             ],
             [
              0.4444444444444444,
              "#bd3786"
             ],
             [
              0.5555555555555556,
              "#d8576b"
             ],
             [
              0.6666666666666666,
              "#ed7953"
             ],
             [
              0.7777777777777778,
              "#fb9f3a"
             ],
             [
              0.8888888888888888,
              "#fdca26"
             ],
             [
              1,
              "#f0f921"
             ]
            ],
            "type": "heatmap"
           }
          ],
          "heatmapgl": [
           {
            "colorbar": {
             "outlinewidth": 0,
             "ticks": ""
            },
            "colorscale": [
             [
              0,
              "#0d0887"
             ],
             [
              0.1111111111111111,
              "#46039f"
             ],
             [
              0.2222222222222222,
              "#7201a8"
             ],
             [
              0.3333333333333333,
              "#9c179e"
             ],
             [
              0.4444444444444444,
              "#bd3786"
             ],
             [
              0.5555555555555556,
              "#d8576b"
             ],
             [
              0.6666666666666666,
              "#ed7953"
             ],
             [
              0.7777777777777778,
              "#fb9f3a"
             ],
             [
              0.8888888888888888,
              "#fdca26"
             ],
             [
              1,
              "#f0f921"
             ]
            ],
            "type": "heatmapgl"
           }
          ],
          "histogram": [
           {
            "marker": {
             "pattern": {
              "fillmode": "overlay",
              "size": 10,
              "solidity": 0.2
             }
            },
            "type": "histogram"
           }
          ],
          "histogram2d": [
           {
            "colorbar": {
             "outlinewidth": 0,
             "ticks": ""
            },
            "colorscale": [
             [
              0,
              "#0d0887"
             ],
             [
              0.1111111111111111,
              "#46039f"
             ],
             [
              0.2222222222222222,
              "#7201a8"
             ],
             [
              0.3333333333333333,
              "#9c179e"
             ],
             [
              0.4444444444444444,
              "#bd3786"
             ],
             [
              0.5555555555555556,
              "#d8576b"
             ],
             [
              0.6666666666666666,
              "#ed7953"
             ],
             [
              0.7777777777777778,
              "#fb9f3a"
             ],
             [
              0.8888888888888888,
              "#fdca26"
             ],
             [
              1,
              "#f0f921"
             ]
            ],
            "type": "histogram2d"
           }
          ],
          "histogram2dcontour": [
           {
            "colorbar": {
             "outlinewidth": 0,
             "ticks": ""
            },
            "colorscale": [
             [
              0,
              "#0d0887"
             ],
             [
              0.1111111111111111,
              "#46039f"
             ],
             [
              0.2222222222222222,
              "#7201a8"
             ],
             [
              0.3333333333333333,
              "#9c179e"
             ],
             [
              0.4444444444444444,
              "#bd3786"
             ],
             [
              0.5555555555555556,
              "#d8576b"
             ],
             [
              0.6666666666666666,
              "#ed7953"
             ],
             [
              0.7777777777777778,
              "#fb9f3a"
             ],
             [
              0.8888888888888888,
              "#fdca26"
             ],
             [
              1,
              "#f0f921"
             ]
            ],
            "type": "histogram2dcontour"
           }
          ],
          "mesh3d": [
           {
            "colorbar": {
             "outlinewidth": 0,
             "ticks": ""
            },
            "type": "mesh3d"
           }
          ],
          "parcoords": [
           {
            "line": {
             "colorbar": {
              "outlinewidth": 0,
              "ticks": ""
             }
            },
            "type": "parcoords"
           }
          ],
          "pie": [
           {
            "automargin": true,
            "type": "pie"
           }
          ],
          "scatter": [
           {
            "marker": {
             "colorbar": {
              "outlinewidth": 0,
              "ticks": ""
             }
            },
            "type": "scatter"
           }
          ],
          "scatter3d": [
           {
            "line": {
             "colorbar": {
              "outlinewidth": 0,
              "ticks": ""
             }
            },
            "marker": {
             "colorbar": {
              "outlinewidth": 0,
              "ticks": ""
             }
            },
            "type": "scatter3d"
           }
          ],
          "scattercarpet": [
           {
            "marker": {
             "colorbar": {
              "outlinewidth": 0,
              "ticks": ""
             }
            },
            "type": "scattercarpet"
           }
          ],
          "scattergeo": [
           {
            "marker": {
             "colorbar": {
              "outlinewidth": 0,
              "ticks": ""
             }
            },
            "type": "scattergeo"
           }
          ],
          "scattergl": [
           {
            "marker": {
             "colorbar": {
              "outlinewidth": 0,
              "ticks": ""
             }
            },
            "type": "scattergl"
           }
          ],
          "scattermapbox": [
           {
            "marker": {
             "colorbar": {
              "outlinewidth": 0,
              "ticks": ""
             }
            },
            "type": "scattermapbox"
           }
          ],
          "scatterpolar": [
           {
            "marker": {
             "colorbar": {
              "outlinewidth": 0,
              "ticks": ""
             }
            },
            "type": "scatterpolar"
           }
          ],
          "scatterpolargl": [
           {
            "marker": {
             "colorbar": {
              "outlinewidth": 0,
              "ticks": ""
             }
            },
            "type": "scatterpolargl"
           }
          ],
          "scatterternary": [
           {
            "marker": {
             "colorbar": {
              "outlinewidth": 0,
              "ticks": ""
             }
            },
            "type": "scatterternary"
           }
          ],
          "surface": [
           {
            "colorbar": {
             "outlinewidth": 0,
             "ticks": ""
            },
            "colorscale": [
             [
              0,
              "#0d0887"
             ],
             [
              0.1111111111111111,
              "#46039f"
             ],
             [
              0.2222222222222222,
              "#7201a8"
             ],
             [
              0.3333333333333333,
              "#9c179e"
             ],
             [
              0.4444444444444444,
              "#bd3786"
             ],
             [
              0.5555555555555556,
              "#d8576b"
             ],
             [
              0.6666666666666666,
              "#ed7953"
             ],
             [
              0.7777777777777778,
              "#fb9f3a"
             ],
             [
              0.8888888888888888,
              "#fdca26"
             ],
             [
              1,
              "#f0f921"
             ]
            ],
            "type": "surface"
           }
          ],
          "table": [
           {
            "cells": {
             "fill": {
              "color": "#EBF0F8"
             },
             "line": {
              "color": "white"
             }
            },
            "header": {
             "fill": {
              "color": "#C8D4E3"
             },
             "line": {
              "color": "white"
             }
            },
            "type": "table"
           }
          ]
         },
         "layout": {
          "annotationdefaults": {
           "arrowcolor": "#2a3f5f",
           "arrowhead": 0,
           "arrowwidth": 1
          },
          "autotypenumbers": "strict",
          "coloraxis": {
           "colorbar": {
            "outlinewidth": 0,
            "ticks": ""
           }
          },
          "colorscale": {
           "diverging": [
            [
             0,
             "#8e0152"
            ],
            [
             0.1,
             "#c51b7d"
            ],
            [
             0.2,
             "#de77ae"
            ],
            [
             0.3,
             "#f1b6da"
            ],
            [
             0.4,
             "#fde0ef"
            ],
            [
             0.5,
             "#f7f7f7"
            ],
            [
             0.6,
             "#e6f5d0"
            ],
            [
             0.7,
             "#b8e186"
            ],
            [
             0.8,
             "#7fbc41"
            ],
            [
             0.9,
             "#4d9221"
            ],
            [
             1,
             "#276419"
            ]
           ],
           "sequential": [
            [
             0,
             "#0d0887"
            ],
            [
             0.1111111111111111,
             "#46039f"
            ],
            [
             0.2222222222222222,
             "#7201a8"
            ],
            [
             0.3333333333333333,
             "#9c179e"
            ],
            [
             0.4444444444444444,
             "#bd3786"
            ],
            [
             0.5555555555555556,
             "#d8576b"
            ],
            [
             0.6666666666666666,
             "#ed7953"
            ],
            [
             0.7777777777777778,
             "#fb9f3a"
            ],
            [
             0.8888888888888888,
             "#fdca26"
            ],
            [
             1,
             "#f0f921"
            ]
           ],
           "sequentialminus": [
            [
             0,
             "#0d0887"
            ],
            [
             0.1111111111111111,
             "#46039f"
            ],
            [
             0.2222222222222222,
             "#7201a8"
            ],
            [
             0.3333333333333333,
             "#9c179e"
            ],
            [
             0.4444444444444444,
             "#bd3786"
            ],
            [
             0.5555555555555556,
             "#d8576b"
            ],
            [
             0.6666666666666666,
             "#ed7953"
            ],
            [
             0.7777777777777778,
             "#fb9f3a"
            ],
            [
             0.8888888888888888,
             "#fdca26"
            ],
            [
             1,
             "#f0f921"
            ]
           ]
          },
          "colorway": [
           "#636efa",
           "#EF553B",
           "#00cc96",
           "#ab63fa",
           "#FFA15A",
           "#19d3f3",
           "#FF6692",
           "#B6E880",
           "#FF97FF",
           "#FECB52"
          ],
          "font": {
           "color": "#2a3f5f"
          },
          "geo": {
           "bgcolor": "white",
           "lakecolor": "white",
           "landcolor": "#E5ECF6",
           "showlakes": true,
           "showland": true,
           "subunitcolor": "white"
          },
          "hoverlabel": {
           "align": "left"
          },
          "hovermode": "closest",
          "mapbox": {
           "style": "light"
          },
          "paper_bgcolor": "white",
          "plot_bgcolor": "#E5ECF6",
          "polar": {
           "angularaxis": {
            "gridcolor": "white",
            "linecolor": "white",
            "ticks": ""
           },
           "bgcolor": "#E5ECF6",
           "radialaxis": {
            "gridcolor": "white",
            "linecolor": "white",
            "ticks": ""
           }
          },
          "scene": {
           "xaxis": {
            "backgroundcolor": "#E5ECF6",
            "gridcolor": "white",
            "gridwidth": 2,
            "linecolor": "white",
            "showbackground": true,
            "ticks": "",
            "zerolinecolor": "white"
           },
           "yaxis": {
            "backgroundcolor": "#E5ECF6",
            "gridcolor": "white",
            "gridwidth": 2,
            "linecolor": "white",
            "showbackground": true,
            "ticks": "",
            "zerolinecolor": "white"
           },
           "zaxis": {
            "backgroundcolor": "#E5ECF6",
            "gridcolor": "white",
            "gridwidth": 2,
            "linecolor": "white",
            "showbackground": true,
            "ticks": "",
            "zerolinecolor": "white"
           }
          },
          "shapedefaults": {
           "line": {
            "color": "#2a3f5f"
           }
          },
          "ternary": {
           "aaxis": {
            "gridcolor": "white",
            "linecolor": "white",
            "ticks": ""
           },
           "baxis": {
            "gridcolor": "white",
            "linecolor": "white",
            "ticks": ""
           },
           "bgcolor": "#E5ECF6",
           "caxis": {
            "gridcolor": "white",
            "linecolor": "white",
            "ticks": ""
           }
          },
          "title": {
           "x": 0.05
          },
          "xaxis": {
           "automargin": true,
           "gridcolor": "white",
           "linecolor": "white",
           "ticks": "",
           "title": {
            "standoff": 15
           },
           "zerolinecolor": "white",
           "zerolinewidth": 2
          },
          "yaxis": {
           "automargin": true,
           "gridcolor": "white",
           "linecolor": "white",
           "ticks": "",
           "title": {
            "standoff": 15
           },
           "zerolinecolor": "white",
           "zerolinewidth": 2
          }
         }
        },
        "xaxis": {
         "dtick": 1,
         "gridwidth": 2,
         "showticklabels": false,
         "tick0": -0.5,
         "ticks": "",
         "zeroline": false
        },
        "yaxis": {
         "autorange": "reversed",
         "dtick": 1,
         "gridwidth": 2,
         "showticklabels": false,
         "tick0": 0.5,
         "ticks": "",
         "zeroline": false
        }
       }
      },
      "text/html": [
       "<div>                            <div id=\"d8137bc1-48cc-40dd-a9eb-9b210de51ad4\" class=\"plotly-graph-div\" style=\"height:710px; width:100%;\"></div>            <script type=\"text/javascript\">                require([\"plotly\"], function(Plotly) {                    window.PLOTLYENV=window.PLOTLYENV || {};                                    if (document.getElementById(\"d8137bc1-48cc-40dd-a9eb-9b210de51ad4\")) {                    Plotly.newPlot(                        \"d8137bc1-48cc-40dd-a9eb-9b210de51ad4\",                        [{\"colorscale\":[[0,\"#00083e\"],[0.5,\"#ededee\"],[1,\"#ffffff\"]],\"hoverinfo\":\"none\",\"opacity\":0.75,\"showscale\":false,\"z\":[[0,0],[0.5,0.5],[1,1],[0.5,0.5],[1,1],[0.5,0.5],[1,1],[0.5,0.5],[1,1],[0.5,0.5],[1,1],[0.5,0.5],[1,1],[0.5,0.5],[1,1],[0.5,0.5],[1,1],[0.5,0.5],[1,1],[0.5,0.5],[1,1],[0.5,0.5]],\"type\":\"heatmap\"}],                        {\"annotations\":[{\"align\":\"left\",\"font\":{\"color\":\"#ffffff\"},\"showarrow\":false,\"text\":\"<b>Features</b>\",\"x\":-0.45,\"xanchor\":\"left\",\"xref\":\"x\",\"y\":0,\"yref\":\"y\"},{\"align\":\"left\",\"font\":{\"color\":\"#ffffff\"},\"showarrow\":false,\"text\":\"<b>Silhouette Score</b>\",\"x\":0.55,\"xanchor\":\"left\",\"xref\":\"x\",\"y\":0,\"yref\":\"y\"},{\"align\":\"left\",\"font\":{\"color\":\"#000000\"},\"showarrow\":false,\"text\":\"A1 vs AMC_winter\",\"x\":-0.45,\"xanchor\":\"left\",\"xref\":\"x\",\"y\":1,\"yref\":\"y\"},{\"align\":\"left\",\"font\":{\"color\":\"#000000\"},\"showarrow\":false,\"text\":\"0.708\",\"x\":0.55,\"xanchor\":\"left\",\"xref\":\"x\",\"y\":1,\"yref\":\"y\"},{\"align\":\"left\",\"font\":{\"color\":\"#000000\"},\"showarrow\":false,\"text\":\"A1 vs AMC_yearly\",\"x\":-0.45,\"xanchor\":\"left\",\"xref\":\"x\",\"y\":2,\"yref\":\"y\"},{\"align\":\"left\",\"font\":{\"color\":\"#000000\"},\"showarrow\":false,\"text\":\"0.672\",\"x\":0.55,\"xanchor\":\"left\",\"xref\":\"x\",\"y\":2,\"yref\":\"y\"},{\"align\":\"left\",\"font\":{\"color\":\"#000000\"},\"showarrow\":false,\"text\":\"A1 vs floor_area\",\"x\":-0.45,\"xanchor\":\"left\",\"xref\":\"x\",\"y\":3,\"yref\":\"y\"},{\"align\":\"left\",\"font\":{\"color\":\"#000000\"},\"showarrow\":false,\"text\":\"0.797\",\"x\":0.55,\"xanchor\":\"left\",\"xref\":\"x\",\"y\":3,\"yref\":\"y\"},{\"align\":\"left\",\"font\":{\"color\":\"#000000\"},\"showarrow\":false,\"text\":\"A1 vs monthly_income\",\"x\":-0.45,\"xanchor\":\"left\",\"xref\":\"x\",\"y\":4,\"yref\":\"y\"},{\"align\":\"left\",\"font\":{\"color\":\"#000000\"},\"showarrow\":false,\"text\":\"0.874\",\"x\":0.55,\"xanchor\":\"left\",\"xref\":\"x\",\"y\":4,\"yref\":\"y\"},{\"align\":\"left\",\"font\":{\"color\":\"#000000\"},\"showarrow\":false,\"text\":\"A1 vs sigma1\",\"x\":-0.45,\"xanchor\":\"left\",\"xref\":\"x\",\"y\":5,\"yref\":\"y\"},{\"align\":\"left\",\"font\":{\"color\":\"#000000\"},\"showarrow\":false,\"text\":\"1.000\",\"x\":0.55,\"xanchor\":\"left\",\"xref\":\"x\",\"y\":5,\"yref\":\"y\"},{\"align\":\"left\",\"font\":{\"color\":\"#000000\"},\"showarrow\":false,\"text\":\"A1 vs sigma2\",\"x\":-0.45,\"xanchor\":\"left\",\"xref\":\"x\",\"y\":6,\"yref\":\"y\"},{\"align\":\"left\",\"font\":{\"color\":\"#000000\"},\"showarrow\":false,\"text\":\"0.636\",\"x\":0.55,\"xanchor\":\"left\",\"xref\":\"x\",\"y\":6,\"yref\":\"y\"},{\"align\":\"left\",\"font\":{\"color\":\"#000000\"},\"showarrow\":false,\"text\":\"A2 vs A1\",\"x\":-0.45,\"xanchor\":\"left\",\"xref\":\"x\",\"y\":7,\"yref\":\"y\"},{\"align\":\"left\",\"font\":{\"color\":\"#000000\"},\"showarrow\":false,\"text\":\"0.650\",\"x\":0.55,\"xanchor\":\"left\",\"xref\":\"x\",\"y\":7,\"yref\":\"y\"},{\"align\":\"left\",\"font\":{\"color\":\"#000000\"},\"showarrow\":false,\"text\":\"A2 vs AMC_winter\",\"x\":-0.45,\"xanchor\":\"left\",\"xref\":\"x\",\"y\":8,\"yref\":\"y\"},{\"align\":\"left\",\"font\":{\"color\":\"#000000\"},\"showarrow\":false,\"text\":\"0.708\",\"x\":0.55,\"xanchor\":\"left\",\"xref\":\"x\",\"y\":8,\"yref\":\"y\"},{\"align\":\"left\",\"font\":{\"color\":\"#000000\"},\"showarrow\":false,\"text\":\"A2 vs AMC_yearly\",\"x\":-0.45,\"xanchor\":\"left\",\"xref\":\"x\",\"y\":9,\"yref\":\"y\"},{\"align\":\"left\",\"font\":{\"color\":\"#000000\"},\"showarrow\":false,\"text\":\"0.672\",\"x\":0.55,\"xanchor\":\"left\",\"xref\":\"x\",\"y\":9,\"yref\":\"y\"},{\"align\":\"left\",\"font\":{\"color\":\"#000000\"},\"showarrow\":false,\"text\":\"A2 vs floor_area\",\"x\":-0.45,\"xanchor\":\"left\",\"xref\":\"x\",\"y\":10,\"yref\":\"y\"},{\"align\":\"left\",\"font\":{\"color\":\"#000000\"},\"showarrow\":false,\"text\":\"0.797\",\"x\":0.55,\"xanchor\":\"left\",\"xref\":\"x\",\"y\":10,\"yref\":\"y\"},{\"align\":\"left\",\"font\":{\"color\":\"#000000\"},\"showarrow\":false,\"text\":\"A2 vs monthly_income\",\"x\":-0.45,\"xanchor\":\"left\",\"xref\":\"x\",\"y\":11,\"yref\":\"y\"},{\"align\":\"left\",\"font\":{\"color\":\"#000000\"},\"showarrow\":false,\"text\":\"0.874\",\"x\":0.55,\"xanchor\":\"left\",\"xref\":\"x\",\"y\":11,\"yref\":\"y\"},{\"align\":\"left\",\"font\":{\"color\":\"#000000\"},\"showarrow\":false,\"text\":\"A2 vs sigma3\",\"x\":-0.45,\"xanchor\":\"left\",\"xref\":\"x\",\"y\":12,\"yref\":\"y\"},{\"align\":\"left\",\"font\":{\"color\":\"#000000\"},\"showarrow\":false,\"text\":\"0.634\",\"x\":0.55,\"xanchor\":\"left\",\"xref\":\"x\",\"y\":12,\"yref\":\"y\"},{\"align\":\"left\",\"font\":{\"color\":\"#000000\"},\"showarrow\":false,\"text\":\"A2 vs sigma4\",\"x\":-0.45,\"xanchor\":\"left\",\"xref\":\"x\",\"y\":13,\"yref\":\"y\"},{\"align\":\"left\",\"font\":{\"color\":\"#000000\"},\"showarrow\":false,\"text\":\"0.652\",\"x\":0.55,\"xanchor\":\"left\",\"xref\":\"x\",\"y\":13,\"yref\":\"y\"},{\"align\":\"left\",\"font\":{\"color\":\"#000000\"},\"showarrow\":false,\"text\":\"AMC_yearly vs floor_area\",\"x\":-0.45,\"xanchor\":\"left\",\"xref\":\"x\",\"y\":14,\"yref\":\"y\"},{\"align\":\"left\",\"font\":{\"color\":\"#000000\"},\"showarrow\":false,\"text\":\"0.637\",\"x\":0.55,\"xanchor\":\"left\",\"xref\":\"x\",\"y\":14,\"yref\":\"y\"},{\"align\":\"left\",\"font\":{\"color\":\"#000000\"},\"showarrow\":false,\"text\":\"AMC_yearly vs monthly_income\",\"x\":-0.45,\"xanchor\":\"left\",\"xref\":\"x\",\"y\":15,\"yref\":\"y\"},{\"align\":\"left\",\"font\":{\"color\":\"#000000\"},\"showarrow\":false,\"text\":\"0.873\",\"x\":0.55,\"xanchor\":\"left\",\"xref\":\"x\",\"y\":15,\"yref\":\"y\"},{\"align\":\"left\",\"font\":{\"color\":\"#000000\"},\"showarrow\":false,\"text\":\"AMC_yearly vs sigma1\",\"x\":-0.45,\"xanchor\":\"left\",\"xref\":\"x\",\"y\":16,\"yref\":\"y\"},{\"align\":\"left\",\"font\":{\"color\":\"#000000\"},\"showarrow\":false,\"text\":\"1.000\",\"x\":0.55,\"xanchor\":\"left\",\"xref\":\"x\",\"y\":16,\"yref\":\"y\"},{\"align\":\"left\",\"font\":{\"color\":\"#000000\"},\"showarrow\":false,\"text\":\"AMC_yearly vs sigma2\",\"x\":-0.45,\"xanchor\":\"left\",\"xref\":\"x\",\"y\":17,\"yref\":\"y\"},{\"align\":\"left\",\"font\":{\"color\":\"#000000\"},\"showarrow\":false,\"text\":\"0.672\",\"x\":0.55,\"xanchor\":\"left\",\"xref\":\"x\",\"y\":17,\"yref\":\"y\"},{\"align\":\"left\",\"font\":{\"color\":\"#000000\"},\"showarrow\":false,\"text\":\"AMC_yearly vs sigma3\",\"x\":-0.45,\"xanchor\":\"left\",\"xref\":\"x\",\"y\":18,\"yref\":\"y\"},{\"align\":\"left\",\"font\":{\"color\":\"#000000\"},\"showarrow\":false,\"text\":\"0.672\",\"x\":0.55,\"xanchor\":\"left\",\"xref\":\"x\",\"y\":18,\"yref\":\"y\"},{\"align\":\"left\",\"font\":{\"color\":\"#000000\"},\"showarrow\":false,\"text\":\"AMC_yearly vs sigma4\",\"x\":-0.45,\"xanchor\":\"left\",\"xref\":\"x\",\"y\":19,\"yref\":\"y\"},{\"align\":\"left\",\"font\":{\"color\":\"#000000\"},\"showarrow\":false,\"text\":\"0.672\",\"x\":0.55,\"xanchor\":\"left\",\"xref\":\"x\",\"y\":19,\"yref\":\"y\"},{\"align\":\"left\",\"font\":{\"color\":\"#000000\"},\"showarrow\":false,\"text\":\"sigma1 vs sigma2\",\"x\":-0.45,\"xanchor\":\"left\",\"xref\":\"x\",\"y\":20,\"yref\":\"y\"},{\"align\":\"left\",\"font\":{\"color\":\"#000000\"},\"showarrow\":false,\"text\":\"1.000\",\"x\":0.55,\"xanchor\":\"left\",\"xref\":\"x\",\"y\":20,\"yref\":\"y\"},{\"align\":\"left\",\"font\":{\"color\":\"#000000\"},\"showarrow\":false,\"text\":\"sigma3 vs sigma4\",\"x\":-0.45,\"xanchor\":\"left\",\"xref\":\"x\",\"y\":21,\"yref\":\"y\"},{\"align\":\"left\",\"font\":{\"color\":\"#000000\"},\"showarrow\":false,\"text\":\"0.400\",\"x\":0.55,\"xanchor\":\"left\",\"xref\":\"x\",\"y\":21,\"yref\":\"y\"}],\"height\":710,\"margin\":{\"b\":0,\"l\":0,\"r\":0,\"t\":0},\"xaxis\":{\"dtick\":1,\"gridwidth\":2,\"showticklabels\":false,\"tick0\":-0.5,\"ticks\":\"\",\"zeroline\":false},\"yaxis\":{\"autorange\":\"reversed\",\"dtick\":1,\"gridwidth\":2,\"showticklabels\":false,\"tick0\":0.5,\"ticks\":\"\",\"zeroline\":false},\"template\":{\"data\":{\"bar\":[{\"error_x\":{\"color\":\"#2a3f5f\"},\"error_y\":{\"color\":\"#2a3f5f\"},\"marker\":{\"line\":{\"color\":\"#E5ECF6\",\"width\":0.5},\"pattern\":{\"fillmode\":\"overlay\",\"size\":10,\"solidity\":0.2}},\"type\":\"bar\"}],\"barpolar\":[{\"marker\":{\"line\":{\"color\":\"#E5ECF6\",\"width\":0.5},\"pattern\":{\"fillmode\":\"overlay\",\"size\":10,\"solidity\":0.2}},\"type\":\"barpolar\"}],\"carpet\":[{\"aaxis\":{\"endlinecolor\":\"#2a3f5f\",\"gridcolor\":\"white\",\"linecolor\":\"white\",\"minorgridcolor\":\"white\",\"startlinecolor\":\"#2a3f5f\"},\"baxis\":{\"endlinecolor\":\"#2a3f5f\",\"gridcolor\":\"white\",\"linecolor\":\"white\",\"minorgridcolor\":\"white\",\"startlinecolor\":\"#2a3f5f\"},\"type\":\"carpet\"}],\"choropleth\":[{\"colorbar\":{\"outlinewidth\":0,\"ticks\":\"\"},\"type\":\"choropleth\"}],\"contour\":[{\"colorbar\":{\"outlinewidth\":0,\"ticks\":\"\"},\"colorscale\":[[0.0,\"#0d0887\"],[0.1111111111111111,\"#46039f\"],[0.2222222222222222,\"#7201a8\"],[0.3333333333333333,\"#9c179e\"],[0.4444444444444444,\"#bd3786\"],[0.5555555555555556,\"#d8576b\"],[0.6666666666666666,\"#ed7953\"],[0.7777777777777778,\"#fb9f3a\"],[0.8888888888888888,\"#fdca26\"],[1.0,\"#f0f921\"]],\"type\":\"contour\"}],\"contourcarpet\":[{\"colorbar\":{\"outlinewidth\":0,\"ticks\":\"\"},\"type\":\"contourcarpet\"}],\"heatmap\":[{\"colorbar\":{\"outlinewidth\":0,\"ticks\":\"\"},\"colorscale\":[[0.0,\"#0d0887\"],[0.1111111111111111,\"#46039f\"],[0.2222222222222222,\"#7201a8\"],[0.3333333333333333,\"#9c179e\"],[0.4444444444444444,\"#bd3786\"],[0.5555555555555556,\"#d8576b\"],[0.6666666666666666,\"#ed7953\"],[0.7777777777777778,\"#fb9f3a\"],[0.8888888888888888,\"#fdca26\"],[1.0,\"#f0f921\"]],\"type\":\"heatmap\"}],\"heatmapgl\":[{\"colorbar\":{\"outlinewidth\":0,\"ticks\":\"\"},\"colorscale\":[[0.0,\"#0d0887\"],[0.1111111111111111,\"#46039f\"],[0.2222222222222222,\"#7201a8\"],[0.3333333333333333,\"#9c179e\"],[0.4444444444444444,\"#bd3786\"],[0.5555555555555556,\"#d8576b\"],[0.6666666666666666,\"#ed7953\"],[0.7777777777777778,\"#fb9f3a\"],[0.8888888888888888,\"#fdca26\"],[1.0,\"#f0f921\"]],\"type\":\"heatmapgl\"}],\"histogram\":[{\"marker\":{\"pattern\":{\"fillmode\":\"overlay\",\"size\":10,\"solidity\":0.2}},\"type\":\"histogram\"}],\"histogram2d\":[{\"colorbar\":{\"outlinewidth\":0,\"ticks\":\"\"},\"colorscale\":[[0.0,\"#0d0887\"],[0.1111111111111111,\"#46039f\"],[0.2222222222222222,\"#7201a8\"],[0.3333333333333333,\"#9c179e\"],[0.4444444444444444,\"#bd3786\"],[0.5555555555555556,\"#d8576b\"],[0.6666666666666666,\"#ed7953\"],[0.7777777777777778,\"#fb9f3a\"],[0.8888888888888888,\"#fdca26\"],[1.0,\"#f0f921\"]],\"type\":\"histogram2d\"}],\"histogram2dcontour\":[{\"colorbar\":{\"outlinewidth\":0,\"ticks\":\"\"},\"colorscale\":[[0.0,\"#0d0887\"],[0.1111111111111111,\"#46039f\"],[0.2222222222222222,\"#7201a8\"],[0.3333333333333333,\"#9c179e\"],[0.4444444444444444,\"#bd3786\"],[0.5555555555555556,\"#d8576b\"],[0.6666666666666666,\"#ed7953\"],[0.7777777777777778,\"#fb9f3a\"],[0.8888888888888888,\"#fdca26\"],[1.0,\"#f0f921\"]],\"type\":\"histogram2dcontour\"}],\"mesh3d\":[{\"colorbar\":{\"outlinewidth\":0,\"ticks\":\"\"},\"type\":\"mesh3d\"}],\"parcoords\":[{\"line\":{\"colorbar\":{\"outlinewidth\":0,\"ticks\":\"\"}},\"type\":\"parcoords\"}],\"pie\":[{\"automargin\":true,\"type\":\"pie\"}],\"scatter\":[{\"marker\":{\"colorbar\":{\"outlinewidth\":0,\"ticks\":\"\"}},\"type\":\"scatter\"}],\"scatter3d\":[{\"line\":{\"colorbar\":{\"outlinewidth\":0,\"ticks\":\"\"}},\"marker\":{\"colorbar\":{\"outlinewidth\":0,\"ticks\":\"\"}},\"type\":\"scatter3d\"}],\"scattercarpet\":[{\"marker\":{\"colorbar\":{\"outlinewidth\":0,\"ticks\":\"\"}},\"type\":\"scattercarpet\"}],\"scattergeo\":[{\"marker\":{\"colorbar\":{\"outlinewidth\":0,\"ticks\":\"\"}},\"type\":\"scattergeo\"}],\"scattergl\":[{\"marker\":{\"colorbar\":{\"outlinewidth\":0,\"ticks\":\"\"}},\"type\":\"scattergl\"}],\"scattermapbox\":[{\"marker\":{\"colorbar\":{\"outlinewidth\":0,\"ticks\":\"\"}},\"type\":\"scattermapbox\"}],\"scatterpolar\":[{\"marker\":{\"colorbar\":{\"outlinewidth\":0,\"ticks\":\"\"}},\"type\":\"scatterpolar\"}],\"scatterpolargl\":[{\"marker\":{\"colorbar\":{\"outlinewidth\":0,\"ticks\":\"\"}},\"type\":\"scatterpolargl\"}],\"scatterternary\":[{\"marker\":{\"colorbar\":{\"outlinewidth\":0,\"ticks\":\"\"}},\"type\":\"scatterternary\"}],\"surface\":[{\"colorbar\":{\"outlinewidth\":0,\"ticks\":\"\"},\"colorscale\":[[0.0,\"#0d0887\"],[0.1111111111111111,\"#46039f\"],[0.2222222222222222,\"#7201a8\"],[0.3333333333333333,\"#9c179e\"],[0.4444444444444444,\"#bd3786\"],[0.5555555555555556,\"#d8576b\"],[0.6666666666666666,\"#ed7953\"],[0.7777777777777778,\"#fb9f3a\"],[0.8888888888888888,\"#fdca26\"],[1.0,\"#f0f921\"]],\"type\":\"surface\"}],\"table\":[{\"cells\":{\"fill\":{\"color\":\"#EBF0F8\"},\"line\":{\"color\":\"white\"}},\"header\":{\"fill\":{\"color\":\"#C8D4E3\"},\"line\":{\"color\":\"white\"}},\"type\":\"table\"}]},\"layout\":{\"annotationdefaults\":{\"arrowcolor\":\"#2a3f5f\",\"arrowhead\":0,\"arrowwidth\":1},\"autotypenumbers\":\"strict\",\"coloraxis\":{\"colorbar\":{\"outlinewidth\":0,\"ticks\":\"\"}},\"colorscale\":{\"diverging\":[[0,\"#8e0152\"],[0.1,\"#c51b7d\"],[0.2,\"#de77ae\"],[0.3,\"#f1b6da\"],[0.4,\"#fde0ef\"],[0.5,\"#f7f7f7\"],[0.6,\"#e6f5d0\"],[0.7,\"#b8e186\"],[0.8,\"#7fbc41\"],[0.9,\"#4d9221\"],[1,\"#276419\"]],\"sequential\":[[0.0,\"#0d0887\"],[0.1111111111111111,\"#46039f\"],[0.2222222222222222,\"#7201a8\"],[0.3333333333333333,\"#9c179e\"],[0.4444444444444444,\"#bd3786\"],[0.5555555555555556,\"#d8576b\"],[0.6666666666666666,\"#ed7953\"],[0.7777777777777778,\"#fb9f3a\"],[0.8888888888888888,\"#fdca26\"],[1.0,\"#f0f921\"]],\"sequentialminus\":[[0.0,\"#0d0887\"],[0.1111111111111111,\"#46039f\"],[0.2222222222222222,\"#7201a8\"],[0.3333333333333333,\"#9c179e\"],[0.4444444444444444,\"#bd3786\"],[0.5555555555555556,\"#d8576b\"],[0.6666666666666666,\"#ed7953\"],[0.7777777777777778,\"#fb9f3a\"],[0.8888888888888888,\"#fdca26\"],[1.0,\"#f0f921\"]]},\"colorway\":[\"#636efa\",\"#EF553B\",\"#00cc96\",\"#ab63fa\",\"#FFA15A\",\"#19d3f3\",\"#FF6692\",\"#B6E880\",\"#FF97FF\",\"#FECB52\"],\"font\":{\"color\":\"#2a3f5f\"},\"geo\":{\"bgcolor\":\"white\",\"lakecolor\":\"white\",\"landcolor\":\"#E5ECF6\",\"showlakes\":true,\"showland\":true,\"subunitcolor\":\"white\"},\"hoverlabel\":{\"align\":\"left\"},\"hovermode\":\"closest\",\"mapbox\":{\"style\":\"light\"},\"paper_bgcolor\":\"white\",\"plot_bgcolor\":\"#E5ECF6\",\"polar\":{\"angularaxis\":{\"gridcolor\":\"white\",\"linecolor\":\"white\",\"ticks\":\"\"},\"bgcolor\":\"#E5ECF6\",\"radialaxis\":{\"gridcolor\":\"white\",\"linecolor\":\"white\",\"ticks\":\"\"}},\"scene\":{\"xaxis\":{\"backgroundcolor\":\"#E5ECF6\",\"gridcolor\":\"white\",\"gridwidth\":2,\"linecolor\":\"white\",\"showbackground\":true,\"ticks\":\"\",\"zerolinecolor\":\"white\"},\"yaxis\":{\"backgroundcolor\":\"#E5ECF6\",\"gridcolor\":\"white\",\"gridwidth\":2,\"linecolor\":\"white\",\"showbackground\":true,\"ticks\":\"\",\"zerolinecolor\":\"white\"},\"zaxis\":{\"backgroundcolor\":\"#E5ECF6\",\"gridcolor\":\"white\",\"gridwidth\":2,\"linecolor\":\"white\",\"showbackground\":true,\"ticks\":\"\",\"zerolinecolor\":\"white\"}},\"shapedefaults\":{\"line\":{\"color\":\"#2a3f5f\"}},\"ternary\":{\"aaxis\":{\"gridcolor\":\"white\",\"linecolor\":\"white\",\"ticks\":\"\"},\"baxis\":{\"gridcolor\":\"white\",\"linecolor\":\"white\",\"ticks\":\"\"},\"bgcolor\":\"#E5ECF6\",\"caxis\":{\"gridcolor\":\"white\",\"linecolor\":\"white\",\"ticks\":\"\"}},\"title\":{\"x\":0.05},\"xaxis\":{\"automargin\":true,\"gridcolor\":\"white\",\"linecolor\":\"white\",\"ticks\":\"\",\"title\":{\"standoff\":15},\"zerolinecolor\":\"white\",\"zerolinewidth\":2},\"yaxis\":{\"automargin\":true,\"gridcolor\":\"white\",\"linecolor\":\"white\",\"ticks\":\"\",\"title\":{\"standoff\":15},\"zerolinecolor\":\"white\",\"zerolinewidth\":2}}}},                        {\"responsive\": true}                    ).then(function(){\n",
       "                            \n",
       "var gd = document.getElementById('d8137bc1-48cc-40dd-a9eb-9b210de51ad4');\n",
       "var x = new MutationObserver(function (mutations, observer) {{\n",
       "        var display = window.getComputedStyle(gd).display;\n",
       "        if (!display || display === 'none') {{\n",
       "            console.log([gd, 'removed!']);\n",
       "            Plotly.purge(gd);\n",
       "            observer.disconnect();\n",
       "        }}\n",
       "}});\n",
       "\n",
       "// Listen for the removal of the full notebook cells\n",
       "var notebookContainer = gd.closest('#notebook-container');\n",
       "if (notebookContainer) {{\n",
       "    x.observe(notebookContainer, {childList: true});\n",
       "}}\n",
       "\n",
       "// Listen for the clearing of the current output cell\n",
       "var outputEl = gd.closest('.output');\n",
       "if (outputEl) {{\n",
       "    x.observe(outputEl, {childList: true});\n",
       "}}\n",
       "\n",
       "                        })                };                });            </script>        </div>"
      ]
     },
     "metadata": {},
     "output_type": "display_data"
    }
   ],
   "source": [
    "# kmeans_df.reset_index('Features', inplace = True)\n",
    "\n",
    "kmeans_top_results = kmeans_df.groupby(['Features'])['Silhouette Score'].max()\n",
    "kmeans_top_results_df = kmeans_top_results.to_frame()\n",
    "\n",
    "kmeans_top_results_df.reset_index(inplace=True)\n",
    "\n",
    "import plotly.figure_factory as ff\n",
    "\n",
    "kmeans_top_results_df\n",
    "fig = ff.create_table(kmeans_top_results_df)\n",
    "fig.show()\n",
    "# # Save Fig\n",
    "fig.write_image('KMeans_SC_top_results.png')"
   ]
  },
  {
   "cell_type": "markdown",
   "metadata": {},
   "source": [
    "# Plot K-means cluster results"
   ]
  },
  {
   "cell_type": "code",
   "execution_count": 211,
   "metadata": {},
   "outputs": [],
   "source": [
    "encoded_df_filtered = encoded_df2[encoded_df2['monthly_income'] != 0.0].copy()"
   ]
  },
  {
   "cell_type": "code",
   "execution_count": 57,
   "metadata": {},
   "outputs": [
    {
     "data": {
      "image/png": "[encoded data removed]",
      "text/plain": [
       "<Figure size 1080x576 with 1 Axes>"
      ]
     },
     "metadata": {
      "needs_background": "light"
     },
     "output_type": "display_data"
    }
   ],
   "source": [
    "from sklearn.cluster import KMeans\n",
    "import numpy as np\n",
    "\n",
    "X = pd.DataFrame()\n",
    "# X = encoded_df_filtered.copy()\n",
    "\n",
    "# scale = 'log'\n",
    "scale = ''\n",
    "\n",
    "s2 = 'A2'\n",
    "s1 = 'AMC_yearly'\n",
    "X = encoded_df2[[s1,s2]].copy()\n",
    "# X[s1] = np.log(X[s1])\n",
    "# X[s2] = np.log(X[s2])\n",
    "\n",
    "\n",
    "# k means\n",
    "kmeans = KMeans(n_clusters=3, random_state=10)\n",
    "y_kmeans = kmeans.fit_predict(X)\n",
    "labels = kmeans.fit(X).labels_\n",
    "# get centroids\n",
    "centroids = kmeans.cluster_centers_\n",
    "SC = silhouette_score(X, labels)\n",
    "# print()\n",
    "\n",
    "fig, ax = plt.subplots(figsize =(15, 8))\n",
    "\n",
    "plt.scatter(X[y_kmeans==0][s1], X[y_kmeans==0][s2], s=25, c='red', label ='Cluster 1')\n",
    "plt.scatter(X[y_kmeans==1][s1], X[y_kmeans==1][s2], s=25, c='blue', label ='Cluster 2')\n",
    "plt.scatter(X[y_kmeans==2][s1], X[y_kmeans==2][s2], s=25, c='green', label ='Cluster 3')\n",
    "plt.scatter(X[y_kmeans==3][s1], X[y_kmeans==3][s2], s=25, c='cyan', label ='Cluster 4')\n",
    "# plt.scatter(X[y_kmeans==4]['sigma1'], X[y_kmeans==4]['sigma2'], s=100, c='magenta', label ='Cluster 5')\n",
    "# plt.scatter(X[y_kmeans==5]['sigma1'], X[y_kmeans==5]['sigma2'], s=100, c='purple', label ='Cluster 5')\n",
    "plt.legend([f'Silhouette Score = {SC:.3f}'])\n",
    "plt.rc('axes', titlesize=25) \n",
    "plt.rc('axes', labelsize=15)\n",
    "plt.title(\"Scatter plot: \" + s1 + ' vs.' + s2)\n",
    "ax.set_ylabel(s2 + '[' + scale +']')\n",
    "ax.set_xlabel(s1 + '[' + scale +']')\n",
    "# ax.set_yscale('log')\n",
    "# ax.set_xscale(\"log\")\n",
    "plt.show()\n",
    "\n",
    "# # Save Fig\n",
    "# fig.savefig('KMeans_' + scale +'_' + s1 + '_vs_' + s2 + '.png', dpi=72, bbox_inches='tight')\n",
    "# fig.savefig('KM_(nww)'+s1+'_vs_'+s2+'.png', dpi=72, bbox_inches='tight')\n"
   ]
  },
  {
   "cell_type": "code",
   "execution_count": 52,
   "metadata": {},
   "outputs": [],
   "source": [
    "AMC_Fit_df.to_csv('AMC_Fit_kmeans_dataframe.csv', index = True)"
   ]
  },
  {
   "cell_type": "code",
   "execution_count": 50,
   "metadata": {},
   "outputs": [],
   "source": [
    "AMC_Fit_df.set_index(['ProfileID'], inplace = True)"
   ]
  },
  {
   "cell_type": "markdown",
   "metadata": {},
   "source": [
    "## Create labeled dataframe"
   ]
  },
  {
   "cell_type": "markdown",
   "metadata": {},
   "source": [
    "# DBSCAN clustering"
   ]
  },
  {
   "cell_type": "code",
   "execution_count": 39,
   "metadata": {},
   "outputs": [],
   "source": [
    "# Import it!\n",
    "from dbscan2 import dbscan2\n",
    "from sklearn.datasets import make_moons"
   ]
  },
  {
   "cell_type": "code",
   "execution_count": 41,
   "metadata": {},
   "outputs": [],
   "source": [
    "# Create dataset\n",
    "# df = pd.read_csv('FitFeatures_1200_2500.csv',  header=[0, 1], index_col = 0)\n",
    "temp_df = data_clean['Morning']\n",
    "A = temp_df.iloc[:,[0,1]].to_numpy()"
   ]
  },
  {
   "cell_type": "code",
   "execution_count": 42,
   "metadata": {},
   "outputs": [],
   "source": [
    "dbscan_df = pd.DataFrame(columns = ['eps', 'n_clusters', 'Silhouette Coefficient'])\n",
    "\n",
    "for eps in np.arange(0.1,1,0.05):\n",
    "    min_samples = 3\n",
    "\n",
    "    # instantiating DBSCAN\n",
    "    dbscan = DBSCAN(eps=eps, min_samples=min_samples)\n",
    "    # fitting model\n",
    "    model = dbscan.fit(A)\n",
    "    labels = model.labels_\n",
    "\n",
    "    # identify core samples\n",
    "    core_samples = np.zeros_like(labels, dtype=bool)\n",
    "    core_samples[dbscan.core_sample_indices_] = True\n",
    "    # print(core_samples)\n",
    "\n",
    "    # declare the number of clusters\n",
    "    n_clusters_ = len(set(labels)) - (1 if -1 in labels else 0) \n",
    "    list_dbscan = [[eps,n_clusters_, metrics.silhouette_score(A, labels)]]\n",
    "    dbscan_df = dbscan_df.append(pd.DataFrame(list_dbscan, columns =  ['eps', 'n_clusters', 'Silhouette Coefficient']), ignore_index = True)        \n",
    "\n",
    "    # print(f'Number of clusters = {n_clusters_}')\n",
    "    # print(f\"eps = {eps}, min_smaples = {min_samples}\")\n",
    "    # print(\"Silhoette Coefficient: %0.3f\" % metrics.silhouette_score(A, labels))"
   ]
  },
  {
   "cell_type": "code",
   "execution_count": 44,
   "metadata": {},
   "outputs": [
    {
     "data": {
      "text/html": [
       "<div>\n",
       "<style scoped>\n",
       "    .dataframe tbody tr th:only-of-type {\n",
       "        vertical-align: middle;\n",
       "    }\n",
       "\n",
       "    .dataframe tbody tr th {\n",
       "        vertical-align: top;\n",
       "    }\n",
       "\n",
       "    .dataframe thead th {\n",
       "        text-align: right;\n",
       "    }\n",
       "</style>\n",
       "<table border=\"1\" class=\"dataframe\">\n",
       "  <thead>\n",
       "    <tr style=\"text-align: right;\">\n",
       "      <th></th>\n",
       "      <th>eps</th>\n",
       "      <th>n_clusters</th>\n",
       "      <th>Silhouette Coefficient</th>\n",
       "    </tr>\n",
       "  </thead>\n",
       "  <tbody>\n",
       "    <tr>\n",
       "      <th>17</th>\n",
       "      <td>0.95</td>\n",
       "      <td>2</td>\n",
       "      <td>0.820456</td>\n",
       "    </tr>\n",
       "  </tbody>\n",
       "</table>\n",
       "</div>"
      ],
      "text/plain": [
       "     eps n_clusters  Silhouette Coefficient\n",
       "17  0.95          2                0.820456"
      ]
     },
     "execution_count": 44,
     "metadata": {},
     "output_type": "execute_result"
    }
   ],
   "source": [
    "dbscan_df[dbscan_df['Silhouette Coefficient'] == dbscan_df[dbscan_df['n_clusters'] >= 2]['Silhouette Coefficient'].max()]"
   ]
  },
  {
   "cell_type": "code",
   "execution_count": 52,
   "metadata": {},
   "outputs": [
    {
     "data": {
      "image/png": "[encoded data removed]",
      "text/plain": [
       "<Figure size 1080x576 with 1 Axes>"
      ]
     },
     "metadata": {
      "needs_background": "light"
     },
     "output_type": "display_data"
    }
   ],
   "source": [
    "from sklearn.neighbors import NearestNeighbors # importing the library\n",
    "neighb = NearestNeighbors(n_neighbors=2) # creating an object of the NearestNeighbors class\n",
    "nbrs=neighb.fit(A) # fitting the data to the object\n",
    "distances,indices=nbrs.kneighbors(A) # finding the nearest neighbours\n",
    "%matplotlib inline\n",
    " \n",
    "fig = plt.figure(figsize=(15,8))\n",
    "\n",
    "# Sort and plot the distances results\n",
    "distances = np.sort(distances, axis = 0) # sorting the distances\n",
    "distances = distances[:, 1] # taking the second column of the sorted distances\n",
    "plt.rcParams['figure.figsize'] = (5,3) # setting the figure size\n",
    "plt.xlim(10050,10090)\n",
    "# plt.xticks(np.arange(9300,9400,5))\n",
    "# plt.yticks(np.arange(0,1,0.05))\n",
    "plt.plot(distances) # plotting the distances\n",
    "plt.show() # showing the plot"
   ]
  },
  {
   "cell_type": "markdown",
   "metadata": {},
   "source": [
    "# Gowers Distance"
   ]
  },
  {
   "cell_type": "code",
   "execution_count": 53,
   "metadata": {},
   "outputs": [],
   "source": [
    "from sklearn.neighbors import DistanceMetric\n",
    "import gower"
   ]
  },
  {
   "cell_type": "code",
   "execution_count": 408,
   "metadata": {},
   "outputs": [],
   "source": [
    "\n",
    "# from scipy.cluster.hierarchy import linkage, fcluster, dendrogram\n",
    "# dm = gower.gower_matrix(morning_DF)\n",
    "# Zd = linkage(dm)\n",
    "\n",
    "# cld = fcluster(Zd, 3, criterion='maxclust')\n",
    "# cld\n",
    "\n",
    "# dendrogram(Zd) "
   ]
  },
  {
   "cell_type": "markdown",
   "metadata": {},
   "source": [
    "# DBSCAN with Gowers Distance"
   ]
  },
  {
   "cell_type": "markdown",
   "metadata": {},
   "source": [
    "### 2-dimensional clustering, sigma1 & sigma2"
   ]
  },
  {
   "cell_type": "code",
   "execution_count": 464,
   "metadata": {},
   "outputs": [
    {
     "data": {
      "text/plain": [
       "5"
      ]
     },
     "execution_count": 464,
     "metadata": {},
     "output_type": "execute_result"
    }
   ],
   "source": [
    "X = pd.DataFrame()\n",
    "X = temp_df.copy()\n",
    "\n",
    "s1 = 'sigma1'\n",
    "s2 = 'sigma2'\n",
    "\n",
    "#normalize values in every column\n",
    "# X = (X-X.min())/ (X.max() - X.min())\n",
    "\n",
    "X[s1] = np.log(X[s1])\n",
    "X[s2] = np.log(X[s2])\n",
    "\n",
    "# Compute distance matrix\n",
    "distance_matrix = gower.gower_matrix(X)\n",
    "\n",
    "# Configuring the parameters of the clustering algorithm\n",
    "dbscan_cluster = DBSCAN(eps=0.042, \n",
    "                        min_samples=3, \n",
    "                        metric=\"precomputed\")\n",
    "\n",
    "# Fitting the clustering algorithm\n",
    "dbscan_cluster.fit(distance_matrix)\n",
    "\n",
    "# Adding the results to a new column in the dataframe\n",
    "X[\"cluster\"] = dbscan_cluster.labels_\n",
    "\n",
    "len(X['cluster'].unique())"
   ]
  },
  {
   "cell_type": "markdown",
   "metadata": {},
   "source": [
    "# Plot DBSCAN clusters Gowers Distance"
   ]
  },
  {
   "cell_type": "markdown",
   "metadata": {},
   "source": [
    "### Log values first"
   ]
  },
  {
   "cell_type": "code",
   "execution_count": 34,
   "metadata": {},
   "outputs": [
    {
     "data": {
      "image/png": "[encoded data removed]",
      "text/plain": [
       "<Figure size 720x504 with 1 Axes>"
      ]
     },
     "metadata": {
      "needs_background": "light"
     },
     "output_type": "display_data"
    }
   ],
   "source": [
    "X = pd.DataFrame()\n",
    "X = df.copy()\n",
    "\n",
    "s1 = 'mu1'\n",
    "s2 = 'A1'\n",
    "\n",
    "scale = 'log'\n",
    "# scale = ''\n",
    "\n",
    "X[s1] = np.log(X[s1])\n",
    "X[s2] = np.log(X[s2])\n",
    "# # DBSCAN\n",
    "# Compute distance matrix\n",
    "distance_matrix = gower.gower_matrix(X)\n",
    "\n",
    "# Configuring the parameters of the clustering algorithm\n",
    "dbscan_cluster = DBSCAN(eps=0.021, \n",
    "                        min_samples=6, \n",
    "                        metric=\"precomputed\")\n",
    "\n",
    "# Fitting the clustering algorithm\n",
    "y_dbscan = dbscan_cluster.fit(distance_matrix)\n",
    "\n",
    "# Adding the results to a new column in the dataframe\n",
    "# df['afternoon_sigma_labels'] = dbscan_cluster.labels_\n",
    "y_dbscan_labels = dbscan_cluster.labels_\n",
    "# k means\n",
    "# kmeans = KMeans(n_clusters=4, random_state=10)\n",
    "# y_kmeans = kmeans.fit_predict(X)\n",
    "# get centroids\n",
    "# centroids = kmeans.cluster_centers_\n",
    "\n",
    "fig, ax = plt.subplots(figsize =(10, 7))\n",
    "\n",
    "plt.scatter(X[y_dbscan_labels==0][s1], X[y_dbscan_labels==0][s2], s=50, c='red', label ='Cluster 1')\n",
    "plt.scatter(X[y_dbscan_labels==1][s1], X[y_dbscan_labels==1][s2], s=50, c='blue', label ='Cluster 2')\n",
    "plt.scatter(X[y_dbscan_labels==2][s1], X[y_dbscan_labels==2][s2], s=50, c='green', label ='Cluster 3')\n",
    "plt.scatter(X[y_dbscan_labels==3][s1], X[y_dbscan_labels==3][s2], s=50, c='cyan', label ='Cluster 4')\n",
    "plt.scatter(X[y_dbscan_labels==4][s1], X[y_dbscan_labels==4][s2], s=50, c='magenta', label ='Cluster 5')\n",
    "plt.scatter(X[y_dbscan_labels==5][s1], X[y_dbscan_labels==5][s2], s=50, c='purple', label ='Cluster 5')\n",
    "\n",
    "plt.rc('axes', titlesize=25) \n",
    "plt.rc('axes', labelsize=15)\n",
    "plt.title(\"Scatter plot: \" + s1 + ' vs.' + s2)\n",
    "ax.set_ylabel(s1 + \" [\" + scale + \"]\")\n",
    "ax.set_xlabel(s2 + \" [\" + scale + \"]\")\n",
    "# ax.set_yscale('log')\n",
    "# ax.set_xscale(\"log\")\n",
    "plt.show()\n",
    "# # Save Fig\n",
    "# fig.savefig('Scatter_plot_Morning_DBSCAN_'+ scale + '.png', dpi=72, bbox_inches='tight')"
   ]
  },
  {
   "cell_type": "markdown",
   "metadata": {},
   "source": [
    "### Normalize values first"
   ]
  },
  {
   "cell_type": "code",
   "execution_count": 324,
   "metadata": {},
   "outputs": [
    {
     "data": {
      "image/png": "[encoded data removed]",
      "text/plain": [
       "<Figure size 720x504 with 1 Axes>"
      ]
     },
     "metadata": {
      "needs_background": "light"
     },
     "output_type": "display_data"
    }
   ],
   "source": [
    "\n",
    "\n",
    "X = pd.DataFrame()\n",
    "X = temp_df.copy()\n",
    "\n",
    "s1 = 'sigma3'\n",
    "s2 = 'sigma4'\n",
    "\n",
    "#normalize values in every column\n",
    "# X = (X-X.min())/ (X.max() - X.min())\n",
    "X[s1] = np.log(X[s1])\n",
    "X[s2] = np.log(X[s2])\n",
    "\n",
    "# DBSCAN\n",
    "# Compute distance matrix\n",
    "distance_matrix = gower.gower_matrix(X)\n",
    "\n",
    "# Configuring the parameters of the clustering algorithm\n",
    "dbscan_cluster = DBSCAN(eps=0.021, \n",
    "                        min_samples=3, \n",
    "                        metric=\"precomputed\")\n",
    "\n",
    "# Fitting the clustering algorithm\n",
    "y_dbscan = dbscan_cluster.fit(distance_matrix)\n",
    "\n",
    "# Adding the results to a new column in the dataframe\n",
    "y_dbscan_labels = dbscan_cluster.labels_\n",
    "\n",
    "# k means\n",
    "# kmeans = KMeans(n_clusters=4, random_state=10)\n",
    "# y_kmeans = kmeans.fit_predict(X)\n",
    "# get centroids\n",
    "# centroids = kmeans.cluster_centers_\n",
    "\n",
    "fig, ax = plt.subplots(figsize =(10, 7))\n",
    "\n",
    "plt.scatter(X[y_dbscan_labels==0][s1], X[y_dbscan_labels==0][s2], s=50, c='red', label ='Cluster 1')\n",
    "plt.scatter(X[y_dbscan_labels==1][s1], X[y_dbscan_labels==1][s2], s=50, c='blue', label ='Cluster 2')\n",
    "plt.scatter(X[y_dbscan_labels==2][s1], X[y_dbscan_labels==2][s2], s=50, c='green', label ='Cluster 3')\n",
    "plt.scatter(X[y_dbscan_labels==3][s1], X[y_dbscan_labels==3][s2], s=50, c='cyan', label ='Cluster 4')\n",
    "plt.scatter(X[y_dbscan_labels==4][s1], X[y_dbscan_labels==4][s2], s=50, c='magenta', label ='Cluster 5')\n",
    "plt.scatter(X[y_dbscan_labels==5][s1], X[y_dbscan_labels==5][s2], s=50, c='purple', label ='Cluster 5')\n",
    "\n",
    "plt.rc('axes', titlesize=25) \n",
    "plt.rc('axes', labelsize=15)\n",
    "plt.title(\"Scatter plot: \" + s1 + ' vs.' + s2)\n",
    "ax.set_ylabel(s1 + \" [log scale]\")\n",
    "ax.set_xlabel(s2 + \" [log scale]\")\n",
    "# ax.set_yscale('log')\n",
    "# ax.set_xscale(\"log\")\n",
    "plt.show()\n",
    "# # Save Fig\n",
    "# fig.savefig('Scatter_plot_Afternoon_DBSCAN_log_scale.png', dpi=72, bbox_inches='tight')"
   ]
  },
  {
   "cell_type": "code",
   "execution_count": 246,
   "metadata": {},
   "outputs": [],
   "source": [
    "# morning_DF1,morning_DF2,morning_DF3,morning_DF4,morning_DF5,morning_DF6,morning_DF7,morning_DF8,morning_DF9 = [x for _, x in morning_DF.groupby('mu1')]"
   ]
  },
  {
   "cell_type": "code",
   "execution_count": 247,
   "metadata": {},
   "outputs": [],
   "source": [
    "\n",
    "# distance_matrix = gower.gower_matrix(morning_DF1)\n",
    "\n",
    "# # Configuring the parameters of the clustering algorithm\n",
    "# dbscan_cluster = DBSCAN(eps=0.036, \n",
    "#                         min_samples=3, \n",
    "#                         metric=\"precomputed\")\n",
    "\n",
    "# # Fitting the clustering algorithm\n",
    "# dbscan_cluster.fit(distance_matrix)\n",
    "\n",
    "# # Adding the results to a new column in the dataframe\n",
    "# morning_DF1[\"cluster\"] = dbscan_cluster.labels_\n",
    "\n",
    "# len(morning_DF1['cluster'].unique())"
   ]
  },
  {
   "cell_type": "markdown",
   "metadata": {},
   "source": [
    "# Clustering with OPTICS"
   ]
  },
  {
   "cell_type": "code",
   "execution_count": 599,
   "metadata": {},
   "outputs": [
    {
     "name": "stdout",
     "output_type": "stream",
     "text": [
      "Estimated no. of clusters: 14\n",
      "Estimated no. of noise points: 662\n"
     ]
    },
    {
     "data": {
      "image/png": "[encoded data removed]",
      "text/plain": [
       "<Figure size 1296x576 with 1 Axes>"
      ]
     },
     "metadata": {},
     "output_type": "display_data"
    }
   ],
   "source": [
    "from sklearn.datasets import make_blobs\n",
    "from sklearn.cluster import OPTICS\n",
    "import numpy as np\n",
    "import matplotlib.pyplot as plt\n",
    "import seaborn as sns\n",
    "\n",
    "# # Configuration options\n",
    "# num_samples_total = 1000\n",
    "# cluster_centers = [(3,3), (7,7)]\n",
    "# num_classes = len(cluster_centers)\n",
    "epsilon = 0.1\n",
    "min_samples = 8\n",
    "cluster_method = 'dbscan'\n",
    "metric = 'minkowski'\n",
    "\n",
    "# Generate data\n",
    "\n",
    "X = temp_df.copy()\n",
    "scale = ''\n",
    "# s1 = 'sigma1'\n",
    "# s2 = 'sigma2'\n",
    "\n",
    "# X[s1] = np.log(X[s1])\n",
    "# X[s2] = np.log(X[s2])\n",
    "\n",
    "# X = X.to_numpy()\n",
    "\n",
    "# Compute OPTICS\n",
    "db = OPTICS(max_eps=epsilon, min_samples=min_samples, cluster_method=cluster_method, metric=metric).fit(X)\n",
    "labels = db.labels_\n",
    "\n",
    "no_clusters = len(np.unique(labels) )\n",
    "no_noise = np.sum(np.array(labels) == -1, axis=0)\n",
    "\n",
    "print('Estimated no. of clusters: %d' % no_clusters)\n",
    "print('Estimated no. of noise points: %d' % no_noise)\n",
    "\n",
    "# Generate scatter plot for training data\n",
    "# fig, ax = plt.figure(figsize = (30,16))\n",
    "plot = sns.scatterplot(x=s1,y=s2,hue = labels, palette=sns.color_palette(\"hls\",no_clusters),data=X)\n",
    "sns.set(rc={\"figure.figsize\":(18, 8)}) #width=3, #height=4\n",
    "\n",
    "\n",
    "plt.title(f'OPTICS clustering')\n",
    "plt.xlabel(s1)\n",
    "plt.ylabel(s2)\n",
    "# plot.axes.set_xscale('log')\n",
    "# plot.axes.set_yscale('log')\n",
    "plt.show()\n",
    "\n",
    "# Save PNG\n",
    "fig = plot.get_figure()\n",
    "fig.savefig('Scatter_plot_' + tod + '_OPTICS.png', dpi=72, bbox_inches='tight')"
   ]
  },
  {
   "cell_type": "markdown",
   "metadata": {},
   "source": [
    "# Standardize dataset"
   ]
  }
 ],
 "metadata": {
  "interpreter": {
   "hash": "52469ae204d1d50c448c04334a11ed7bbfc3a11760631521f4bdc0e8f20089d8"
  },
  "kernelspec": {
   "display_name": "Python 3.9.6 64-bit",
   "language": "python",
   "name": "python3"
  },
  "language_info": {
   "codemirror_mode": {
    "name": "ipython",
    "version": 3
   },
   "file_extension": ".py",
   "mimetype": "text/x-python",
   "name": "python",
   "nbconvert_exporter": "python",
   "pygments_lexer": "ipython3",
   "version": "3.9.6"
  },
  "orig_nbformat": 4
 },
 "nbformat": 4,
 "nbformat_minor": 2
}
