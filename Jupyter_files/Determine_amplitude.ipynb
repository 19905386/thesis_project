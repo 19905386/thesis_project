{
 "cells": [
  {
   "cell_type": "code",
   "execution_count": 2,
   "metadata": {},
   "outputs": [],
   "source": [
    "import pandas as pd\n",
    "from dask import dataframe as dd\n",
    "import numpy as np\n",
    "import plotly.graph_objects as go\n",
    "import plotly.offline as po\n",
    "import plotly.express as px\n",
    "import os,sys\n",
    "import json\n",
    "from array import array\n",
    "\n",
    "from collections import defaultdict\n",
    "from scipy.signal import find_peaks\n",
    "# Insert the path of modules folder \n",
    "# sys.path.insert(0, 'C:/Users/Jason/thesis_project')\n",
    "sys.path.append(\"../\")\n",
    "\n",
    "from support import *\n",
    "from features.feature_ts import genX\n",
    "from experiment.algorithms.cluster_prep import *"
   ]
  },
  {
   "cell_type": "markdown",
   "metadata": {},
   "source": [
    "### Calculate households ToPs"
   ]
  },
  {
   "cell_type": "code",
   "execution_count": 14,
   "metadata": {},
   "outputs": [
    {
     "name": "stdout",
     "output_type": "stream",
     "text": [
      "dropping all zero rows\n"
     ]
    }
   ],
   "source": [
    "# from collections import defaultdict\n",
    "\n",
    "# # Load data\n",
    "# year_range = [1994, 2014]\n",
    "# X = genX(year_range, drop_0= True)\n",
    "\n",
    "# df = X.copy()\n",
    "# arrayX  = X.to_numpy().copy()\n",
    "# arrayY = X.to_numpy().copy()\n",
    "\n",
    "# listYM  = list(map(lambda x : x[:12],arrayY))\n",
    "# listYA  = list(map(lambda x : x[12:],arrayY))\n",
    "\n",
    "# arrayYM = np.array(listYM)\n",
    "# arrayYA = np.array(listYA)\n",
    "\n",
    "# arrayYM.sort()\n",
    "# arrayYA.sort()\n",
    "\n",
    "# dict_M = defaultdict(list)\n",
    "# dict_A = defaultdict(list)\n",
    "\n",
    "# X.reset_index(inplace = True)\n",
    "\n",
    "# for i in range(0,len(arrayX)):\n",
    "    \n",
    "#     diff_M = arrayYM[i][len(arrayYM[i])-1] - arrayYM[i][len(arrayYM[i])-2]\n",
    "#     diff_A = arrayYA[i][len(arrayYA[i])-1] - arrayYA[i][len(arrayYA[i])-2]\n",
    "\n",
    "#     threshold_M = arrayYM[i][len(arrayYM[i])-1] - diff_M/3\n",
    "#     threshold_A = arrayYA[i][len(arrayYA[i])-1] - diff_A/3\n",
    "    \n",
    "#     # distance = 2\n",
    "\n",
    "#     indices_M = find_peaks(arrayX[i][0:12], height = threshold_M)[0]\n",
    "#     indices_A = find_peaks(arrayX[i][12:], height = threshold_A)[0]\n",
    "\n",
    "#     dict_M[i].append(indices_M) \n",
    "#     dict_A[i].append(indices_A)\n",
    "\n",
    "# ToP_M_df = pd.DataFrame.from_dict(dict_M)\n",
    "# ToP_A_df = pd.DataFrame.from_dict(dict_A)\n",
    "\n",
    "# top_M_dict = ToP_M_df.T\n",
    "# top_A_dict = ToP_A_df.T + 12\n",
    "\n",
    "\n",
    "# X1 = X.merge(top_M_dict, left_index = True, right_index = True).merge(top_A_dict,left_index = True, right_index = True)\n",
    "# # X2 = X1.merge(top_A_dict,left_index = True, right_index = True)\n",
    "\n",
    "# xpath = os.path.join(profiles_dir, 'X', str(year_range[0])+'_'+str(year_range[1])+\n",
    "#                          \"ToPs\"+'.feather')\n",
    "\n",
    "# X1.to_feather(xpath)"
   ]
  },
  {
   "cell_type": "markdown",
   "metadata": {},
   "source": [
    "### Determine the average peaks value for a household at universal ToPs\n",
    "##### Universal ToPs = 06:00 i.e. column 5,19:00 i.e. column 18"
   ]
  },
  {
   "cell_type": "code",
   "execution_count": 15,
   "metadata": {},
   "outputs": [],
   "source": [
    "xpath = os.path.join(profiles_dir, 'X', str(year_range[0])+'_'+str(year_range[1])+\n",
    "                         \"ToPs\"+'.feather')\n",
    "\n",
    "df = pd.read_feather(xpath)"
   ]
  },
  {
   "cell_type": "code",
   "execution_count": 16,
   "metadata": {},
   "outputs": [
    {
     "data": {
      "text/html": [
       "<div>\n",
       "<style scoped>\n",
       "    .dataframe tbody tr th:only-of-type {\n",
       "        vertical-align: middle;\n",
       "    }\n",
       "\n",
       "    .dataframe tbody tr th {\n",
       "        vertical-align: top;\n",
       "    }\n",
       "\n",
       "    .dataframe thead th {\n",
       "        text-align: right;\n",
       "    }\n",
       "</style>\n",
       "<table border=\"1\" class=\"dataframe\">\n",
       "  <thead>\n",
       "    <tr style=\"text-align: right;\">\n",
       "      <th></th>\n",
       "      <th>ProfileID</th>\n",
       "      <th>date</th>\n",
       "      <th>0</th>\n",
       "      <th>1</th>\n",
       "      <th>2</th>\n",
       "      <th>3</th>\n",
       "      <th>4</th>\n",
       "      <th>5</th>\n",
       "      <th>6</th>\n",
       "      <th>7</th>\n",
       "      <th>...</th>\n",
       "      <th>16</th>\n",
       "      <th>17</th>\n",
       "      <th>18</th>\n",
       "      <th>19</th>\n",
       "      <th>20</th>\n",
       "      <th>21</th>\n",
       "      <th>22</th>\n",
       "      <th>23</th>\n",
       "      <th>0_x</th>\n",
       "      <th>0_y</th>\n",
       "    </tr>\n",
       "  </thead>\n",
       "  <tbody>\n",
       "    <tr>\n",
       "      <th>0</th>\n",
       "      <td>1</td>\n",
       "      <td>1994-06-18</td>\n",
       "      <td>3.691667</td>\n",
       "      <td>0.800</td>\n",
       "      <td>0.508333</td>\n",
       "      <td>2.183333</td>\n",
       "      <td>0.741667</td>\n",
       "      <td>0.658333</td>\n",
       "      <td>1.991667</td>\n",
       "      <td>0.700000</td>\n",
       "      <td>...</td>\n",
       "      <td>1.666667</td>\n",
       "      <td>3.916667</td>\n",
       "      <td>9.241667</td>\n",
       "      <td>3.275000</td>\n",
       "      <td>6.325000</td>\n",
       "      <td>2.816667</td>\n",
       "      <td>0.925000</td>\n",
       "      <td>2.025000</td>\n",
       "      <td>[10]</td>\n",
       "      <td>[18]</td>\n",
       "    </tr>\n",
       "    <tr>\n",
       "      <th>1</th>\n",
       "      <td>1</td>\n",
       "      <td>1994-06-19</td>\n",
       "      <td>0.808333</td>\n",
       "      <td>0.500</td>\n",
       "      <td>2.075000</td>\n",
       "      <td>0.691667</td>\n",
       "      <td>0.325000</td>\n",
       "      <td>2.075000</td>\n",
       "      <td>0.691667</td>\n",
       "      <td>0.316667</td>\n",
       "      <td>...</td>\n",
       "      <td>2.358333</td>\n",
       "      <td>1.141667</td>\n",
       "      <td>7.283333</td>\n",
       "      <td>5.391667</td>\n",
       "      <td>6.441667</td>\n",
       "      <td>9.716667</td>\n",
       "      <td>7.500000</td>\n",
       "      <td>0.841667</td>\n",
       "      <td>[10]</td>\n",
       "      <td>[21]</td>\n",
       "    </tr>\n",
       "    <tr>\n",
       "      <th>2</th>\n",
       "      <td>1</td>\n",
       "      <td>1994-06-20</td>\n",
       "      <td>1.058333</td>\n",
       "      <td>1.625</td>\n",
       "      <td>0.341667</td>\n",
       "      <td>2.100000</td>\n",
       "      <td>1.225000</td>\n",
       "      <td>1.058333</td>\n",
       "      <td>4.808333</td>\n",
       "      <td>4.091667</td>\n",
       "      <td>...</td>\n",
       "      <td>2.116667</td>\n",
       "      <td>5.541667</td>\n",
       "      <td>5.275000</td>\n",
       "      <td>6.533333</td>\n",
       "      <td>4.708333</td>\n",
       "      <td>10.433333</td>\n",
       "      <td>9.508333</td>\n",
       "      <td>4.408333</td>\n",
       "      <td>[6]</td>\n",
       "      <td>[21]</td>\n",
       "    </tr>\n",
       "    <tr>\n",
       "      <th>3</th>\n",
       "      <td>1</td>\n",
       "      <td>1994-06-21</td>\n",
       "      <td>0.425000</td>\n",
       "      <td>2.350</td>\n",
       "      <td>0.550000</td>\n",
       "      <td>0.291667</td>\n",
       "      <td>2.100000</td>\n",
       "      <td>0.591667</td>\n",
       "      <td>4.066667</td>\n",
       "      <td>2.791667</td>\n",
       "      <td>...</td>\n",
       "      <td>4.016667</td>\n",
       "      <td>1.833333</td>\n",
       "      <td>3.466667</td>\n",
       "      <td>8.875000</td>\n",
       "      <td>10.850000</td>\n",
       "      <td>12.908333</td>\n",
       "      <td>9.241667</td>\n",
       "      <td>2.625000</td>\n",
       "      <td>[6]</td>\n",
       "      <td>[21]</td>\n",
       "    </tr>\n",
       "    <tr>\n",
       "      <th>4</th>\n",
       "      <td>1</td>\n",
       "      <td>1994-06-22</td>\n",
       "      <td>0.741667</td>\n",
       "      <td>2.325</td>\n",
       "      <td>0.583333</td>\n",
       "      <td>1.191667</td>\n",
       "      <td>1.225000</td>\n",
       "      <td>0.575000</td>\n",
       "      <td>4.066667</td>\n",
       "      <td>3.350000</td>\n",
       "      <td>...</td>\n",
       "      <td>2.791667</td>\n",
       "      <td>6.291667</td>\n",
       "      <td>6.491667</td>\n",
       "      <td>4.458333</td>\n",
       "      <td>13.125000</td>\n",
       "      <td>10.750000</td>\n",
       "      <td>6.200000</td>\n",
       "      <td>1.350000</td>\n",
       "      <td>[10]</td>\n",
       "      <td>[20]</td>\n",
       "    </tr>\n",
       "  </tbody>\n",
       "</table>\n",
       "<p>5 rows × 28 columns</p>\n",
       "</div>"
      ],
      "text/plain": [
       "   ProfileID       date         0      1         2         3         4  \\\n",
       "0          1 1994-06-18  3.691667  0.800  0.508333  2.183333  0.741667   \n",
       "1          1 1994-06-19  0.808333  0.500  2.075000  0.691667  0.325000   \n",
       "2          1 1994-06-20  1.058333  1.625  0.341667  2.100000  1.225000   \n",
       "3          1 1994-06-21  0.425000  2.350  0.550000  0.291667  2.100000   \n",
       "4          1 1994-06-22  0.741667  2.325  0.583333  1.191667  1.225000   \n",
       "\n",
       "          5         6         7  ...        16        17        18        19  \\\n",
       "0  0.658333  1.991667  0.700000  ...  1.666667  3.916667  9.241667  3.275000   \n",
       "1  2.075000  0.691667  0.316667  ...  2.358333  1.141667  7.283333  5.391667   \n",
       "2  1.058333  4.808333  4.091667  ...  2.116667  5.541667  5.275000  6.533333   \n",
       "3  0.591667  4.066667  2.791667  ...  4.016667  1.833333  3.466667  8.875000   \n",
       "4  0.575000  4.066667  3.350000  ...  2.791667  6.291667  6.491667  4.458333   \n",
       "\n",
       "          20         21        22        23   0_x   0_y  \n",
       "0   6.325000   2.816667  0.925000  2.025000  [10]  [18]  \n",
       "1   6.441667   9.716667  7.500000  0.841667  [10]  [21]  \n",
       "2   4.708333  10.433333  9.508333  4.408333   [6]  [21]  \n",
       "3  10.850000  12.908333  9.241667  2.625000   [6]  [21]  \n",
       "4  13.125000  10.750000  6.200000  1.350000  [10]  [20]  \n",
       "\n",
       "[5 rows x 28 columns]"
      ]
     },
     "execution_count": 16,
     "metadata": {},
     "output_type": "execute_result"
    }
   ],
   "source": [
    "df.head()"
   ]
  },
  {
   "cell_type": "code",
   "execution_count": 21,
   "metadata": {},
   "outputs": [
    {
     "data": {
      "text/plain": [
       "9.24166651566823"
      ]
     },
     "execution_count": 21,
     "metadata": {},
     "output_type": "execute_result"
    }
   ],
   "source": [
    "arrayYA[0][len(arrayYA[0])-1]"
   ]
  },
  {
   "cell_type": "code",
   "execution_count": null,
   "metadata": {},
   "outputs": [],
   "source": [
    "morning_amplitude = arrayYM[i][len(arrayYM[i])-1]"
   ]
  },
  {
   "cell_type": "code",
   "execution_count": 22,
   "metadata": {},
   "outputs": [
    {
     "data": {
      "text/plain": [
       "numpy.ndarray"
      ]
     },
     "execution_count": 22,
     "metadata": {},
     "output_type": "execute_result"
    }
   ],
   "source": [
    "type(arrayYM)"
   ]
  },
  {
   "cell_type": "code",
   "execution_count": null,
   "metadata": {},
   "outputs": [],
   "source": []
  }
 ],
 "metadata": {
  "interpreter": {
   "hash": "52469ae204d1d50c448c04334a11ed7bbfc3a11760631521f4bdc0e8f20089d8"
  },
  "kernelspec": {
   "display_name": "Python 3.9.6 64-bit",
   "language": "python",
   "name": "python3"
  },
  "language_info": {
   "codemirror_mode": {
    "name": "ipython",
    "version": 3
   },
   "file_extension": ".py",
   "mimetype": "text/x-python",
   "name": "python",
   "nbconvert_exporter": "python",
   "pygments_lexer": "ipython3",
   "version": "3.9.6"
  },
  "orig_nbformat": 4
 },
 "nbformat": 4,
 "nbformat_minor": 2
}
