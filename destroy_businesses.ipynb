{
 "cells": [
  {
   "cell_type": "code",
   "execution_count": 1,
   "metadata": {},
   "outputs": [
    {
     "name": "stdout",
     "output_type": "stream",
     "text": [
      "C:\\Users\\MEDIA_LAB\\AppData\\Local\\Programs\\Python\\Python39\\lib\\os.py\n",
      "c:\\Users\\MEDIA_LAB\\thesis_project\n"
     ]
    },
    {
     "data": {
      "text/html": [
       "        <script type=\"text/javascript\">\n",
       "        window.PlotlyConfig = {MathJaxConfig: 'local'};\n",
       "        if (window.MathJax) {MathJax.Hub.Config({SVG: {font: \"STIX-Web\"}});}\n",
       "        if (typeof require !== 'undefined') {\n",
       "        require.undef(\"plotly\");\n",
       "        requirejs.config({\n",
       "            paths: {\n",
       "                'plotly': ['https://cdn.plot.ly/plotly-2.3.1.min']\n",
       "            }\n",
       "        });\n",
       "        require(['plotly'], function(Plotly) {\n",
       "            window._Plotly = Plotly;\n",
       "        });\n",
       "        }\n",
       "        </script>\n",
       "        "
      ]
     },
     "metadata": {},
     "output_type": "display_data"
    }
   ],
   "source": [
    "import pandas as pd\n",
    "import numpy as np\n",
    "import datetime as dt\n",
    "from tqdm import tqdm_notebook as tqdm\n",
    "from support import *\n",
    "from features.feature_ts import genX\n",
    "from experiment.algorithms.cluster_prep import *"
   ]
  },
  {
   "cell_type": "code",
   "execution_count": 2,
   "metadata": {},
   "outputs": [
    {
     "name": "stdout",
     "output_type": "stream",
     "text": [
      "dropping all zero rows\n"
     ]
    }
   ],
   "source": [
    "X = genX([1994,2014], drop_0 = True) # Load dataframe"
   ]
  },
  {
   "cell_type": "code",
   "execution_count": 3,
   "metadata": {},
   "outputs": [
    {
     "name": "stderr",
     "output_type": "stream",
     "text": [
      "C:\\Users\\MEDIA_LAB\\AppData\\Local\\Programs\\Python\\Python39\\lib\\site-packages\\pandas\\core\\frame.py:4901: SettingWithCopyWarning:\n",
      "\n",
      "\n",
      "A value is trying to be set on a copy of a slice from a DataFrame\n",
      "\n",
      "See the caveats in the documentation: https://pandas.pydata.org/pandas-docs/stable/user_guide/indexing.html#returning-a-view-versus-a-copy\n",
      "\n"
     ]
    }
   ],
   "source": [
    "# Only look at weekdays\n",
    "df = X.copy()\n",
    "df.reset_index(inplace = True)\n",
    "\n",
    "# extract weekdays\n",
    "df['day_names'] = df.date.dt.day_name()\n",
    "\n",
    "weekdays = ['Monday', 'Tuesday', 'Wednesday', 'Thursday','Friday']\n",
    "\n",
    "df['daytype'] = df.day_names.where(~df.day_names.isin(weekdays), 'weekday')\n",
    "\n",
    "df.drop(['day_names'], axis = 1, inplace = True)\n",
    "\n",
    "df_weekdays = df[df['daytype'] == 'weekday'] # Create dataframe with only weekdays\n",
    "\n",
    "df_weekdays.set_index(['ProfileID'], inplace=True)\n",
    "df_weekdays.drop(['daytype'],axis = 1, inplace = True)"
   ]
  },
  {
   "cell_type": "code",
   "execution_count": 4,
   "metadata": {},
   "outputs": [],
   "source": [
    "mean = df_weekdays.groupby([\"ProfileID\"]).mean()"
   ]
  },
  {
   "cell_type": "markdown",
   "metadata": {},
   "source": [
    "# Calculate the energy between 9-5"
   ]
  },
  {
   "cell_type": "code",
   "execution_count": 5,
   "metadata": {},
   "outputs": [],
   "source": [
    "i = np.arange(9,17)\n",
    "sum_df = pd.DataFrame(index = mean.index, columns = [\"9_to_5\", 'total'])\n",
    "sum_df = sum_df.fillna(0)\n",
    "for x in i:\n",
    "    temp = mean.iloc[:,x]\n",
    "    sum_df['9_to_5'] = sum_df['9_to_5'] + temp\n",
    "\n",
    "sum_df['total'] =  mean.sum(axis = 1)"
   ]
  },
  {
   "cell_type": "code",
   "execution_count": 6,
   "metadata": {},
   "outputs": [],
   "source": [
    "sum_df[\"percentage\"] = (sum_df[\"9_to_5\"]/sum_df[\"total\"]) * 100"
   ]
  },
  {
   "cell_type": "code",
   "execution_count": 7,
   "metadata": {},
   "outputs": [],
   "source": [
    "def check_9_to_5(df):\n",
    "    if df > 50:\n",
    "        return 'B'\n",
    "    else: \n",
    "        return 'R'"
   ]
  },
  {
   "cell_type": "code",
   "execution_count": 8,
   "metadata": {},
   "outputs": [],
   "source": [
    "sum_df['Labels'] = sum_df['percentage'].apply(check_9_to_5)"
   ]
  },
  {
   "cell_type": "code",
   "execution_count": 9,
   "metadata": {},
   "outputs": [
    {
     "data": {
      "text/html": [
       "<div>\n",
       "<style scoped>\n",
       "    .dataframe tbody tr th:only-of-type {\n",
       "        vertical-align: middle;\n",
       "    }\n",
       "\n",
       "    .dataframe tbody tr th {\n",
       "        vertical-align: top;\n",
       "    }\n",
       "\n",
       "    .dataframe thead th {\n",
       "        text-align: right;\n",
       "    }\n",
       "</style>\n",
       "<table border=\"1\" class=\"dataframe\">\n",
       "  <thead>\n",
       "    <tr style=\"text-align: right;\">\n",
       "      <th></th>\n",
       "      <th>9_to_5</th>\n",
       "      <th>total</th>\n",
       "      <th>percentage</th>\n",
       "      <th>Labels</th>\n",
       "    </tr>\n",
       "    <tr>\n",
       "      <th>ProfileID</th>\n",
       "      <th></th>\n",
       "      <th></th>\n",
       "      <th></th>\n",
       "      <th></th>\n",
       "    </tr>\n",
       "  </thead>\n",
       "  <tbody>\n",
       "    <tr>\n",
       "      <th>217</th>\n",
       "      <td>26.131673</td>\n",
       "      <td>46.794261</td>\n",
       "      <td>55.843756</td>\n",
       "      <td>B</td>\n",
       "    </tr>\n",
       "    <tr>\n",
       "      <th>232</th>\n",
       "      <td>38.626513</td>\n",
       "      <td>76.085126</td>\n",
       "      <td>50.767497</td>\n",
       "      <td>B</td>\n",
       "    </tr>\n",
       "    <tr>\n",
       "      <th>284</th>\n",
       "      <td>20.822542</td>\n",
       "      <td>39.904126</td>\n",
       "      <td>52.181426</td>\n",
       "      <td>B</td>\n",
       "    </tr>\n",
       "    <tr>\n",
       "      <th>294</th>\n",
       "      <td>3.974973</td>\n",
       "      <td>7.621575</td>\n",
       "      <td>52.154223</td>\n",
       "      <td>B</td>\n",
       "    </tr>\n",
       "    <tr>\n",
       "      <th>306</th>\n",
       "      <td>9.190674</td>\n",
       "      <td>18.363042</td>\n",
       "      <td>50.049846</td>\n",
       "      <td>B</td>\n",
       "    </tr>\n",
       "    <tr>\n",
       "      <th>...</th>\n",
       "      <td>...</td>\n",
       "      <td>...</td>\n",
       "      <td>...</td>\n",
       "      <td>...</td>\n",
       "    </tr>\n",
       "    <tr>\n",
       "      <th>12027862</th>\n",
       "      <td>1.426371</td>\n",
       "      <td>2.773840</td>\n",
       "      <td>51.422269</td>\n",
       "      <td>B</td>\n",
       "    </tr>\n",
       "    <tr>\n",
       "      <th>12027927</th>\n",
       "      <td>23.003779</td>\n",
       "      <td>42.168680</td>\n",
       "      <td>54.551812</td>\n",
       "      <td>B</td>\n",
       "    </tr>\n",
       "    <tr>\n",
       "      <th>12028403</th>\n",
       "      <td>6.007670</td>\n",
       "      <td>7.263800</td>\n",
       "      <td>82.706982</td>\n",
       "      <td>B</td>\n",
       "    </tr>\n",
       "    <tr>\n",
       "      <th>12028477</th>\n",
       "      <td>37.295219</td>\n",
       "      <td>63.695002</td>\n",
       "      <td>58.552819</td>\n",
       "      <td>B</td>\n",
       "    </tr>\n",
       "    <tr>\n",
       "      <th>12028616</th>\n",
       "      <td>2.525446</td>\n",
       "      <td>4.085250</td>\n",
       "      <td>61.818638</td>\n",
       "      <td>B</td>\n",
       "    </tr>\n",
       "  </tbody>\n",
       "</table>\n",
       "<p>173 rows × 4 columns</p>\n",
       "</div>"
      ],
      "text/plain": [
       "              9_to_5      total  percentage Labels\n",
       "ProfileID                                         \n",
       "217        26.131673  46.794261   55.843756      B\n",
       "232        38.626513  76.085126   50.767497      B\n",
       "284        20.822542  39.904126   52.181426      B\n",
       "294         3.974973   7.621575   52.154223      B\n",
       "306         9.190674  18.363042   50.049846      B\n",
       "...              ...        ...         ...    ...\n",
       "12027862    1.426371   2.773840   51.422269      B\n",
       "12027927   23.003779  42.168680   54.551812      B\n",
       "12028403    6.007670   7.263800   82.706982      B\n",
       "12028477   37.295219  63.695002   58.552819      B\n",
       "12028616    2.525446   4.085250   61.818638      B\n",
       "\n",
       "[173 rows x 4 columns]"
      ]
     },
     "execution_count": 9,
     "metadata": {},
     "output_type": "execute_result"
    }
   ],
   "source": [
    "# 173 households labeled as Businesses for the 9-to-5 check\n",
    "sum_df[sum_df['percentage'] > 50]"
   ]
  },
  {
   "cell_type": "markdown",
   "metadata": {},
   "source": [
    "# Look at ToPs, label households"
   ]
  },
  {
   "cell_type": "code",
   "execution_count": 10,
   "metadata": {},
   "outputs": [],
   "source": [
    "top_df = pd.DataFrame()\n",
    "\n",
    "top_df['Time'] = mean.idxmax(axis=1)"
   ]
  },
  {
   "cell_type": "code",
   "execution_count": 11,
   "metadata": {},
   "outputs": [],
   "source": [
    "def check_top(df):\n",
    "    if int(df) > 9 and int(df) < 17:\n",
    "        return 'B'\n",
    "    else:\n",
    "        return 'R'    "
   ]
  },
  {
   "cell_type": "code",
   "execution_count": 12,
   "metadata": {},
   "outputs": [],
   "source": [
    "top_df['Labels'] = top_df['Time'].apply(check_top)"
   ]
  },
  {
   "cell_type": "code",
   "execution_count": 13,
   "metadata": {},
   "outputs": [
    {
     "data": {
      "text/plain": [
       "842"
      ]
     },
     "execution_count": 13,
     "metadata": {},
     "output_type": "execute_result"
    }
   ],
   "source": [
    "len(top_df[top_df['Labels'] == 'B'])"
   ]
  },
  {
   "cell_type": "markdown",
   "metadata": {},
   "source": [
    "# Look at AMC, label households"
   ]
  },
  {
   "cell_type": "code",
   "execution_count": 14,
   "metadata": {},
   "outputs": [],
   "source": [
    "Xbin = xBins(X, 'amd')"
   ]
  },
  {
   "cell_type": "code",
   "execution_count": 15,
   "metadata": {},
   "outputs": [],
   "source": [
    "ids = Xbin['1000-4000']"
   ]
  },
  {
   "cell_type": "code",
   "execution_count": 16,
   "metadata": {},
   "outputs": [],
   "source": [
    "amc_df = pd.DataFrame(index = mean.index.unique(), columns = ['Labels'])"
   ]
  },
  {
   "cell_type": "code",
   "execution_count": 17,
   "metadata": {},
   "outputs": [],
   "source": [
    "amc_df.loc[ids] = 'B'"
   ]
  },
  {
   "cell_type": "code",
   "execution_count": 18,
   "metadata": {},
   "outputs": [],
   "source": [
    "amc_df.loc[~amc_df.index.isin(ids)] = 'R'"
   ]
  },
  {
   "cell_type": "code",
   "execution_count": 19,
   "metadata": {},
   "outputs": [
    {
     "data": {
      "text/plain": [
       "array(['R', 'B'], dtype=object)"
      ]
     },
     "execution_count": 19,
     "metadata": {},
     "output_type": "execute_result"
    }
   ],
   "source": [
    "amc_df['Labels'].unique()"
   ]
  },
  {
   "cell_type": "markdown",
   "metadata": {},
   "source": [
    "# Look at midday and late afternoon usage, label households"
   ]
  },
  {
   "cell_type": "code",
   "execution_count": 20,
   "metadata": {},
   "outputs": [],
   "source": [
    "# mid = 20\n",
    "# late = 25\n",
    "\n",
    "# lst = [mid,late]\n",
    "\n",
    "# diff = np.abs(mid - late)\n",
    "\n",
    "# perc = (diff/max(lst))*100"
   ]
  },
  {
   "cell_type": "code",
   "execution_count": 21,
   "metadata": {},
   "outputs": [],
   "source": [
    "# def mid_late_perc(df):\n",
    "#     mid = df.mid\n",
    "#     late = df.late\n",
    "\n",
    "#     lst = [mid, late]\n",
    "\n",
    "#     diff = np.abs(mid - late)\n",
    "\n",
    "#     return (diff/max(lst))*100"
   ]
  },
  {
   "cell_type": "code",
   "execution_count": 22,
   "metadata": {},
   "outputs": [],
   "source": [
    "# mid_i = np.arange(12,15)\n",
    "# late_i = np.arange(15,18)\n",
    "# mid_late_df = pd.DataFrame(index = mean.index, columns = [\"mid\", 'late'])\n",
    "# mid_late_df = mid_late_df.fillna(0)\n",
    "# for x in mid_i:\n",
    "#     temp1 = mean.iloc[:,x]\n",
    "#     mid_late_df['mid'] = mid_late_df['mid'] + temp1\n",
    "\n",
    "# for y in late_i:\n",
    "#     temp2 = mean.iloc[:,x]\n",
    "#     mid_late_df['late'] = mid_late_df['late'] + temp2\n"
   ]
  },
  {
   "cell_type": "code",
   "execution_count": 23,
   "metadata": {},
   "outputs": [],
   "source": [
    "# mid_late_df['perc'] = mid_late_df.apply(mid_late_perc, axis = 1)"
   ]
  },
  {
   "cell_type": "code",
   "execution_count": 24,
   "metadata": {},
   "outputs": [],
   "source": [
    "# def mid_late_labeler(df):\n",
    "#     if df > 1:\n",
    "#         return 'R'\n",
    "#     else:\n",
    "#         return 'B'\n"
   ]
  },
  {
   "cell_type": "code",
   "execution_count": 25,
   "metadata": {},
   "outputs": [],
   "source": [
    "# mid_late_df['Label'] = mid_late_df['perc'].apply(mid_late_labeler)"
   ]
  },
  {
   "cell_type": "code",
   "execution_count": 26,
   "metadata": {},
   "outputs": [],
   "source": [
    "# len(mid_late_df[mid_late_df['Label'] == 'B'])"
   ]
  },
  {
   "cell_type": "markdown",
   "metadata": {},
   "source": [
    "# Determine how many theoretical businesses are there"
   ]
  },
  {
   "cell_type": "code",
   "execution_count": 27,
   "metadata": {},
   "outputs": [],
   "source": [
    "new_df = pd.DataFrame()\n",
    "\n",
    "new_df['AMC'], new_df['ToP'], new_df['Sum'] = amc_df['Labels'], top_df['Labels'], sum_df['Labels']"
   ]
  },
  {
   "cell_type": "code",
   "execution_count": 28,
   "metadata": {},
   "outputs": [
    {
     "data": {
      "text/plain": [
       "array([0, 1, 2, 3], dtype=int64)"
      ]
     },
     "execution_count": 28,
     "metadata": {},
     "output_type": "execute_result"
    }
   ],
   "source": [
    "data_classes = ['R','B']\n",
    "d = dict(zip(data_classes, range(0,2)))\n",
    "\n",
    "new_df['AMC'], new_df['ToP'],new_df['Sum'] = new_df['AMC'].map(d, na_action='ignore'),new_df['ToP'].map(d, na_action='ignore'),new_df['Sum'].map(d, na_action='ignore')\n",
    "\n",
    "new_df['Total'] = new_df.sum(axis = 1)\n",
    "\n",
    "new_df['Total'].unique()"
   ]
  },
  {
   "cell_type": "code",
   "execution_count": 29,
   "metadata": {},
   "outputs": [
    {
     "data": {
      "text/plain": [
       "13417"
      ]
     },
     "execution_count": 29,
     "metadata": {},
     "output_type": "execute_result"
    }
   ],
   "source": [
    "len(new_df[new_df['Total'] == 0])"
   ]
  },
  {
   "cell_type": "code",
   "execution_count": 32,
   "metadata": {},
   "outputs": [
    {
     "data": {
      "image/png": "[encoded data removed]",
      "text/plain": [
       "<Figure size 432x288 with 1 Axes>"
      ]
     },
     "metadata": {},
     "output_type": "display_data"
    }
   ],
   "source": [
    "import matplotlib.pyplot as plt\n",
    "fig = plt.figure()\n",
    "ax = fig.add_axes([0,0,1,1])\n",
    "# langs = [0,1,2,3]\n",
    "# students = [len(new_df[new_df['Total'] == 0]),len(new_df[new_df['Total'] == 1]),len(new_df[new_df['Total'] == 2]),len(new_df[new_df['Total'] == 3])]\n",
    "y1 = len(new_df[new_df['Total'] == 0])\n",
    "y2 = len(new_df[new_df['Total'] == 1])\n",
    "y3 = len(new_df[new_df['Total'] == 2])\n",
    "y4 = len(new_df[new_df['Total'] == 3])\n",
    "# ax.bar(langs,students)\n",
    "ax.bar(0,y1,label = \"Residential: \" + str(len(new_df[new_df['Total'] == 0])))\n",
    "ax.bar(1,y2,label = \"~ Residential: \" + str(len(new_df[new_df['Total'] == 1])))\n",
    "ax.bar(2,y3,label = \"~ Business: \" + str(len(new_df[new_df['Total'] == 2])))\n",
    "ax.bar(3,y4,label = \"Business: \" + str(len(new_df[new_df['Total'] == 3])))\n",
    "ax.set_xlabel(\"Tests Passes\")\n",
    "ax.set_ylabel(\"Households\")\n",
    "ax.legend()\n",
    "\n",
    "plt.show()"
   ]
  },
  {
   "cell_type": "markdown",
   "metadata": {},
   "source": [
    "# Filter out the households that have two matches"
   ]
  },
  {
   "cell_type": "code",
   "execution_count": 50,
   "metadata": {},
   "outputs": [],
   "source": [
    "business_ids = new_df[new_df['Total'] >= 2].index.values"
   ]
  },
  {
   "cell_type": "code",
   "execution_count": 51,
   "metadata": {},
   "outputs": [
    {
     "data": {
      "text/plain": [
       "array([     192,      200,      202,      217,      284,      294,\n",
       "            520,      677,      678,      700,      708,      716,\n",
       "            920,      961,     1029,     1233,     1423,     1530,\n",
       "           1559,     1583,     1584,     1915,     2274,     2399,\n",
       "           2469,     2820,     2950,     3051,     3534,     3843,\n",
       "           4060,     4061,     4494,     4513,     4579,     4652,\n",
       "           4659,     4747,     4754,     4755,     5255,     5335,\n",
       "           6473,     6778,     6830,     6877,     6917,     7103,\n",
       "           7113,     7223,     7233,     7247,     7257,     7258,\n",
       "           7323,     7537,     7538,     7589,     7646,     7686,\n",
       "           7688,     7900,     8040,     8292,     8293,     8397,\n",
       "           8400,     8441,     8579,    10266,    10456,    10482,\n",
       "          10790,    11171,    11180,    11193,  1000353,  1000438,\n",
       "        1000650,  1000825,  1000828,  1000948,  1001132,  1001139,\n",
       "        1001226,  1001302,  1002187,  1002256,  1002348,  1002450,\n",
       "        1002657,  1002863,  1003142,  1003433,  1003441,  1003469,\n",
       "        1003671,  1004101,  1004377,  1004429,  1005210,  1005423,\n",
       "        1005430,  1005447,  1005466,  1005475,  1005498,  1005557,\n",
       "        1005585,  1005594,  1005625,  1005764,  1005801,  1005947,\n",
       "        1005958,  1006164,  1006242,  1006259,  1006355,  1006475,\n",
       "        1006622,  1006639,  1006672,  1006690,  1006726,  1006831,\n",
       "        1006832, 12000181, 12000787, 12000830, 12001554, 12001801,\n",
       "       12001853, 12002100, 12002135, 12003127, 12003981, 12004956,\n",
       "       12020937, 12022553, 12022627, 12024031, 12024252, 12024339,\n",
       "       12025253, 12026219, 12026926, 12027732, 12027927, 12028403],\n",
       "      dtype=int64)"
      ]
     },
     "execution_count": 51,
     "metadata": {},
     "output_type": "execute_result"
    }
   ],
   "source": [
    "business_ids"
   ]
  },
  {
   "cell_type": "code",
   "execution_count": 53,
   "metadata": {},
   "outputs": [],
   "source": [
    "import pickle as pickle\n",
    "# create a binary pickle file \n",
    "f = open(\"business_ids.pkl\",\"wb\")\n",
    "\n",
    "# write the python object (dict) to pickle file\n",
    "pickle.dump(business_ids,f)\n",
    "\n",
    "# close file\n",
    "f.close()\n",
    "\n",
    "data = pd.read_pickle('business_ids.pkl') # Read pickle file"
   ]
  },
  {
   "cell_type": "code",
   "execution_count": 54,
   "metadata": {},
   "outputs": [
    {
     "data": {
      "text/plain": [
       "array([     192,      200,      202,      217,      284,      294,\n",
       "            520,      677,      678,      700,      708,      716,\n",
       "            920,      961,     1029,     1233,     1423,     1530,\n",
       "           1559,     1583,     1584,     1915,     2274,     2399,\n",
       "           2469,     2820,     2950,     3051,     3534,     3843,\n",
       "           4060,     4061,     4494,     4513,     4579,     4652,\n",
       "           4659,     4747,     4754,     4755,     5255,     5335,\n",
       "           6473,     6778,     6830,     6877,     6917,     7103,\n",
       "           7113,     7223,     7233,     7247,     7257,     7258,\n",
       "           7323,     7537,     7538,     7589,     7646,     7686,\n",
       "           7688,     7900,     8040,     8292,     8293,     8397,\n",
       "           8400,     8441,     8579,    10266,    10456,    10482,\n",
       "          10790,    11171,    11180,    11193,  1000353,  1000438,\n",
       "        1000650,  1000825,  1000828,  1000948,  1001132,  1001139,\n",
       "        1001226,  1001302,  1002187,  1002256,  1002348,  1002450,\n",
       "        1002657,  1002863,  1003142,  1003433,  1003441,  1003469,\n",
       "        1003671,  1004101,  1004377,  1004429,  1005210,  1005423,\n",
       "        1005430,  1005447,  1005466,  1005475,  1005498,  1005557,\n",
       "        1005585,  1005594,  1005625,  1005764,  1005801,  1005947,\n",
       "        1005958,  1006164,  1006242,  1006259,  1006355,  1006475,\n",
       "        1006622,  1006639,  1006672,  1006690,  1006726,  1006831,\n",
       "        1006832, 12000181, 12000787, 12000830, 12001554, 12001801,\n",
       "       12001853, 12002100, 12002135, 12003127, 12003981, 12004956,\n",
       "       12020937, 12022553, 12022627, 12024031, 12024252, 12024339,\n",
       "       12025253, 12026219, 12026926, 12027732, 12027927, 12028403],\n",
       "      dtype=int64)"
      ]
     },
     "execution_count": 54,
     "metadata": {},
     "output_type": "execute_result"
    }
   ],
   "source": [
    "data"
   ]
  },
  {
   "cell_type": "code",
   "execution_count": null,
   "metadata": {},
   "outputs": [],
   "source": []
  }
 ],
 "metadata": {
  "interpreter": {
   "hash": "52469ae204d1d50c448c04334a11ed7bbfc3a11760631521f4bdc0e8f20089d8"
  },
  "kernelspec": {
   "display_name": "Python 3.9.6 64-bit",
   "language": "python",
   "name": "python3"
  },
  "language_info": {
   "codemirror_mode": {
    "name": "ipython",
    "version": 3
   },
   "file_extension": ".py",
   "mimetype": "text/x-python",
   "name": "python",
   "nbconvert_exporter": "python",
   "pygments_lexer": "ipython3",
   "version": "3.9.6"
  },
  "orig_nbformat": 4
 },
 "nbformat": 4,
 "nbformat_minor": 2
}
