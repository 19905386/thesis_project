{
 "cells": [
  {
   "cell_type": "code",
   "execution_count": 1,
   "metadata": {},
   "outputs": [
    {
     "name": "stdout",
     "output_type": "stream",
     "text": [
      "C:\\Users\\Jason\\AppData\\Local\\Programs\\Python\\Python39\\lib\\os.py\n",
      "c:\\Users\\Jason\\thesis_project\n"
     ]
    },
    {
     "data": {
      "text/html": [
       "        <script type=\"text/javascript\">\n",
       "        window.PlotlyConfig = {MathJaxConfig: 'local'};\n",
       "        if (window.MathJax) {MathJax.Hub.Config({SVG: {font: \"STIX-Web\"}});}\n",
       "        if (typeof require !== 'undefined') {\n",
       "        require.undef(\"plotly\");\n",
       "        requirejs.config({\n",
       "            paths: {\n",
       "                'plotly': ['https://cdn.plot.ly/plotly-2.6.3.min']\n",
       "            }\n",
       "        });\n",
       "        require(['plotly'], function(Plotly) {\n",
       "            window._Plotly = Plotly;\n",
       "        });\n",
       "        }\n",
       "        </script>\n",
       "        "
      ]
     },
     "metadata": {},
     "output_type": "display_data"
    }
   ],
   "source": [
    "import pandas as pd\n",
    "import numpy as np\n",
    "import datetime as dt\n",
    "from tqdm import tqdm_notebook as tqdm\n",
    "import pickle as pickle\n",
    "from support import *\n",
    "from features.feature_ts import genX\n",
    "from experiment.algorithms.cluster_prep import *"
   ]
  },
  {
   "cell_type": "code",
   "execution_count": 2,
   "metadata": {},
   "outputs": [
    {
     "name": "stdout",
     "output_type": "stream",
     "text": [
      "dropping all zero rows\n"
     ]
    }
   ],
   "source": [
    "X = genX([1994,2014], drop_0 = True) # Load dataframe"
   ]
  },
  {
   "cell_type": "code",
   "execution_count": 3,
   "metadata": {},
   "outputs": [
    {
     "name": "stderr",
     "output_type": "stream",
     "text": [
      "C:\\Users\\Jason\\AppData\\Local\\Programs\\Python\\Python39\\lib\\site-packages\\pandas\\core\\frame.py:4308: SettingWithCopyWarning:\n",
      "\n",
      "\n",
      "A value is trying to be set on a copy of a slice from a DataFrame\n",
      "\n",
      "See the caveats in the documentation: https://pandas.pydata.org/pandas-docs/stable/user_guide/indexing.html#returning-a-view-versus-a-copy\n",
      "\n"
     ]
    }
   ],
   "source": [
    "# Only look at weekdays\n",
    "df = X.copy()\n",
    "df.reset_index(inplace = True)\n",
    "\n",
    "# extract weekdays\n",
    "df['day_names'] = df.date.dt.day_name()\n",
    "\n",
    "weekdays = ['Monday', 'Tuesday', 'Wednesday', 'Thursday','Friday']\n",
    "\n",
    "df['daytype'] = df.day_names.where(~df.day_names.isin(weekdays), 'weekday')\n",
    "\n",
    "df.drop(['day_names'], axis = 1, inplace = True)\n",
    "\n",
    "df_weekdays = df[df['daytype'] == 'weekday'] # Create dataframe with only weekdays\n",
    "\n",
    "df_weekdays.set_index(['ProfileID'], inplace=True)\n",
    "df_weekdays.drop(['daytype'],axis = 1, inplace = True)"
   ]
  },
  {
   "cell_type": "code",
   "execution_count": 4,
   "metadata": {},
   "outputs": [],
   "source": [
    "mean = df_weekdays.groupby([\"ProfileID\"]).mean()"
   ]
  },
  {
   "cell_type": "markdown",
   "metadata": {},
   "source": [
    "# Calculate the energy between 9-5"
   ]
  },
  {
   "cell_type": "code",
   "execution_count": 5,
   "metadata": {},
   "outputs": [],
   "source": [
    "i = np.arange(9,17)\n",
    "sum_df = pd.DataFrame(index = mean.index, columns = [\"9_to_5\", 'total'])\n",
    "sum_df = sum_df.fillna(0)\n",
    "for x in i:\n",
    "    temp = mean.iloc[:,x]\n",
    "    sum_df['9_to_5'] = sum_df['9_to_5'] + temp\n",
    "\n",
    "sum_df['total'] =  mean.sum(axis = 1)"
   ]
  },
  {
   "cell_type": "code",
   "execution_count": 6,
   "metadata": {},
   "outputs": [],
   "source": [
    "sum_df[\"percentage\"] = (sum_df[\"9_to_5\"]/sum_df[\"total\"]) * 100"
   ]
  },
  {
   "cell_type": "code",
   "execution_count": 7,
   "metadata": {},
   "outputs": [],
   "source": [
    "def check_9_to_5(df):\n",
    "    if df > 50:\n",
    "        return 'B'\n",
    "    else: \n",
    "        return 'R'"
   ]
  },
  {
   "cell_type": "code",
   "execution_count": 8,
   "metadata": {},
   "outputs": [],
   "source": [
    "sum_df['Labels'] = sum_df['percentage'].apply(check_9_to_5)"
   ]
  },
  {
   "cell_type": "code",
   "execution_count": 9,
   "metadata": {},
   "outputs": [
    {
     "data": {
      "text/html": [
       "<div>\n",
       "<style scoped>\n",
       "    .dataframe tbody tr th:only-of-type {\n",
       "        vertical-align: middle;\n",
       "    }\n",
       "\n",
       "    .dataframe tbody tr th {\n",
       "        vertical-align: top;\n",
       "    }\n",
       "\n",
       "    .dataframe thead th {\n",
       "        text-align: right;\n",
       "    }\n",
       "</style>\n",
       "<table border=\"1\" class=\"dataframe\">\n",
       "  <thead>\n",
       "    <tr style=\"text-align: right;\">\n",
       "      <th></th>\n",
       "      <th>9_to_5</th>\n",
       "      <th>total</th>\n",
       "      <th>percentage</th>\n",
       "      <th>Labels</th>\n",
       "    </tr>\n",
       "    <tr>\n",
       "      <th>ProfileID</th>\n",
       "      <th></th>\n",
       "      <th></th>\n",
       "      <th></th>\n",
       "      <th></th>\n",
       "    </tr>\n",
       "  </thead>\n",
       "  <tbody>\n",
       "    <tr>\n",
       "      <th>217</th>\n",
       "      <td>26.131673</td>\n",
       "      <td>46.794261</td>\n",
       "      <td>55.843756</td>\n",
       "      <td>B</td>\n",
       "    </tr>\n",
       "    <tr>\n",
       "      <th>232</th>\n",
       "      <td>38.626513</td>\n",
       "      <td>76.085126</td>\n",
       "      <td>50.767497</td>\n",
       "      <td>B</td>\n",
       "    </tr>\n",
       "    <tr>\n",
       "      <th>284</th>\n",
       "      <td>20.822542</td>\n",
       "      <td>39.904126</td>\n",
       "      <td>52.181426</td>\n",
       "      <td>B</td>\n",
       "    </tr>\n",
       "    <tr>\n",
       "      <th>294</th>\n",
       "      <td>3.974973</td>\n",
       "      <td>7.621575</td>\n",
       "      <td>52.154223</td>\n",
       "      <td>B</td>\n",
       "    </tr>\n",
       "    <tr>\n",
       "      <th>306</th>\n",
       "      <td>9.190674</td>\n",
       "      <td>18.363042</td>\n",
       "      <td>50.049846</td>\n",
       "      <td>B</td>\n",
       "    </tr>\n",
       "    <tr>\n",
       "      <th>...</th>\n",
       "      <td>...</td>\n",
       "      <td>...</td>\n",
       "      <td>...</td>\n",
       "      <td>...</td>\n",
       "    </tr>\n",
       "    <tr>\n",
       "      <th>12027862</th>\n",
       "      <td>1.426371</td>\n",
       "      <td>2.773840</td>\n",
       "      <td>51.422269</td>\n",
       "      <td>B</td>\n",
       "    </tr>\n",
       "    <tr>\n",
       "      <th>12027927</th>\n",
       "      <td>23.003779</td>\n",
       "      <td>42.168680</td>\n",
       "      <td>54.551812</td>\n",
       "      <td>B</td>\n",
       "    </tr>\n",
       "    <tr>\n",
       "      <th>12028403</th>\n",
       "      <td>6.007670</td>\n",
       "      <td>7.263800</td>\n",
       "      <td>82.706982</td>\n",
       "      <td>B</td>\n",
       "    </tr>\n",
       "    <tr>\n",
       "      <th>12028477</th>\n",
       "      <td>37.295219</td>\n",
       "      <td>63.695002</td>\n",
       "      <td>58.552819</td>\n",
       "      <td>B</td>\n",
       "    </tr>\n",
       "    <tr>\n",
       "      <th>12028616</th>\n",
       "      <td>2.525446</td>\n",
       "      <td>4.085250</td>\n",
       "      <td>61.818638</td>\n",
       "      <td>B</td>\n",
       "    </tr>\n",
       "  </tbody>\n",
       "</table>\n",
       "<p>173 rows × 4 columns</p>\n",
       "</div>"
      ],
      "text/plain": [
       "              9_to_5      total  percentage Labels\n",
       "ProfileID                                         \n",
       "217        26.131673  46.794261   55.843756      B\n",
       "232        38.626513  76.085126   50.767497      B\n",
       "284        20.822542  39.904126   52.181426      B\n",
       "294         3.974973   7.621575   52.154223      B\n",
       "306         9.190674  18.363042   50.049846      B\n",
       "...              ...        ...         ...    ...\n",
       "12027862    1.426371   2.773840   51.422269      B\n",
       "12027927   23.003779  42.168680   54.551812      B\n",
       "12028403    6.007670   7.263800   82.706982      B\n",
       "12028477   37.295219  63.695002   58.552819      B\n",
       "12028616    2.525446   4.085250   61.818638      B\n",
       "\n",
       "[173 rows x 4 columns]"
      ]
     },
     "execution_count": 9,
     "metadata": {},
     "output_type": "execute_result"
    }
   ],
   "source": [
    "# 173 households labeled as Businesses for the 9-to-5 check\n",
    "sum_df[sum_df['percentage'] > 50]"
   ]
  },
  {
   "cell_type": "markdown",
   "metadata": {},
   "source": [
    "# Look at ToPs, label households"
   ]
  },
  {
   "cell_type": "code",
   "execution_count": 10,
   "metadata": {},
   "outputs": [],
   "source": [
    "top_df = pd.DataFrame()\n",
    "\n",
    "top_df['Time'] = mean.idxmax(axis=1)"
   ]
  },
  {
   "cell_type": "code",
   "execution_count": 11,
   "metadata": {},
   "outputs": [],
   "source": [
    "def check_top(df):\n",
    "    if int(df) > 9 and int(df) < 17:\n",
    "        return 'B'\n",
    "    else:\n",
    "        return 'R'    "
   ]
  },
  {
   "cell_type": "code",
   "execution_count": 12,
   "metadata": {},
   "outputs": [],
   "source": [
    "top_df['Labels'] = top_df['Time'].apply(check_top)"
   ]
  },
  {
   "cell_type": "code",
   "execution_count": 13,
   "metadata": {},
   "outputs": [
    {
     "data": {
      "text/plain": [
       "842"
      ]
     },
     "execution_count": 13,
     "metadata": {},
     "output_type": "execute_result"
    }
   ],
   "source": [
    "len(top_df[top_df['Labels'] == 'B'])"
   ]
  },
  {
   "cell_type": "markdown",
   "metadata": {},
   "source": [
    "# Look at AMC, label households"
   ]
  },
  {
   "cell_type": "code",
   "execution_count": 14,
   "metadata": {},
   "outputs": [],
   "source": [
    "Xbin = xBins(X, 'amd')"
   ]
  },
  {
   "cell_type": "code",
   "execution_count": 15,
   "metadata": {},
   "outputs": [
    {
     "ename": "KeyError",
     "evalue": "'1000-4000'",
     "output_type": "error",
     "traceback": [
      "\u001b[1;31m---------------------------------------------------------------------------\u001b[0m",
      "\u001b[1;31mKeyError\u001b[0m                                  Traceback (most recent call last)",
      "\u001b[1;32m<ipython-input-15-ff0c193cfc28>\u001b[0m in \u001b[0;36m<module>\u001b[1;34m\u001b[0m\n\u001b[1;32m----> 1\u001b[1;33m \u001b[0mids\u001b[0m \u001b[1;33m=\u001b[0m \u001b[0mXbin\u001b[0m\u001b[1;33m[\u001b[0m\u001b[1;34m'1000-4000'\u001b[0m\u001b[1;33m]\u001b[0m\u001b[1;33m\u001b[0m\u001b[1;33m\u001b[0m\u001b[0m\n\u001b[0m",
      "\u001b[1;31mKeyError\u001b[0m: '1000-4000'"
     ]
    }
   ],
   "source": [
    "ids = Xbin['1000-4000']"
   ]
  },
  {
   "cell_type": "code",
   "execution_count": 15,
   "metadata": {},
   "outputs": [],
   "source": [
    "amc_df = pd.DataFrame(index = mean.index.unique(), columns = ['Labels'])"
   ]
  },
  {
   "cell_type": "code",
   "execution_count": 16,
   "metadata": {},
   "outputs": [
    {
     "ename": "NameError",
     "evalue": "name 'ids' is not defined",
     "output_type": "error",
     "traceback": [
      "\u001b[1;31m---------------------------------------------------------------------------\u001b[0m",
      "\u001b[1;31mNameError\u001b[0m                                 Traceback (most recent call last)",
      "\u001b[1;32m<ipython-input-16-c00f257b0473>\u001b[0m in \u001b[0;36m<module>\u001b[1;34m\u001b[0m\n\u001b[1;32m----> 1\u001b[1;33m \u001b[0mamc_df\u001b[0m\u001b[1;33m.\u001b[0m\u001b[0mloc\u001b[0m\u001b[1;33m[\u001b[0m\u001b[0mids\u001b[0m\u001b[1;33m]\u001b[0m \u001b[1;33m=\u001b[0m \u001b[1;34m'B'\u001b[0m\u001b[1;33m\u001b[0m\u001b[1;33m\u001b[0m\u001b[0m\n\u001b[0m",
      "\u001b[1;31mNameError\u001b[0m: name 'ids' is not defined"
     ]
    }
   ],
   "source": [
    "amc_df.loc[ids] = 'B'"
   ]
  },
  {
   "cell_type": "code",
   "execution_count": null,
   "metadata": {},
   "outputs": [],
   "source": [
    "amc_df.loc[~amc_df.index.isin(ids)] = 'R'"
   ]
  },
  {
   "cell_type": "code",
   "execution_count": null,
   "metadata": {},
   "outputs": [],
   "source": [
    "amc_df['Labels'].unique()"
   ]
  },
  {
   "cell_type": "markdown",
   "metadata": {},
   "source": [
    "# Look at midday and late afternoon usage, label households"
   ]
  },
  {
   "cell_type": "code",
   "execution_count": null,
   "metadata": {},
   "outputs": [],
   "source": [
    "# mid = 20\n",
    "# late = 25\n",
    "\n",
    "# lst = [mid,late]\n",
    "\n",
    "# diff = np.abs(mid - late)\n",
    "\n",
    "# perc = (diff/max(lst))*100"
   ]
  },
  {
   "cell_type": "code",
   "execution_count": null,
   "metadata": {},
   "outputs": [],
   "source": [
    "# def mid_late_perc(df):\n",
    "#     mid = df.mid\n",
    "#     late = df.late\n",
    "\n",
    "#     lst = [mid, late]\n",
    "\n",
    "#     diff = np.abs(mid - late)\n",
    "\n",
    "#     return (diff/max(lst))*100"
   ]
  },
  {
   "cell_type": "code",
   "execution_count": null,
   "metadata": {},
   "outputs": [],
   "source": [
    "# mid_i = np.arange(12,15)\n",
    "# late_i = np.arange(15,18)\n",
    "# mid_late_df = pd.DataFrame(index = mean.index, columns = [\"mid\", 'late'])\n",
    "# mid_late_df = mid_late_df.fillna(0)\n",
    "# for x in mid_i:\n",
    "#     temp1 = mean.iloc[:,x]\n",
    "#     mid_late_df['mid'] = mid_late_df['mid'] + temp1\n",
    "\n",
    "# for y in late_i:\n",
    "#     temp2 = mean.iloc[:,x]\n",
    "#     mid_late_df['late'] = mid_late_df['late'] + temp2\n"
   ]
  },
  {
   "cell_type": "code",
   "execution_count": null,
   "metadata": {},
   "outputs": [],
   "source": [
    "# mid_late_df['perc'] = mid_late_df.apply(mid_late_perc, axis = 1)"
   ]
  },
  {
   "cell_type": "code",
   "execution_count": null,
   "metadata": {},
   "outputs": [],
   "source": [
    "# def mid_late_labeler(df):\n",
    "#     if df > 1:\n",
    "#         return 'R'\n",
    "#     else:\n",
    "#         return 'B'\n"
   ]
  },
  {
   "cell_type": "code",
   "execution_count": null,
   "metadata": {},
   "outputs": [],
   "source": [
    "# mid_late_df['Label'] = mid_late_df['perc'].apply(mid_late_labeler)"
   ]
  },
  {
   "cell_type": "code",
   "execution_count": null,
   "metadata": {},
   "outputs": [],
   "source": [
    "# len(mid_late_df[mid_late_df['Label'] == 'B'])"
   ]
  },
  {
   "cell_type": "markdown",
   "metadata": {},
   "source": [
    "# Determine how many theoretical businesses are there"
   ]
  },
  {
   "cell_type": "code",
   "execution_count": 17,
   "metadata": {},
   "outputs": [],
   "source": [
    "new_df = pd.DataFrame()\n",
    "\n",
    "new_df['ToP'], new_df['Sum'] = top_df['Labels'], sum_df['Labels']# amc_df['Labels'],new_df['AMC'], "
   ]
  },
  {
   "cell_type": "code",
   "execution_count": 18,
   "metadata": {},
   "outputs": [
    {
     "data": {
      "text/plain": [
       "array([0, 1, 2], dtype=int64)"
      ]
     },
     "execution_count": 18,
     "metadata": {},
     "output_type": "execute_result"
    }
   ],
   "source": [
    "data_classes = ['R','B']\n",
    "d = dict(zip(data_classes, range(0,2)))\n",
    "\n",
    "new_df['ToP'],new_df['Sum'] = new_df['ToP'].map(d, na_action='ignore'),new_df['Sum'].map(d, na_action='ignore')#new_df['AMC'],new_df['AMC'].map(d, na_action='ignore'),\n",
    "\n",
    "new_df['Total'] = new_df.sum(axis = 1)\n",
    "\n",
    "new_df['Total'].unique()"
   ]
  },
  {
   "cell_type": "code",
   "execution_count": 19,
   "metadata": {},
   "outputs": [
    {
     "data": {
      "text/plain": [
       "13963"
      ]
     },
     "execution_count": 19,
     "metadata": {},
     "output_type": "execute_result"
    }
   ],
   "source": [
    "len(new_df[new_df['Total'] == 0])"
   ]
  },
  {
   "cell_type": "code",
   "execution_count": 30,
   "metadata": {},
   "outputs": [],
   "source": [
    "business_ids = new_df[new_df['Total'] == 0].index.values"
   ]
  },
  {
   "cell_type": "code",
   "execution_count": 31,
   "metadata": {},
   "outputs": [],
   "source": [
    "# # create a binary pickle file \n",
    "# f = open(\"business_ids2.pkl\",\"wb\")\n",
    "\n",
    "# # write the python object (dict) to pickle file\n",
    "# pickle.dump(business_ids,f)\n",
    "\n",
    "# # close file\n",
    "# f.close()"
   ]
  },
  {
   "cell_type": "code",
   "execution_count": 20,
   "metadata": {},
   "outputs": [
    {
     "data": {
      "image/png": "[encoded data removed]",
      "text/plain": [
       "<Figure size 432x288 with 1 Axes>"
      ]
     },
     "metadata": {
      "needs_background": "light"
     },
     "output_type": "display_data"
    }
   ],
   "source": [
    "import matplotlib.pyplot as plt\n",
    "fig = plt.figure()\n",
    "ax = fig.add_axes([0,0,1,1])\n",
    "# langs = [0,1,2,3]\n",
    "# students = [len(new_df[new_df['Total'] == 0]),len(new_df[new_df['Total'] == 1]),len(new_df[new_df['Total'] == 2]),len(new_df[new_df['Total'] == 3])]\n",
    "y1 = len(new_df[new_df['Total'] == 0])\n",
    "y2 = len(new_df[new_df['Total'] == 1])\n",
    "y3 = len(new_df[new_df['Total'] == 2])\n",
    "y4 = len(new_df[new_df['Total'] == 3])\n",
    "# ax.bar(langs,students)\n",
    "plt.title(\"Number of Residents and Businesses\", size = 15)\n",
    "ax.bar(0,y1,label = \"Residential: \" + str(len(new_df[new_df['Total'] == 0])))\n",
    "ax.bar(1,y2,label = \"Test 1 + 2: \" + str(len(new_df[new_df['Total'] == 1])))\n",
    "ax.bar(2,y3,label = \"Test 3: \" + str(len(new_df[new_df['Total'] == 2])))\n",
    "# ax.bar(3,y4,label = \"Business: \" + str(len(new_df[new_df['Total'] == 3])))\n",
    "ax.set_xlabel(\"Tests\", size = 15)\n",
    "ax.set_ylabel(\"Households\", size = 15)\n",
    "ax.legend()\n",
    "ax.set_xticks([0, 1, 2])\n",
    "ax.set_xticklabels(['0', '1 + 2', '3'])\n",
    "plt.show()"
   ]
  },
  {
   "cell_type": "markdown",
   "metadata": {},
   "source": [
    "# Filter out the households that have two matches"
   ]
  },
  {
   "cell_type": "code",
   "execution_count": null,
   "metadata": {},
   "outputs": [],
   "source": [
    "business_ids = new_df[new_df['Total'] >= 2].index.values"
   ]
  },
  {
   "cell_type": "code",
   "execution_count": null,
   "metadata": {},
   "outputs": [],
   "source": [
    "business_ids"
   ]
  },
  {
   "cell_type": "code",
   "execution_count": null,
   "metadata": {},
   "outputs": [],
   "source": [
    "\n",
    "# create a binary pickle file \n",
    "f = open(\"business_ids.pkl\",\"wb\")\n",
    "\n",
    "# write the python object (dict) to pickle file\n",
    "pickle.dump(business_ids,f)\n",
    "\n",
    "# close file\n",
    "f.close()\n",
    "\n",
    "data = pd.read_pickle('business_ids.pkl') # Read pickle file"
   ]
  },
  {
   "cell_type": "markdown",
   "metadata": {},
   "source": [
    "# Filter out large and small users"
   ]
  },
  {
   "cell_type": "code",
   "execution_count": 2,
   "metadata": {},
   "outputs": [
    {
     "name": "stdout",
     "output_type": "stream",
     "text": [
      "dropping all zero rows\n"
     ]
    }
   ],
   "source": [
    "X = genX([1994,2014], drop_0 = True)\n",
    "Xbin = xBins(X, 'amd')"
   ]
  },
  {
   "cell_type": "code",
   "execution_count": 6,
   "metadata": {},
   "outputs": [
    {
     "data": {
      "text/plain": [
       "{'0-1': array([     987,     1031,     2009,     7762,     7796,     8021,\n",
       "         1002909,  1002939,  1004190,  1004891,  1006448,  1006511,\n",
       "         1006512,  1006513, 12001515, 12001801, 12001974, 12005870],\n",
       "       dtype=int64),\n",
       " '1-50': array([       2,       13,       39, ..., 12028598, 12028611, 12028616],\n",
       "       dtype=int64),\n",
       " '50-150': array([      18,       20,       23, ..., 12028607, 12029049, 12029071],\n",
       "       dtype=int64),\n",
       " '150-400': array([       1,        6,        7, ..., 12028932, 12028993, 12029006],\n",
       "       dtype=int64),\n",
       " '400-600': array([       3,        4,        5, ..., 12029010, 12029019, 12029036],\n",
       "       dtype=int64),\n",
       " '600-2500': array([      15,       16,       17, ..., 12029032, 12029045, 12029062],\n",
       "       dtype=int64),\n",
       " '2500-4000': array([ 1005558,  1006685,  1006691, 12029058, 12029066], dtype=int64)}"
      ]
     },
     "execution_count": 6,
     "metadata": {},
     "output_type": "execute_result"
    }
   ],
   "source": [
    "Xbin"
   ]
  },
  {
   "cell_type": "code",
   "execution_count": 8,
   "metadata": {},
   "outputs": [],
   "source": [
    "large_ids = Xbin[\"2500-4000\"]\n",
    "small_ids = Xbin[\"0-1\"]\n",
    "large_small_ids = np.append(large_ids, small_ids)"
   ]
  },
  {
   "cell_type": "code",
   "execution_count": 12,
   "metadata": {},
   "outputs": [],
   "source": [
    "# create a binary pickle file \n",
    "f = open(\"large_small_ids.pkl\",\"wb\")\n",
    "\n",
    "# write the python object (dict) to pickle file\n",
    "pickle.dump(large_small_ids,f)\n",
    "\n",
    "# close file\n",
    "f.close()\n",
    "\n",
    "# data = pd.read_pickle('business_ids.pkl') # Read pickle file"
   ]
  },
  {
   "cell_type": "code",
   "execution_count": null,
   "metadata": {},
   "outputs": [],
   "source": []
  }
 ],
 "metadata": {
  "interpreter": {
   "hash": "52469ae204d1d50c448c04334a11ed7bbfc3a11760631521f4bdc0e8f20089d8"
  },
  "kernelspec": {
   "display_name": "Python 3.9.6 64-bit",
   "language": "python",
   "name": "python3"
  },
  "language_info": {
   "codemirror_mode": {
    "name": "ipython",
    "version": 3
   },
   "file_extension": ".py",
   "mimetype": "text/x-python",
   "name": "python",
   "nbconvert_exporter": "python",
   "pygments_lexer": "ipython3",
   "version": "3.9.6"
  },
  "orig_nbformat": 4
 },
 "nbformat": 4,
 "nbformat_minor": 2
}
