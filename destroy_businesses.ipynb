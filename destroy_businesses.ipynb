{
 "cells": [
  {
   "cell_type": "code",
   "execution_count": 11,
   "metadata": {},
   "outputs": [],
   "source": [
    "import pandas as pd\n",
    "import numpy as np\n",
    "import datetime as dt\n",
    "from tqdm import tqdm_notebook as tqdm\n",
    "import pickle as pickle\n",
    "from support import *\n",
    "from features.feature_ts import genX\n",
    "from experiment.algorithms.cluster_prep import *"
   ]
  },
  {
   "cell_type": "code",
   "execution_count": null,
   "metadata": {},
   "outputs": [],
   "source": [
    "X = genX([1994,2014], drop_0 = True) # Load dataframe"
   ]
  },
  {
   "cell_type": "code",
   "execution_count": null,
   "metadata": {},
   "outputs": [],
   "source": [
    "# Only look at weekdays\n",
    "df = X.copy()\n",
    "df.reset_index(inplace = True)\n",
    "\n",
    "# extract weekdays\n",
    "df['day_names'] = df.date.dt.day_name()\n",
    "\n",
    "weekdays = ['Monday', 'Tuesday', 'Wednesday', 'Thursday','Friday']\n",
    "\n",
    "df['daytype'] = df.day_names.where(~df.day_names.isin(weekdays), 'weekday')\n",
    "\n",
    "df.drop(['day_names'], axis = 1, inplace = True)\n",
    "\n",
    "df_weekdays = df[df['daytype'] == 'weekday'] # Create dataframe with only weekdays\n",
    "\n",
    "df_weekdays.set_index(['ProfileID'], inplace=True)\n",
    "df_weekdays.drop(['daytype'],axis = 1, inplace = True)"
   ]
  },
  {
   "cell_type": "code",
   "execution_count": null,
   "metadata": {},
   "outputs": [],
   "source": [
    "mean = df_weekdays.groupby([\"ProfileID\"]).mean()"
   ]
  },
  {
   "cell_type": "markdown",
   "metadata": {},
   "source": [
    "# Calculate the energy between 9-5"
   ]
  },
  {
   "cell_type": "code",
   "execution_count": null,
   "metadata": {},
   "outputs": [],
   "source": [
    "i = np.arange(9,17)\n",
    "sum_df = pd.DataFrame(index = mean.index, columns = [\"9_to_5\", 'total'])\n",
    "sum_df = sum_df.fillna(0)\n",
    "for x in i:\n",
    "    temp = mean.iloc[:,x]\n",
    "    sum_df['9_to_5'] = sum_df['9_to_5'] + temp\n",
    "\n",
    "sum_df['total'] =  mean.sum(axis = 1)"
   ]
  },
  {
   "cell_type": "code",
   "execution_count": null,
   "metadata": {},
   "outputs": [],
   "source": [
    "sum_df[\"percentage\"] = (sum_df[\"9_to_5\"]/sum_df[\"total\"]) * 100"
   ]
  },
  {
   "cell_type": "code",
   "execution_count": null,
   "metadata": {},
   "outputs": [],
   "source": [
    "def check_9_to_5(df):\n",
    "    if df > 50:\n",
    "        return 'B'\n",
    "    else: \n",
    "        return 'R'"
   ]
  },
  {
   "cell_type": "code",
   "execution_count": null,
   "metadata": {},
   "outputs": [],
   "source": [
    "sum_df['Labels'] = sum_df['percentage'].apply(check_9_to_5)"
   ]
  },
  {
   "cell_type": "code",
   "execution_count": null,
   "metadata": {},
   "outputs": [],
   "source": [
    "# 173 households labeled as Businesses for the 9-to-5 check\n",
    "sum_df[sum_df['percentage'] > 50]"
   ]
  },
  {
   "cell_type": "markdown",
   "metadata": {},
   "source": [
    "# Look at ToPs, label households"
   ]
  },
  {
   "cell_type": "code",
   "execution_count": null,
   "metadata": {},
   "outputs": [],
   "source": [
    "top_df = pd.DataFrame()\n",
    "\n",
    "top_df['Time'] = mean.idxmax(axis=1)"
   ]
  },
  {
   "cell_type": "code",
   "execution_count": null,
   "metadata": {},
   "outputs": [],
   "source": [
    "def check_top(df):\n",
    "    if int(df) > 9 and int(df) < 17:\n",
    "        return 'B'\n",
    "    else:\n",
    "        return 'R'    "
   ]
  },
  {
   "cell_type": "code",
   "execution_count": null,
   "metadata": {},
   "outputs": [],
   "source": [
    "top_df['Labels'] = top_df['Time'].apply(check_top)"
   ]
  },
  {
   "cell_type": "code",
   "execution_count": null,
   "metadata": {},
   "outputs": [],
   "source": [
    "len(top_df[top_df['Labels'] == 'B'])"
   ]
  },
  {
   "cell_type": "markdown",
   "metadata": {},
   "source": [
    "# Look at AMC, label households"
   ]
  },
  {
   "cell_type": "code",
   "execution_count": null,
   "metadata": {},
   "outputs": [],
   "source": [
    "Xbin = xBins(X, 'amd')"
   ]
  },
  {
   "cell_type": "code",
   "execution_count": null,
   "metadata": {},
   "outputs": [],
   "source": [
    "ids = Xbin['1000-4000']"
   ]
  },
  {
   "cell_type": "code",
   "execution_count": null,
   "metadata": {},
   "outputs": [],
   "source": [
    "amc_df = pd.DataFrame(index = mean.index.unique(), columns = ['Labels'])"
   ]
  },
  {
   "cell_type": "code",
   "execution_count": null,
   "metadata": {},
   "outputs": [],
   "source": [
    "amc_df.loc[ids] = 'B'"
   ]
  },
  {
   "cell_type": "code",
   "execution_count": null,
   "metadata": {},
   "outputs": [],
   "source": [
    "amc_df.loc[~amc_df.index.isin(ids)] = 'R'"
   ]
  },
  {
   "cell_type": "code",
   "execution_count": null,
   "metadata": {},
   "outputs": [],
   "source": [
    "amc_df['Labels'].unique()"
   ]
  },
  {
   "cell_type": "markdown",
   "metadata": {},
   "source": [
    "# Look at midday and late afternoon usage, label households"
   ]
  },
  {
   "cell_type": "code",
   "execution_count": null,
   "metadata": {},
   "outputs": [],
   "source": [
    "# mid = 20\n",
    "# late = 25\n",
    "\n",
    "# lst = [mid,late]\n",
    "\n",
    "# diff = np.abs(mid - late)\n",
    "\n",
    "# perc = (diff/max(lst))*100"
   ]
  },
  {
   "cell_type": "code",
   "execution_count": null,
   "metadata": {},
   "outputs": [],
   "source": [
    "# def mid_late_perc(df):\n",
    "#     mid = df.mid\n",
    "#     late = df.late\n",
    "\n",
    "#     lst = [mid, late]\n",
    "\n",
    "#     diff = np.abs(mid - late)\n",
    "\n",
    "#     return (diff/max(lst))*100"
   ]
  },
  {
   "cell_type": "code",
   "execution_count": null,
   "metadata": {},
   "outputs": [],
   "source": [
    "# mid_i = np.arange(12,15)\n",
    "# late_i = np.arange(15,18)\n",
    "# mid_late_df = pd.DataFrame(index = mean.index, columns = [\"mid\", 'late'])\n",
    "# mid_late_df = mid_late_df.fillna(0)\n",
    "# for x in mid_i:\n",
    "#     temp1 = mean.iloc[:,x]\n",
    "#     mid_late_df['mid'] = mid_late_df['mid'] + temp1\n",
    "\n",
    "# for y in late_i:\n",
    "#     temp2 = mean.iloc[:,x]\n",
    "#     mid_late_df['late'] = mid_late_df['late'] + temp2\n"
   ]
  },
  {
   "cell_type": "code",
   "execution_count": null,
   "metadata": {},
   "outputs": [],
   "source": [
    "# mid_late_df['perc'] = mid_late_df.apply(mid_late_perc, axis = 1)"
   ]
  },
  {
   "cell_type": "code",
   "execution_count": null,
   "metadata": {},
   "outputs": [],
   "source": [
    "# def mid_late_labeler(df):\n",
    "#     if df > 1:\n",
    "#         return 'R'\n",
    "#     else:\n",
    "#         return 'B'\n"
   ]
  },
  {
   "cell_type": "code",
   "execution_count": null,
   "metadata": {},
   "outputs": [],
   "source": [
    "# mid_late_df['Label'] = mid_late_df['perc'].apply(mid_late_labeler)"
   ]
  },
  {
   "cell_type": "code",
   "execution_count": null,
   "metadata": {},
   "outputs": [],
   "source": [
    "# len(mid_late_df[mid_late_df['Label'] == 'B'])"
   ]
  },
  {
   "cell_type": "markdown",
   "metadata": {},
   "source": [
    "# Determine how many theoretical businesses are there"
   ]
  },
  {
   "cell_type": "code",
   "execution_count": null,
   "metadata": {},
   "outputs": [],
   "source": [
    "new_df = pd.DataFrame()\n",
    "\n",
    "new_df['AMC'], new_df['ToP'], new_df['Sum'] = amc_df['Labels'], top_df['Labels'], sum_df['Labels']"
   ]
  },
  {
   "cell_type": "code",
   "execution_count": null,
   "metadata": {},
   "outputs": [],
   "source": [
    "data_classes = ['R','B']\n",
    "d = dict(zip(data_classes, range(0,2)))\n",
    "\n",
    "new_df['AMC'], new_df['ToP'],new_df['Sum'] = new_df['AMC'].map(d, na_action='ignore'),new_df['ToP'].map(d, na_action='ignore'),new_df['Sum'].map(d, na_action='ignore')\n",
    "\n",
    "new_df['Total'] = new_df.sum(axis = 1)\n",
    "\n",
    "new_df['Total'].unique()"
   ]
  },
  {
   "cell_type": "code",
   "execution_count": null,
   "metadata": {},
   "outputs": [],
   "source": [
    "len(new_df[new_df['Total'] == 0])"
   ]
  },
  {
   "cell_type": "code",
   "execution_count": null,
   "metadata": {},
   "outputs": [],
   "source": [
    "import matplotlib.pyplot as plt\n",
    "fig = plt.figure()\n",
    "ax = fig.add_axes([0,0,1,1])\n",
    "# langs = [0,1,2,3]\n",
    "# students = [len(new_df[new_df['Total'] == 0]),len(new_df[new_df['Total'] == 1]),len(new_df[new_df['Total'] == 2]),len(new_df[new_df['Total'] == 3])]\n",
    "y1 = len(new_df[new_df['Total'] == 0])\n",
    "y2 = len(new_df[new_df['Total'] == 1])\n",
    "y3 = len(new_df[new_df['Total'] == 2])\n",
    "y4 = len(new_df[new_df['Total'] == 3])\n",
    "# ax.bar(langs,students)\n",
    "ax.bar(0,y1,label = \"Residential: \" + str(len(new_df[new_df['Total'] == 0])))\n",
    "ax.bar(1,y2,label = \"~ Residential: \" + str(len(new_df[new_df['Total'] == 1])))\n",
    "ax.bar(2,y3,label = \"~ Business: \" + str(len(new_df[new_df['Total'] == 2])))\n",
    "ax.bar(3,y4,label = \"Business: \" + str(len(new_df[new_df['Total'] == 3])))\n",
    "ax.set_xlabel(\"Tests Passes\")\n",
    "ax.set_ylabel(\"Households\")\n",
    "ax.legend()\n",
    "\n",
    "plt.show()"
   ]
  },
  {
   "cell_type": "markdown",
   "metadata": {},
   "source": [
    "# Filter out the households that have two matches"
   ]
  },
  {
   "cell_type": "code",
   "execution_count": null,
   "metadata": {},
   "outputs": [],
   "source": [
    "business_ids = new_df[new_df['Total'] >= 2].index.values"
   ]
  },
  {
   "cell_type": "code",
   "execution_count": null,
   "metadata": {},
   "outputs": [],
   "source": [
    "business_ids"
   ]
  },
  {
   "cell_type": "code",
   "execution_count": null,
   "metadata": {},
   "outputs": [],
   "source": [
    "\n",
    "# create a binary pickle file \n",
    "f = open(\"business_ids.pkl\",\"wb\")\n",
    "\n",
    "# write the python object (dict) to pickle file\n",
    "pickle.dump(business_ids,f)\n",
    "\n",
    "# close file\n",
    "f.close()\n",
    "\n",
    "data = pd.read_pickle('business_ids.pkl') # Read pickle file"
   ]
  },
  {
   "cell_type": "markdown",
   "metadata": {},
   "source": [
    "# Filter out large and small users"
   ]
  },
  {
   "cell_type": "code",
   "execution_count": 2,
   "metadata": {},
   "outputs": [
    {
     "name": "stdout",
     "output_type": "stream",
     "text": [
      "dropping all zero rows\n"
     ]
    }
   ],
   "source": [
    "X = genX([1994,2014], drop_0 = True)\n",
    "Xbin = xBins(X, 'amd')"
   ]
  },
  {
   "cell_type": "code",
   "execution_count": 6,
   "metadata": {},
   "outputs": [
    {
     "data": {
      "text/plain": [
       "{'0-1': array([     987,     1031,     2009,     7762,     7796,     8021,\n",
       "         1002909,  1002939,  1004190,  1004891,  1006448,  1006511,\n",
       "         1006512,  1006513, 12001515, 12001801, 12001974, 12005870],\n",
       "       dtype=int64),\n",
       " '1-50': array([       2,       13,       39, ..., 12028598, 12028611, 12028616],\n",
       "       dtype=int64),\n",
       " '50-150': array([      18,       20,       23, ..., 12028607, 12029049, 12029071],\n",
       "       dtype=int64),\n",
       " '150-400': array([       1,        6,        7, ..., 12028932, 12028993, 12029006],\n",
       "       dtype=int64),\n",
       " '400-600': array([       3,        4,        5, ..., 12029010, 12029019, 12029036],\n",
       "       dtype=int64),\n",
       " '600-2500': array([      15,       16,       17, ..., 12029032, 12029045, 12029062],\n",
       "       dtype=int64),\n",
       " '2500-4000': array([ 1005558,  1006685,  1006691, 12029058, 12029066], dtype=int64)}"
      ]
     },
     "execution_count": 6,
     "metadata": {},
     "output_type": "execute_result"
    }
   ],
   "source": [
    "Xbin"
   ]
  },
  {
   "cell_type": "code",
   "execution_count": 8,
   "metadata": {},
   "outputs": [],
   "source": [
    "large_ids = Xbin[\"2500-4000\"]\n",
    "small_ids = Xbin[\"0-1\"]\n",
    "large_small_ids = np.append(large_ids, small_ids)"
   ]
  },
  {
   "cell_type": "code",
   "execution_count": 12,
   "metadata": {},
   "outputs": [],
   "source": [
    "# create a binary pickle file \n",
    "f = open(\"large_small_ids.pkl\",\"wb\")\n",
    "\n",
    "# write the python object (dict) to pickle file\n",
    "pickle.dump(large_small_ids,f)\n",
    "\n",
    "# close file\n",
    "f.close()\n",
    "\n",
    "# data = pd.read_pickle('business_ids.pkl') # Read pickle file"
   ]
  },
  {
   "cell_type": "code",
   "execution_count": null,
   "metadata": {},
   "outputs": [],
   "source": []
  }
 ],
 "metadata": {
  "interpreter": {
   "hash": "52469ae204d1d50c448c04334a11ed7bbfc3a11760631521f4bdc0e8f20089d8"
  },
  "kernelspec": {
   "display_name": "Python 3.9.6 64-bit",
   "language": "python",
   "name": "python3"
  },
  "language_info": {
   "codemirror_mode": {
    "name": "ipython",
    "version": 3
   },
   "file_extension": ".py",
   "mimetype": "text/x-python",
   "name": "python",
   "nbconvert_exporter": "python",
   "pygments_lexer": "ipython3",
   "version": "3.9.6"
  },
  "orig_nbformat": 4
 },
 "nbformat": 4,
 "nbformat_minor": 2
}
