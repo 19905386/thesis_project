{
 "cells": [
  {
   "cell_type": "code",
   "execution_count": 859,
   "metadata": {},
   "outputs": [],
   "source": [
    "import pandas as pd\n",
    "import numpy as np\n",
    "import plotly.graph_objects as go\n",
    "import plotly.express as px\n",
    "import sys\n",
    "from array import array\n",
    "from tqdm import tqdm_notebook as tqdm\n",
    "import matplotlib.pyplot as plt\n",
    "from sklearn.metrics import mean_squared_error\n",
    "import math\n",
    "# load pickle module\n",
    "import pickle\n",
    "\n",
    "\n",
    "from collections import defaultdict\n",
    "# Insert the path of modules folder \n",
    "# sys.path.insert(0, 'C:/Users/Jason/thesis_project')\n",
    "sys.path.append(\"../\")\n",
    "\n",
    "from support import *\n",
    "from features.feature_ts import genX\n",
    "from experiment.algorithms.cluster_prep import *"
   ]
  },
  {
   "cell_type": "code",
   "execution_count": 2,
   "metadata": {},
   "outputs": [
    {
     "name": "stdout",
     "output_type": "stream",
     "text": [
      "dropping all zero rows\n"
     ]
    }
   ],
   "source": [
    "X = genX([1994,2014], drop_0 = True)\n",
    "\n",
    "Xbin = xBins(X, 'amd')"
   ]
  },
  {
   "cell_type": "markdown",
   "metadata": {},
   "source": [
    "### Looking at users from a specific bin 600-1200"
   ]
  },
  {
   "cell_type": "code",
   "execution_count": 106,
   "metadata": {},
   "outputs": [],
   "source": [
    "list_len = []\n",
    "list_ids = []\n",
    "\n",
    "for ids in Xbin['2500-4000']:\n",
    "    list_ids.append(ids)\n",
    "    list_len.append(len(X.loc[ids,:]))\n",
    "\n",
    "# Find the household that logged the most data\n",
    "ix = list_len.index(max(list_len))\n",
    "\n",
    "# Store the households ID\n",
    "house_id = list_ids[ix]\n",
    "\n",
    "# Create a dataframe with all of that households data\n",
    "A = X.loc[house_id,:]\n",
    "H = A.copy()"
   ]
  },
  {
   "cell_type": "code",
   "execution_count": 309,
   "metadata": {},
   "outputs": [
    {
     "data": {
      "text/plain": [
       "48"
      ]
     },
     "execution_count": 309,
     "metadata": {},
     "output_type": "execute_result"
    }
   ],
   "source": [
    "Xbin['400-600'][12]"
   ]
  },
  {
   "cell_type": "code",
   "execution_count": 318,
   "metadata": {},
   "outputs": [],
   "source": [
    "df = X.loc[48].describe()"
   ]
  },
  {
   "cell_type": "code",
   "execution_count": 320,
   "metadata": {},
   "outputs": [],
   "source": [
    "df.drop(['count','std','min','25%','50%','75%','max'], axis = 0, inplace=True)"
   ]
  },
  {
   "cell_type": "code",
   "execution_count": null,
   "metadata": {},
   "outputs": [],
   "source": [
    "# Original find_peaks 1\n",
    "# def find_peaksMA(X):\n",
    "    \n",
    "#     df = X.copy()\n",
    "#     arrayX  = X.to_numpy().copy()\n",
    "#     arrayY = X.to_numpy().copy()\n",
    "\n",
    "#     listYM  = list(map(lambda x : x[3:11],arrayY))\n",
    "#     listYA  = list(map(lambda x : x[17:],arrayY))\n",
    "\n",
    "#     arrayYM = np.array(listYM)\n",
    "#     arrayYA = np.array(listYA)\n",
    "#     print(arrayYM)\n",
    "#     # arrayYM.sort()\n",
    "#     # arrayYA.sort()\n",
    "\n",
    "#     dict_M = defaultdict(list)\n",
    "#     dict_A = defaultdict(list)\n",
    "\n",
    "#     df.reset_index(inplace = True)\n",
    "\n",
    "#     for i in range(0,len(arrayX)):\n",
    "#         indices_M = np.where(arrayYM[i] == np.amax(arrayYM[i]))\n",
    "#         indices_A = np.where(arrayYA[i] == np.amax(arrayYA[i]))\n",
    "\n",
    "#         dict_M[i].append(indices_M[0][0]) \n",
    "#         dict_A[i].append(indices_A[0][0])\n",
    "\n",
    "#     ToP_M_df = pd.DataFrame.from_dict(dict_M)\n",
    "#     ToP_A_df = pd.DataFrame.from_dict(dict_A)\n",
    "\n",
    "#     top_M_dict = ToP_M_df.T + 3\n",
    "#     top_A_dict = ToP_A_df.T + 17\n",
    "\n",
    "#     dict_M.clear() \n",
    "#     dict_A.clear()\n",
    "\n",
    "\n",
    "#     X1 = df.merge(top_M_dict, left_index = True, right_index = True).merge(top_A_dict,left_index = True, right_index = True)\n",
    "\n",
    "#     return X1"
   ]
  },
  {
   "cell_type": "code",
   "execution_count": 482,
   "metadata": {},
   "outputs": [],
   "source": [
    "# Original find_peaks 2\n",
    "# def find_peaksMA(X):\n",
    "\n",
    "#     df = X.copy()\n",
    "\n",
    "#     arrayY = X.to_numpy().copy()\n",
    "\n",
    "#     listYM  = list(map(lambda x : x[0:12],arrayY))\n",
    "#     listYA  = list(map(lambda x : x[12:],arrayY))\n",
    "\n",
    "#     arrayYM = np.array(listYM)\n",
    "#     arrayYA = np.array(listYA)\n",
    "\n",
    "#     arrayYM1 = np.array(listYM)\n",
    "#     arrayYA1 = np.array(listYA)\n",
    "#     # df.reset_index(inplace = True)\n",
    "#     # df.drop(['mean'], axis = 1, inplace=True)\n",
    "\n",
    "#     indices_M = np.where(arrayYM[0] == np.amax(arrayYM[0]))\n",
    "#     indices_A = np.where(arrayYA[0] == np.amax(arrayYA[0]))\n",
    "#     # print('indices_M = {}'.format(indices_M))\n",
    "#     # print(range_min3(df, indices_M[0]))\n",
    "#     while range_min3(arrayYM1[0], indices_M[0]) == False:\n",
    "#     # if range_min3(df, indices_A[0] + 17) == False:\n",
    "#         # Find the second largest peak\n",
    "#         arrayYM[0][np.where(arrayYM[0] == np.amax(arrayYM[0]))] = 0\n",
    "#         indices_M = np.where(arrayYM[0] == np.amax(arrayYM[0]))\n",
    "#         # print(indices_M)\n",
    "#         # print(arrayYM[0])\n",
    "#         # print(range_min3(df, indices_A[0] + 17))\n",
    "\n",
    "#     while range_min3(arrayYA1[0], indices_A[0]) == False:\n",
    "#         # Find the second largest peak\n",
    "#         arrayYA[0][np.where(arrayYA[0] == np.amax(arrayYA[0]))] = 0\n",
    "#         indices_A = np.where(arrayYA[0] == np.amax(arrayYA[0]))\n",
    "\n",
    "\n",
    "#     df['0_x'] = indices_M[0] \n",
    "#     df['0_y'] = indices_A[0] + 12 \n",
    "\n",
    "#     return df"
   ]
  },
  {
   "cell_type": "code",
   "execution_count": 324,
   "metadata": {},
   "outputs": [],
   "source": [
    "def find_peaksMA(X):\n",
    "\n",
    "    df = X.copy()\n",
    "\n",
    "    arrayY = X.to_numpy().copy()\n",
    "\n",
    "    listYM  = list(map(lambda x : x[0:12],arrayY))\n",
    "    listYA  = list(map(lambda x : x[12:],arrayY))\n",
    "\n",
    "    arrayYM = np.array(listYM)\n",
    "    arrayYA = np.array(listYA)\n",
    "\n",
    "    arrayYM1 = np.array(listYM)\n",
    "    arrayYA1 = np.array(listYA)\n",
    "\n",
    "    indices_M = np.where(arrayYM[0] == np.amax(arrayYM[0]))\n",
    "    indices_A = np.where(arrayYA[0] == np.amax(arrayYA[0]))\n",
    "\n",
    "    while range_min3(arrayYM1[0], indices_M[0][0]) == False:\n",
    "        arrayYM[0][np.where(arrayYM[0] == np.amax(arrayYM[0]))] = 0\n",
    "        indices_M = np.where(arrayYM[0] == np.amax(arrayYM[0]))\n",
    "        # print(\"arrayYM = {}\".format(arrayYM))\n",
    "        all_zeros = not np.any(arrayYM[0])\n",
    "        if all_zeros == True:\n",
    "            return df, False\n",
    "        # print(\"all_zeros = {}\".format(all_zeros))\n",
    "  \n",
    "    while range_min3(arrayYA1[0], indices_A[0][0]) == False:\n",
    "        # Find the second largest peak\n",
    "        arrayYA[0][np.where(arrayYA[0] == np.amax(arrayYA[0]))] = 0\n",
    "        indices_A = np.where(arrayYA[0] == np.amax(arrayYA[0]))\n",
    "        all_zeros = not np.any(arrayYA[0])\n",
    "        if all_zeros == True:\n",
    "            return df, False\n",
    "\n",
    "    df['0_x'] = indices_M[0] \n",
    "    df['0_y'] = indices_A[0] + 12 \n",
    "\n",
    "    return df, True"
   ]
  },
  {
   "cell_type": "code",
   "execution_count": 57,
   "metadata": {},
   "outputs": [],
   "source": [
    "def slope():\n",
    "    X = describe_household(id = 3223)\n",
    "    df = X.copy()\n",
    "\n",
    "    arrayY = X.to_numpy().copy()\n",
    "\n",
    "    listYM  = list(map(lambda x : x[0:12],arrayY))\n",
    "    listYA  = list(map(lambda x : x[11:],arrayY))\n",
    "\n",
    "    arrayYM = np.array(listYM)\n",
    "    arrayYA = np.array(listYA)\n",
    "\n",
    "    return arrayYM, arrayYA"
   ]
  },
  {
   "cell_type": "code",
   "execution_count": 330,
   "metadata": {},
   "outputs": [],
   "source": [
    "Xf = describe_household(id = 223)"
   ]
  },
  {
   "cell_type": "code",
   "execution_count": 331,
   "metadata": {},
   "outputs": [
    {
     "data": {
      "text/plain": [
       "(             0         1         2         3         4         5         6  \\\n",
       " mean  2.266179  1.945473  1.769422  1.696878  1.920948  5.295354  5.590045   \n",
       " \n",
       "              7         8         9  ...        16        17        18  \\\n",
       " mean  4.086549  8.113917  8.803123  ...  7.868215  9.754917  9.996215   \n",
       " \n",
       "            19        20        21        22        23  0_x  0_y  \n",
       " mean  8.41888  8.051965  7.299274  4.743505  2.994988    9   18  \n",
       " \n",
       " [1 rows x 26 columns],\n",
       " True)"
      ]
     },
     "execution_count": 331,
     "metadata": {},
     "output_type": "execute_result"
    }
   ],
   "source": [
    "Xf"
   ]
  },
  {
   "cell_type": "code",
   "execution_count": 65,
   "metadata": {},
   "outputs": [],
   "source": [
    "slope_M, slope_A = slope()\n",
    "slope_M[0]"
   ]
  },
  {
   "cell_type": "code",
   "execution_count": 21,
   "metadata": {},
   "outputs": [
    {
     "data": {
      "text/plain": [
       "12"
      ]
     },
     "execution_count": 21,
     "metadata": {},
     "output_type": "execute_result"
    }
   ],
   "source": [
    "len(slope_M[0])"
   ]
  },
  {
   "cell_type": "code",
   "execution_count": 30,
   "metadata": {},
   "outputs": [],
   "source": [
    "y = slope_M[0]"
   ]
  },
  {
   "cell_type": "code",
   "execution_count": 31,
   "metadata": {},
   "outputs": [
    {
     "data": {
      "text/plain": [
       "[-0.27870524366696614,\n",
       " -0.19892677553201654,\n",
       " 0.02495710524053507,\n",
       " -0.22672213194637303,\n",
       " 0.0513256811379077,\n",
       " 0.8227418060104057,\n",
       " 1.1934092860485688,\n",
       " 0.8785336096348653,\n",
       " 0.3529451284185612,\n",
       " 0.7280784424486901,\n",
       " 1.0717934777989235]"
      ]
     },
     "execution_count": 31,
     "metadata": {},
     "output_type": "execute_result"
    }
   ],
   "source": [
    "dy=[y[i+1]-y[i] for i in range(len(y)-1)]\n",
    "dy"
   ]
  },
  {
   "cell_type": "code",
   "execution_count": 394,
   "metadata": {},
   "outputs": [],
   "source": [
    "dpy=[dy[i+1]-dy[i] for i in range(len(dy)-1)]"
   ]
  },
  {
   "cell_type": "markdown",
   "metadata": {},
   "source": [
    "#### Function that finds range"
   ]
  },
  {
   "cell_type": "code",
   "execution_count": 255,
   "metadata": {},
   "outputs": [],
   "source": [
    "def range_min3(df, indices_A):\n",
    "    # print(\"df = {}\".format(df))\n",
    "    dy = [df[i+1]-df[i] for i in range(len(df)-1)]\n",
    "\n",
    "    if indices_A == 11 or indices_A == 0 or indices_A == 12:\n",
    "        return False  \n",
    "    else:\n",
    "        if dy[indices_A - 1] > 0 and dy[indices_A] < 0:\n",
    "            # print(\"dy[indices_A - 2] < 0 and dy[indices_A - 1] > 0 = {} and {}\".format(dy[indices_A - 2],dy[indices_A - 1]))\n",
    "            return True    \n",
    "        else:\n",
    "            # print(\"dy[indices_A - 2] < 0 and dy[indices_A - 1] > 0 = {} and {}\".format(dy[indices_A - 2],dy[indices_A - 1]))\n",
    "            return False\n"
   ]
  },
  {
   "cell_type": "code",
   "execution_count": 332,
   "metadata": {},
   "outputs": [
    {
     "name": "stderr",
     "output_type": "stream",
     "text": [
      "No handles with labels found to put in legend.\n"
     ]
    },
    {
     "data": {
      "image/png": "[encoded data removed]",
      "text/plain": [
       "<Figure size 864x432 with 1 Axes>"
      ]
     },
     "metadata": {},
     "output_type": "display_data"
    }
   ],
   "source": [
    "# build the plot\n",
    "fig, ax = plt.subplots(figsize=(12,6))\n",
    "plt.style.use('fivethirtyeight')  \n",
    "i = 223\n",
    "# Plot the households loadprofile\n",
    "# fig = plt.plot(describe_household(id = i).iloc[0,0:24], linewidth = 1.5)#, linestyle = 'dashed')\n",
    "fig = plt.plot(df.iloc[0,0:24], linewidth = 1.5)#, linestyle = 'dashed')\n",
    "plt.title(\"Household \"+str(i))\n",
    "\n",
    "\n",
    "plt.legend(loc = \"upper left\")\n",
    "# Set the labels and axis limits\n",
    "ax.set_xlim([0,24])\n",
    "ax.set_xlabel('Time of day')\n",
    "ax.set_ylabel(\"Amplitude\")\n",
    "ax.set_title('Gaussian Curve Fit: Household ' + str(i))\n",
    "\n",
    "# # Save the figure\n",
    "# plt.savefig('GaussCurveFit' + str(houseID) + '.png', dpi=72, bbox_inches='tight')\n",
    "plt.show()"
   ]
  },
  {
   "cell_type": "markdown",
   "metadata": {},
   "source": [
    "# Detremine where the daily data increases and decreases after and before the peaks"
   ]
  },
  {
   "cell_type": "markdown",
   "metadata": {},
   "source": [
    "### Find the average profile of a user"
   ]
  },
  {
   "cell_type": "code",
   "execution_count": 11,
   "metadata": {},
   "outputs": [],
   "source": [
    "import random\n",
    "\n",
    "list_len = []\n",
    "list_ids = []\n",
    "\n",
    "for ids in Xbin['600-1200']:\n",
    "    list_ids.append(ids)\n",
    "    list_len.append(len(X.loc[ids,:]))\n"
   ]
  },
  {
   "cell_type": "markdown",
   "metadata": {},
   "source": [
    "# Gauss Fit Code"
   ]
  },
  {
   "cell_type": "markdown",
   "metadata": {},
   "source": [
    "#### First load the consumption data"
   ]
  },
  {
   "cell_type": "code",
   "execution_count": 537,
   "metadata": {},
   "outputs": [
    {
     "name": "stdout",
     "output_type": "stream",
     "text": [
      "dropping all zero rows\n"
     ]
    }
   ],
   "source": [
    "X = genX([1994,2014], drop_0 = True)\n",
    "\n",
    "Xbin = xBins(X, 'amd')"
   ]
  },
  {
   "cell_type": "markdown",
   "metadata": {},
   "source": [
    "### Function to select a household"
   ]
  },
  {
   "cell_type": "code",
   "execution_count": 7,
   "metadata": {},
   "outputs": [],
   "source": [
    "def selectRandomUser(Household):\n",
    "\n",
    "    house_id = Household\n",
    "    \n",
    "    # Create a dataframe with all of that households data\n",
    "    A = X.loc[house_id,:]\n",
    "    H = A.copy()\n",
    "\n",
    "    return H"
   ]
  },
  {
   "cell_type": "markdown",
   "metadata": {},
   "source": [
    "#### Function to extract households average profile info"
   ]
  },
  {
   "cell_type": "code",
   "execution_count": 346,
   "metadata": {},
   "outputs": [],
   "source": [
    "def describe_household(id):\n",
    "       # Household ids\n",
    "       # id = [12020322]#[483]#[2230]#,1002790,483,3063,5351,12020322,5283,5293,168,7118,156,5239,29,1418,1005536]\n",
    "       id = [id]\n",
    "\n",
    "       for i in id:\n",
    "              H = selectRandomUser(i)\n",
    "\n",
    "              # H1 = find_peaksMA(H)\n",
    "              H1_d = H.describe()\n",
    "\n",
    "              H1_d = H1_d.drop(['count','std','min','max', '25%','50%','75%'])\n",
    "              \n",
    "              H1_d1, check = find_peaksMA(H1_d)\n",
    "\n",
    "       # H1_d1.drop(\"mean\", axis = 1, inplace=True)\n",
    "              \n",
    "       return H1_d1, check"
   ]
  },
  {
   "cell_type": "markdown",
   "metadata": {},
   "source": [
    "#### Code to create Gaussian"
   ]
  },
  {
   "cell_type": "code",
   "execution_count": 9,
   "metadata": {},
   "outputs": [],
   "source": [
    "#Define the Gaussian function\n",
    "def gauss(x, H, A, mu, sigma):\n",
    "    return H + A * np.exp(-(x - mu) ** 2 / (2 * sigma ** 2))"
   ]
  },
  {
   "cell_type": "markdown",
   "metadata": {},
   "source": [
    "#### Code to plot the Gaussian fit"
   ]
  },
  {
   "cell_type": "code",
   "execution_count": 9,
   "metadata": {},
   "outputs": [],
   "source": [
    "def plotGaussFit(y2):\n",
    "    # Household ids\n",
    "    # id = [2230]#,1002790,483,3063,5351,12020322,5283,5293,168,7118,156,5239,29,1418,1005536]\n",
    "\n",
    "    x_all = np.arange(0, 24, 0.001) # entire range of x, both in and out of spec\n",
    "\n",
    "    # build the plot\n",
    "    fig, ax = plt.subplots(figsize=(12,6))\n",
    "    plt.style.use('fivethirtyeight')  \n",
    "\n",
    "    # Plot the households loadprofile\n",
    "    fig = plt.plot(describe_household(id).iloc[0,0:24])\n",
    "    plt.title(\"Household \"+str(i))\n",
    "\n",
    "    # Plot Gaussian fit\n",
    "    ax.plot(x_all,y2)\n",
    "\n",
    "    # Set the labels and axis limits\n",
    "    ax.set_xlim([0,24])\n",
    "    ax.set_xlabel('Time of day')\n",
    "    ax.set_ylabel(\"Amplitude\")\n",
    "    ax.set_title('Gaussian Curve Fit')\n",
    "\n",
    "    # # Save the figure\n",
    "    # plt.savefig('normal_curve.png', dpi=72, bbox_inches='tight')\n",
    "    plt.show()"
   ]
  },
  {
   "cell_type": "markdown",
   "metadata": {},
   "source": [
    "## START"
   ]
  },
  {
   "cell_type": "markdown",
   "metadata": {},
   "source": [
    "### Select Household and Extract mean and amplitude of peaks"
   ]
  },
  {
   "cell_type": "code",
   "execution_count": 824,
   "metadata": {},
   "outputs": [],
   "source": [
    "# id = [12020322]#[483]#[2230]#,1002790,483,3063,5351,12020322,5283,5293,168,7118,156,5239,29,1418,1005536]\n",
    "\n",
    "#  1005558,  1006685,  1006691, 12029058, 12029066\n",
    "houseID = 567\n",
    "\n",
    "df, check = describe_household(id = houseID)\n",
    "\n",
    "# Determine the y-offset i.e. minimum value in day\n",
    "H_offset = df.iloc[0,:24].min()\n",
    "\n",
    "# Determine the amplitude of gaussian\n",
    "A1 = df[str(df['0_x'].values[0])].values[0] - H_offset # Adjust for offset\n",
    "A2 = df[str(df['0_y'].values[0])].values[0] - H_offset\n",
    "\n",
    "# Determine the mean of the gaussian\n",
    "mu1 = df['0_x'].values[0]\n",
    "mu2 = df['0_y'].values[0]"
   ]
  },
  {
   "cell_type": "markdown",
   "metadata": {},
   "source": [
    "#### New and improved Function that calculates overall error of gauss fit"
   ]
  },
  {
   "cell_type": "code",
   "execution_count": 825,
   "metadata": {},
   "outputs": [],
   "source": [
    "def Sigma1(increment = 0):\n",
    "    # Conditional if statement to check that \n",
    "    p1 = 4 + increment\n",
    "\n",
    "    i1 = 0\n",
    "\n",
    "    Xpeak1 = df[str(df['0_x'].values[0])].values[0]\n",
    "\n",
    "    for c in df:\n",
    "        if int(c) != df['0_x'].values[0]:\n",
    "            x1 = df[str(df['0_x'].values[0] - int(c))].values[0]\n",
    "            temp1 = Xpeak1 - x1\n",
    "\n",
    "            if temp1 >= 0.0:\n",
    "                Xpeak1 = x1\n",
    "            else:\n",
    "                i1 = df['0_x'].values[0]-int(c) # i returns the index of the lower boundary of range\n",
    "                break\n",
    "        else:\n",
    "            i1 = df['0_x'].values[0]-int(c) # i returns the index of the lower boundary of range\n",
    "            break\n",
    "\n",
    "    range1 = 2*(np.sqrt((df['0_x'].values[0] - i1)**2))\n",
    "    \n",
    "    sigma1 = range1/p1\n",
    "\n",
    "    return sigma1, i1"
   ]
  },
  {
   "cell_type": "code",
   "execution_count": 826,
   "metadata": {},
   "outputs": [
    {
     "name": "stdout",
     "output_type": "stream",
     "text": [
      "RMSE1 = 0.4462964897480033\n"
     ]
    }
   ],
   "source": [
    "# Code that finds the value one point above the range index\n",
    "sigma1, i1 = Sigma1()\n",
    "\n",
    "# Calculate error\n",
    "actual = df.iloc[0,i1:df['0_x'].values[0]].to_list()\n",
    "predicted = gauss(np.arange(i1,df['0_x'].values[0],1),H_offset,A1,mu1,sigma1)\n",
    "MSE = mean_squared_error(actual, predicted)\n",
    "RMSE = math.sqrt(MSE)\n",
    "\n",
    "tolerance1 = RMSE - RMSE*0.95\n",
    "i = 0.1 # Constant value by which to increase/decrease the range in the initial sigma function\n",
    "t = 0\n",
    "while RMSE > tolerance1:\n",
    "    previous_error1 = RMSE\n",
    "\n",
    "    sigma1, i1= Sigma1(increment = i)\n",
    "    predicted = gauss(np.arange(i1,df['0_x'].values[0],1),H_offset,A1,mu1,sigma1) # Get the value of the gauss one point above the min peak\n",
    "    MSE = mean_squared_error(actual, predicted)\n",
    "    RMSE = math.sqrt(MSE)   \n",
    "    # conditional for gauss 1\n",
    "    if RMSE > previous_error1:\n",
    "        i = i + 0.1\n",
    "        sigma1, i1 = Sigma1(increment = i)\n",
    "        predicted = gauss(np.arange(i1,df['0_x'].values[0],1),H_offset,A1,mu1,sigma1) # Get the value of the gauss one point above the min peak\n",
    "        MSE = mean_squared_error(actual, predicted)\n",
    "        RMSE = math.sqrt(MSE) \n",
    "    else:\n",
    "        i = i - 0.1\n",
    "        sigma1, i1 = Sigma1(increment = i)\n",
    "        predicted = gauss(np.arange(i1,df['0_x'].values[0],1),H_offset,A1,mu1,sigma1) # Get the value of the gauss one point above the min peak\n",
    "        MSE = mean_squared_error(actual, predicted)\n",
    "        RMSE = math.sqrt(MSE) \n",
    "\n",
    "    t = t + 1\n",
    "    if t >= 10000:\n",
    "        t = 0\n",
    "        i = 0\n",
    "        tolerance1 = tolerance1 + 0.1\n",
    "\n",
    "RMSE1 = RMSE\n",
    "print(\"RMSE1 = {}\".format(RMSE1))\n",
    "sigma1 = np.sqrt(sigma1**2)"
   ]
  },
  {
   "cell_type": "code",
   "execution_count": 827,
   "metadata": {},
   "outputs": [],
   "source": [
    "def Sigma2(increment = 0):\n",
    "    # Conditional if statement to check that \n",
    "    p1 = 4 + increment\n",
    "\n",
    "    i1 = 0\n",
    "\n",
    "    Xpeak1 = df[str(df['0_x'].values[0])].values[0]# Get the value at the peak\n",
    "    \n",
    "    for c in df:\n",
    "        x1 = df[str(df['0_x'].values[0]+int(c))].values[0]\n",
    "        temp1 = Xpeak1 - x1\n",
    "        # print(\"temp1 = Xpeak1 - x1 = {} - {} = {}\".format(Xpeak1,x1,temp1))\n",
    "        if temp1 >= 0:\n",
    "            Xpeak1 = x1\n",
    "        else:\n",
    "            i1 = df['0_x'].values[0]+int(c) # i returns the index of the lower boundary of range\n",
    "            break\n",
    "\n",
    "    range1 = 2*(np.sqrt((df['0_x'].values[0] - i1)**2))\n",
    "\n",
    "    sigma1 = range1/p1\n",
    "\n",
    "    return sigma1, i1\n"
   ]
  },
  {
   "cell_type": "code",
   "execution_count": 828,
   "metadata": {},
   "outputs": [
    {
     "name": "stdout",
     "output_type": "stream",
     "text": [
      "0.11924648427494855\n",
      "RMSE2 = 1.7054391266949889\n"
     ]
    }
   ],
   "source": [
    "sigma2, i2= Sigma2()\n",
    "\n",
    "# Calculate error\n",
    "actual = df.iloc[0,df['0_x'].values[0]:i2].to_list()\n",
    "predicted = gauss(np.arange(df['0_x'].values[0],i2,1),H_offset,A1,mu1,sigma2)\n",
    "MSE = mean_squared_error(actual, predicted)\n",
    "RMSE = math.sqrt(MSE)\n",
    "\n",
    "tolerance2 = RMSE - RMSE*0.95\n",
    "print(tolerance2)\n",
    "i = 0.1 # Constant value by which to increase/decrease the range in the initial sigma function\n",
    "t = 0\n",
    "while RMSE > tolerance2:\n",
    "\n",
    "    # print(\"RMSE = {}\".format(RMSE))\n",
    "    # print(\"tolerance2 = {}\".format(tolerance2))\n",
    "    # print(\"actual = {}\".format(actual))\n",
    "    # print(\"predicted = {}\".format(predicted))\n",
    "    previous_error2 = RMSE\n",
    "    sigma2, i2 = Sigma2(increment = i)\n",
    "    predicted = gauss(np.arange(df['0_x'].values[0],i2,1),H_offset,A1,mu1,sigma2)\n",
    "    MSE = mean_squared_error(actual, predicted)\n",
    "    RMSE = math.sqrt(MSE)\n",
    "    \n",
    "    # Conditional for gauss2\n",
    "    if RMSE > previous_error2:\n",
    "        i = i + 0.1\n",
    "        sigma2, i2 = Sigma2(increment = i)\n",
    "        predicted = gauss(np.arange(df['0_x'].values[0],i2,1),H_offset,A1,mu1,sigma2)\n",
    "        MSE = mean_squared_error(actual, predicted)\n",
    "        RMSE = math.sqrt(MSE)\n",
    "    else:\n",
    "        i = i -0.1        \n",
    "        sigma2, i2 = Sigma2(increment = i)\n",
    "        predicted = gauss(np.arange(df['0_x'].values[0],i2,1),H_offset,A1,mu1,sigma2)\n",
    "        MSE = mean_squared_error(actual, predicted)\n",
    "        RMSE = math.sqrt(MSE)\n",
    "\n",
    "    t = t + 1\n",
    "    if t >= 1000:\n",
    "        t = 0\n",
    "        i = 0\n",
    "        tolerance2 = tolerance2 + 0.1\n",
    "\n",
    "\n",
    "RMSE2 = RMSE\n",
    "print(\"RMSE2 = {}\".format(RMSE2))\n",
    "sigma2 = np.sqrt(sigma2**2)"
   ]
  },
  {
   "cell_type": "code",
   "execution_count": 829,
   "metadata": {},
   "outputs": [],
   "source": [
    "def Sigma3(increment = 0):  \n",
    "    # Conditional if statement to check that \n",
    "    p2 = 4 + increment\n",
    "\n",
    "    # i1 = 0\n",
    "    i2 = 0\n",
    "\n",
    "    Xpeak2 = df[str(df['0_y'].values[0])].values[0]\n",
    "\n",
    "    for c in df:\n",
    "        x2 = df[str(df['0_y'].values[0]-int(c))].values[0]\n",
    "        temp2 = Xpeak2 - x2\n",
    "        \n",
    "        if temp2 >= 0.0:\n",
    "            Xpeak2 = x2\n",
    "        else:\n",
    "            i2 = df['0_y'].values[0]-int(c)+1 # i returns the index of the lower boundary of range\n",
    "            break\n",
    "\n",
    "    range2 = 2*(np.sqrt((df['0_y'].values[0] - i2)**2))\n",
    "\n",
    "    sigma2 = range2/p2\n",
    "\n",
    "    return sigma2, i2\n"
   ]
  },
  {
   "cell_type": "code",
   "execution_count": 830,
   "metadata": {},
   "outputs": [
    {
     "name": "stdout",
     "output_type": "stream",
     "text": [
      "RMSE3 = 0.8465577953216388\n"
     ]
    }
   ],
   "source": [
    "# Code that finds the value one point above the range index\n",
    "sigma3, i3 = Sigma3()\n",
    "\n",
    "# Calculate error\n",
    "actual = df.iloc[0,i3:df['0_y'].values[0]].to_list()\n",
    "predicted = gauss(np.arange(i3,df['0_y'].values[0],1),H_offset,A2,mu2,sigma3)\n",
    "MSE = mean_squared_error(actual, predicted)\n",
    "RMSE = math.sqrt(MSE)\n",
    "\n",
    "tolerance1 = RMSE - RMSE*0.95\n",
    "i = 0.1 # Constant value by which to increase/decrease the range in the initial sigma function\n",
    "t = 0\n",
    "while RMSE > tolerance1:\n",
    "    previous_error3 = RMSE\n",
    "    # print(sigma3)\n",
    "    # print(\"RMSE = {}\".format(RMSE))\n",
    "\n",
    "    sigma3, i3 = Sigma3(increment = i)\n",
    "    predicted = gauss(np.arange(i3,df['0_y'].values[0],1), H_offset, A2, mu2, sigma3)\n",
    "    # print('actual = {}'.format(actual))\n",
    "    # print('predicted = {}'.format(predicted))\n",
    "    MSE = mean_squared_error(actual, predicted)\n",
    "    RMSE = math.sqrt(MSE)\n",
    "\n",
    "    # conditional for gauss 1\n",
    "    if RMSE > previous_error3:\n",
    "        i = i + 0.1\n",
    "        sigma3, i3 = Sigma3(increment = i)\n",
    "        predicted = gauss(np.arange(i3,df['0_y'].values[0],1),H_offset,A2,mu2,sigma3)\n",
    "        MSE = mean_squared_error(actual, predicted)\n",
    "        RMSE = math.sqrt(MSE)\n",
    "    else:\n",
    "        i = i - 0.1\n",
    "        sigma3, i3 = Sigma3(increment = i)\n",
    "        predicted = gauss(np.arange(i3,df['0_y'].values[0],1),H_offset,A2,mu2,sigma3)\n",
    "        MSE = mean_squared_error(actual, predicted)\n",
    "        RMSE = math.sqrt(MSE)\n",
    "\n",
    "    t = t + 1\n",
    "    if t >= 10000:\n",
    "        t = 0\n",
    "        i = 0\n",
    "        tolerance1 = tolerance1 + 0.1\n",
    "   \n",
    "\n",
    "RMSE3 = RMSE\n",
    "print(\"RMSE3 = {}\".format(RMSE))\n",
    "sigma3 = np.sqrt(sigma3**2)\n"
   ]
  },
  {
   "cell_type": "code",
   "execution_count": 831,
   "metadata": {},
   "outputs": [],
   "source": [
    "def Sigma4(increment=0):\n",
    "    # Conditional if statement to check that \n",
    "    p2 = 4 + increment\n",
    "\n",
    "    i2 = 0\n",
    "\n",
    "    Xpeak2 = df[str(df['0_y'].values[0])].values[0]# Get the value at the peak\n",
    "    \n",
    "    for c in df:\n",
    "        try:\n",
    "            x2 = df[str(df['0_y'].values[0]+int(c))].values[0] # Get the one after the peak\n",
    "            temp2 = Xpeak2 - x2\n",
    "            # print(\"temp2 = Xpeak2 - x2 = {} - {} = {}\".format(Xpeak2,x2,temp2))\n",
    "            \n",
    "            if temp2 >= 0:\n",
    "                Xpeak2 = x2\n",
    "            else:\n",
    "                i2 = df['0_y'].values[0]+int(c) # i returns the index of the lower boundary of range\n",
    "                break\n",
    "            \n",
    "        except KeyError:\n",
    "            i2 = df['0_y'].values[0]+int(c)\n",
    "            break\n",
    "\n",
    "    range2 = 2*(np.sqrt((df['0_y'].values[0] - i2)**2))\n",
    "    \n",
    "    sigma2 = range2/p2\n",
    "\n",
    "    return sigma2, i2"
   ]
  },
  {
   "cell_type": "code",
   "execution_count": 832,
   "metadata": {},
   "outputs": [
    {
     "name": "stdout",
     "output_type": "stream",
     "text": [
      "0.5583510458580723\n"
     ]
    }
   ],
   "source": [
    "sigma4, i4= Sigma4()\n",
    "\n",
    "actual = df.iloc[0,df['0_y'].values[0]:i4].to_list()\n",
    "predicted = gauss(np.arange(df['0_y'].values[0],i4,1),H_offset,A2,mu2,sigma4)\n",
    "MSE = mean_squared_error(actual, predicted)\n",
    "RMSE = math.sqrt(MSE)\n",
    "\n",
    "tolerance2 = RMSE - RMSE*0.95\n",
    "# print(tolerance2)\n",
    "i = 0.1 # Constant value by which to increase/decrease the range in the initial sigma function\n",
    "t = 0\n",
    "while RMSE > tolerance2:\n",
    "    previous_error4 = RMSE\n",
    "    # print('sigma4 = {}'.format(sigma4))\n",
    "    # print('RMSE = {}'.format(RMSE))\n",
    "    sigma4, i4 = Sigma4(increment = i)\n",
    "    predicted = gauss(np.arange(df['0_y'].values[0],i4,1),H_offset,A2,mu2,sigma4)\n",
    "    MSE = mean_squared_error(actual, predicted)\n",
    "    RMSE = math.sqrt(MSE)\n",
    "    \n",
    "    # Conditional for gauss2\n",
    "    if RMSE > previous_error4:\n",
    "        i = i + 0.1\n",
    "        sigma4, i4 = Sigma4(increment = i)\n",
    "        predicted = gauss(np.arange(df['0_y'].values[0],i4,1),H_offset,A2,mu2,sigma4)\n",
    "        MSE = mean_squared_error(actual, predicted)\n",
    "        RMSE = math.sqrt(MSE)\n",
    "\n",
    "    else:\n",
    "        i = i - 0.1        \n",
    "        sigma4, i4 = Sigma4(increment = i)\n",
    "        predicted = gauss(np.arange(df['0_y'].values[0],i4,1),H_offset,A2,mu2,sigma4)\n",
    "        MSE = mean_squared_error(actual, predicted)\n",
    "        RMSE = math.sqrt(MSE)\n",
    "\n",
    "    t = t + 1\n",
    "    if t >= 10000:\n",
    "        t = 0\n",
    "        i = 0\n",
    "        tolerance2 = tolerance2 + 0.1\n",
    "print(tolerance2)\n",
    "RMSE4 = RMSE\n",
    "sigma4 = np.sqrt(sigma4**2)\n"
   ]
  },
  {
   "cell_type": "markdown",
   "metadata": {},
   "source": [
    "#### Plot Gaussian Fit"
   ]
  },
  {
   "cell_type": "code",
   "execution_count": 833,
   "metadata": {},
   "outputs": [],
   "source": [
    "# sigma1, sigma3, i1, i3= initialSigma1()\n",
    "# sigma2, sigma4, i2, i4 = initialSigma2()\n",
    "x_all = np.arange(0, 24, 0.1) # entire range of x, both in and out of spec\n",
    "y1 = gauss(x_all, H_offset,A1,mu1,sigma1)\n",
    "y2 = gauss(x_all, H_offset,A1,mu1,sigma2)\n",
    "y3 = gauss(x_all, H_offset,A2,mu2,sigma3)\n",
    "y4 = gauss(x_all, H_offset,A2,mu2,sigma4)"
   ]
  },
  {
   "cell_type": "code",
   "execution_count": 834,
   "metadata": {},
   "outputs": [
    {
     "data": {
      "image/png": "[encoded data removed]",
      "text/plain": [
       "<Figure size 864x432 with 1 Axes>"
      ]
     },
     "metadata": {},
     "output_type": "display_data"
    }
   ],
   "source": [
    "# build the plot\n",
    "fig, ax = plt.subplots(figsize=(12,6))\n",
    "plt.style.use('fivethirtyeight')  \n",
    "\n",
    "# Plot the households loadprofile\n",
    "fig = plt.plot(df.iloc[0,0:24], linewidth = 1.5)#, linestyle = 'dashed')\n",
    "plt.title(\"Household \"+str(i))\n",
    "\n",
    "# Plot Gauss Fit\n",
    "\n",
    "# ax.plot(x_all[:],y1[:],linewidth = 0.5, linestyle = 'dotted',color = 'purple')\n",
    "ax.plot(x_all[:10*df['0_x'].values[0]],y1[:10*df['0_x'].values[0]],linewidth = 1.5, color = 'purple',label = \"Gauss 1, Sigma1 = \" + str('{0:.3g}'.format(sigma1))+ \", RMSE = \" + str('{0:.3g}'.format(RMSE1)))\n",
    "# ax.plot(x_all[:],y2[:],linewidth = 0.5, linestyle = 'dotted',color = 'red')\n",
    "ax.plot(x_all[10*df['0_x'].values[0]:],y2[10*df['0_x'].values[0]:],linewidth = 1.5,color = 'red', label = \"Gauss 2, Sigma2 = \" + str('{0:.3g}'.format(sigma2))+ \", RMSE = \" + str('{0:.3g}'.format(RMSE2)))\n",
    "# ax.plot(x_all[:],y3[:],linewidth = 0.5, linestyle = 'dotted',color = 'cyan')\n",
    "ax.plot(x_all[:10*df['0_y'].values[0]],y3[:10*df['0_y'].values[0]],linewidth = 1.5, color = 'cyan',label = \"Gauss 3, Sigma3 = \" + str('{0:.3g}'.format(sigma3))+ \", RMSE = \" + str('{0:.3g}'.format(RMSE3)))\n",
    "# ax.plot(x_all[:],y4[:],linewidth = 0.5, linestyle = 'dotted',color = 'green')\n",
    "ax.plot(x_all[10*df['0_y'].values[0]:],y4[10*df['0_y'].values[0]:],linewidth = 1.5, color = 'green',label = \"Gauss 4, Sigma4 = \" + str('{0:.3g}'.format(sigma4))+ \", RMSE = \" + str('{0:.3g}'.format(RMSE4)))\n",
    "\n",
    "plt.legend(loc = \"upper left\")\n",
    "# Set the labels and axis limits\n",
    "ax.set_xlim([0,24])\n",
    "ax.set_xlabel('Time of day')\n",
    "ax.set_ylabel(\"Amplitude\")\n",
    "ax.set_title('Gaussian Curve Fit: Household ' + str(houseID))\n",
    "\n",
    "# # Save the figure\n",
    "# plt.savefig('GaussCurveFit' + str(houseID) + '.png', dpi=72, bbox_inches='tight')\n",
    "plt.show()"
   ]
  },
  {
   "cell_type": "markdown",
   "metadata": {},
   "source": [
    "## Calculate the RMSE of the entire profile"
   ]
  },
  {
   "cell_type": "code",
   "execution_count": 835,
   "metadata": {},
   "outputs": [],
   "source": [
    "x_1 = np.arange(0, mu1, 1)\n",
    "x_2 = np.arange(mu1, i2, 1)\n",
    "x_3 = np.arange(i3, mu2,1)\n",
    "x_4 = np.arange(mu2, 24,1)\n",
    "\n",
    "x_vals = np.hstack((x_1,x_2,x_3,x_4))\n",
    "x_vals_1 = np.unique(x_vals)\n"
   ]
  },
  {
   "cell_type": "markdown",
   "metadata": {},
   "source": [
    "#### Create synthetic profile"
   ]
  },
  {
   "cell_type": "code",
   "execution_count": 836,
   "metadata": {},
   "outputs": [],
   "source": [
    "def straight_line(m,x,b):\n",
    "    return m*x+b"
   ]
  },
  {
   "cell_type": "code",
   "execution_count": 837,
   "metadata": {},
   "outputs": [
    {
     "name": "stdout",
     "output_type": "stream",
     "text": [
      "Entire array is captured\n",
      "repeating value\n"
     ]
    }
   ],
   "source": [
    "y1 = gauss(x_1, H_offset,A1,mu1,sigma1)\n",
    "y2 = gauss(x_2, H_offset,A1,mu1,sigma2)\n",
    "y3 = gauss(x_3, H_offset,A2,mu2,sigma3)\n",
    "y4 = gauss(x_4, H_offset,A2,mu2,sigma4)\n",
    "\n",
    "if len(x_vals_1) == 24:\n",
    "    print(\"Entire array is captured\")\n",
    "    if x_2[-1] == x_3[0]:\n",
    "        print('repeating value')\n",
    "        x_3 = x_3[1:] # Remove the first value of the x-array\n",
    "        y3 = gauss(x_3, H_offset,A2,mu2,sigma3) # Re-calculate the y-values for gauss 3\n",
    "        synth = np.hstack((y1,y2,y3,y4)) # Generate the synthetic values\n",
    "    else:\n",
    "        synth = np.hstack((y1,y2,y3,y4)) # If there is no repeating values in x_2 and x_3 then generate synthetic profiles without adjusting x_3's values\n",
    "\n",
    "else:\n",
    "    print(\"Missing hours need to be saved\")\n",
    "    x_5 = np.arange(i2,i3,1)\n",
    "    x_vals_1 = np.hstack((x_1,x_2,x_5,x_3,x_4))\n",
    "    x_vals_1 = np.unique(x_vals_1)\n",
    "\n",
    "    # Synthesize the mid range behaviour\n",
    "    m = (gauss(x_3[0], H_offset,A2,mu2,sigma3) - gauss(x_2[-1], H_offset,A1,mu1,sigma2))/(x_3[0]-x_2[-1]) # Calculate slope\n",
    "    b = gauss(x_3[0], H_offset,A2,mu2,sigma3) - m*x_3[0] # Calculate b constant for straight line equation\n",
    "    y_mid = straight_line(m,x_5,b)\n",
    "\n",
    "    synth = np.hstack((y1,y2,y_mid,y3,y4))"
   ]
  },
  {
   "cell_type": "markdown",
   "metadata": {},
   "source": [
    "### Calculate the RMSE of the actual vs synthetic profile"
   ]
  },
  {
   "cell_type": "code",
   "execution_count": 838,
   "metadata": {},
   "outputs": [],
   "source": [
    "actual = df.iloc[0,0:24]\n",
    "predicted = synth\n",
    "MSE = mean_squared_error(actual, predicted)\n",
    "RMSE = math.sqrt(MSE)"
   ]
  },
  {
   "cell_type": "markdown",
   "metadata": {},
   "source": [
    "### Plot the synth and actual profile"
   ]
  },
  {
   "cell_type": "code",
   "execution_count": 839,
   "metadata": {},
   "outputs": [
    {
     "data": {
      "text/plain": [
       "Text(0.5, 1.0, 'Synthetic Profile: Household 567')"
      ]
     },
     "execution_count": 839,
     "metadata": {},
     "output_type": "execute_result"
    },
    {
     "data": {
      "image/png": "[encoded data removed]",
      "text/plain": [
       "<Figure size 864x432 with 1 Axes>"
      ]
     },
     "metadata": {},
     "output_type": "display_data"
    }
   ],
   "source": [
    "# build the plot\n",
    "fig, ax = plt.subplots(figsize=(12,6))\n",
    "plt.style.use('fivethirtyeight')  \n",
    "\n",
    "# Plot the households loadprofile\n",
    "fig = plt.plot(df.iloc[0,0:24], linewidth = 1.5, label = \"Measured Profile\")#, linestyle = 'dashed')\n",
    "plt.title(\"Household \"+str(i))\n",
    "x_all = np.arange(0,24,1)\n",
    "# Plot Gauss Fit\n",
    "ax.plot(x_all,synth,linewidth = 1.5, color = 'purple',label = \"Synthetic Profile, RMSE = \" + str('{0:.3g}'.format(RMSE)))\n",
    "\n",
    "plt.legend(loc = \"upper left\")\n",
    "# Set the labels and axis limits\n",
    "ax.set_xlim([0,24])\n",
    "ax.set_xlabel('Time of day')\n",
    "ax.set_ylabel(\"Amplitude\")\n",
    "ax.set_title('Synthetic Profile: Household ' + str(houseID))\n",
    "\n",
    "# # Save the figure\n",
    "plt.savefig('Synthetic Profile' + str(houseID) + '.png', dpi=72, bbox_inches='tight')\n",
    "plt.show()"
   ]
  },
  {
   "cell_type": "markdown",
   "metadata": {},
   "source": [
    "#  Write code to calculate the RMSE of all households and plot a histogram of the RMSE"
   ]
  },
  {
   "cell_type": "code",
   "execution_count": 909,
   "metadata": {},
   "outputs": [
    {
     "name": "stdout",
     "output_type": "stream",
     "text": [
      "ids = 0-1\n",
      "ids = 1-50\n",
      "ids = 50-150\n",
      "ids = 150-400\n",
      "ids = 400-600\n",
      "ids = 600-1200\n",
      "ids = 1200-2500\n",
      "ids = 2500-4000\n"
     ]
    }
   ],
   "source": [
    "for id in Xbin:\n",
    "    print(\"ids = {}\".format(id))"
   ]
  },
  {
   "cell_type": "code",
   "execution_count": 353,
   "metadata": {},
   "outputs": [
    {
     "name": "stderr",
     "output_type": "stream",
     "text": [
      "<ipython-input-353-e90e98bfc952>:8: TqdmDeprecationWarning:\n",
      "\n",
      "This function will be removed in tqdm==5.0.0\n",
      "Please use `tqdm.notebook.tqdm` instead of `tqdm.tqdm_notebook`\n",
      "\n"
     ]
    },
    {
     "data": {
      "application/vnd.jupyter.widget-view+json": {
       "model_id": "9c5ba304e2014b2face394e9d711dbfb",
       "version_major": 2,
       "version_minor": 0
      },
      "text/plain": [
       "  0%|          | 0/319 [00:00<?, ?it/s]"
      ]
     },
     "metadata": {},
     "output_type": "display_data"
    }
   ],
   "source": [
    "# Create dataframe to store RMSE\n",
    "list_ids = []\n",
    "for id in Xbin['1200-2500']:\n",
    "    list_ids.append(id)\n",
    "\n",
    "ids_df = pd.DataFrame(index = list_ids, columns = ['RMSE'])\n",
    "counter = 0\n",
    "for id in tqdm(Xbin['1200-2500']):\n",
    "    counter = counter + 1\n",
    "    houseID = id\n",
    "    df, check = describe_household(id = houseID)\n",
    "    # Check whether the household has any morning/afternoon peaks\n",
    "    if check == False:\n",
    "        continue\n",
    "    # Determine the y-offset i.e. minimum value in day\n",
    "    H_offset = df.iloc[0,:24].min()\n",
    "\n",
    "    # Determine the amplitude of gaussian\n",
    "    A1 = df[str(df['0_x'].values[0])].values[0] - H_offset # Adjust for offset\n",
    "    A2 = df[str(df['0_y'].values[0])].values[0] - H_offset\n",
    "\n",
    "    # Determine the mean of the gaussian\n",
    "    mu1 = df['0_x'].values[0]\n",
    "    mu2 = df['0_y'].values[0]\n",
    "    # **********************************************************************************************************************************************\n",
    "    # Fit the first gaussian\n",
    "    sigma1, i1 = Sigma1()\n",
    "\n",
    "    # Calculate error\n",
    "    actual = df.iloc[0,i1:df['0_x'].values[0]].to_list()\n",
    "    predicted = gauss(np.arange(i1,df['0_x'].values[0],1),H_offset,A1,mu1,sigma1)\n",
    "    MSE = mean_squared_error(actual, predicted)\n",
    "    RMSE = math.sqrt(MSE)\n",
    "\n",
    "    tolerance1 = RMSE - RMSE*0.95\n",
    "    i = 0.1 # Constant value by which to increase/decrease the range in the initial sigma function\n",
    "    t = 0\n",
    "    while RMSE > tolerance1:\n",
    "        previous_error1 = RMSE\n",
    "\n",
    "        sigma1, i1= Sigma1(increment = i)\n",
    "        predicted = gauss(np.arange(i1,df['0_x'].values[0],1),H_offset,A1,mu1,sigma1) # Get the value of the gauss one point above the min peak\n",
    "        MSE = mean_squared_error(actual, predicted)\n",
    "        RMSE = math.sqrt(MSE)   \n",
    "        # conditional for gauss 1\n",
    "        if RMSE > previous_error1:\n",
    "            i = i + 0.1\n",
    "            sigma1, i1 = Sigma1(increment = i)\n",
    "            predicted = gauss(np.arange(i1,df['0_x'].values[0],1),H_offset,A1,mu1,sigma1) # Get the value of the gauss one point above the min peak\n",
    "            MSE = mean_squared_error(actual, predicted)\n",
    "            RMSE = math.sqrt(MSE) \n",
    "        else:\n",
    "            i = i - 0.1\n",
    "            sigma1, i1 = Sigma1(increment = i)\n",
    "            predicted = gauss(np.arange(i1,df['0_x'].values[0],1),H_offset,A1,mu1,sigma1) # Get the value of the gauss one point above the min peak\n",
    "            MSE = mean_squared_error(actual, predicted)\n",
    "            RMSE = math.sqrt(MSE) \n",
    "\n",
    "        t = t + 1\n",
    "        if t >= 10000:\n",
    "            t = 0\n",
    "            i = 0\n",
    "            tolerance1 = tolerance1 + 0.1\n",
    "\n",
    "    RMSE1 = RMSE\n",
    "    # print(\"RMSE1 = {}\".format(RMSE1))\n",
    "    sigma1 = np.sqrt(sigma1**2)\n",
    "    # **********************************************************************************************************************************************\n",
    "    # Fit the secnd gaussian\n",
    "    sigma2, i2= Sigma2()\n",
    "\n",
    "    # Calculate error\n",
    "    actual = df.iloc[0,df['0_x'].values[0]:i2].to_list()\n",
    "    predicted = gauss(np.arange(df['0_x'].values[0],i2,1),H_offset,A1,mu1,sigma2)\n",
    "    MSE = mean_squared_error(actual, predicted)\n",
    "    RMSE = math.sqrt(MSE)\n",
    "\n",
    "    tolerance2 = RMSE - RMSE*0.95\n",
    "    # print(tolerance2)\n",
    "    i = 0.1 # Constant value by which to increase/decrease the range in the initial sigma function\n",
    "    t = 0\n",
    "    while RMSE > tolerance2:\n",
    "\n",
    "        # print(\"RMSE = {}\".format(RMSE))\n",
    "        # print(\"tolerance2 = {}\".format(tolerance2))\n",
    "        # print(\"actual = {}\".format(actual))\n",
    "        # print(\"predicted = {}\".format(predicted))\n",
    "        previous_error2 = RMSE\n",
    "        sigma2, i2 = Sigma2(increment = i)\n",
    "        predicted = gauss(np.arange(df['0_x'].values[0],i2,1),H_offset,A1,mu1,sigma2)\n",
    "        MSE = mean_squared_error(actual, predicted)\n",
    "        RMSE = math.sqrt(MSE)\n",
    "        \n",
    "        # Conditional for gauss2\n",
    "        if RMSE > previous_error2:\n",
    "            i = i + 0.1\n",
    "            sigma2, i2 = Sigma2(increment = i)\n",
    "            predicted = gauss(np.arange(df['0_x'].values[0],i2,1),H_offset,A1,mu1,sigma2)\n",
    "            MSE = mean_squared_error(actual, predicted)\n",
    "            RMSE = math.sqrt(MSE)\n",
    "        else:\n",
    "            i = i -0.1        \n",
    "            sigma2, i2 = Sigma2(increment = i)\n",
    "            predicted = gauss(np.arange(df['0_x'].values[0],i2,1),H_offset,A1,mu1,sigma2)\n",
    "            MSE = mean_squared_error(actual, predicted)\n",
    "            RMSE = math.sqrt(MSE)\n",
    "\n",
    "        t = t + 1\n",
    "        if t >= 1000:\n",
    "            t = 0\n",
    "            i = 0\n",
    "            tolerance2 = tolerance2 + 0.1\n",
    "\n",
    "\n",
    "    RMSE2 = RMSE\n",
    "    # print(\"RMSE2 = {}\".format(RMSE2))\n",
    "    sigma2 = np.sqrt(sigma2**2)\n",
    "    # **********************************************************************************************************************************************\n",
    "    # Fit the third gaussian\n",
    "    # Code that finds the value one point above the range index\n",
    "    sigma3, i3 = Sigma3()\n",
    "\n",
    "    # Calculate error\n",
    "    actual = df.iloc[0,i3:df['0_y'].values[0]].to_list()\n",
    "    predicted = gauss(np.arange(i3,df['0_y'].values[0],1),H_offset,A2,mu2,sigma3)\n",
    "    MSE = mean_squared_error(actual, predicted)\n",
    "    RMSE = math.sqrt(MSE)\n",
    "\n",
    "    tolerance1 = RMSE - RMSE*0.95\n",
    "    i = 0.1 # Constant value by which to increase/decrease the range in the initial sigma function\n",
    "    t = 0\n",
    "    while RMSE > tolerance1:\n",
    "        previous_error3 = RMSE\n",
    "        # print(sigma3)\n",
    "        # print(\"RMSE = {}\".format(RMSE))\n",
    "\n",
    "        sigma3, i3 = Sigma3(increment = i)\n",
    "        predicted = gauss(np.arange(i3,df['0_y'].values[0],1), H_offset, A2, mu2, sigma3)\n",
    "        # print('actual = {}'.format(actual))\n",
    "        # print('predicted = {}'.format(predicted))\n",
    "        MSE = mean_squared_error(actual, predicted)\n",
    "        RMSE = math.sqrt(MSE)\n",
    "\n",
    "        # conditional for gauss 1\n",
    "        if RMSE > previous_error3:\n",
    "            i = i + 0.1\n",
    "            sigma3, i3 = Sigma3(increment = i)\n",
    "            predicted = gauss(np.arange(i3,df['0_y'].values[0],1),H_offset,A2,mu2,sigma3)\n",
    "            MSE = mean_squared_error(actual, predicted)\n",
    "            RMSE = math.sqrt(MSE)\n",
    "        else:\n",
    "            i = i - 0.1\n",
    "            sigma3, i3 = Sigma3(increment = i)\n",
    "            predicted = gauss(np.arange(i3,df['0_y'].values[0],1),H_offset,A2,mu2,sigma3)\n",
    "            MSE = mean_squared_error(actual, predicted)\n",
    "            RMSE = math.sqrt(MSE)\n",
    "\n",
    "        t = t + 1\n",
    "        if t >= 10000:\n",
    "            t = 0\n",
    "            i = 0\n",
    "            tolerance1 = tolerance1 + 0.1\n",
    "    \n",
    "\n",
    "    RMSE3 = RMSE\n",
    "    # print(\"RMSE3 = {}\".format(RMSE))\n",
    "    sigma3 = np.sqrt(sigma3**2)\n",
    "    # **********************************************************************************************************************************************\n",
    "    # Fit the 4th gaussian\n",
    "    sigma4, i4= Sigma4()\n",
    "\n",
    "    actual = df.iloc[0,df['0_y'].values[0]:i4].to_list()\n",
    "    predicted = gauss(np.arange(df['0_y'].values[0],i4,1),H_offset,A2,mu2,sigma4)\n",
    "    MSE = mean_squared_error(actual, predicted)\n",
    "    RMSE = math.sqrt(MSE)\n",
    "\n",
    "    tolerance2 = RMSE - RMSE*0.95\n",
    "    # print(tolerance2)\n",
    "    i = 0.1 # Constant value by which to increase/decrease the range in the initial sigma function\n",
    "    t = 0\n",
    "    while RMSE > tolerance2:\n",
    "        previous_error4 = RMSE\n",
    "        # print('sigma4 = {}'.format(sigma4))\n",
    "        # print('RMSE = {}'.format(RMSE))\n",
    "        sigma4, i4 = Sigma4(increment = i)\n",
    "        predicted = gauss(np.arange(df['0_y'].values[0],i4,1),H_offset,A2,mu2,sigma4)\n",
    "        MSE = mean_squared_error(actual, predicted)\n",
    "        RMSE = math.sqrt(MSE)\n",
    "        \n",
    "        # Conditional for gauss2\n",
    "        if RMSE > previous_error4:\n",
    "            i = i + 0.1\n",
    "            sigma4, i4 = Sigma4(increment = i)\n",
    "            predicted = gauss(np.arange(df['0_y'].values[0],i4,1),H_offset,A2,mu2,sigma4)\n",
    "            MSE = mean_squared_error(actual, predicted)\n",
    "            RMSE = math.sqrt(MSE)\n",
    "\n",
    "        else:\n",
    "            i = i - 0.1        \n",
    "            sigma4, i4 = Sigma4(increment = i)\n",
    "            predicted = gauss(np.arange(df['0_y'].values[0],i4,1),H_offset,A2,mu2,sigma4)\n",
    "            MSE = mean_squared_error(actual, predicted)\n",
    "            RMSE = math.sqrt(MSE)\n",
    "\n",
    "        t = t + 1\n",
    "        if t >= 10000:\n",
    "            t = 0\n",
    "            i = 0\n",
    "            tolerance2 = tolerance2 + 0.1\n",
    "    # print(tolerance2)\n",
    "    RMSE4 = RMSE\n",
    "    sigma4 = np.sqrt(sigma4**2)\n",
    "    # **********************************************************************************************************************************************\n",
    "    # Determine the complete synthetic profile\n",
    "    x_1 = np.arange(0, mu1, 1)\n",
    "    x_2 = np.arange(mu1, i2, 1)\n",
    "    x_3 = np.arange(i3, mu2,1)\n",
    "    x_4 = np.arange(mu2, 24,1)\n",
    "\n",
    "    x_vals = np.hstack((x_1,x_2,x_3,x_4))\n",
    "    x_vals_1 = np.unique(x_vals)\n",
    "\n",
    "    y1 = gauss(x_1, H_offset,A1,mu1,sigma1)\n",
    "    y2 = gauss(x_2, H_offset,A1,mu1,sigma2)\n",
    "    y3 = gauss(x_3, H_offset,A2,mu2,sigma3)\n",
    "    y4 = gauss(x_4, H_offset,A2,mu2,sigma4)\n",
    "\n",
    "    if len(x_vals_1) == 24:\n",
    "        # print(\"Entire array is captured\")\n",
    "        if x_2[-1] == x_3[0]:\n",
    "            # print('repeating value')\n",
    "            x_3 = x_3[1:] # Remove the first value of the x-array\n",
    "            y3 = gauss(x_3, H_offset,A2,mu2,sigma3) # Re-calculate the y-values for gauss 3\n",
    "            synth = np.hstack((y1,y2,y3,y4)) # Generate the synthetic values\n",
    "        else:\n",
    "            synth = np.hstack((y1,y2,y3,y4)) # If there is no repeating values in x_2 and x_3 then generate synthetic profiles without adjusting x_3's values\n",
    "\n",
    "    else:\n",
    "        # print(\"Missing hours need to be saved\")\n",
    "        x_5 = np.arange(i2,i3,1)\n",
    "        x_vals_1 = np.hstack((x_1,x_2,x_5,x_3,x_4))\n",
    "        x_vals_1 = np.unique(x_vals_1)\n",
    "\n",
    "        # Synthesize the mid range behaviour\n",
    "        m = (gauss(x_3[0], H_offset,A2,mu2,sigma3) - gauss(x_2[-1], H_offset,A1,mu1,sigma2))/(x_3[0]-x_2[-1]) # Calculate slope\n",
    "        b = gauss(x_3[0], H_offset,A2,mu2,sigma3) - m*x_3[0] # Calculate b constant for straight line equation\n",
    "        y_mid = straight_line(m,x_5,b)\n",
    "\n",
    "        synth = np.hstack((y1,y2,y_mid,y3,y4))\n",
    "    # **********************************************************************************************************************************************\n",
    "    # Calculate the synthetic profiles RMSE\n",
    "    actual = df.iloc[0,0:24]\n",
    "    predicted = synth\n",
    "    MSE = mean_squared_error(actual, predicted)\n",
    "    RMSE = math.sqrt(MSE)\n",
    "    # **********************************************************************************************************************************************\n",
    "    # Store the RMSE error\n",
    "    ids_df.loc[id] = RMSE\n",
    "    # **********************************************************************************************************************************************\n",
    "    # if counter%50 == 0:\n",
    "    #     # Save plot of fit\n",
    "    #     fig, ax = plt.subplots(figsize=(12,6))\n",
    "    #     plt.style.use('fivethirtyeight')  \n",
    "\n",
    "    #     # Plot the households loadprofile\n",
    "    #     fig = plt.plot(describe_household(id = houseID).iloc[0,0:24], linewidth = 1.5, label = \"Measured Profile\")#, linestyle = 'dashed')\n",
    "    #     plt.title(\"Household \"+str(i))\n",
    "    #     x_all = np.arange(0,24,1)\n",
    "    #     # Plot Gauss Fit\n",
    "    #     ax.plot(x_all,synth,linewidth = 1.5, color = 'purple',label = \"Synthetic Profile, RMSE = \" + str('{0:.3g}'.format(RMSE)))\n",
    "\n",
    "    #     plt.legend(loc = \"upper left\")\n",
    "    #     # Set the labels and axis limits\n",
    "    #     ax.set_xlim([0,24])\n",
    "    #     ax.set_xlabel('Time of day')\n",
    "    #     ax.set_ylabel(\"Amplitude\")\n",
    "    #     ax.set_title('Synthetic Profile: Household ' + str(houseID))\n",
    "\n",
    "    #     # # Save the figure\n",
    "    #     plt.savefig('Synthetic Profile' + str(houseID) + '.png', dpi=72, bbox_inches='tight')\n",
    "    # **********************************************************************************************************************************************\n",
    "    # **********************************************************************************************************************************************\n",
    "    # **********************************************************************************************************************************************\n"
   ]
  },
  {
   "cell_type": "code",
   "execution_count": 354,
   "metadata": {},
   "outputs": [],
   "source": [
    "ids_df.to_csv('RMSE_1200_2500.csv', header=False, index=False)"
   ]
  },
  {
   "cell_type": "markdown",
   "metadata": {},
   "source": [
    "# Plot Histogram of the RMSE's"
   ]
  },
  {
   "cell_type": "code",
   "execution_count": 390,
   "metadata": {},
   "outputs": [],
   "source": [
    "def rmse_Histogram(AMC):\n",
    "    # Creating the dataset\n",
    "    rmse_DF = pd.read_csv('RMSE_' + AMC +'.csv', header = None)\n",
    "    rmse_array = rmse_DF.values.T\n",
    "    rmse_array = rmse_array[~np.isnan(rmse_array)] # Remove all NaN values from array\n",
    "    n_bins = 20\n",
    "\n",
    "    # Create histogram \n",
    "    fig, ax = plt.subplots(figsize = (10,7))\n",
    "    ax.hist(rmse_array, bins = n_bins)\n",
    "    # ax.legend(loc = \"upper left\")\n",
    "\n",
    "\n",
    "    # Set the labels and axis limits\n",
    "    ax.set_xlabel('RMSE')\n",
    "    ax.set_ylabel(\"Count\")\n",
    "    ax.set_title('Histogram of RMSE: AMC = ' + AMC)\n",
    "\n",
    "    # Show plot\n",
    "    plt.show()\n",
    "\n",
    "    # Save Fig\n",
    "    fig.savefig('RMSE_Histogram_' + AMC + '.png', dpi=72, bbox_inches='tight')"
   ]
  },
  {
   "cell_type": "code",
   "execution_count": 393,
   "metadata": {},
   "outputs": [
    {
     "data": {
      "image/png": "[encoded data removed]",
      "text/plain": [
       "<Figure size 720x504 with 1 Axes>"
      ]
     },
     "metadata": {},
     "output_type": "display_data"
    }
   ],
   "source": [
    "rmse_Histogram(AMC = '400_600')"
   ]
  },
  {
   "cell_type": "code",
   "execution_count": 635,
   "metadata": {},
   "outputs": [
    {
     "data": {
      "image/png": "[encoded data removed]",
      "text/plain": [
       "<Figure size 648x432 with 1 Axes>"
      ]
     },
     "metadata": {},
     "output_type": "display_data"
    }
   ],
   "source": [
    "\n",
    "import matplotlib.patches as mpatches\n",
    "amc_strings = ['400_600', '600_1200', '1200_2500']\n",
    "\n",
    "# rmse_DF = pd.read_csv('RMSE_' + amc_strings[0] +'.csv', header = None)\n",
    "\n",
    "for vals in amc_strings:\n",
    "    temp_DF = pd.read_csv('RMSE_' + vals +'.csv', header = None)\n",
    "    rmse_array = temp_DF.values.T\n",
    "    rmse_array = rmse_array[~np.isnan(rmse_array)] # Remove all NaN values from array\n",
    "\n",
    "    if vals == amc_strings[0]:\n",
    "        rmse_400_600 = rmse_array\n",
    "    elif vals == amc_strings[1]:\n",
    "        rmse_600_1200 = rmse_array\n",
    "    elif vals == amc_strings[2]:\n",
    "        rmse_1200_2500 = rmse_array\n",
    "\n",
    "# combine three different datasets into a list\n",
    "data_to_plot = [rmse_400_600, rmse_600_1200, rmse_1200_2500]\n",
    "\n",
    "# Create boxplot\n",
    "# Create a figure instance\n",
    "fig = plt.figure(1, figsize=(9, 6))\n",
    "\n",
    "# Create an axes instance\n",
    "ax = fig.add_subplot(111)\n",
    "\n",
    "## add patch_artist=True option to ax.boxplot() \n",
    "## to get fill color\n",
    "bp = ax.boxplot(data_to_plot, showfliers=False, patch_artist=True, labels = ['400_600', '600_1200', '1200_2500'])\n",
    "\n",
    "## change outline color, fill color and linewidth of the boxes\n",
    "# fill with colors\n",
    "colors = ['pink', 'lightblue', 'lightgreen']\n",
    "\n",
    "for patch, color in zip(bp['boxes'], colors):\n",
    "    patch.set_facecolor(color)\n",
    "\n",
    "## change color and linewidth of the whiskers\n",
    "for whisker in bp['whiskers']:\n",
    "    whisker.set(color='black', linewidth=2)\n",
    "\n",
    "## change color and linewidth of the caps\n",
    "for cap in bp['caps']:\n",
    "    cap.set(color='black', linewidth=2)\n",
    "\n",
    "## change color and linewidth of the medians\n",
    "for median in bp['medians']:\n",
    "    median.set(color='red', linewidth=2)\n",
    "\n",
    "# Creating legend with color box\n",
    "pop_a = mpatches.Patch(color=colors[0], label='# Households = ' + str(len(rmse_400_600)) + ', ' + 'RMSE of 75th percentile = ' + str('{0:.3g}'.format(np.percentile(rmse_400_600,75))))\n",
    "pop_b = mpatches.Patch(color=colors[1], label='# Households = ' + str(len(rmse_600_1200)) + ', ' + 'RMSE 0f 75th percentile = ' + str('{0:.3g}'.format(np.percentile(rmse_600_1200,75))))\n",
    "pop_c = mpatches.Patch(color=colors[2], label='# Households = ' + str(len(rmse_1200_2500)) + ', ' + 'RMSE of 75th percentile = ' + str('{0:.3g}'.format(np.percentile(rmse_1200_2500,75))))\n",
    "\n",
    "ax.legend(handles = [pop_a, pop_b, pop_c])\n",
    "\n",
    "ax.set_title('Boxplot of RMSE')\n",
    "ax.set_xlabel('AMC Bins')\n",
    "ax.set_ylabel('RMSE')\n",
    "\n",
    "\n",
    "# Save the figure\n",
    "fig.savefig('RMSE_Boxplot.png', bbox_inches='tight')\n"
   ]
  },
  {
   "cell_type": "markdown",
   "metadata": {},
   "source": [
    "# Plot the 75th percentile RMSE profile of the different bins"
   ]
  },
  {
   "cell_type": "code",
   "execution_count": 510,
   "metadata": {},
   "outputs": [
    {
     "name": "stdout",
     "output_type": "stream",
     "text": [
      "400_600 75th percentile  = 0.731703301738174\n",
      "600_1200 75th percentile  = 1.116508013939519\n",
      "1200_2500 75th percentile  = 1.75449031154408\n"
     ]
    }
   ],
   "source": [
    "print(\"400_600 75th percentile  = {}\".format(np.percentile(rmse_400_600,75)))\n",
    "print(\"600_1200 75th percentile  = {}\".format(np.percentile(rmse_600_1200,75)))\n",
    "print(\"1200_2500 75th percentile  = {}\".format(np.percentile(rmse_1200_2500,75)))"
   ]
  },
  {
   "cell_type": "markdown",
   "metadata": {},
   "source": [
    "### Function that generates Synthetic Profile"
   ]
  },
  {
   "cell_type": "code",
   "execution_count": 786,
   "metadata": {},
   "outputs": [],
   "source": [
    "def syntheticProfile(houseID):\n",
    "    df, check = describe_household(id = houseID)\n",
    "\n",
    "    # Determine the y-offset i.e. minimum value in day\n",
    "    H_offset = df.iloc[0,:24].min()\n",
    "\n",
    "    # Determine the amplitude of gaussian\n",
    "    A1 = df[str(df['0_x'].values[0])].values[0] - H_offset # Adjust for offset\n",
    "    A2 = df[str(df['0_y'].values[0])].values[0] - H_offset\n",
    "\n",
    "    # Determine the mean of the gaussian\n",
    "    mu1 = df['0_x'].values[0]\n",
    "    mu2 = df['0_y'].values[0]\n",
    "    # **********************************************************************************************************************************************\n",
    "    # Fit the first gaussian\n",
    "    sigma1, i1 = Sigma1()\n",
    "\n",
    "    # Calculate error\n",
    "    actual = df.iloc[0,i1:df['0_x'].values[0]].to_list()\n",
    "    predicted = gauss(np.arange(i1,df['0_x'].values[0],1),H_offset,A1,mu1,sigma1)\n",
    "    MSE = mean_squared_error(actual, predicted)\n",
    "    RMSE = math.sqrt(MSE)\n",
    "\n",
    "    tolerance1 = RMSE - RMSE*0.95\n",
    "    i = 0.1 # Constant value by which to increase/decrease the range in the initial sigma function\n",
    "    t = 0\n",
    "    while RMSE > tolerance1:\n",
    "        previous_error1 = RMSE\n",
    "\n",
    "        sigma1, i1= Sigma1(increment = i)\n",
    "        predicted = gauss(np.arange(i1,df['0_x'].values[0],1),H_offset,A1,mu1,sigma1) # Get the value of the gauss one point above the min peak\n",
    "        MSE = mean_squared_error(actual, predicted)\n",
    "        RMSE = math.sqrt(MSE)   \n",
    "        # conditional for gauss 1\n",
    "        if RMSE > previous_error1:\n",
    "            i = i + 0.1\n",
    "            sigma1, i1 = Sigma1(increment = i)\n",
    "            predicted = gauss(np.arange(i1,df['0_x'].values[0],1),H_offset,A1,mu1,sigma1) # Get the value of the gauss one point above the min peak\n",
    "            MSE = mean_squared_error(actual, predicted)\n",
    "            RMSE = math.sqrt(MSE) \n",
    "        else:\n",
    "            i = i - 0.1\n",
    "            sigma1, i1 = Sigma1(increment = i)\n",
    "            predicted = gauss(np.arange(i1,df['0_x'].values[0],1),H_offset,A1,mu1,sigma1) # Get the value of the gauss one point above the min peak\n",
    "            MSE = mean_squared_error(actual, predicted)\n",
    "            RMSE = math.sqrt(MSE) \n",
    "\n",
    "        t = t + 1\n",
    "        if t >= 10000:\n",
    "            t = 0\n",
    "            i = 0\n",
    "            tolerance1 = tolerance1 + 0.1\n",
    "\n",
    "    RMSE1 = RMSE\n",
    "    # print(\"RMSE1 = {}\".format(RMSE1))\n",
    "    sigma1 = np.sqrt(sigma1**2)\n",
    "    # **********************************************************************************************************************************************\n",
    "    # Fit the secnd gaussian\n",
    "    sigma2, i2= Sigma2()\n",
    "\n",
    "    # Calculate error\n",
    "    actual = df.iloc[0,df['0_x'].values[0]:i2].to_list()\n",
    "    predicted = gauss(np.arange(df['0_x'].values[0],i2,1),H_offset,A1,mu1,sigma2)\n",
    "    MSE = mean_squared_error(actual, predicted)\n",
    "    RMSE = math.sqrt(MSE)\n",
    "\n",
    "    tolerance2 = RMSE - RMSE*0.95\n",
    "    # print(tolerance2)\n",
    "    i = 0.1 # Constant value by which to increase/decrease the range in the initial sigma function\n",
    "    t = 0\n",
    "    while RMSE > tolerance2:\n",
    "        previous_error2 = RMSE\n",
    "        sigma2, i2 = Sigma2(increment = i)\n",
    "        predicted = gauss(np.arange(df['0_x'].values[0],i2,1),H_offset,A1,mu1,sigma2)\n",
    "        MSE = mean_squared_error(actual, predicted)\n",
    "        RMSE = math.sqrt(MSE)\n",
    "        \n",
    "        # Conditional for gauss2\n",
    "        if RMSE > previous_error2:\n",
    "            i = i + 0.1\n",
    "            sigma2, i2 = Sigma2(increment = i)\n",
    "            predicted = gauss(np.arange(df['0_x'].values[0],i2,1),H_offset,A1,mu1,sigma2)\n",
    "            MSE = mean_squared_error(actual, predicted)\n",
    "            RMSE = math.sqrt(MSE)\n",
    "        else:\n",
    "            i = i -0.1        \n",
    "            sigma2, i2 = Sigma2(increment = i)\n",
    "            predicted = gauss(np.arange(df['0_x'].values[0],i2,1),H_offset,A1,mu1,sigma2)\n",
    "            MSE = mean_squared_error(actual, predicted)\n",
    "            RMSE = math.sqrt(MSE)\n",
    "\n",
    "        t = t + 1\n",
    "        if t >= 1000:\n",
    "            t = 0\n",
    "            i = 0\n",
    "            tolerance2 = tolerance2 + 0.1\n",
    "\n",
    "\n",
    "    RMSE2 = RMSE\n",
    "    # print(\"RMSE2 = {}\".format(RMSE2))\n",
    "    sigma2 = np.sqrt(sigma2**2)\n",
    "    # **********************************************************************************************************************************************\n",
    "    # Fit the third gaussian\n",
    "    # Code that finds the value one point above the range index\n",
    "    sigma3, i3 = Sigma3()\n",
    "\n",
    "    # Calculate error\n",
    "    actual = df.iloc[0,i3:df['0_y'].values[0]].to_list()\n",
    "    predicted = gauss(np.arange(i3,df['0_y'].values[0],1),H_offset,A2,mu2,sigma3)\n",
    "    MSE = mean_squared_error(actual, predicted)\n",
    "    RMSE = math.sqrt(MSE)\n",
    "\n",
    "    tolerance1 = RMSE - RMSE*0.95\n",
    "    i = 0.1 # Constant value by which to increase/decrease the range in the initial sigma function\n",
    "    t = 0\n",
    "    while RMSE > tolerance1:\n",
    "        previous_error3 = RMSE\n",
    "        # print(sigma3)\n",
    "        # print(\"RMSE = {}\".format(RMSE))\n",
    "\n",
    "        sigma3, i3 = Sigma3(increment = i)\n",
    "        predicted = gauss(np.arange(i3,df['0_y'].values[0],1), H_offset, A2, mu2, sigma3)\n",
    "        # print('actual = {}'.format(actual))\n",
    "        # print('predicted = {}'.format(predicted))\n",
    "        MSE = mean_squared_error(actual, predicted)\n",
    "        RMSE = math.sqrt(MSE)\n",
    "\n",
    "        # conditional for gauss 1\n",
    "        if RMSE > previous_error3:\n",
    "            i = i + 0.1\n",
    "            sigma3, i3 = Sigma3(increment = i)\n",
    "            predicted = gauss(np.arange(i3,df['0_y'].values[0],1),H_offset,A2,mu2,sigma3)\n",
    "            MSE = mean_squared_error(actual, predicted)\n",
    "            RMSE = math.sqrt(MSE)\n",
    "        else:\n",
    "            i = i - 0.1\n",
    "            sigma3, i3 = Sigma3(increment = i)\n",
    "            predicted = gauss(np.arange(i3,df['0_y'].values[0],1),H_offset,A2,mu2,sigma3)\n",
    "            MSE = mean_squared_error(actual, predicted)\n",
    "            RMSE = math.sqrt(MSE)\n",
    "\n",
    "        t = t + 1\n",
    "        if t >= 10000:\n",
    "            t = 0\n",
    "            i = 0\n",
    "            tolerance1 = tolerance1 + 0.1\n",
    "    \n",
    "\n",
    "    RMSE3 = RMSE\n",
    "    # print(\"RMSE3 = {}\".format(RMSE))\n",
    "    sigma3 = np.sqrt(sigma3**2)\n",
    "    # **********************************************************************************************************************************************\n",
    "    # Fit the 4th gaussian\n",
    "    sigma4, i4= Sigma4()\n",
    "\n",
    "    actual = df.iloc[0,df['0_y'].values[0]:i4].to_list()\n",
    "    predicted = gauss(np.arange(df['0_y'].values[0],i4,1),H_offset,A2,mu2,sigma4)\n",
    "    print(predicted)\n",
    "    MSE = mean_squared_error(actual, predicted)\n",
    "    RMSE = math.sqrt(MSE)\n",
    "\n",
    "    tolerance2 = RMSE - RMSE*0.95\n",
    "    # print(tolerance2)\n",
    "    i = 0.1 # Constant value by which to increase/decrease the range in the initial sigma function\n",
    "    t = 0\n",
    "    while RMSE > tolerance2:\n",
    "        previous_error4 = RMSE\n",
    "        # print('sigma4 = {}'.format(sigma4))\n",
    "        # print('RMSE = {}'.format(RMSE))\n",
    "        sigma4, i4 = Sigma4(increment = i)\n",
    "        predicted = gauss(np.arange(df['0_y'].values[0],i4,1),H_offset,A2,mu2,sigma4)\n",
    "        MSE = mean_squared_error(actual, predicted)\n",
    "        RMSE = math.sqrt(MSE)\n",
    "        \n",
    "        # Conditional for gauss2\n",
    "        if RMSE > previous_error4:\n",
    "            i = i + 0.1\n",
    "            sigma4, i4 = Sigma4(increment = i)\n",
    "            predicted = gauss(np.arange(df['0_y'].values[0],i4,1),H_offset,A2,mu2,sigma4)\n",
    "            MSE = mean_squared_error(actual, predicted)\n",
    "            RMSE = math.sqrt(MSE)\n",
    "\n",
    "        else:\n",
    "            i = i - 0.1        \n",
    "            sigma4, i4 = Sigma4(increment = i)\n",
    "            predicted = gauss(np.arange(df['0_y'].values[0],i4,1),H_offset,A2,mu2,sigma4)\n",
    "            MSE = mean_squared_error(actual, predicted)\n",
    "            RMSE = math.sqrt(MSE)\n",
    "\n",
    "        t = t + 1\n",
    "        if t >= 10000:\n",
    "            t = 0\n",
    "            i = 0\n",
    "            tolerance2 = tolerance2 + 0.1\n",
    "    # print(tolerance2)\n",
    "    RMSE4 = RMSE\n",
    "    sigma4 = np.sqrt(sigma4**2)\n",
    "    # **********************************************************************************************************************************************\n",
    "    # Determine the complete synthetic profile\n",
    "    x_1 = np.arange(0, mu1, 1)\n",
    "    x_2 = np.arange(mu1, i2, 1)\n",
    "    x_3 = np.arange(i3, mu2,1)\n",
    "    x_4 = np.arange(mu2, 24,1)\n",
    "\n",
    "    x_vals = np.hstack((x_1,x_2,x_3,x_4))\n",
    "    x_vals_1 = np.unique(x_vals)\n",
    "\n",
    "    y1 = gauss(x_1, H_offset,A1,mu1,sigma1)\n",
    "    y2 = gauss(x_2, H_offset,A1,mu1,sigma2)\n",
    "    y3 = gauss(x_3, H_offset,A2,mu2,sigma3)\n",
    "    y4 = gauss(x_4, H_offset,A2,mu2,sigma4)\n",
    "\n",
    "    if len(x_vals_1) == 24:\n",
    "        # print(\"Entire array is captured\")\n",
    "        if x_2[-1] == x_3[0]:\n",
    "            x_3 = x_3[1:] # Remove the first value of the x-array\n",
    "            y3 = gauss(x_3, H_offset,A2,mu2,sigma3) # Re-calculate the y-values for gauss 3\n",
    "            synth = np.hstack((y1,y2,y3,y4)) # Generate the synthetic values\n",
    "        else:\n",
    "            synth = np.hstack((y1,y2,y3,y4)) # If there is no repeating values in x_2 and x_3 then generate synthetic profiles without adjusting x_3's values\n",
    "\n",
    "    else:\n",
    "        # print(\"Missing hours need to be saved\")\n",
    "        x_5 = np.arange(i2,i3,1)\n",
    "        x_vals_1 = np.hstack((x_1,x_2,x_5,x_3,x_4))\n",
    "        x_vals_1 = np.unique(x_vals_1)\n",
    "\n",
    "        # Synthesize the mid range behaviour\n",
    "        m = (gauss(x_3[0], H_offset,A2,mu2,sigma3) - gauss(x_2[-1], H_offset,A1,mu1,sigma2))/(x_3[0]-x_2[-1]) # Calculate slope\n",
    "        b = gauss(x_3[0], H_offset,A2,mu2,sigma3) - m*x_3[0] # Calculate b constant for straight line equation\n",
    "        y_mid = straight_line(m,x_5,b)\n",
    "\n",
    "        synth = np.hstack((y1,y2,y_mid,y3,y4))\n",
    "    # **********************************************************************************************************************************************\n",
    "    # Calculate the synthetic profiles RMSE\n",
    "    actual = df.iloc[0,0:24]\n",
    "    predicted = synth\n",
    "    MSE = mean_squared_error(actual, predicted)\n",
    "    RMSE = math.sqrt(MSE)\n",
    "\n",
    "    return actual, predicted, RMSE\n"
   ]
  },
  {
   "cell_type": "code",
   "execution_count": 820,
   "metadata": {},
   "outputs": [
    {
     "data": {
      "text/plain": [
       "567"
      ]
     },
     "execution_count": 820,
     "metadata": {},
     "output_type": "execute_result"
    }
   ],
   "source": [
    "id"
   ]
  },
  {
   "cell_type": "code",
   "execution_count": null,
   "metadata": {},
   "outputs": [],
   "source": []
  },
  {
   "cell_type": "markdown",
   "metadata": {},
   "source": [
    "## Save the n-th percentile plot "
   ]
  },
  {
   "cell_type": "code",
   "execution_count": 848,
   "metadata": {},
   "outputs": [
    {
     "name": "stdout",
     "output_type": "stream",
     "text": [
      "[12.36072003 11.70346058 10.01963549  7.97309128  6.18883846]\n"
     ]
    },
    {
     "data": {
      "image/png": "[encoded data removed]",
      "text/plain": [
       "<Figure size 864x432 with 1 Axes>"
      ]
     },
     "metadata": {},
     "output_type": "display_data"
    }
   ],
   "source": [
    "amc_string = '1200_2500'\n",
    "amc_string2 = '1200-2500'\n",
    "amc_string3 = rmse_1200_2500\n",
    "percentile = 95\n",
    "tolerance = 1.2\n",
    "\n",
    "# Get a household that falls above the 75th percentile\n",
    "DF = pd.read_csv('RMSE_' + amc_string + '.csv', header = None)\n",
    "# DF1 = DF[DF[0] >= np.percentile(amc_string3,percentile)]\n",
    "# DF2 = DF1[DF1[0] <= np.percentile(amc_string3,percentile) + 0.01]\n",
    "DF1 = DF[DF[0] >= tolerance - 0.1]\n",
    "DF2 = DF1[DF1[0] <= tolerance]\n",
    "index = DF2.index[0]\n",
    "\n",
    "# Get householdID from RMSE dataset\n",
    "temp_DF = X.loc[Xbin[amc_string2]]\n",
    "temp_DF.reset_index(inplace=True)\n",
    "profilesIDs = temp_DF['ProfileID'].unique()\n",
    "\n",
    "id = profilesIDs[index]\n",
    "\n",
    "actual, predicted, RMSE = syntheticProfile(id)\n",
    "\n",
    "# Create lineplot\n",
    "x_all = np.arange(0,24,1)\n",
    "\n",
    "fig, ax = plt.subplots(figsize=(12,6))\n",
    "plt.style.use('fivethirtyeight')  \n",
    "\n",
    "# Plot the households loadprofile\n",
    "fig = plt.plot(actual, linewidth = 1.5,  label = \"Measured Profile\")#, linestyle = 'dashed')\n",
    "\n",
    "# Plot Gauss Fit\n",
    "ax.plot(x_all,predicted,linewidth = 1.5, color = 'purple',label = \"Synthetic Profile, RMSE = \" + str('{0:.3g}'.format(RMSE)))\n",
    "\n",
    "plt.legend(loc = 'upper left')\n",
    "# Set the labels and axis limits\n",
    "ax.set_xlabel('Time of day')\n",
    "ax.set_ylabel(\"Amplitude\")\n",
    "ax.set_title('Mean Profile: AMC = ' + amc_string2)# + vals)\n",
    "\n",
    "plt.savefig(str(percentile) + 'th_percentile_' + str(amc_string) + '.png',dpi = 72, bbox_inches='tight')\n",
    "# plt.savefig('Tolerance_' + str(tolerance) + '_' + str(amc_string) + '.png',dpi = 72, bbox_inches='tight')\n",
    "plt.show()"
   ]
  },
  {
   "cell_type": "markdown",
   "metadata": {},
   "source": [
    "# Sort Profile according to RMSE tolerance"
   ]
  },
  {
   "cell_type": "code",
   "execution_count": 864,
   "metadata": {},
   "outputs": [],
   "source": [
    "amc_strings = ['400_600', '600_1200', '1200_2500']\n",
    "amc_string2 = ['400-600','600-1200','1200-2500']\n",
    "RMSE_dict = {'400_600':[],'600_1200':[],'1200_2500':[]}\n",
    "\n",
    "for vals, vals2 in zip(amc_strings, amc_string2):\n",
    "    # print(\"{},{}\".format(vals,vals2))\n",
    "    temp_DF = pd.read_csv('RMSE_' + vals +'.csv', header = None)\n",
    "    temp_DF = temp_DF[temp_DF[0] <= 1.2]\n",
    "    index = temp_DF.index\n",
    "    # Get householdID from RMSE dataset\n",
    "    temp_DF = X.loc[Xbin[vals2]]\n",
    "    temp_DF.reset_index(inplace=True)\n",
    "    profilesIDs = temp_DF['ProfileID'].unique()\n",
    "    # print(index)\n",
    "    # break\n",
    "    ids = profilesIDs[index]\n",
    "\n",
    "    RMSE_dict[vals] = ids\n",
    "\n",
    "\n",
    "# Store the sorted households\n",
    "# open file for writing\n",
    "# f = open(\"sorted_households.txt\",\"w\")\n",
    "\n",
    "# # write file\n",
    "# f.write( str(RMSE_dict) )\n",
    "\n",
    "# # close file\n",
    "# f.close()\n",
    "\n",
    "# create a binary pickle file \n",
    "f = open(\"sorted_households.pkl\",\"wb\")\n",
    "\n",
    "# write the python object (dict) to pickle file\n",
    "pickle.dump(RMSE_dict,f)\n",
    "\n",
    "# close file\n",
    "f.close()\n",
    "\n",
    "# data = pd.read_pickle('sorted_households.pkl') # Read pickle file"
   ]
  }
 ],
 "metadata": {
  "interpreter": {
   "hash": "52469ae204d1d50c448c04334a11ed7bbfc3a11760631521f4bdc0e8f20089d8"
  },
  "kernelspec": {
   "display_name": "Python 3.9.6 64-bit",
   "language": "python",
   "name": "python3"
  },
  "language_info": {
   "codemirror_mode": {
    "name": "ipython",
    "version": 3
   },
   "file_extension": ".py",
   "mimetype": "text/x-python",
   "name": "python",
   "nbconvert_exporter": "python",
   "pygments_lexer": "ipython3",
   "version": "3.9.6"
  },
  "orig_nbformat": 4
 },
 "nbformat": 4,
 "nbformat_minor": 2
}
