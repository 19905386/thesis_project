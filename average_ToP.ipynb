{
 "cells": [
  {
   "cell_type": "code",
   "execution_count": 1,
   "metadata": {},
   "outputs": [
    {
     "name": "stdout",
     "output_type": "stream",
     "text": [
      "C:\\Users\\Jason\\AppData\\Local\\Programs\\Python\\Python39\\lib\\os.py\n",
      "c:\\Users\\Jason\\thesis_project\n"
     ]
    },
    {
     "data": {
      "text/html": [
       "        <script type=\"text/javascript\">\n",
       "        window.PlotlyConfig = {MathJaxConfig: 'local'};\n",
       "        if (window.MathJax) {MathJax.Hub.Config({SVG: {font: \"STIX-Web\"}});}\n",
       "        if (typeof require !== 'undefined') {\n",
       "        require.undef(\"plotly\");\n",
       "        requirejs.config({\n",
       "            paths: {\n",
       "                'plotly': ['https://cdn.plot.ly/plotly-2.6.3.min']\n",
       "            }\n",
       "        });\n",
       "        require(['plotly'], function(Plotly) {\n",
       "            window._Plotly = Plotly;\n",
       "        });\n",
       "        }\n",
       "        </script>\n",
       "        "
      ]
     },
     "metadata": {},
     "output_type": "display_data"
    }
   ],
   "source": [
    "import time\n",
    "import pandas as pd\n",
    "import dask.dataframe as dd\n",
    "import numpy as np\n",
    "import plotly.graph_objects as go\n",
    "import plotly.offline as po\n",
    "import plotly.express as px\n",
    "import os,sys\n",
    "import json\n",
    "from array import array\n",
    "\n",
    "from collections import defaultdict\n",
    "from scipy.signal import find_peaks\n",
    "# Insert the path of modules folder \n",
    "# sys.path.insert(0, 'C:/Users/Jason/thesis_project')\n",
    "sys.path.append(\"../\")\n",
    "\n",
    "from support import *\n",
    "from features.feature_ts import genX\n",
    "from experiment.algorithms.cluster_prep import *"
   ]
  },
  {
   "cell_type": "code",
   "execution_count": 768,
   "metadata": {},
   "outputs": [
    {
     "name": "stdout",
     "output_type": "stream",
     "text": [
      "dropping all zero rows\n"
     ]
    }
   ],
   "source": [
    "X = genX([1994,2014], drop_0 = True)\n",
    "\n",
    "Xbin = xBins(X, 'amd')"
   ]
  },
  {
   "cell_type": "markdown",
   "metadata": {},
   "source": [
    "### Looking at users from a specific bin 600-1200"
   ]
  },
  {
   "cell_type": "code",
   "execution_count": 346,
   "metadata": {},
   "outputs": [],
   "source": [
    "list_len = []\n",
    "list_ids = []\n",
    "\n",
    "for ids in Xbin['2500-4000']:\n",
    "    list_ids.append(ids)\n",
    "    list_len.append(len(X.loc[ids,:]))\n",
    "\n",
    "# Find the household that logged the most data\n",
    "ix = list_len.index(max(list_len))\n",
    "\n",
    "# Store the households ID\n",
    "house_id = list_ids[ix]\n",
    "\n",
    "# Create a dataframe with all of that households data\n",
    "A = X.loc[house_id,:]\n",
    "H = A.copy()"
   ]
  },
  {
   "cell_type": "code",
   "execution_count": 347,
   "metadata": {},
   "outputs": [],
   "source": [
    "H = A.copy()\n",
    "# H = A.reset_index()\n",
    "# H.drop(['date'], axis = 1, inplace = True)"
   ]
  },
  {
   "cell_type": "code",
   "execution_count": 769,
   "metadata": {},
   "outputs": [],
   "source": [
    "def find_peaksMA(X):\n",
    "\n",
    "    df = X.copy()\n",
    "    arrayX  = X.to_numpy().copy()\n",
    "    arrayY = X.to_numpy().copy()\n",
    "\n",
    "    listYM  = list(map(lambda x : x[:12],arrayY))\n",
    "    listYA  = list(map(lambda x : x[12:],arrayY))\n",
    "\n",
    "    arrayYM = np.array(listYM)\n",
    "    arrayYA = np.array(listYA)\n",
    "\n",
    "    # arrayYM.sort()\n",
    "    # arrayYA.sort()\n",
    "\n",
    "    dict_M = defaultdict(list)\n",
    "    dict_A = defaultdict(list)\n",
    "\n",
    "    df.reset_index(inplace = True)\n",
    "\n",
    "    for i in range(0,len(arrayX)):\n",
    "        indices_M = np.where(arrayYM[i] == np.amax(arrayYM[i]))\n",
    "        indices_A = np.where(arrayYA[i] == np.amax(arrayYA[i]))\n",
    "\n",
    "        dict_M[i].append(indices_M[0][0]) \n",
    "        dict_A[i].append(indices_A[0][0])\n",
    "\n",
    "    ToP_M_df = pd.DataFrame.from_dict(dict_M)\n",
    "    ToP_A_df = pd.DataFrame.from_dict(dict_A)\n",
    "\n",
    "    top_M_dict = ToP_M_df.T\n",
    "    top_A_dict = ToP_A_df.T + 12\n",
    "\n",
    "    dict_M.clear() \n",
    "    dict_A.clear()\n",
    "\n",
    "\n",
    "    X1 = df.merge(top_M_dict, left_index = True, right_index = True).merge(top_A_dict,left_index = True, right_index = True)\n",
    "\n",
    "    return X1"
   ]
  },
  {
   "cell_type": "code",
   "execution_count": 153,
   "metadata": {},
   "outputs": [],
   "source": [
    "# def plotPeaks(X, bin)\n",
    "from plotly.subplots import make_subplots\n",
    "\n",
    "def plotToPs(A, bin):\n",
    "    \n",
    "    temp = find_peaksMA(A)\n",
    "\n",
    "    ToPs = calculateToPs(temp)\n",
    "\n",
    "    indices = temp['0_x']\n",
    "\n",
    "    # fig = make_subplots(rows=2, cols=1, subplot_titles=(\"Amplitude vs Time of Peak\", \"Histogram of ToPs\"))\n",
    "\n",
    "    fig = go.Figure()\n",
    "\n",
    "    # def add_new_trace(index):\n",
    "    #     fig.append_trace(go.Scatter(\n",
    "    #     x=[int(i) for i in indices[index]],\n",
    "    #     y=temp.loc[index,indices[index]].values,\n",
    "    #     mode='markers',\n",
    "    #     marker=dict(\n",
    "    #         size=8,\n",
    "    #         color='red',\n",
    "    #         symbol='circle'\n",
    "    #     ),\n",
    "    #     name='Detected Peaks',\n",
    "    #     showlegend = False\n",
    "    #     ),row =1, col =1)  \n",
    "\n",
    "    # for i in temp.index:\n",
    "    #     add_new_trace(i)\n",
    "\n",
    "    # fig.update_yaxes(title_text=\"Amplitude\", row = 1, col = 1)\n",
    "\n",
    "    # fig.update_xaxes(title_text = \"Time of Peak\")\n",
    "\n",
    "    # fig.update_layout(title=\"Profiles for bin \" + str(bin),\n",
    "    #     xaxis = dict(\n",
    "    #         tickmode = 'linear',\n",
    "    #         tick0 = 0,\n",
    "    #         dtick = 1\n",
    "    #     )\n",
    "    # )\n",
    "\n",
    "    #Plot Histogram of \"total_bill\" with rugplot parameters\n",
    "    fig.append_trace(px.histogram(x=ToPs),row = 2, col =1)\n",
    "\n",
    "    fig.update_yaxes(title_text=\"Count\", row = 2, col = 1)\n",
    "\n",
    "    # po.plot(fig, auto_open=False, filename=data_dir+'/plots/ToP_Amplitude_'+str(bin)+'.html')\n",
    "    fig.show()"
   ]
  },
  {
   "cell_type": "code",
   "execution_count": 154,
   "metadata": {},
   "outputs": [],
   "source": [
    "def calculateToPs(X1):\n",
    "    \n",
    "    X1['ToP'] = X1[['0_x', '0_y']].values.tolist()\n",
    "    ToP = X1.groupby(['date'])['ToP'].apply(pd.Series.tolist)\n",
    "    temp = ToP.map(lambda x : [item for sublist in x for item in sublist])\n",
    "\n",
    "    ToPs = temp.apply(pd.Series).stack().reset_index(drop = True)\n",
    "\n",
    "    print(ToPs)\n",
    "\n",
    "    return ToPs"
   ]
  },
  {
   "cell_type": "code",
   "execution_count": 275,
   "metadata": {},
   "outputs": [
    {
     "name": "stdout",
     "output_type": "stream",
     "text": [
      "0       6\n",
      "1      18\n",
      "2       7\n",
      "3      16\n",
      "4       7\n",
      "       ..\n",
      "989    19\n",
      "990     9\n",
      "991    18\n",
      "992    11\n",
      "993    14\n",
      "Length: 994, dtype: int64\n"
     ]
    },
    {
     "ename": "ValueError",
     "evalue": "\n    Invalid element(s) received for the 'data' property of \n        Invalid elements include: [Figure({\n    'data': [{'alignmentgroup': 'True',\n              'bingroup': 'x',\n              'hovertemplate': 'x=%{x}<br>count=%{y}<extra></extra>',\n              'legendgroup': '',\n              'marker': {'color': '#636efa', 'pattern': {'shape': ''}},\n              'name': '',\n              'offsetgroup': '',\n              'orientation': 'v',\n              'showlegend': False,\n              'type': 'histogram',\n              'x': array([ 6, 18,  7, ..., 18, 11, 14], dtype=int64),\n              'xaxis': 'x',\n              'yaxis': 'y'}],\n    'layout': {'barmode': 'relative',\n               'legend': {'tracegroupgap': 0},\n               'margin': {'t': 60},\n               'template': '...',\n               'xaxis': {'anchor': 'y', 'domain': [0.0, 1.0], 'title': {'text': 'x'}},\n               'yaxis': {'anchor': 'x', 'domain': [0.0, 1.0], 'title': {'text': 'count'}}}\n})]\n\n    The 'data' property is a tuple of trace instances\n    that may be specified as:\n      - A list or tuple of trace instances\n        (e.g. [Scatter(...), Bar(...)])\n      - A single trace instance\n        (e.g. Scatter(...), Bar(...), etc.)\n      - A list or tuple of dicts of string/value properties where:\n        - The 'type' property specifies the trace type\n            One of: ['bar', 'barpolar', 'box', 'candlestick',\n                     'carpet', 'choropleth', 'choroplethmapbox',\n                     'cone', 'contour', 'contourcarpet',\n                     'densitymapbox', 'funnel', 'funnelarea',\n                     'heatmap', 'heatmapgl', 'histogram',\n                     'histogram2d', 'histogram2dcontour', 'icicle',\n                     'image', 'indicator', 'isosurface', 'mesh3d',\n                     'ohlc', 'parcats', 'parcoords', 'pie',\n                     'pointcloud', 'sankey', 'scatter',\n                     'scatter3d', 'scattercarpet', 'scattergeo',\n                     'scattergl', 'scattermapbox', 'scatterpolar',\n                     'scatterpolargl', 'scattersmith',\n                     'scatterternary', 'splom', 'streamtube',\n                     'sunburst', 'surface', 'table', 'treemap',\n                     'violin', 'volume', 'waterfall']\n\n        - All remaining properties are passed to the constructor of\n          the specified trace type\n\n        (e.g. [{'type': 'scatter', ...}, {'type': 'bar, ...}])",
     "output_type": "error",
     "traceback": [
      "\u001b[1;31m---------------------------------------------------------------------------\u001b[0m",
      "\u001b[1;31mValueError\u001b[0m                                Traceback (most recent call last)",
      "\u001b[1;32m<ipython-input-275-c7f9fafba335>\u001b[0m in \u001b[0;36m<module>\u001b[1;34m\u001b[0m\n\u001b[0;32m     43\u001b[0m \u001b[1;33m\u001b[0m\u001b[0m\n\u001b[0;32m     44\u001b[0m \u001b[1;31m#Plot Histogram of \"total_bill\" with rugplot parameters\u001b[0m\u001b[1;33m\u001b[0m\u001b[1;33m\u001b[0m\u001b[1;33m\u001b[0m\u001b[0m\n\u001b[1;32m---> 45\u001b[1;33m \u001b[0mfig\u001b[0m\u001b[1;33m.\u001b[0m\u001b[0mappend_trace\u001b[0m\u001b[1;33m(\u001b[0m\u001b[0mpx\u001b[0m\u001b[1;33m.\u001b[0m\u001b[0mhistogram\u001b[0m\u001b[1;33m(\u001b[0m\u001b[0mx\u001b[0m \u001b[1;33m=\u001b[0m \u001b[0mToPs_df\u001b[0m\u001b[1;33m)\u001b[0m\u001b[1;33m,\u001b[0m\u001b[0mrow\u001b[0m \u001b[1;33m=\u001b[0m \u001b[1;36m2\u001b[0m\u001b[1;33m,\u001b[0m \u001b[0mcol\u001b[0m \u001b[1;33m=\u001b[0m\u001b[1;36m1\u001b[0m\u001b[1;33m)\u001b[0m\u001b[1;33m\u001b[0m\u001b[1;33m\u001b[0m\u001b[0m\n\u001b[0m\u001b[0;32m     46\u001b[0m \u001b[1;33m\u001b[0m\u001b[0m\n\u001b[0;32m     47\u001b[0m \u001b[0mfig\u001b[0m\u001b[1;33m.\u001b[0m\u001b[0mupdate_yaxes\u001b[0m\u001b[1;33m(\u001b[0m\u001b[0mtitle_text\u001b[0m\u001b[1;33m=\u001b[0m\u001b[1;34m\"Count\"\u001b[0m\u001b[1;33m,\u001b[0m \u001b[0mrow\u001b[0m \u001b[1;33m=\u001b[0m \u001b[1;36m2\u001b[0m\u001b[1;33m,\u001b[0m \u001b[0mcol\u001b[0m \u001b[1;33m=\u001b[0m \u001b[1;36m1\u001b[0m\u001b[1;33m)\u001b[0m\u001b[1;33m\u001b[0m\u001b[1;33m\u001b[0m\u001b[0m\n",
      "\u001b[1;32m~\\AppData\\Local\\Programs\\Python\\Python39\\lib\\site-packages\\plotly\\basedatatypes.py\u001b[0m in \u001b[0;36mappend_trace\u001b[1;34m(self, trace, row, col)\u001b[0m\n\u001b[0;32m   2313\u001b[0m         )\n\u001b[0;32m   2314\u001b[0m \u001b[1;33m\u001b[0m\u001b[0m\n\u001b[1;32m-> 2315\u001b[1;33m         \u001b[0mself\u001b[0m\u001b[1;33m.\u001b[0m\u001b[0madd_trace\u001b[0m\u001b[1;33m(\u001b[0m\u001b[0mtrace\u001b[0m\u001b[1;33m=\u001b[0m\u001b[0mtrace\u001b[0m\u001b[1;33m,\u001b[0m \u001b[0mrow\u001b[0m\u001b[1;33m=\u001b[0m\u001b[0mrow\u001b[0m\u001b[1;33m,\u001b[0m \u001b[0mcol\u001b[0m\u001b[1;33m=\u001b[0m\u001b[0mcol\u001b[0m\u001b[1;33m)\u001b[0m\u001b[1;33m\u001b[0m\u001b[1;33m\u001b[0m\u001b[0m\n\u001b[0m\u001b[0;32m   2316\u001b[0m \u001b[1;33m\u001b[0m\u001b[0m\n\u001b[0;32m   2317\u001b[0m     \u001b[1;32mdef\u001b[0m \u001b[0m_set_trace_grid_position\u001b[0m\u001b[1;33m(\u001b[0m\u001b[0mself\u001b[0m\u001b[1;33m,\u001b[0m \u001b[0mtrace\u001b[0m\u001b[1;33m,\u001b[0m \u001b[0mrow\u001b[0m\u001b[1;33m,\u001b[0m \u001b[0mcol\u001b[0m\u001b[1;33m,\u001b[0m \u001b[0msecondary_y\u001b[0m\u001b[1;33m=\u001b[0m\u001b[1;32mFalse\u001b[0m\u001b[1;33m)\u001b[0m\u001b[1;33m:\u001b[0m\u001b[1;33m\u001b[0m\u001b[1;33m\u001b[0m\u001b[0m\n",
      "\u001b[1;32m~\\AppData\\Local\\Programs\\Python\\Python39\\lib\\site-packages\\plotly\\basedatatypes.py\u001b[0m in \u001b[0;36madd_trace\u001b[1;34m(self, trace, row, col, secondary_y, exclude_empty_subplots)\u001b[0m\n\u001b[0;32m   2097\u001b[0m             \u001b[1;32mreturn\u001b[0m \u001b[0mself\u001b[0m\u001b[1;33m\u001b[0m\u001b[1;33m\u001b[0m\u001b[0m\n\u001b[0;32m   2098\u001b[0m \u001b[1;33m\u001b[0m\u001b[0m\n\u001b[1;32m-> 2099\u001b[1;33m         return self.add_traces(\n\u001b[0m\u001b[0;32m   2100\u001b[0m             \u001b[0mdata\u001b[0m\u001b[1;33m=\u001b[0m\u001b[1;33m[\u001b[0m\u001b[0mtrace\u001b[0m\u001b[1;33m]\u001b[0m\u001b[1;33m,\u001b[0m\u001b[1;33m\u001b[0m\u001b[1;33m\u001b[0m\u001b[0m\n\u001b[0;32m   2101\u001b[0m             \u001b[0mrows\u001b[0m\u001b[1;33m=\u001b[0m\u001b[1;33m[\u001b[0m\u001b[0mrow\u001b[0m\u001b[1;33m]\u001b[0m \u001b[1;32mif\u001b[0m \u001b[0mrow\u001b[0m \u001b[1;32mis\u001b[0m \u001b[1;32mnot\u001b[0m \u001b[1;32mNone\u001b[0m \u001b[1;32melse\u001b[0m \u001b[1;32mNone\u001b[0m\u001b[1;33m,\u001b[0m\u001b[1;33m\u001b[0m\u001b[1;33m\u001b[0m\u001b[0m\n",
      "\u001b[1;32m~\\AppData\\Local\\Programs\\Python\\Python39\\lib\\site-packages\\plotly\\basedatatypes.py\u001b[0m in \u001b[0;36madd_traces\u001b[1;34m(self, data, rows, cols, secondary_ys, exclude_empty_subplots)\u001b[0m\n\u001b[0;32m   2181\u001b[0m \u001b[1;33m\u001b[0m\u001b[0m\n\u001b[0;32m   2182\u001b[0m         \u001b[1;31m# Validate traces\u001b[0m\u001b[1;33m\u001b[0m\u001b[1;33m\u001b[0m\u001b[1;33m\u001b[0m\u001b[0m\n\u001b[1;32m-> 2183\u001b[1;33m         \u001b[0mdata\u001b[0m \u001b[1;33m=\u001b[0m \u001b[0mself\u001b[0m\u001b[1;33m.\u001b[0m\u001b[0m_data_validator\u001b[0m\u001b[1;33m.\u001b[0m\u001b[0mvalidate_coerce\u001b[0m\u001b[1;33m(\u001b[0m\u001b[0mdata\u001b[0m\u001b[1;33m)\u001b[0m\u001b[1;33m\u001b[0m\u001b[1;33m\u001b[0m\u001b[0m\n\u001b[0m\u001b[0;32m   2184\u001b[0m \u001b[1;33m\u001b[0m\u001b[0m\n\u001b[0;32m   2185\u001b[0m         \u001b[1;31m# Set trace indexes\u001b[0m\u001b[1;33m\u001b[0m\u001b[1;33m\u001b[0m\u001b[1;33m\u001b[0m\u001b[0m\n",
      "\u001b[1;32m~\\AppData\\Local\\Programs\\Python\\Python39\\lib\\site-packages\\_plotly_utils\\basevalidators.py\u001b[0m in \u001b[0;36mvalidate_coerce\u001b[1;34m(self, v, skip_invalid, _validate)\u001b[0m\n\u001b[0;32m   2692\u001b[0m \u001b[1;33m\u001b[0m\u001b[0m\n\u001b[0;32m   2693\u001b[0m             \u001b[1;32mif\u001b[0m \u001b[0minvalid_els\u001b[0m\u001b[1;33m:\u001b[0m\u001b[1;33m\u001b[0m\u001b[1;33m\u001b[0m\u001b[0m\n\u001b[1;32m-> 2694\u001b[1;33m                 \u001b[0mself\u001b[0m\u001b[1;33m.\u001b[0m\u001b[0mraise_invalid_elements\u001b[0m\u001b[1;33m(\u001b[0m\u001b[0minvalid_els\u001b[0m\u001b[1;33m)\u001b[0m\u001b[1;33m\u001b[0m\u001b[1;33m\u001b[0m\u001b[0m\n\u001b[0m\u001b[0;32m   2695\u001b[0m \u001b[1;33m\u001b[0m\u001b[0m\n\u001b[0;32m   2696\u001b[0m             \u001b[0mv\u001b[0m \u001b[1;33m=\u001b[0m \u001b[0mto_scalar_or_list\u001b[0m\u001b[1;33m(\u001b[0m\u001b[0mres\u001b[0m\u001b[1;33m)\u001b[0m\u001b[1;33m\u001b[0m\u001b[1;33m\u001b[0m\u001b[0m\n",
      "\u001b[1;32m~\\AppData\\Local\\Programs\\Python\\Python39\\lib\\site-packages\\_plotly_utils\\basevalidators.py\u001b[0m in \u001b[0;36mraise_invalid_elements\u001b[1;34m(self, invalid_els)\u001b[0m\n\u001b[0;32m    303\u001b[0m     \u001b[1;32mdef\u001b[0m \u001b[0mraise_invalid_elements\u001b[0m\u001b[1;33m(\u001b[0m\u001b[0mself\u001b[0m\u001b[1;33m,\u001b[0m \u001b[0minvalid_els\u001b[0m\u001b[1;33m)\u001b[0m\u001b[1;33m:\u001b[0m\u001b[1;33m\u001b[0m\u001b[1;33m\u001b[0m\u001b[0m\n\u001b[0;32m    304\u001b[0m         \u001b[1;32mif\u001b[0m \u001b[0minvalid_els\u001b[0m\u001b[1;33m:\u001b[0m\u001b[1;33m\u001b[0m\u001b[1;33m\u001b[0m\u001b[0m\n\u001b[1;32m--> 305\u001b[1;33m             raise ValueError(\n\u001b[0m\u001b[0;32m    306\u001b[0m                 \"\"\"\n\u001b[0;32m    307\u001b[0m     \u001b[0mInvalid\u001b[0m \u001b[0melement\u001b[0m\u001b[1;33m(\u001b[0m\u001b[0ms\u001b[0m\u001b[1;33m)\u001b[0m \u001b[0mreceived\u001b[0m \u001b[1;32mfor\u001b[0m \u001b[0mthe\u001b[0m \u001b[1;34m'{name}'\u001b[0m \u001b[0mproperty\u001b[0m \u001b[0mof\u001b[0m \u001b[1;33m{\u001b[0m\u001b[0mpname\u001b[0m\u001b[1;33m}\u001b[0m\u001b[1;33m\u001b[0m\u001b[1;33m\u001b[0m\u001b[0m\n",
      "\u001b[1;31mValueError\u001b[0m: \n    Invalid element(s) received for the 'data' property of \n        Invalid elements include: [Figure({\n    'data': [{'alignmentgroup': 'True',\n              'bingroup': 'x',\n              'hovertemplate': 'x=%{x}<br>count=%{y}<extra></extra>',\n              'legendgroup': '',\n              'marker': {'color': '#636efa', 'pattern': {'shape': ''}},\n              'name': '',\n              'offsetgroup': '',\n              'orientation': 'v',\n              'showlegend': False,\n              'type': 'histogram',\n              'x': array([ 6, 18,  7, ..., 18, 11, 14], dtype=int64),\n              'xaxis': 'x',\n              'yaxis': 'y'}],\n    'layout': {'barmode': 'relative',\n               'legend': {'tracegroupgap': 0},\n               'margin': {'t': 60},\n               'template': '...',\n               'xaxis': {'anchor': 'y', 'domain': [0.0, 1.0], 'title': {'text': 'x'}},\n               'yaxis': {'anchor': 'x', 'domain': [0.0, 1.0], 'title': {'text': 'count'}}}\n})]\n\n    The 'data' property is a tuple of trace instances\n    that may be specified as:\n      - A list or tuple of trace instances\n        (e.g. [Scatter(...), Bar(...)])\n      - A single trace instance\n        (e.g. Scatter(...), Bar(...), etc.)\n      - A list or tuple of dicts of string/value properties where:\n        - The 'type' property specifies the trace type\n            One of: ['bar', 'barpolar', 'box', 'candlestick',\n                     'carpet', 'choropleth', 'choroplethmapbox',\n                     'cone', 'contour', 'contourcarpet',\n                     'densitymapbox', 'funnel', 'funnelarea',\n                     'heatmap', 'heatmapgl', 'histogram',\n                     'histogram2d', 'histogram2dcontour', 'icicle',\n                     'image', 'indicator', 'isosurface', 'mesh3d',\n                     'ohlc', 'parcats', 'parcoords', 'pie',\n                     'pointcloud', 'sankey', 'scatter',\n                     'scatter3d', 'scattercarpet', 'scattergeo',\n                     'scattergl', 'scattermapbox', 'scatterpolar',\n                     'scatterpolargl', 'scattersmith',\n                     'scatterternary', 'splom', 'streamtube',\n                     'sunburst', 'surface', 'table', 'treemap',\n                     'violin', 'volume', 'waterfall']\n\n        - All remaining properties are passed to the constructor of\n          the specified trace type\n\n        (e.g. [{'type': 'scatter', ...}, {'type': 'bar, ...}])"
     ]
    }
   ],
   "source": [
    "temp = find_peaksMA(H)\n",
    "\n",
    "ToPs = calculateToPs(temp)\n",
    "\n",
    "temp.drop(['date'], axis = 1, inplace = True)\n",
    "\n",
    "indices = temp['ToP']\n",
    "\n",
    "fig = make_subplots(rows=2, cols=1, subplot_titles=(\"Amplitude vs Time of Peak\", \"Histogram of ToPs\"))\n",
    "\n",
    "# fig = go.Figure()\n",
    "\n",
    "def add_new_trace(index):\n",
    "    fig.append_trace(go.Scatter(\n",
    "    x=[int(i) for i in indices[index]],\n",
    "    y=temp.iloc[index,indices[index]].values,\n",
    "    mode='markers',\n",
    "    marker=dict(\n",
    "        size=8,\n",
    "        color='red',\n",
    "        symbol='circle'\n",
    "    ),\n",
    "    name='Detected Peaks',\n",
    "    showlegend = False\n",
    "    ),row =1, col =1)  \n",
    "\n",
    "for i in temp.index:\n",
    "    add_new_trace(i)\n",
    "\n",
    "fig.update_yaxes(title_text=\"Amplitude\", row = 1, col = 1)\n",
    "\n",
    "fig.update_xaxes(title_text = \"Time of Peak\")\n",
    "\n",
    "fig.update_layout(title=\"Profiles for bin \" + str(bin),\n",
    "    xaxis = dict(\n",
    "        tickmode = 'linear',\n",
    "        tick0 = 0,\n",
    "        dtick = 1\n",
    "    )\n",
    ")\n",
    "\n",
    "ToPs_df = ToPs.to_list()\n",
    "\n",
    "#Plot Histogram of \"total_bill\" with rugplot parameters\n",
    "fig.append_trace(px.histogram(x = ToPs_df),row = 2, col =1)\n",
    "\n",
    "fig.update_yaxes(title_text=\"Count\", row = 2, col = 1)\n",
    "\n",
    "# po.plot(fig, auto_open=False, filename=data_dir+'/plots/ToP_Amplitude_'+str(bin)+'.html')\n",
    "fig.show()"
   ]
  },
  {
   "cell_type": "code",
   "execution_count": 350,
   "metadata": {},
   "outputs": [
    {
     "data": {
      "image/png": "[encoded data removed]",
      "text/plain": [
       "<Figure size 864x360 with 1 Axes>"
      ]
     },
     "metadata": {},
     "output_type": "display_data"
    }
   ],
   "source": [
    "import seaborn as sns\n",
    "\n",
    "\n",
    "temp1 = temp[['0_x','0_y']].copy()\n",
    "temp1.rename(columns = {'0_x':'Morning', '0_y':'Afternoon'}, inplace = True)\n",
    "ax = sns.histplot(data=temp1, linewidth=1, color='lightsteelblue', binwidth=1)\n",
    "# ax = sns.distplot(temp1)\n",
    "ax.set(ylabel='Frequency', xlabel='Time of Peaks')\n",
    "sns.set(rc={\"figure.figsize\":(12, 5)}) #width=3, #height=4"
   ]
  },
  {
   "cell_type": "markdown",
   "metadata": {},
   "source": [
    "### Find the most frequent time of peak"
   ]
  },
  {
   "cell_type": "code",
   "execution_count": 351,
   "metadata": {},
   "outputs": [],
   "source": [
    "def most_frequent(List):\n",
    "    return max(set(List), key = List.count)"
   ]
  },
  {
   "cell_type": "code",
   "execution_count": 352,
   "metadata": {},
   "outputs": [],
   "source": [
    "morning_freguent_peak = most_frequent(temp1['Morning'].to_list())\n",
    "afternoon_freguent_peak = most_frequent(temp1['Afternoon'].to_list())"
   ]
  },
  {
   "cell_type": "markdown",
   "metadata": {},
   "source": [
    "# Detremine where the daily data increases and decreases after and before the peaks"
   ]
  },
  {
   "cell_type": "markdown",
   "metadata": {},
   "source": [
    "### Find the average profile of a user"
   ]
  },
  {
   "cell_type": "code",
   "execution_count": 496,
   "metadata": {},
   "outputs": [],
   "source": [
    "import random\n",
    "\n",
    "list_len = []\n",
    "list_ids = []\n",
    "\n",
    "for ids in Xbin['600-1200']:\n",
    "    list_ids.append(ids)\n",
    "    list_len.append(len(X.loc[ids,:]))\n",
    "\n",
    "\n",
    "# def selectRandomUser():\n",
    "#     # Find the household that logged the most data\n",
    "#     ix = list_len.index(random.choice(list_len))\n",
    "\n",
    "#     # Store the households ID\n",
    "#     house_id = list_ids[ix]\n",
    "\n",
    "#     print(house_id)\n",
    "\n",
    "#     # Create a dataframe with all of that households data\n",
    "#     A = X.loc[house_id,:]\n",
    "#     H = A.copy()\n",
    "\n",
    "#     return H"
   ]
  },
  {
   "cell_type": "code",
   "execution_count": 502,
   "metadata": {},
   "outputs": [],
   "source": [
    "def selectRandomUser(Household):\n",
    "    # # Find the household that logged the most data\n",
    "    # ix = list_len.index(5283)\n",
    "\n",
    "    # # Store the households ID\n",
    "    # house_id = list_ids[ix]\n",
    "\n",
    "    # print(house_id)\n",
    "    house_id = Household\n",
    "    # Create a dataframe with all of that households data\n",
    "    A = X.loc[house_id,:]\n",
    "    H = A.copy()\n",
    "\n",
    "    return H"
   ]
  },
  {
   "cell_type": "code",
   "execution_count": 536,
   "metadata": {},
   "outputs": [
    {
     "data": {
      "image/png": "[encoded data removed]",
      "text/plain": [
       "<Figure size 432x288 with 1 Axes>"
      ]
     },
     "metadata": {},
     "output_type": "display_data"
    },
    {
     "data": {
      "text/plain": [
       "<Figure size 432x288 with 0 Axes>"
      ]
     },
     "metadata": {},
     "output_type": "display_data"
    }
   ],
   "source": [
    "import matplotlib.pyplot as plt\n",
    "\n",
    "id = [2230]#,1002790,483,3063,5351,12020322,5283,5293,168,7118,156,5239,29,1418,1005536]\n",
    "\n",
    "for i in id:\n",
    "    H = selectRandomUser(i)\n",
    "\n",
    "    H1 = find_peaksMA(H)\n",
    "    H1_d = H1.describe()\n",
    "    H1_d.drop(['0_x','0_y'], axis = 1, inplace = True)\n",
    "    H1_d1 = find_peaksMA(H1_d)\n",
    "    H1_d1 = H1_d1.drop([0, 2,3,7])\n",
    "    fig = plt.plot(H1_d1.iloc[0,1:25])\n",
    "    plt.title(\"Household \"+str(i))\n",
    "    # plt.savefig(str(i)+'.png')\n",
    "    plt.show()\n",
    "    plt.clf()\n"
   ]
  },
  {
   "cell_type": "markdown",
   "metadata": {},
   "source": [
    "### Superimpose gaussian on plot"
   ]
  },
  {
   "cell_type": "code",
   "execution_count": 518,
   "metadata": {},
   "outputs": [],
   "source": [
    "# normal_curve.py\n",
    "\n",
    "import numpy as np\n",
    "import matplotlib.pyplot as plt\n",
    "from scipy.stats import norm\n",
    "# if using a Jupyter notebook, inlcude:\n",
    "%matplotlib inline"
   ]
  },
  {
   "cell_type": "markdown",
   "metadata": {},
   "source": [
    "#### Function to determine households mean, peak times"
   ]
  },
  {
   "cell_type": "code",
   "execution_count": 939,
   "metadata": {},
   "outputs": [],
   "source": [
    "def find_peaksMA(X):    \n",
    "    # Create a copy of households mean electricity usage\n",
    "    df = X.copy()\n",
    "\n",
    "    arrayX = X.to_numpy().copy()\n",
    "\n",
    "    listYM  = list(map(lambda x : x[:12],arrayX))\n",
    "    listYA  = list(map(lambda x : x[12:],arrayX))\n",
    "\n",
    "    arrayYM = np.array(listYM)\n",
    "    arrayYA = np.array(listYA)\n",
    "\n",
    "    dict_M = defaultdict(list)\n",
    "    dict_A = defaultdict(list)\n",
    "\n",
    "    # Determine the time when the peaks occur\n",
    "    indices_M = np.where(arrayYM[0] == np.amax(arrayYM[0]))\n",
    "    indices_A = np.where(arrayYA[0] == np.amax(arrayYA[0]))\n",
    "\n",
    "    dict_M[i].append(indices_M[0][0]) \n",
    "    dict_A[i].append(indices_A[0][0])\n",
    "\n",
    "    ToP_M_df = pd.DataFrame.from_dict(dict_M)\n",
    "    ToP_A_df = pd.DataFrame.from_dict(dict_A)\n",
    "\n",
    "    top_M_dict = ToP_M_df.T\n",
    "    top_A_dict = ToP_A_df.T + 12 # Adjust for time\n",
    "\n",
    "    # Reset index to insure that the three dataframes below merge properly\n",
    "    top_M_dict = top_M_dict.reset_index()\n",
    "    top_M_dict.drop(['index'], axis = 1, inplace = True)\n",
    "\n",
    "    top_A_dict = top_A_dict.reset_index()\n",
    "    top_A_dict.drop(['index'], axis = 1, inplace = True)\n",
    "    \n",
    "    df.reset_index(inplace = True)\n",
    "    df.drop(['index'], axis = 1, inplace = True)\n",
    "\n",
    "    dict_M.clear() \n",
    "    dict_A.clear()\n",
    "\n",
    "\n",
    "    X1 = df.merge(top_M_dict, left_index = True, right_index = True).merge(top_A_dict,left_index = True, right_index = True)\n",
    "\n",
    "    return X1"
   ]
  },
  {
   "cell_type": "code",
   "execution_count": 940,
   "metadata": {},
   "outputs": [],
   "source": [
    "\n",
    "def describe_household():\n",
    "       # Household ids\n",
    "       id = [2230]#,1002790,483,3063,5351,12020322,5283,5293,168,7118,156,5239,29,1418,1005536]\n",
    "\n",
    "       for i in id:\n",
    "              H = selectRandomUser(i)\n",
    "\n",
    "              # H1 = find_peaksMA(H)\n",
    "              H1_d = H.describe()\n",
    "\n",
    "              H1_d = H1_d.drop(['count','std','min','max', '25%','50%','75%'])\n",
    "              \n",
    "              H1_d1 = find_peaksMA(H1_d)\n",
    "              \n",
    "       return H1_d1"
   ]
  },
  {
   "cell_type": "markdown",
   "metadata": {},
   "source": [
    "#### Code to create Gaussian"
   ]
  },
  {
   "cell_type": "code",
   "execution_count": 758,
   "metadata": {},
   "outputs": [],
   "source": [
    "#Define the Gaussian function\n",
    "def gauss(x, H, A, mu, sigma):\n",
    "    return H + A * np.exp(-(x - mu) ** 2 / (2 * sigma ** 2))"
   ]
  },
  {
   "cell_type": "markdown",
   "metadata": {},
   "source": [
    "#### Code to plot the Gaussian fit"
   ]
  },
  {
   "cell_type": "code",
   "execution_count": 942,
   "metadata": {},
   "outputs": [],
   "source": [
    "import matplotlib.pyplot as plt\n",
    "\n",
    "\n",
    "def plotGaussFit(y2):\n",
    "    # Household ids\n",
    "    # id = [2230]#,1002790,483,3063,5351,12020322,5283,5293,168,7118,156,5239,29,1418,1005536]\n",
    "\n",
    "    x_all = np.arange(0, 24, 0.001) # entire range of x, both in and out of spec\n",
    "\n",
    "    # build the plot\n",
    "    fig, ax = plt.subplots(figsize=(12,6))\n",
    "    plt.style.use('fivethirtyeight')  \n",
    "\n",
    "    # Plot the households loadprofile\n",
    "    fig = plt.plot(describe_household().iloc[0,0:24])\n",
    "    plt.title(\"Household \"+str(i))\n",
    "\n",
    "    # Plot Gaussian fit\n",
    "    ax.plot(x_all,y2)\n",
    "\n",
    "    # Set the labels and axis limits\n",
    "    ax.set_xlim([0,24])\n",
    "    ax.set_xlabel('Time of day')\n",
    "    ax.set_ylabel(\"Amplitude\")\n",
    "    ax.set_title('Gaussian Curve Fit')\n",
    "\n",
    "    # # Save the figure\n",
    "    # plt.savefig('normal_curve.png', dpi=72, bbox_inches='tight')\n",
    "    plt.show()"
   ]
  },
  {
   "cell_type": "markdown",
   "metadata": {},
   "source": [
    "#### Extract variables"
   ]
  },
  {
   "cell_type": "code",
   "execution_count": 961,
   "metadata": {},
   "outputs": [
    {
     "name": "stdout",
     "output_type": "stream",
     "text": [
      "          0         1         2         3         4         5         6  \\\n",
      "0  0.969639  0.884881  0.877994  1.064948  3.191459  7.583719  8.332049   \n",
      "\n",
      "          7         8         9  ...        14        15       16         17  \\\n",
      "0  7.879267  7.240885  5.765455  ...  5.477357  7.571513  9.85606  10.590329   \n",
      "\n",
      "          18         19        20      21       22       23  \n",
      "0  10.949886  10.141316  6.997578  2.8925  1.44807  1.05805  \n",
      "\n",
      "[1 rows x 24 columns]\n",
      "   0\n",
      "0  6\n"
     ]
    }
   ],
   "source": [
    "df = describe_household()\n",
    "\n",
    "# Determine the y-offset i.e. minimum value in day\n",
    "H_offset = df.min(axis = 1).values[0] \n",
    "\n",
    "# Determine the amplitude of gaussian\n",
    "A1 = df[str(df['0_x'].values[0])].values[0] - H_offset # Adjust for offset\n",
    "A2 = df[str(df['0_y'].values[0])].values[0] - H_offset\n",
    "\n",
    "# Determine the mean of the gaussian\n",
    "mu1 = df['0_x'].values[0]\n",
    "mu2 = df['0_y'].values[0]"
   ]
  },
  {
   "cell_type": "markdown",
   "metadata": {},
   "source": [
    "#### Perform the standard deviation guess"
   ]
  },
  {
   "cell_type": "code",
   "execution_count": 1027,
   "metadata": {},
   "outputs": [],
   "source": [
    "x_all = np.arange(0, 24, 0.001)\n",
    "def initialSigma():\n",
    "    x_all = np.arange(0, 24, 0.001)\n",
    "\n",
    "    i = 0\n",
    "    Xpeak = df[str(df['0_x'].values[0])].values[0]\n",
    "    for c in df:\n",
    "        xi = df[str(df['0_x'].values[0]-int(c))].values[0]\n",
    "        temp = Xpeak - xi\n",
    "        \n",
    "        if temp >= 0:\n",
    "            Xpeak = xi\n",
    "        else:\n",
    "            i = df['0_x'].values[0]-int(c)+1 # i returns the index of the lower boundary of range\n",
    "            break\n",
    "\n",
    "    range = 2*(df['0_x'].values[0] - i)\n",
    "\n",
    "    sigma = range/6\n",
    "\n",
    "    return sigma\n",
    "\n",
    "y2 = gauss(x_all, H_offset,A1,mu1,initialSigma())"
   ]
  },
  {
   "cell_type": "code",
   "execution_count": 1028,
   "metadata": {},
   "outputs": [
    {
     "name": "stdout",
     "output_type": "stream",
     "text": [
      "          0         1         2         3         4         5         6  \\\n",
      "0  0.969639  0.884881  0.877994  1.064948  3.191459  7.583719  8.332049   \n",
      "\n",
      "          7         8         9  ...        14        15       16         17  \\\n",
      "0  7.879267  7.240885  5.765455  ...  5.477357  7.571513  9.85606  10.590329   \n",
      "\n",
      "          18         19        20      21       22       23  \n",
      "0  10.949886  10.141316  6.997578  2.8925  1.44807  1.05805  \n",
      "\n",
      "[1 rows x 24 columns]\n",
      "   0\n",
      "0  6\n"
     ]
    },
    {
     "data": {
      "image/png": "[encoded data removed]",
      "text/plain": [
       "<Figure size 864x432 with 1 Axes>"
      ]
     },
     "metadata": {},
     "output_type": "display_data"
    }
   ],
   "source": [
    "plotGaussFit(y2)"
   ]
  },
  {
   "cell_type": "markdown",
   "metadata": {},
   "source": [
    "#### Create code that calculates the error"
   ]
  },
  {
   "cell_type": "code",
   "execution_count": 990,
   "metadata": {},
   "outputs": [],
   "source": [
    "# y2 = gauss(x_all, H_offset,A1,mu1,sigma)\n",
    "\n",
    "xgauss = gauss(df['0_x'].values[0]-2, H_offset,A1,mu1,sigma) # Get the value of the gauss two points before the mean/peak\n",
    "xprofile = df[str(df['0_x'].values[0]-2)].values[0] # Get the value of the profile two points before mean/peak\n",
    "error = np.sqrt(xgauss - xprofile)**2 # Calculate the RMSE error between these points"
   ]
  },
  {
   "cell_type": "markdown",
   "metadata": {},
   "source": [
    "#### Create loop that adjusts the std deviation until error is reduced satisfactorily"
   ]
  },
  {
   "cell_type": "code",
   "execution_count": 1034,
   "metadata": {},
   "outputs": [
    {
     "name": "stdout",
     "output_type": "stream",
     "text": [
      "4.569690754988626\n"
     ]
    }
   ],
   "source": [
    "xprofile = df[str(df['0_x'].values[0]-2)].values[0] # Get the value of the profile two points before mean/peak\n",
    "tolerance = 1\n",
    "\n",
    "# Calculate error using initial sigma guess\n",
    "# sigma = initialSigma()\n",
    "sigma = 5\n",
    "xgauss = gauss(df['0_x'].values[0]-2, H_offset,A1,mu1,sigma) # Get the value of the gauss two points before the mean/peak\n",
    "error = np.sqrt(xgauss - xprofile)**2 # Calculate the RMSE error between these points\n",
    "\n",
    "\n",
    "i = 0\n",
    "temp = 10000\n",
    "while error > tolerance:\n",
    "    # xgauss = gauss(df['0_x'].values[0]-2, H_offset,A1,mu1,sigma+0.1) # Get the value of the gauss two points before the mean/peak\n",
    "    # temp = error\n",
    "    # error = np.sqrt(xgauss - xprofile)**2 # Calculate the RMSE error between these points\n",
    "    \n",
    "    if temp > error:\n",
    "        temp = error\n",
    "        sigma = sigma + 0.01\n",
    "        xgauss = gauss(df['0_x'].values[0]-2, H_offset,A1,mu1,sigma) # Get the value of the gauss two points before the mean/peak\n",
    "        error = np.sqrt(xgauss - xprofile)**2 # Calculate the RMSE error between these points\n",
    "        print(error)\n",
    "\n",
    "        if temp > error:\n",
    "            temp = error\n",
    "            sigma = sigma - 0.01\n",
    "            xgauss = gauss(df['0_x'].values[0]-2, H_offset,A1,mu1,sigma) # Get the value of the gauss two points before the mean/peak\n",
    "            error = np.sqrt(xgauss - xprofile)**2 # Calculate the RMSE error between these points\n",
    "            print(error)\n",
    "\n",
    "\n",
    "\n",
    "    i = i +1\n",
    "\n",
    "    if i == 10:\n",
    "        break"
   ]
  },
  {
   "cell_type": "markdown",
   "metadata": {},
   "source": [
    "### Create code that plots the sigma changes"
   ]
  },
  {
   "cell_type": "code",
   "execution_count": 1080,
   "metadata": {},
   "outputs": [
    {
     "name": "stdout",
     "output_type": "stream",
     "text": [
      "          0         1         2         3         4         5         6  \\\n",
      "0  0.969639  0.884881  0.877994  1.064948  3.191459  7.583719  8.332049   \n",
      "\n",
      "          7         8         9  ...        14        15       16         17  \\\n",
      "0  7.879267  7.240885  5.765455  ...  5.477357  7.571513  9.85606  10.590329   \n",
      "\n",
      "          18         19        20      21       22       23  \n",
      "0  10.949886  10.141316  6.997578  2.8925  1.44807  1.05805  \n",
      "\n",
      "[1 rows x 24 columns]\n",
      "   0\n",
      "0  6\n"
     ]
    },
    {
     "data": {
      "image/png": "[encoded data removed]",
      "text/plain": [
       "<Figure size 864x432 with 1 Axes>"
      ]
     },
     "metadata": {},
     "output_type": "display_data"
    }
   ],
   "source": [
    "y2 = gauss(x_all, H_offset,A1,mu1,initialSigma())\n",
    "# Household ids\n",
    "# id = [2230]#,1002790,483,3063,5351,12020322,5283,5293,168,7118,156,5239,29,1418,1005536]\n",
    "\n",
    "x_all = np.arange(0, 24, 0.001) # entire range of x, both in and out of spec\n",
    "\n",
    "# build the plot\n",
    "fig, ax = plt.subplots(figsize=(12,6))\n",
    "plt.style.use('fivethirtyeight')  \n",
    "\n",
    "# Plot the households loadprofile\n",
    "fig = plt.plot(describe_household().iloc[0,0:24])\n",
    "plt.title(\"Household \"+str(i))\n",
    "\n",
    "# Plot Gaussian fit\n",
    "ax.plot(x_all[:len(x_all)//2],y2[:len(y2)//2], linewidth = 0.8)\n",
    "\n",
    "# for i in np.arange(0,1,0.2):\n",
    "#     y2 = gauss(x_all, H_offset,A1,mu1,initialSigma()+i)\n",
    "#     # Plot Gaussian fit\n",
    "#     ax.plot(x_all,y2,linewidth = 0.5)\n",
    "\n",
    "# Set the labels and axis limits\n",
    "ax.set_xlim([0,24])\n",
    "ax.set_xlabel('Time of day')\n",
    "ax.set_ylabel(\"Amplitude\")\n",
    "ax.set_title('Gaussian Curve Fit')\n",
    "\n",
    "# # Save the figure\n",
    "# plt.savefig('normal_curve.png', dpi=72, bbox_inches='tight')\n",
    "plt.show()"
   ]
  },
  {
   "cell_type": "code",
   "execution_count": 1049,
   "metadata": {},
   "outputs": [
    {
     "data": {
      "text/plain": [
       "array([0.0000e+00, 1.0000e-03, 2.0000e-03, ..., 1.1997e+01, 1.1998e+01,\n",
       "       1.1999e+01])"
      ]
     },
     "execution_count": 1049,
     "metadata": {},
     "output_type": "execute_result"
    }
   ],
   "source": [
    "x_all[:len(x_all)//2]"
   ]
  },
  {
   "cell_type": "code",
   "execution_count": 1073,
   "metadata": {},
   "outputs": [
    {
     "data": {
      "text/plain": [
       "12000"
      ]
     },
     "execution_count": 1073,
     "metadata": {},
     "output_type": "execute_result"
    }
   ],
   "source": [
    "len(y2[:len(y2)//2])"
   ]
  },
  {
   "cell_type": "code",
   "execution_count": 1074,
   "metadata": {},
   "outputs": [
    {
     "data": {
      "text/plain": [
       "24000"
      ]
     },
     "execution_count": 1074,
     "metadata": {},
     "output_type": "execute_result"
    }
   ],
   "source": [
    "len(y2)"
   ]
  },
  {
   "cell_type": "code",
   "execution_count": null,
   "metadata": {},
   "outputs": [],
   "source": []
  }
 ],
 "metadata": {
  "interpreter": {
   "hash": "52469ae204d1d50c448c04334a11ed7bbfc3a11760631521f4bdc0e8f20089d8"
  },
  "kernelspec": {
   "display_name": "Python 3.9.6 64-bit",
   "language": "python",
   "name": "python3"
  },
  "language_info": {
   "codemirror_mode": {
    "name": "ipython",
    "version": 3
   },
   "file_extension": ".py",
   "mimetype": "text/x-python",
   "name": "python",
   "nbconvert_exporter": "python",
   "pygments_lexer": "ipython3",
   "version": "3.9.6"
  },
  "orig_nbformat": 4
 },
 "nbformat": 4,
 "nbformat_minor": 2
}
