{
 "cells": [
  {
   "cell_type": "code",
   "execution_count": 1,
   "metadata": {},
   "outputs": [
    {
     "name": "stdout",
     "output_type": "stream",
     "text": [
      "C:\\Users\\Jason\\AppData\\Local\\Programs\\Python\\Python39\\lib\\os.py\n",
      "c:\\Users\\Jason\\thesis_project\n"
     ]
    },
    {
     "data": {
      "text/html": [
       "        <script type=\"text/javascript\">\n",
       "        window.PlotlyConfig = {MathJaxConfig: 'local'};\n",
       "        if (window.MathJax) {MathJax.Hub.Config({SVG: {font: \"STIX-Web\"}});}\n",
       "        if (typeof require !== 'undefined') {\n",
       "        require.undef(\"plotly\");\n",
       "        requirejs.config({\n",
       "            paths: {\n",
       "                'plotly': ['https://cdn.plot.ly/plotly-2.6.3.min']\n",
       "            }\n",
       "        });\n",
       "        require(['plotly'], function(Plotly) {\n",
       "            window._Plotly = Plotly;\n",
       "        });\n",
       "        }\n",
       "        </script>\n",
       "        "
      ]
     },
     "metadata": {},
     "output_type": "display_data"
    }
   ],
   "source": [
    "import time\n",
    "import pandas as pd\n",
    "import dask.dataframe as dd\n",
    "import numpy as np\n",
    "import plotly.graph_objects as go\n",
    "import plotly.offline as po\n",
    "import plotly.express as px\n",
    "import os,sys\n",
    "import json\n",
    "from array import array\n",
    "\n",
    "from collections import defaultdict\n",
    "from scipy.signal import find_peaks\n",
    "# Insert the path of modules folder \n",
    "# sys.path.insert(0, 'C:/Users/Jason/thesis_project')\n",
    "sys.path.append(\"../\")\n",
    "\n",
    "from support import *\n",
    "from features.feature_ts import genX\n",
    "from experiment.algorithms.cluster_prep import *"
   ]
  },
  {
   "cell_type": "code",
   "execution_count": 2,
   "metadata": {},
   "outputs": [
    {
     "name": "stdout",
     "output_type": "stream",
     "text": [
      "dropping all zero rows\n"
     ]
    }
   ],
   "source": [
    "X = genX([1994,2014], drop_0 = True)\n",
    "\n",
    "Xbin = xBins(X, 'amd')"
   ]
  },
  {
   "cell_type": "markdown",
   "metadata": {},
   "source": [
    "### Looking at users from a specific bin 600-1200"
   ]
  },
  {
   "cell_type": "code",
   "execution_count": 3,
   "metadata": {},
   "outputs": [],
   "source": [
    "list_len = []\n",
    "list_ids = []\n",
    "\n",
    "for ids in Xbin['2500-4000']:\n",
    "    list_ids.append(ids)\n",
    "    list_len.append(len(X.loc[ids,:]))\n",
    "\n",
    "# Find the household that logged the most data\n",
    "ix = list_len.index(max(list_len))\n",
    "\n",
    "# Store the households ID\n",
    "house_id = list_ids[ix]\n",
    "\n",
    "# Create a dataframe with all of that households data\n",
    "A = X.loc[house_id,:]\n",
    "H = A.copy()"
   ]
  },
  {
   "cell_type": "code",
   "execution_count": 4,
   "metadata": {},
   "outputs": [],
   "source": [
    "H = A.copy()\n",
    "# H = A.reset_index()\n",
    "# H.drop(['date'], axis = 1, inplace = True)"
   ]
  },
  {
   "cell_type": "code",
   "execution_count": 5,
   "metadata": {},
   "outputs": [],
   "source": [
    "def find_peaksMA(X):\n",
    "\n",
    "    df = X.copy()\n",
    "    arrayX  = X.to_numpy().copy()\n",
    "    arrayY = X.to_numpy().copy()\n",
    "\n",
    "    listYM  = list(map(lambda x : x[:12],arrayY))\n",
    "    listYA  = list(map(lambda x : x[12:],arrayY))\n",
    "\n",
    "    arrayYM = np.array(listYM)\n",
    "    arrayYA = np.array(listYA)\n",
    "\n",
    "    # arrayYM.sort()\n",
    "    # arrayYA.sort()\n",
    "\n",
    "    dict_M = defaultdict(list)\n",
    "    dict_A = defaultdict(list)\n",
    "\n",
    "    df.reset_index(inplace = True)\n",
    "\n",
    "    for i in range(0,len(arrayX)):\n",
    "        indices_M = np.where(arrayYM[i] == np.amax(arrayYM[i]))\n",
    "        indices_A = np.where(arrayYA[i] == np.amax(arrayYA[i]))\n",
    "\n",
    "        dict_M[i].append(indices_M[0][0]) \n",
    "        dict_A[i].append(indices_A[0][0])\n",
    "\n",
    "    ToP_M_df = pd.DataFrame.from_dict(dict_M)\n",
    "    ToP_A_df = pd.DataFrame.from_dict(dict_A)\n",
    "\n",
    "    top_M_dict = ToP_M_df.T\n",
    "    top_A_dict = ToP_A_df.T + 12\n",
    "\n",
    "    dict_M.clear() \n",
    "    dict_A.clear()\n",
    "\n",
    "\n",
    "    X1 = df.merge(top_M_dict, left_index = True, right_index = True).merge(top_A_dict,left_index = True, right_index = True)\n",
    "\n",
    "    return X1"
   ]
  },
  {
   "cell_type": "code",
   "execution_count": 6,
   "metadata": {},
   "outputs": [],
   "source": [
    "# def plotPeaks(X, bin)\n",
    "from plotly.subplots import make_subplots\n",
    "\n",
    "def plotToPs(A, bin):\n",
    "    \n",
    "    temp = find_peaksMA(A)\n",
    "\n",
    "    ToPs = calculateToPs(temp)\n",
    "\n",
    "    indices = temp['0_x']\n",
    "\n",
    "    # fig = make_subplots(rows=2, cols=1, subplot_titles=(\"Amplitude vs Time of Peak\", \"Histogram of ToPs\"))\n",
    "\n",
    "    fig = go.Figure()\n",
    "\n",
    "    # def add_new_trace(index):\n",
    "    #     fig.append_trace(go.Scatter(\n",
    "    #     x=[int(i) for i in indices[index]],\n",
    "    #     y=temp.loc[index,indices[index]].values,\n",
    "    #     mode='markers',\n",
    "    #     marker=dict(\n",
    "    #         size=8,\n",
    "    #         color='red',\n",
    "    #         symbol='circle'\n",
    "    #     ),\n",
    "    #     name='Detected Peaks',\n",
    "    #     showlegend = False\n",
    "    #     ),row =1, col =1)  \n",
    "\n",
    "    # for i in temp.index:\n",
    "    #     add_new_trace(i)\n",
    "\n",
    "    # fig.update_yaxes(title_text=\"Amplitude\", row = 1, col = 1)\n",
    "\n",
    "    # fig.update_xaxes(title_text = \"Time of Peak\")\n",
    "\n",
    "    # fig.update_layout(title=\"Profiles for bin \" + str(bin),\n",
    "    #     xaxis = dict(\n",
    "    #         tickmode = 'linear',\n",
    "    #         tick0 = 0,\n",
    "    #         dtick = 1\n",
    "    #     )\n",
    "    # )\n",
    "\n",
    "    #Plot Histogram of \"total_bill\" with rugplot parameters\n",
    "    fig.append_trace(px.histogram(x=ToPs),row = 2, col =1)\n",
    "\n",
    "    fig.update_yaxes(title_text=\"Count\", row = 2, col = 1)\n",
    "\n",
    "    # po.plot(fig, auto_open=False, filename=data_dir+'/plots/ToP_Amplitude_'+str(bin)+'.html')\n",
    "    fig.show()"
   ]
  },
  {
   "cell_type": "code",
   "execution_count": 7,
   "metadata": {},
   "outputs": [],
   "source": [
    "def calculateToPs(X1):\n",
    "    \n",
    "    X1['ToP'] = X1[['0_x', '0_y']].values.tolist()\n",
    "    ToP = X1.groupby(['date'])['ToP'].apply(pd.Series.tolist)\n",
    "    temp = ToP.map(lambda x : [item for sublist in x for item in sublist])\n",
    "\n",
    "    ToPs = temp.apply(pd.Series).stack().reset_index(drop = True)\n",
    "\n",
    "    print(ToPs)\n",
    "\n",
    "    return ToPs"
   ]
  },
  {
   "cell_type": "code",
   "execution_count": 8,
   "metadata": {},
   "outputs": [
    {
     "name": "stdout",
     "output_type": "stream",
     "text": [
      "0      11\n",
      "1      19\n",
      "2       7\n",
      "3      18\n",
      "4       7\n",
      "       ..\n",
      "207    15\n",
      "208    10\n",
      "209    17\n",
      "210     6\n",
      "211    12\n",
      "Length: 212, dtype: int64\n"
     ]
    },
    {
     "ename": "ValueError",
     "evalue": "\n    Invalid element(s) received for the 'data' property of \n        Invalid elements include: [Figure({\n    'data': [{'alignmentgroup': 'True',\n              'bingroup': 'x',\n              'hovertemplate': 'x=%{x}<br>count=%{y}<extra></extra>',\n              'legendgroup': '',\n              'marker': {'color': '#636efa', 'pattern': {'shape': ''}},\n              'name': '',\n              'offsetgroup': '',\n              'orientation': 'v',\n              'showlegend': False,\n              'type': 'histogram',\n              'x': array([11, 19,  7, ..., 17,  6, 12], dtype=int64),\n              'xaxis': 'x',\n              'yaxis': 'y'}],\n    'layout': {'barmode': 'relative',\n               'legend': {'tracegroupgap': 0},\n               'margin': {'t': 60},\n               'template': '...',\n               'xaxis': {'anchor': 'y', 'domain': [0.0, 1.0], 'title': {'text': 'x'}},\n               'yaxis': {'anchor': 'x', 'domain': [0.0, 1.0], 'title': {'text': 'count'}}}\n})]\n\n    The 'data' property is a tuple of trace instances\n    that may be specified as:\n      - A list or tuple of trace instances\n        (e.g. [Scatter(...), Bar(...)])\n      - A single trace instance\n        (e.g. Scatter(...), Bar(...), etc.)\n      - A list or tuple of dicts of string/value properties where:\n        - The 'type' property specifies the trace type\n            One of: ['bar', 'barpolar', 'box', 'candlestick',\n                     'carpet', 'choropleth', 'choroplethmapbox',\n                     'cone', 'contour', 'contourcarpet',\n                     'densitymapbox', 'funnel', 'funnelarea',\n                     'heatmap', 'heatmapgl', 'histogram',\n                     'histogram2d', 'histogram2dcontour', 'icicle',\n                     'image', 'indicator', 'isosurface', 'mesh3d',\n                     'ohlc', 'parcats', 'parcoords', 'pie',\n                     'pointcloud', 'sankey', 'scatter',\n                     'scatter3d', 'scattercarpet', 'scattergeo',\n                     'scattergl', 'scattermapbox', 'scatterpolar',\n                     'scatterpolargl', 'scattersmith',\n                     'scatterternary', 'splom', 'streamtube',\n                     'sunburst', 'surface', 'table', 'treemap',\n                     'violin', 'volume', 'waterfall']\n\n        - All remaining properties are passed to the constructor of\n          the specified trace type\n\n        (e.g. [{'type': 'scatter', ...}, {'type': 'bar, ...}])",
     "output_type": "error",
     "traceback": [
      "\u001b[1;31m---------------------------------------------------------------------------\u001b[0m",
      "\u001b[1;31mValueError\u001b[0m                                Traceback (most recent call last)",
      "\u001b[1;32m<ipython-input-8-c7f9fafba335>\u001b[0m in \u001b[0;36m<module>\u001b[1;34m\u001b[0m\n\u001b[0;32m     43\u001b[0m \u001b[1;33m\u001b[0m\u001b[0m\n\u001b[0;32m     44\u001b[0m \u001b[1;31m#Plot Histogram of \"total_bill\" with rugplot parameters\u001b[0m\u001b[1;33m\u001b[0m\u001b[1;33m\u001b[0m\u001b[1;33m\u001b[0m\u001b[0m\n\u001b[1;32m---> 45\u001b[1;33m \u001b[0mfig\u001b[0m\u001b[1;33m.\u001b[0m\u001b[0mappend_trace\u001b[0m\u001b[1;33m(\u001b[0m\u001b[0mpx\u001b[0m\u001b[1;33m.\u001b[0m\u001b[0mhistogram\u001b[0m\u001b[1;33m(\u001b[0m\u001b[0mx\u001b[0m \u001b[1;33m=\u001b[0m \u001b[0mToPs_df\u001b[0m\u001b[1;33m)\u001b[0m\u001b[1;33m,\u001b[0m\u001b[0mrow\u001b[0m \u001b[1;33m=\u001b[0m \u001b[1;36m2\u001b[0m\u001b[1;33m,\u001b[0m \u001b[0mcol\u001b[0m \u001b[1;33m=\u001b[0m\u001b[1;36m1\u001b[0m\u001b[1;33m)\u001b[0m\u001b[1;33m\u001b[0m\u001b[1;33m\u001b[0m\u001b[0m\n\u001b[0m\u001b[0;32m     46\u001b[0m \u001b[1;33m\u001b[0m\u001b[0m\n\u001b[0;32m     47\u001b[0m \u001b[0mfig\u001b[0m\u001b[1;33m.\u001b[0m\u001b[0mupdate_yaxes\u001b[0m\u001b[1;33m(\u001b[0m\u001b[0mtitle_text\u001b[0m\u001b[1;33m=\u001b[0m\u001b[1;34m\"Count\"\u001b[0m\u001b[1;33m,\u001b[0m \u001b[0mrow\u001b[0m \u001b[1;33m=\u001b[0m \u001b[1;36m2\u001b[0m\u001b[1;33m,\u001b[0m \u001b[0mcol\u001b[0m \u001b[1;33m=\u001b[0m \u001b[1;36m1\u001b[0m\u001b[1;33m)\u001b[0m\u001b[1;33m\u001b[0m\u001b[1;33m\u001b[0m\u001b[0m\n",
      "\u001b[1;32m~\\AppData\\Local\\Programs\\Python\\Python39\\lib\\site-packages\\plotly\\basedatatypes.py\u001b[0m in \u001b[0;36mappend_trace\u001b[1;34m(self, trace, row, col)\u001b[0m\n\u001b[0;32m   2313\u001b[0m         )\n\u001b[0;32m   2314\u001b[0m \u001b[1;33m\u001b[0m\u001b[0m\n\u001b[1;32m-> 2315\u001b[1;33m         \u001b[0mself\u001b[0m\u001b[1;33m.\u001b[0m\u001b[0madd_trace\u001b[0m\u001b[1;33m(\u001b[0m\u001b[0mtrace\u001b[0m\u001b[1;33m=\u001b[0m\u001b[0mtrace\u001b[0m\u001b[1;33m,\u001b[0m \u001b[0mrow\u001b[0m\u001b[1;33m=\u001b[0m\u001b[0mrow\u001b[0m\u001b[1;33m,\u001b[0m \u001b[0mcol\u001b[0m\u001b[1;33m=\u001b[0m\u001b[0mcol\u001b[0m\u001b[1;33m)\u001b[0m\u001b[1;33m\u001b[0m\u001b[1;33m\u001b[0m\u001b[0m\n\u001b[0m\u001b[0;32m   2316\u001b[0m \u001b[1;33m\u001b[0m\u001b[0m\n\u001b[0;32m   2317\u001b[0m     \u001b[1;32mdef\u001b[0m \u001b[0m_set_trace_grid_position\u001b[0m\u001b[1;33m(\u001b[0m\u001b[0mself\u001b[0m\u001b[1;33m,\u001b[0m \u001b[0mtrace\u001b[0m\u001b[1;33m,\u001b[0m \u001b[0mrow\u001b[0m\u001b[1;33m,\u001b[0m \u001b[0mcol\u001b[0m\u001b[1;33m,\u001b[0m \u001b[0msecondary_y\u001b[0m\u001b[1;33m=\u001b[0m\u001b[1;32mFalse\u001b[0m\u001b[1;33m)\u001b[0m\u001b[1;33m:\u001b[0m\u001b[1;33m\u001b[0m\u001b[1;33m\u001b[0m\u001b[0m\n",
      "\u001b[1;32m~\\AppData\\Local\\Programs\\Python\\Python39\\lib\\site-packages\\plotly\\basedatatypes.py\u001b[0m in \u001b[0;36madd_trace\u001b[1;34m(self, trace, row, col, secondary_y, exclude_empty_subplots)\u001b[0m\n\u001b[0;32m   2097\u001b[0m             \u001b[1;32mreturn\u001b[0m \u001b[0mself\u001b[0m\u001b[1;33m\u001b[0m\u001b[1;33m\u001b[0m\u001b[0m\n\u001b[0;32m   2098\u001b[0m \u001b[1;33m\u001b[0m\u001b[0m\n\u001b[1;32m-> 2099\u001b[1;33m         return self.add_traces(\n\u001b[0m\u001b[0;32m   2100\u001b[0m             \u001b[0mdata\u001b[0m\u001b[1;33m=\u001b[0m\u001b[1;33m[\u001b[0m\u001b[0mtrace\u001b[0m\u001b[1;33m]\u001b[0m\u001b[1;33m,\u001b[0m\u001b[1;33m\u001b[0m\u001b[1;33m\u001b[0m\u001b[0m\n\u001b[0;32m   2101\u001b[0m             \u001b[0mrows\u001b[0m\u001b[1;33m=\u001b[0m\u001b[1;33m[\u001b[0m\u001b[0mrow\u001b[0m\u001b[1;33m]\u001b[0m \u001b[1;32mif\u001b[0m \u001b[0mrow\u001b[0m \u001b[1;32mis\u001b[0m \u001b[1;32mnot\u001b[0m \u001b[1;32mNone\u001b[0m \u001b[1;32melse\u001b[0m \u001b[1;32mNone\u001b[0m\u001b[1;33m,\u001b[0m\u001b[1;33m\u001b[0m\u001b[1;33m\u001b[0m\u001b[0m\n",
      "\u001b[1;32m~\\AppData\\Local\\Programs\\Python\\Python39\\lib\\site-packages\\plotly\\basedatatypes.py\u001b[0m in \u001b[0;36madd_traces\u001b[1;34m(self, data, rows, cols, secondary_ys, exclude_empty_subplots)\u001b[0m\n\u001b[0;32m   2181\u001b[0m \u001b[1;33m\u001b[0m\u001b[0m\n\u001b[0;32m   2182\u001b[0m         \u001b[1;31m# Validate traces\u001b[0m\u001b[1;33m\u001b[0m\u001b[1;33m\u001b[0m\u001b[1;33m\u001b[0m\u001b[0m\n\u001b[1;32m-> 2183\u001b[1;33m         \u001b[0mdata\u001b[0m \u001b[1;33m=\u001b[0m \u001b[0mself\u001b[0m\u001b[1;33m.\u001b[0m\u001b[0m_data_validator\u001b[0m\u001b[1;33m.\u001b[0m\u001b[0mvalidate_coerce\u001b[0m\u001b[1;33m(\u001b[0m\u001b[0mdata\u001b[0m\u001b[1;33m)\u001b[0m\u001b[1;33m\u001b[0m\u001b[1;33m\u001b[0m\u001b[0m\n\u001b[0m\u001b[0;32m   2184\u001b[0m \u001b[1;33m\u001b[0m\u001b[0m\n\u001b[0;32m   2185\u001b[0m         \u001b[1;31m# Set trace indexes\u001b[0m\u001b[1;33m\u001b[0m\u001b[1;33m\u001b[0m\u001b[1;33m\u001b[0m\u001b[0m\n",
      "\u001b[1;32m~\\AppData\\Local\\Programs\\Python\\Python39\\lib\\site-packages\\_plotly_utils\\basevalidators.py\u001b[0m in \u001b[0;36mvalidate_coerce\u001b[1;34m(self, v, skip_invalid, _validate)\u001b[0m\n\u001b[0;32m   2692\u001b[0m \u001b[1;33m\u001b[0m\u001b[0m\n\u001b[0;32m   2693\u001b[0m             \u001b[1;32mif\u001b[0m \u001b[0minvalid_els\u001b[0m\u001b[1;33m:\u001b[0m\u001b[1;33m\u001b[0m\u001b[1;33m\u001b[0m\u001b[0m\n\u001b[1;32m-> 2694\u001b[1;33m                 \u001b[0mself\u001b[0m\u001b[1;33m.\u001b[0m\u001b[0mraise_invalid_elements\u001b[0m\u001b[1;33m(\u001b[0m\u001b[0minvalid_els\u001b[0m\u001b[1;33m)\u001b[0m\u001b[1;33m\u001b[0m\u001b[1;33m\u001b[0m\u001b[0m\n\u001b[0m\u001b[0;32m   2695\u001b[0m \u001b[1;33m\u001b[0m\u001b[0m\n\u001b[0;32m   2696\u001b[0m             \u001b[0mv\u001b[0m \u001b[1;33m=\u001b[0m \u001b[0mto_scalar_or_list\u001b[0m\u001b[1;33m(\u001b[0m\u001b[0mres\u001b[0m\u001b[1;33m)\u001b[0m\u001b[1;33m\u001b[0m\u001b[1;33m\u001b[0m\u001b[0m\n",
      "\u001b[1;32m~\\AppData\\Local\\Programs\\Python\\Python39\\lib\\site-packages\\_plotly_utils\\basevalidators.py\u001b[0m in \u001b[0;36mraise_invalid_elements\u001b[1;34m(self, invalid_els)\u001b[0m\n\u001b[0;32m    303\u001b[0m     \u001b[1;32mdef\u001b[0m \u001b[0mraise_invalid_elements\u001b[0m\u001b[1;33m(\u001b[0m\u001b[0mself\u001b[0m\u001b[1;33m,\u001b[0m \u001b[0minvalid_els\u001b[0m\u001b[1;33m)\u001b[0m\u001b[1;33m:\u001b[0m\u001b[1;33m\u001b[0m\u001b[1;33m\u001b[0m\u001b[0m\n\u001b[0;32m    304\u001b[0m         \u001b[1;32mif\u001b[0m \u001b[0minvalid_els\u001b[0m\u001b[1;33m:\u001b[0m\u001b[1;33m\u001b[0m\u001b[1;33m\u001b[0m\u001b[0m\n\u001b[1;32m--> 305\u001b[1;33m             raise ValueError(\n\u001b[0m\u001b[0;32m    306\u001b[0m                 \"\"\"\n\u001b[0;32m    307\u001b[0m     \u001b[0mInvalid\u001b[0m \u001b[0melement\u001b[0m\u001b[1;33m(\u001b[0m\u001b[0ms\u001b[0m\u001b[1;33m)\u001b[0m \u001b[0mreceived\u001b[0m \u001b[1;32mfor\u001b[0m \u001b[0mthe\u001b[0m \u001b[1;34m'{name}'\u001b[0m \u001b[0mproperty\u001b[0m \u001b[0mof\u001b[0m \u001b[1;33m{\u001b[0m\u001b[0mpname\u001b[0m\u001b[1;33m}\u001b[0m\u001b[1;33m\u001b[0m\u001b[1;33m\u001b[0m\u001b[0m\n",
      "\u001b[1;31mValueError\u001b[0m: \n    Invalid element(s) received for the 'data' property of \n        Invalid elements include: [Figure({\n    'data': [{'alignmentgroup': 'True',\n              'bingroup': 'x',\n              'hovertemplate': 'x=%{x}<br>count=%{y}<extra></extra>',\n              'legendgroup': '',\n              'marker': {'color': '#636efa', 'pattern': {'shape': ''}},\n              'name': '',\n              'offsetgroup': '',\n              'orientation': 'v',\n              'showlegend': False,\n              'type': 'histogram',\n              'x': array([11, 19,  7, ..., 17,  6, 12], dtype=int64),\n              'xaxis': 'x',\n              'yaxis': 'y'}],\n    'layout': {'barmode': 'relative',\n               'legend': {'tracegroupgap': 0},\n               'margin': {'t': 60},\n               'template': '...',\n               'xaxis': {'anchor': 'y', 'domain': [0.0, 1.0], 'title': {'text': 'x'}},\n               'yaxis': {'anchor': 'x', 'domain': [0.0, 1.0], 'title': {'text': 'count'}}}\n})]\n\n    The 'data' property is a tuple of trace instances\n    that may be specified as:\n      - A list or tuple of trace instances\n        (e.g. [Scatter(...), Bar(...)])\n      - A single trace instance\n        (e.g. Scatter(...), Bar(...), etc.)\n      - A list or tuple of dicts of string/value properties where:\n        - The 'type' property specifies the trace type\n            One of: ['bar', 'barpolar', 'box', 'candlestick',\n                     'carpet', 'choropleth', 'choroplethmapbox',\n                     'cone', 'contour', 'contourcarpet',\n                     'densitymapbox', 'funnel', 'funnelarea',\n                     'heatmap', 'heatmapgl', 'histogram',\n                     'histogram2d', 'histogram2dcontour', 'icicle',\n                     'image', 'indicator', 'isosurface', 'mesh3d',\n                     'ohlc', 'parcats', 'parcoords', 'pie',\n                     'pointcloud', 'sankey', 'scatter',\n                     'scatter3d', 'scattercarpet', 'scattergeo',\n                     'scattergl', 'scattermapbox', 'scatterpolar',\n                     'scatterpolargl', 'scattersmith',\n                     'scatterternary', 'splom', 'streamtube',\n                     'sunburst', 'surface', 'table', 'treemap',\n                     'violin', 'volume', 'waterfall']\n\n        - All remaining properties are passed to the constructor of\n          the specified trace type\n\n        (e.g. [{'type': 'scatter', ...}, {'type': 'bar, ...}])"
     ]
    }
   ],
   "source": [
    "temp = find_peaksMA(H)\n",
    "\n",
    "ToPs = calculateToPs(temp)\n",
    "\n",
    "temp.drop(['date'], axis = 1, inplace = True)\n",
    "\n",
    "indices = temp['ToP']\n",
    "\n",
    "fig = make_subplots(rows=2, cols=1, subplot_titles=(\"Amplitude vs Time of Peak\", \"Histogram of ToPs\"))\n",
    "\n",
    "# fig = go.Figure()\n",
    "\n",
    "def add_new_trace(index):\n",
    "    fig.append_trace(go.Scatter(\n",
    "    x=[int(i) for i in indices[index]],\n",
    "    y=temp.iloc[index,indices[index]].values,\n",
    "    mode='markers',\n",
    "    marker=dict(\n",
    "        size=8,\n",
    "        color='red',\n",
    "        symbol='circle'\n",
    "    ),\n",
    "    name='Detected Peaks',\n",
    "    showlegend = False\n",
    "    ),row =1, col =1)  \n",
    "\n",
    "for i in temp.index:\n",
    "    add_new_trace(i)\n",
    "\n",
    "fig.update_yaxes(title_text=\"Amplitude\", row = 1, col = 1)\n",
    "\n",
    "fig.update_xaxes(title_text = \"Time of Peak\")\n",
    "\n",
    "fig.update_layout(title=\"Profiles for bin \" + str(bin),\n",
    "    xaxis = dict(\n",
    "        tickmode = 'linear',\n",
    "        tick0 = 0,\n",
    "        dtick = 1\n",
    "    )\n",
    ")\n",
    "\n",
    "ToPs_df = ToPs.to_list()\n",
    "\n",
    "#Plot Histogram of \"total_bill\" with rugplot parameters\n",
    "fig.append_trace(px.histogram(x = ToPs_df),row = 2, col =1)\n",
    "\n",
    "fig.update_yaxes(title_text=\"Count\", row = 2, col = 1)\n",
    "\n",
    "# po.plot(fig, auto_open=False, filename=data_dir+'/plots/ToP_Amplitude_'+str(bin)+'.html')\n",
    "fig.show()"
   ]
  },
  {
   "cell_type": "code",
   "execution_count": null,
   "metadata": {},
   "outputs": [
    {
     "data": {
      "image/png": "[encoded data removed]",
      "text/plain": [
       "<Figure size 864x360 with 1 Axes>"
      ]
     },
     "metadata": {},
     "output_type": "display_data"
    }
   ],
   "source": [
    "import seaborn as sns\n",
    "\n",
    "\n",
    "temp1 = temp[['0_x','0_y']].copy()\n",
    "temp1.rename(columns = {'0_x':'Morning', '0_y':'Afternoon'}, inplace = True)\n",
    "ax = sns.histplot(data=temp1, linewidth=1, color='lightsteelblue', binwidth=1)\n",
    "# ax = sns.distplot(temp1)\n",
    "ax.set(ylabel='Frequency', xlabel='Time of Peaks')\n",
    "sns.set(rc={\"figure.figsize\":(12, 5)}) #width=3, #height=4"
   ]
  },
  {
   "cell_type": "markdown",
   "metadata": {},
   "source": [
    "### Find the most frequent time of peak"
   ]
  },
  {
   "cell_type": "code",
   "execution_count": 9,
   "metadata": {},
   "outputs": [],
   "source": [
    "def most_frequent(List):\n",
    "    return max(set(List), key = List.count)"
   ]
  },
  {
   "cell_type": "code",
   "execution_count": 10,
   "metadata": {},
   "outputs": [
    {
     "ename": "NameError",
     "evalue": "name 'temp1' is not defined",
     "output_type": "error",
     "traceback": [
      "\u001b[1;31m---------------------------------------------------------------------------\u001b[0m",
      "\u001b[1;31mNameError\u001b[0m                                 Traceback (most recent call last)",
      "\u001b[1;32m<ipython-input-10-40980f87746b>\u001b[0m in \u001b[0;36m<module>\u001b[1;34m\u001b[0m\n\u001b[1;32m----> 1\u001b[1;33m \u001b[0mmorning_freguent_peak\u001b[0m \u001b[1;33m=\u001b[0m \u001b[0mmost_frequent\u001b[0m\u001b[1;33m(\u001b[0m\u001b[0mtemp1\u001b[0m\u001b[1;33m[\u001b[0m\u001b[1;34m'Morning'\u001b[0m\u001b[1;33m]\u001b[0m\u001b[1;33m.\u001b[0m\u001b[0mto_list\u001b[0m\u001b[1;33m(\u001b[0m\u001b[1;33m)\u001b[0m\u001b[1;33m)\u001b[0m\u001b[1;33m\u001b[0m\u001b[1;33m\u001b[0m\u001b[0m\n\u001b[0m\u001b[0;32m      2\u001b[0m \u001b[0mafternoon_freguent_peak\u001b[0m \u001b[1;33m=\u001b[0m \u001b[0mmost_frequent\u001b[0m\u001b[1;33m(\u001b[0m\u001b[0mtemp1\u001b[0m\u001b[1;33m[\u001b[0m\u001b[1;34m'Afternoon'\u001b[0m\u001b[1;33m]\u001b[0m\u001b[1;33m.\u001b[0m\u001b[0mto_list\u001b[0m\u001b[1;33m(\u001b[0m\u001b[1;33m)\u001b[0m\u001b[1;33m)\u001b[0m\u001b[1;33m\u001b[0m\u001b[1;33m\u001b[0m\u001b[0m\n",
      "\u001b[1;31mNameError\u001b[0m: name 'temp1' is not defined"
     ]
    }
   ],
   "source": [
    "morning_freguent_peak = most_frequent(temp1['Morning'].to_list())\n",
    "afternoon_freguent_peak = most_frequent(temp1['Afternoon'].to_list())"
   ]
  },
  {
   "cell_type": "markdown",
   "metadata": {},
   "source": [
    "# Detremine where the daily data increases and decreases after and before the peaks"
   ]
  },
  {
   "cell_type": "markdown",
   "metadata": {},
   "source": [
    "### Find the average profile of a user"
   ]
  },
  {
   "cell_type": "code",
   "execution_count": 11,
   "metadata": {},
   "outputs": [],
   "source": [
    "import random\n",
    "\n",
    "list_len = []\n",
    "list_ids = []\n",
    "\n",
    "for ids in Xbin['600-1200']:\n",
    "    list_ids.append(ids)\n",
    "    list_len.append(len(X.loc[ids,:]))\n",
    "\n",
    "\n",
    "# def selectRandomUser():\n",
    "#     # Find the household that logged the most data\n",
    "#     ix = list_len.index(random.choice(list_len))\n",
    "\n",
    "#     # Store the households ID\n",
    "#     house_id = list_ids[ix]\n",
    "\n",
    "#     print(house_id)\n",
    "\n",
    "#     # Create a dataframe with all of that households data\n",
    "#     A = X.loc[house_id,:]\n",
    "#     H = A.copy()\n",
    "\n",
    "#     return H"
   ]
  },
  {
   "cell_type": "code",
   "execution_count": 12,
   "metadata": {},
   "outputs": [],
   "source": [
    "def selectRandomUser(Household):\n",
    "    # # Find the household that logged the most data\n",
    "    # ix = list_len.index(5283)\n",
    "\n",
    "    # # Store the households ID\n",
    "    # house_id = list_ids[ix]\n",
    "\n",
    "    # print(house_id)\n",
    "    house_id = Household\n",
    "    # Create a dataframe with all of that households data\n",
    "    A = X.loc[house_id,:]\n",
    "    H = A.copy()\n",
    "\n",
    "    return H"
   ]
  },
  {
   "cell_type": "code",
   "execution_count": 13,
   "metadata": {},
   "outputs": [
    {
     "data": {
      "image/png": "[encoded data removed]",
      "text/plain": [
       "<Figure size 432x288 with 1 Axes>"
      ]
     },
     "metadata": {
      "needs_background": "light"
     },
     "output_type": "display_data"
    },
    {
     "data": {
      "text/plain": [
       "<Figure size 432x288 with 0 Axes>"
      ]
     },
     "metadata": {},
     "output_type": "display_data"
    }
   ],
   "source": [
    "import matplotlib.pyplot as plt\n",
    "\n",
    "id = [2230]#,1002790,483,3063,5351,12020322,5283,5293,168,7118,156,5239,29,1418,1005536]\n",
    "\n",
    "for i in id:\n",
    "    H = selectRandomUser(i)\n",
    "\n",
    "    H1 = find_peaksMA(H)\n",
    "    H1_d = H1.describe()\n",
    "    H1_d.drop(['0_x','0_y'], axis = 1, inplace = True)\n",
    "    H1_d1 = find_peaksMA(H1_d)\n",
    "    H1_d1 = H1_d1.drop([0, 2,3,7])\n",
    "    fig = plt.plot(H1_d1.iloc[0,1:25])\n",
    "    plt.title(\"Household \"+str(i))\n",
    "    # plt.savefig(str(i)+'.png')\n",
    "    plt.show()\n",
    "    plt.clf()\n"
   ]
  },
  {
   "cell_type": "markdown",
   "metadata": {},
   "source": [
    "### Superimpose gaussian on plot"
   ]
  },
  {
   "cell_type": "code",
   "execution_count": 14,
   "metadata": {},
   "outputs": [],
   "source": [
    "# normal_curve.py\n",
    "\n",
    "import numpy as np\n",
    "import matplotlib.pyplot as plt\n",
    "from scipy.stats import norm\n",
    "# if using a Jupyter notebook, inlcude:\n",
    "%matplotlib inline"
   ]
  },
  {
   "cell_type": "markdown",
   "metadata": {},
   "source": [
    "#### Function to determine households mean, peak times"
   ]
  },
  {
   "cell_type": "code",
   "execution_count": 15,
   "metadata": {},
   "outputs": [],
   "source": [
    "def find_peaksMA(X):    \n",
    "    # Create a copy of households mean electricity usage\n",
    "    df = X.copy()\n",
    "\n",
    "    arrayX = X.to_numpy().copy()\n",
    "\n",
    "    listYM  = list(map(lambda x : x[:12],arrayX))\n",
    "    listYA  = list(map(lambda x : x[12:],arrayX))\n",
    "\n",
    "    arrayYM = np.array(listYM)\n",
    "    arrayYA = np.array(listYA)\n",
    "\n",
    "    dict_M = defaultdict(list)\n",
    "    dict_A = defaultdict(list)\n",
    "\n",
    "    # Determine the time when the peaks occur\n",
    "    indices_M = np.where(arrayYM[0] == np.amax(arrayYM[0]))\n",
    "    indices_A = np.where(arrayYA[0] == np.amax(arrayYA[0]))\n",
    "\n",
    "    dict_M[i].append(indices_M[0][0]) \n",
    "    dict_A[i].append(indices_A[0][0])\n",
    "\n",
    "    ToP_M_df = pd.DataFrame.from_dict(dict_M)\n",
    "    ToP_A_df = pd.DataFrame.from_dict(dict_A)\n",
    "\n",
    "    top_M_dict = ToP_M_df.T\n",
    "    top_A_dict = ToP_A_df.T + 12 # Adjust for time\n",
    "\n",
    "    # Reset index to insure that the three dataframes below merge properly\n",
    "    top_M_dict = top_M_dict.reset_index()\n",
    "    top_M_dict.drop(['index'], axis = 1, inplace = True)\n",
    "\n",
    "    top_A_dict = top_A_dict.reset_index()\n",
    "    top_A_dict.drop(['index'], axis = 1, inplace = True)\n",
    "    \n",
    "    df.reset_index(inplace = True)\n",
    "    df.drop(['index'], axis = 1, inplace = True)\n",
    "\n",
    "    dict_M.clear() \n",
    "    dict_A.clear()\n",
    "\n",
    "\n",
    "    X1 = df.merge(top_M_dict, left_index = True, right_index = True).merge(top_A_dict,left_index = True, right_index = True)\n",
    "\n",
    "    return X1"
   ]
  },
  {
   "cell_type": "code",
   "execution_count": 563,
   "metadata": {},
   "outputs": [],
   "source": [
    "def describe_household(id):\n",
    "       # Household ids\n",
    "       # id = [12020322]#[483]#[2230]#,1002790,483,3063,5351,12020322,5283,5293,168,7118,156,5239,29,1418,1005536]\n",
    "       id = [id]\n",
    "\n",
    "       for i in id:\n",
    "              H = selectRandomUser(i)\n",
    "\n",
    "              # H1 = find_peaksMA(H)\n",
    "              H1_d = H.describe()\n",
    "\n",
    "              H1_d = H1_d.drop(['count','std','min','max', '25%','50%','75%'])\n",
    "              \n",
    "              H1_d1 = find_peaksMA(H1_d)\n",
    "              \n",
    "       return H1_d1"
   ]
  },
  {
   "cell_type": "markdown",
   "metadata": {},
   "source": [
    "#### Code to create Gaussian"
   ]
  },
  {
   "cell_type": "code",
   "execution_count": 564,
   "metadata": {},
   "outputs": [],
   "source": [
    "#Define the Gaussian function\n",
    "def gauss(x, H, A, mu, sigma):\n",
    "    return H + A * np.exp(-(x - mu) ** 2 / (2 * sigma ** 2))"
   ]
  },
  {
   "cell_type": "markdown",
   "metadata": {},
   "source": [
    "#### Code to plot the Gaussian fit"
   ]
  },
  {
   "cell_type": "code",
   "execution_count": 565,
   "metadata": {},
   "outputs": [],
   "source": [
    "import matplotlib.pyplot as plt\n",
    "\n",
    "\n",
    "def plotGaussFit(y2):\n",
    "    # Household ids\n",
    "    # id = [2230]#,1002790,483,3063,5351,12020322,5283,5293,168,7118,156,5239,29,1418,1005536]\n",
    "\n",
    "    x_all = np.arange(0, 24, 0.001) # entire range of x, both in and out of spec\n",
    "\n",
    "    # build the plot\n",
    "    fig, ax = plt.subplots(figsize=(12,6))\n",
    "    plt.style.use('fivethirtyeight')  \n",
    "\n",
    "    # Plot the households loadprofile\n",
    "    fig = plt.plot(describe_household(id).iloc[0,0:24])\n",
    "    plt.title(\"Household \"+str(i))\n",
    "\n",
    "    # Plot Gaussian fit\n",
    "    ax.plot(x_all,y2)\n",
    "\n",
    "    # Set the labels and axis limits\n",
    "    ax.set_xlim([0,24])\n",
    "    ax.set_xlabel('Time of day')\n",
    "    ax.set_ylabel(\"Amplitude\")\n",
    "    ax.set_title('Gaussian Curve Fit')\n",
    "\n",
    "    # # Save the figure\n",
    "    # plt.savefig('normal_curve.png', dpi=72, bbox_inches='tight')\n",
    "    plt.show()"
   ]
  },
  {
   "cell_type": "markdown",
   "metadata": {},
   "source": [
    "# Gauss Fit Code START"
   ]
  },
  {
   "cell_type": "markdown",
   "metadata": {},
   "source": [
    "#### Extract variables"
   ]
  },
  {
   "cell_type": "code",
   "execution_count": 839,
   "metadata": {},
   "outputs": [],
   "source": [
    "# id = [12020322]#[483]#[2230]#,1002790,483,3063,5351,12020322,5283,5293,168,7118,156,5239,29,1418,1005536]\n",
    "houseID = 29\n",
    "\n",
    "df = describe_household(id = houseID)\n",
    "\n",
    "# Determine the y-offset i.e. minimum value in day\n",
    "H_offset = df.min(axis = 1).values[0] \n",
    "\n",
    "# Determine the amplitude of gaussian\n",
    "A1 = df[str(df['0_x'].values[0])].values[0] - H_offset # Adjust for offset\n",
    "A2 = df[str(df['0_y'].values[0])].values[0] - H_offset\n",
    "\n",
    "# Determine the mean of the gaussian\n",
    "mu1 = df['0_x'].values[0]\n",
    "mu2 = df['0_y'].values[0]"
   ]
  },
  {
   "cell_type": "markdown",
   "metadata": {},
   "source": [
    "#### Perform the standard deviation guess"
   ]
  },
  {
   "cell_type": "code",
   "execution_count": 840,
   "metadata": {},
   "outputs": [],
   "source": [
    "x_all = np.arange(0, 24, 0.001)\n",
    "def initialSigma():\n",
    "    x_all = np.arange(0, 24)\n",
    "\n",
    "    i = 0\n",
    "    Xpeak = df[str(df['0_x'].values[0])].values[0]\n",
    "    for c in df:\n",
    "        xi = df[str(df['0_x'].values[0]-int(c))].values[0]\n",
    "        temp = Xpeak - xi\n",
    "        \n",
    "        if temp >= 0:\n",
    "            Xpeak = xi\n",
    "        else:\n",
    "            i = df['0_x'].values[0]-int(c)+1 # i returns the index of the lower boundary of range\n",
    "            break\n",
    "\n",
    "    range = 2*(df['0_x'].values[0] - i)\n",
    "\n",
    "    sigma = range/6\n",
    "\n",
    "    return sigma\n",
    "\n",
    "y2 = gauss(x_all, H_offset,A1,mu1,initialSigma())"
   ]
  },
  {
   "cell_type": "markdown",
   "metadata": {},
   "source": [
    "#### Add code to determine range of downward slope gaussian i.e. gaussian 2, 4"
   ]
  },
  {
   "cell_type": "code",
   "execution_count": 841,
   "metadata": {},
   "outputs": [],
   "source": [
    "def initialSigma1(increment = 0):\n",
    "    \n",
    "\n",
    "    # Conditional if statement to check that \n",
    "    p1 = 4 + increment\n",
    "\n",
    "    i1 = 0\n",
    "\n",
    "    Xpeak1 = df[str(df['0_x'].values[0])].values[0]\n",
    "\n",
    "    for c in df:\n",
    "        x1 = df[str(df['0_x'].values[0] - int(c))].values[0]\n",
    "        temp1 = Xpeak1 - x1\n",
    "        # print(\"temp1 = Xpeak1 - x1 = {} - {} = {}\".format(Xpeak1,x1,temp1))\n",
    "\n",
    "        if temp1 >= 0.0:\n",
    "            Xpeak1 = x1\n",
    "        else:\n",
    "            i1 = df['0_x'].values[0]-int(c)+1 # i returns the index of the lower boundary of range\n",
    "            break\n",
    "\n",
    "    range1 = 2*(np.sqrt((df['0_x'].values[0] - i1)**2))\n",
    "\n",
    "    # If statement to determine index at which to calculate error\n",
    "    if range1/2 == 2:\n",
    "        c1 = 0\n",
    "    elif range1/2 == 3:\n",
    "        c1 = 1\n",
    "    elif range1/2 > 3:\n",
    "        c1 = 2\n",
    "    \n",
    "    print(\"range/2 = {} thus c1 = {}\".format(range1/2, c1))\n",
    "    print(\"range/2 = {}\".format(range1/2))\n",
    "    sigma1 = range1/p1\n",
    "\n",
    "    return sigma1, i1, c1\n",
    "\n",
    "\n",
    "# sigma1, sigma2, i1, i2 = initialSigma1()\n",
    "# y2 = gauss(x_all, H_offset,A1,mu1,initialSigma2())"
   ]
  },
  {
   "cell_type": "code",
   "execution_count": 842,
   "metadata": {},
   "outputs": [
    {
     "name": "stdout",
     "output_type": "stream",
     "text": [
      "range/2 = 6.0 thus c1 = 2\n",
      "range/2 = 6.0\n"
     ]
    },
    {
     "data": {
      "text/plain": [
       "(3.0, 5, 2)"
      ]
     },
     "execution_count": 842,
     "metadata": {},
     "output_type": "execute_result"
    }
   ],
   "source": [
    "initialSigma1()"
   ]
  },
  {
   "cell_type": "code",
   "execution_count": 843,
   "metadata": {},
   "outputs": [],
   "source": [
    "def initialSigma3(increment = 0):\n",
    "    \n",
    "\n",
    "    # Conditional if statement to check that \n",
    "    p2 = 4 + increment\n",
    "\n",
    "    # i1 = 0\n",
    "    i2 = 0\n",
    "\n",
    "    Xpeak2 = df[str(df['0_y'].values[0])].values[0]\n",
    "\n",
    "    for c in df:\n",
    "        x2 = df[str(df['0_y'].values[0]-int(c))].values[0]\n",
    "        temp2 = Xpeak2 - x2\n",
    "        \n",
    "        if temp2 >= 0.0:\n",
    "            Xpeak2 = x2\n",
    "        else:\n",
    "            i2 = df['0_y'].values[0]-int(c)+1 # i returns the index of the lower boundary of range\n",
    "            break\n",
    "\n",
    "    range2 = 2*(np.sqrt((df['0_y'].values[0] - i2)**2))\n",
    "\n",
    "    # If statement to determine index at which to calculate error\n",
    "    if range2/2 == 2:\n",
    "        c1 = 0\n",
    "    elif range2/2 == 3:\n",
    "        c1 = 1\n",
    "    elif range2/2 > 3:\n",
    "        c1 = 2\n",
    "    \n",
    "    print(\"range/2 = {} thus c1 = {}\".format(range2/2, c1))\n",
    "\n",
    "    sigma2 = range2/p2\n",
    "\n",
    "    return sigma2, i2, c1\n",
    "\n",
    "\n",
    "# sigma1, sigma2, i1, i2 = initialSigma1()"
   ]
  },
  {
   "cell_type": "code",
   "execution_count": 844,
   "metadata": {},
   "outputs": [],
   "source": [
    "x_all = np.arange(0, 24)\n",
    "\n",
    "def initialSigma2(increment = 0):\n",
    "    x_all = np.arange(0, 24)\n",
    "\n",
    "    # Conditional if statement to check that \n",
    "    p1 = 4 + increment\n",
    "\n",
    "    i1 = 0\n",
    "\n",
    "    Xpeak1 = df[str(df['0_x'].values[0])].values[0]# Get the value at the peak\n",
    "    \n",
    "    for c in df:\n",
    "        x1 = df[str(df['0_x'].values[0]+int(c))].values[0]\n",
    "        temp1 = Xpeak1 - x1\n",
    "        # print(\"temp1 = Xpeak1 - x1 = {} - {} = {}\".format(Xpeak1,x1,temp1))\n",
    "        if temp1 >= 0:\n",
    "            Xpeak1 = x1\n",
    "        else:\n",
    "            i1 = df['0_x'].values[0]+int(c)-1 # i returns the index of the lower boundary of range\n",
    "            break\n",
    "\n",
    "    range1 = 2*(np.sqrt((df['0_x'].values[0] - i1)**2))\n",
    "\n",
    "    # If statement to determine index at which to calculate error\n",
    "    if range1/2 == 2:\n",
    "        c1 = 0\n",
    "    elif range1/2 == 3:\n",
    "        c1 = 1\n",
    "    elif range1/2 > 3:\n",
    "        c1 = 2\n",
    "    \n",
    "    print(\"range/2 = {} thus c1 = {}\".format(range1/2, c1))\n",
    "    sigma1 = range1/p1\n",
    "\n",
    "    return sigma1, i1, c1\n",
    "\n",
    "# y2 = gauss(x_all, H_offset,A1,mu1,initialSigma2())"
   ]
  },
  {
   "cell_type": "code",
   "execution_count": 845,
   "metadata": {},
   "outputs": [],
   "source": [
    "def initialSigma4(increment=0):\n",
    "    # Conditional if statement to check that \n",
    "    p2 = 4 + increment\n",
    "\n",
    "    i2 = 0\n",
    "\n",
    "    Xpeak2 = df[str(df['0_y'].values[0])].values[0]# Get the value at the peak\n",
    "    \n",
    "    for c in df:\n",
    "        try:\n",
    "            x2 = df[str(df['0_y'].values[0]+int(c))].values[0] # Get the one after the peak\n",
    "            temp2 = Xpeak2 - x2\n",
    "            # print(\"temp2 = Xpeak2 - x2 = {} - {} = {}\".format(Xpeak2,x2,temp2))\n",
    "            \n",
    "            if temp2 >= 0:\n",
    "                Xpeak2 = x2\n",
    "            else:\n",
    "                i2 = df['0_y'].values[0]+int(c)-1 # i returns the index of the lower boundary of range\n",
    "                break\n",
    "            \n",
    "        except KeyError:\n",
    "            i2 = df['0_y'].values[0]+int(c)-1\n",
    "            break\n",
    "\n",
    "    range2 = 2*(np.sqrt((df['0_y'].values[0] - i2)**2))\n",
    "    \n",
    "    # If statement to determine index at which to calculate error\n",
    "    if range2/2 == 2:\n",
    "            c1 = 0\n",
    "    elif range2/2 == 3:\n",
    "        c1 = 1\n",
    "    elif range2/2 > 3:\n",
    "        c1 = 2\n",
    "    \n",
    "    print(\"range/2 = {} thus c1 = {}\".format(range2/2, c1))\n",
    "\n",
    "    sigma2 = range2/p2\n",
    "\n",
    "    return sigma2, i2, c1"
   ]
  },
  {
   "cell_type": "markdown",
   "metadata": {},
   "source": [
    "##### Get initial guesses for sigmas and Gaussians"
   ]
  },
  {
   "cell_type": "markdown",
   "metadata": {},
   "source": [
    "#### Create code that calculates the error"
   ]
  },
  {
   "cell_type": "code",
   "execution_count": 846,
   "metadata": {},
   "outputs": [
    {
     "name": "stderr",
     "output_type": "stream",
     "text": [
      "<ipython-input-846-4b571d7e5c6d>:3: RuntimeWarning:\n",
      "\n",
      "invalid value encountered in sqrt\n",
      "\n"
     ]
    }
   ],
   "source": [
    "xgauss = gauss(df['0_x'].values[0]-2, H_offset,A1,mu1,initialSigma()) # Get the value of the gauss two points before the mean/peak\n",
    "xprofile = df[str(df['0_x'].values[0]-2)].values[0] # Get the value of the profile two points before mean/peak\n",
    "error = np.sqrt(xgauss - xprofile)**2 # Calculate the RMSE error between these points"
   ]
  },
  {
   "cell_type": "markdown",
   "metadata": {},
   "source": [
    "#### Create loop that adjusts the std deviation until error is reduced satisfactorily"
   ]
  },
  {
   "cell_type": "markdown",
   "metadata": {},
   "source": [
    "##### Error code for gauss1"
   ]
  },
  {
   "cell_type": "code",
   "execution_count": 847,
   "metadata": {},
   "outputs": [
    {
     "name": "stdout",
     "output_type": "stream",
     "text": [
      "range/2 = 6.0 thus c1 = 2\n",
      "range/2 = 6.0\n",
      "range/2 = 6.0 thus c1 = 2\n",
      "range/2 = 6.0\n",
      "range/2 = 6.0 thus c1 = 2\n",
      "range/2 = 6.0\n",
      "range/2 = 6.0 thus c1 = 2\n",
      "range/2 = 6.0\n",
      "range/2 = 6.0 thus c1 = 2\n",
      "range/2 = 6.0\n",
      "range/2 = 6.0 thus c1 = 2\n",
      "range/2 = 6.0\n",
      "range/2 = 6.0 thus c1 = 2\n",
      "range/2 = 6.0\n",
      "range/2 = 6.0 thus c1 = 2\n",
      "range/2 = 6.0\n",
      "range/2 = 6.0 thus c1 = 2\n",
      "range/2 = 6.0\n",
      "range/2 = 6.0 thus c1 = 2\n",
      "range/2 = 6.0\n",
      "range/2 = 6.0 thus c1 = 2\n",
      "range/2 = 6.0\n",
      "sigma4 = 3.333333333333333\n",
      "error1 = xgauss - xprofile1 = 7.4531214388168054 - 7.546646074532739 = -0.09352463571593361\n"
     ]
    }
   ],
   "source": [
    "# Code that finds the value one point above the range index\n",
    "sigma1, i1, c = initialSigma1()\n",
    "\n",
    "xprofile1 = df[str(df['0_x'].values[0] - c)].values[0] # Get the amplitude values one point above the min index\n",
    "\n",
    "xgauss = gauss(df['0_x'].values[0] - c, H_offset,A1,mu1,sigma1) # Get the value of the gauss one point above the min range amplitude\n",
    "\n",
    "error1 = xgauss - xprofile1# Calculate the error between these points\n",
    "\n",
    "tolerance1 = 0.1\n",
    "i = 0.1 # Constant value by which to increase/decrease the range in the initial sigma function\n",
    "t = 0\n",
    "while np.sqrt(error1**2) > tolerance1:\n",
    "    previous_error1 = error1\n",
    "\n",
    "    sigma1, i1, c = initialSigma1(increment = i)\n",
    "    xgauss = gauss(df['0_x'].values[0] - c, H_offset,A1,mu1,sigma1) # Get the value of the gauss one point above the min peak\n",
    "    error1 = xgauss - xprofile1# Calculate the error between these points\n",
    "\n",
    "    # conditional for gauss 1\n",
    "    if error1 > previous_error1:\n",
    "        i = i + 0.1\n",
    "        sigma1, i1, c = initialSigma1(increment = i)\n",
    "        xgauss = gauss(df['0_x'].values[0] - c, H_offset,A1,mu1,sigma1) # Get the value of the gauss one point above the min peak\n",
    "        error1 = xgauss - xprofile1# Calculate the error between these points\n",
    "    else:\n",
    "        i = i - 0.1\n",
    "        sigma1, i1, c = initialSigma1(increment = i)\n",
    "        xgauss = gauss(df['0_x'].values[0] - c, H_offset,A1,mu1,sigma1) # Get the value of the gauss one point above the min peak\n",
    "        error1 = xgauss - xprofile1# Calculate the error between these points\n",
    "\n",
    "    t = t + 1\n",
    "    if t >= 100:\n",
    "        tolerance1 = tolerance1 + 0.1\n",
    "\n",
    "sigma1 = np.sqrt(sigma1**2)\n",
    "print(\"sigma4 = {}\".format(sigma1))\n",
    "print(\"error1 = xgauss - xprofile1 = {} - {} = {}\".format(xgauss,xprofile1,error1))"
   ]
  },
  {
   "cell_type": "markdown",
   "metadata": {},
   "source": [
    "#### Error code for gauss 3"
   ]
  },
  {
   "cell_type": "code",
   "execution_count": 848,
   "metadata": {},
   "outputs": [
    {
     "name": "stdout",
     "output_type": "stream",
     "text": [
      "range/2 = 3.0 thus c1 = 1\n",
      "range/2 = 3.0 thus c1 = 1\n",
      "range/2 = 3.0 thus c1 = 1\n",
      "range/2 = 3.0 thus c1 = 1\n",
      "range/2 = 3.0 thus c1 = 1\n",
      "range/2 = 3.0 thus c1 = 1\n",
      "range/2 = 3.0 thus c1 = 1\n",
      "range/2 = 3.0 thus c1 = 1\n",
      "range/2 = 3.0 thus c1 = 1\n",
      "range/2 = 3.0 thus c1 = 1\n",
      "range/2 = 3.0 thus c1 = 1\n",
      "range/2 = 3.0 thus c1 = 1\n",
      "range/2 = 3.0 thus c1 = 1\n",
      "range/2 = 3.0 thus c1 = 1\n",
      "range/2 = 3.0 thus c1 = 1\n",
      "range/2 = 3.0 thus c1 = 1\n",
      "range/2 = 3.0 thus c1 = 1\n",
      "range/2 = 3.0 thus c1 = 1\n",
      "range/2 = 3.0 thus c1 = 1\n",
      "range/2 = 3.0 thus c1 = 1\n",
      "range/2 = 3.0 thus c1 = 1\n",
      "range/2 = 3.0 thus c1 = 1\n",
      "range/2 = 3.0 thus c1 = 1\n",
      "range/2 = 3.0 thus c1 = 1\n",
      "range/2 = 3.0 thus c1 = 1\n",
      "range/2 = 3.0 thus c1 = 1\n",
      "range/2 = 3.0 thus c1 = 1\n",
      "range/2 = 3.0 thus c1 = 1\n",
      "range/2 = 3.0 thus c1 = 1\n",
      "sigma4 = 2.222222222222222\n",
      "error1 = xgauss - xprofile3 = 9.577596019182511 - 9.651477154518117 = -0.07388113533560592\n"
     ]
    }
   ],
   "source": [
    "# Code that finds the value one point above the range index\n",
    "sigma3, i3, c = initialSigma3()\n",
    "\n",
    "xprofile3 = df[str(df['0_y'].values[0] - c)].values[0] # Get the amplitude values one point above the min index\n",
    "\n",
    "xgauss = gauss(df['0_y'].values[0] - c, H_offset,A2,mu2,sigma3) # Get the value of the gauss one point above the min range amplitude\n",
    "\n",
    "error3 = xgauss - xprofile3# Calculate the error between these points\n",
    "\n",
    "tolerance1 = 0.1\n",
    "i = 0.1 # Constant value by which to increase/decrease the range in the initial sigma function\n",
    "t = 0\n",
    "while np.sqrt(error3**2) > tolerance1:\n",
    "    previous_error3 = error3\n",
    "\n",
    "    sigma3, i3, c = initialSigma3(increment = i)\n",
    "    xgauss = gauss(df['0_y'].values[0] - c, H_offset,A2,mu2,sigma3) # Get the value of the gauss one point above the min peak\n",
    "    error3 = xgauss - xprofile3# Calculate the error between these points\n",
    "\n",
    "    # conditional for gauss 1\n",
    "    if error3 > previous_error3:\n",
    "        i = i + 0.1\n",
    "        sigma3, i3, c = initialSigma3(increment = i)\n",
    "        xgauss = gauss(df['0_y'].values[0] - c, H_offset,A2,mu2,sigma3) # Get the value of the gauss one point above the min peak\n",
    "        error3 = xgauss - xprofile3# Calculate the error between these points\n",
    "    else:\n",
    "        i = i - 0.1\n",
    "        sigma3, i3, c = initialSigma3(increment = i)\n",
    "        xgauss = gauss(df['0_y'].values[0] - c, H_offset,A2,mu2,sigma3) # Get the value of the gauss one point above the min peak\n",
    "        error3 = xgauss - xprofile3# Calculate the error between these points\n",
    "\n",
    "    t = t + 1\n",
    "    if t >= 100:\n",
    "        tolerance1 = tolerance1 + 0.1\n",
    "\n",
    "sigma3 = np.sqrt(sigma3**2)\n",
    "print(\"sigma4 = {}\".format(sigma3))\n",
    "print(\"error1 = xgauss - xprofile3 = {} - {} = {}\".format(xgauss,xprofile3,error3))"
   ]
  },
  {
   "cell_type": "code",
   "execution_count": 849,
   "metadata": {},
   "outputs": [
    {
     "data": {
      "text/plain": [
       "11"
      ]
     },
     "execution_count": 849,
     "metadata": {},
     "output_type": "execute_result"
    }
   ],
   "source": [
    "df['0_x'].values[0]"
   ]
  },
  {
   "cell_type": "markdown",
   "metadata": {},
   "source": [
    "#### Error code for gauss2"
   ]
  },
  {
   "cell_type": "code",
   "execution_count": 850,
   "metadata": {},
   "outputs": [
    {
     "ename": "UnboundLocalError",
     "evalue": "local variable 'c1' referenced before assignment",
     "output_type": "error",
     "traceback": [
      "\u001b[1;31m---------------------------------------------------------------------------\u001b[0m",
      "\u001b[1;31mUnboundLocalError\u001b[0m                         Traceback (most recent call last)",
      "\u001b[1;32m<ipython-input-850-8359c10468db>\u001b[0m in \u001b[0;36m<module>\u001b[1;34m\u001b[0m\n\u001b[1;32m----> 1\u001b[1;33m \u001b[0msigma2\u001b[0m\u001b[1;33m,\u001b[0m \u001b[0mi2\u001b[0m\u001b[1;33m,\u001b[0m \u001b[0mc\u001b[0m \u001b[1;33m=\u001b[0m \u001b[0minitialSigma2\u001b[0m\u001b[1;33m(\u001b[0m\u001b[1;33m)\u001b[0m\u001b[1;33m\u001b[0m\u001b[1;33m\u001b[0m\u001b[0m\n\u001b[0m\u001b[0;32m      2\u001b[0m \u001b[1;33m\u001b[0m\u001b[0m\n\u001b[0;32m      3\u001b[0m \u001b[0mxprofile2\u001b[0m \u001b[1;33m=\u001b[0m \u001b[0mdf\u001b[0m\u001b[1;33m[\u001b[0m\u001b[0mstr\u001b[0m\u001b[1;33m(\u001b[0m\u001b[0mdf\u001b[0m\u001b[1;33m[\u001b[0m\u001b[1;34m'0_x'\u001b[0m\u001b[1;33m]\u001b[0m\u001b[1;33m.\u001b[0m\u001b[0mvalues\u001b[0m\u001b[1;33m[\u001b[0m\u001b[1;36m0\u001b[0m\u001b[1;33m]\u001b[0m \u001b[1;33m+\u001b[0m \u001b[0mc\u001b[0m\u001b[1;33m)\u001b[0m\u001b[1;33m]\u001b[0m\u001b[1;33m.\u001b[0m\u001b[0mvalues\u001b[0m\u001b[1;33m[\u001b[0m\u001b[1;36m0\u001b[0m\u001b[1;33m]\u001b[0m \u001b[1;31m# Get the amplitude values one point below the max index\u001b[0m\u001b[1;33m\u001b[0m\u001b[1;33m\u001b[0m\u001b[0m\n\u001b[0;32m      4\u001b[0m \u001b[1;33m\u001b[0m\u001b[0m\n\u001b[0;32m      5\u001b[0m \u001b[0mxgauss\u001b[0m \u001b[1;33m=\u001b[0m \u001b[0mgauss\u001b[0m\u001b[1;33m(\u001b[0m\u001b[0mdf\u001b[0m\u001b[1;33m[\u001b[0m\u001b[1;34m'0_x'\u001b[0m\u001b[1;33m]\u001b[0m\u001b[1;33m.\u001b[0m\u001b[0mvalues\u001b[0m\u001b[1;33m[\u001b[0m\u001b[1;36m0\u001b[0m\u001b[1;33m]\u001b[0m \u001b[1;33m+\u001b[0m \u001b[0mc\u001b[0m\u001b[1;33m,\u001b[0m \u001b[0mH_offset\u001b[0m\u001b[1;33m,\u001b[0m\u001b[0mA1\u001b[0m\u001b[1;33m,\u001b[0m\u001b[0mmu1\u001b[0m\u001b[1;33m,\u001b[0m\u001b[0msigma2\u001b[0m\u001b[1;33m)\u001b[0m \u001b[1;31m# Get the value of the gauss one point below the max index amplitude\u001b[0m\u001b[1;33m\u001b[0m\u001b[1;33m\u001b[0m\u001b[0m\n",
      "\u001b[1;32m<ipython-input-844-a3083bdfb388>\u001b[0m in \u001b[0;36minitialSigma2\u001b[1;34m(increment)\u001b[0m\n\u001b[0;32m     31\u001b[0m         \u001b[0mc1\u001b[0m \u001b[1;33m=\u001b[0m \u001b[1;36m2\u001b[0m\u001b[1;33m\u001b[0m\u001b[1;33m\u001b[0m\u001b[0m\n\u001b[0;32m     32\u001b[0m \u001b[1;33m\u001b[0m\u001b[0m\n\u001b[1;32m---> 33\u001b[1;33m     \u001b[0mprint\u001b[0m\u001b[1;33m(\u001b[0m\u001b[1;34m\"range/2 = {} thus c1 = {}\"\u001b[0m\u001b[1;33m.\u001b[0m\u001b[0mformat\u001b[0m\u001b[1;33m(\u001b[0m\u001b[0mrange1\u001b[0m\u001b[1;33m/\u001b[0m\u001b[1;36m2\u001b[0m\u001b[1;33m,\u001b[0m \u001b[0mc1\u001b[0m\u001b[1;33m)\u001b[0m\u001b[1;33m)\u001b[0m\u001b[1;33m\u001b[0m\u001b[1;33m\u001b[0m\u001b[0m\n\u001b[0m\u001b[0;32m     34\u001b[0m     \u001b[0msigma1\u001b[0m \u001b[1;33m=\u001b[0m \u001b[0mrange1\u001b[0m\u001b[1;33m/\u001b[0m\u001b[0mp1\u001b[0m\u001b[1;33m\u001b[0m\u001b[1;33m\u001b[0m\u001b[0m\n\u001b[0;32m     35\u001b[0m \u001b[1;33m\u001b[0m\u001b[0m\n",
      "\u001b[1;31mUnboundLocalError\u001b[0m: local variable 'c1' referenced before assignment"
     ]
    }
   ],
   "source": [
    "sigma2, i2, c = initialSigma2()\n",
    "\n",
    "xprofile2 = df[str(df['0_x'].values[0] + c)].values[0] # Get the amplitude values one point below the max index\n",
    "\n",
    "xgauss = gauss(df['0_x'].values[0] + c, H_offset,A1,mu1,sigma2) # Get the value of the gauss one point below the max index amplitude\n",
    "\n",
    "error2 = xgauss - xprofile2# Calculate the error between these points\n",
    "\n",
    "tolerance2 = 0.1\n",
    "i = 0.5 # Constant value by which to increase/decrease the range in the initial sigma function\n",
    "t = 0\n",
    "while np.sqrt(error2**2) > tolerance2:\n",
    "    previous_error2 = error2\n",
    "    print(\"error2 = xgauss - xprofile2 = {} - {} = {}\".format(xgauss,xprofile2,error2))\n",
    "    sigma2, i2, c = initialSigma2(increment = i)\n",
    "    xgauss = gauss(df['0_x'].values[0] + c, H_offset,A1,mu1,sigma2) # Get the value of the gauss one point below the max index peak\n",
    "    error2 = xgauss - xprofile2# Calculate the error between these points\n",
    "    \n",
    "    # Conditional for gauss2\n",
    "    if error2 > previous_error2:\n",
    "        i = i + 0.1\n",
    "        sigma2, i2, c = initialSigma2(increment = i)\n",
    "        xgauss = gauss(df['0_x'].values[0] + c, H_offset,A1,mu1,sigma2) # Get the value of the gauss one point below the max index peak\n",
    "        error2 = xgauss - xprofile2# Calculate the error between these points\n",
    "    else:\n",
    "        i = i -0.1        \n",
    "        sigma2, i2, c = initialSigma2(increment = i)\n",
    "        xgauss = gauss(df['0_x'].values[0] + c, H_offset,A1,mu1,sigma2) # Get the value of the gauss one point below the max peak\n",
    "        error2 = xgauss - xprofile2# Calculate the error between these points\n",
    "\n",
    "    t = t + 1\n",
    "    if t >= 100:\n",
    "        tolerance2 = tolerance2 + 0.1\n",
    "\n",
    "sigma2 = np.sqrt(sigma2**2)\n",
    "# print(\"sigma4 = {}\".format(sigma2))\n",
    "# print(\"error2 = xgauss - xprofile2 = {} - {} = {}\".format(xgauss,xprofile2,error2))"
   ]
  },
  {
   "cell_type": "markdown",
   "metadata": {},
   "source": [
    "#### Error code for gauss 4"
   ]
  },
  {
   "cell_type": "code",
   "execution_count": 851,
   "metadata": {},
   "outputs": [
    {
     "name": "stdout",
     "output_type": "stream",
     "text": [
      "range/2 = 2.0 thus c1 = 0\n",
      "18\n",
      "sigma4 = 1.0\n",
      "error2 = xgauss - xprofile2 = 10.271718467169826 - 10.271718467169826 = 0.0\n"
     ]
    }
   ],
   "source": [
    "sigma4, i4, c = initialSigma4()\n",
    "\n",
    "print(i4)\n",
    "\n",
    "xprofile4 = df[str(df['0_y'].values[0] + c)].values[0] # Get the amplitude values one point below the max index\n",
    "\n",
    "xgauss = gauss(df['0_y'].values[0] + c, H_offset,A2,mu2,sigma4) # Get the value of the gauss one point below the max index amplitude\n",
    "\n",
    "error4 = xgauss - xprofile4# Calculate the error between these points\n",
    "\n",
    "tolerance2 = 0.1\n",
    "i = 0.1 # Constant value by which to increase/decrease the range in the initial sigma function\n",
    "t = 0\n",
    "while np.sqrt(error4**2) > tolerance2:\n",
    "    previous_error4 = error4\n",
    "\n",
    "    sigma4, i4, c = initialSigma4(increment = i)\n",
    "    xgauss = gauss(df['0_y'].values[0] + c, H_offset,A2,mu2,sigma4) # Get the value of the gauss one point below the max index peak\n",
    "    error4 = xgauss - xprofile4# Calculate the error between these points\n",
    "    \n",
    "    # Conditional for gauss2\n",
    "    if error4 > previous_error4:\n",
    "        i = i + 0.1\n",
    "        sigma4, i4, c = initialSigma4(increment = i)\n",
    "        xgauss = gauss(df['0_y'].values[0] + c, H_offset,A2,mu2,sigma4) # Get the value of the gauss one point below the max index peak\n",
    "        error4 = xgauss - xprofile4# Calculate the error between these points\n",
    "    else:\n",
    "        i = i - 0.1        \n",
    "        sigma4, i4, c = initialSigma4(increment = i)\n",
    "        xgauss = gauss(df['0_y'].values[0] + c, H_offset,A2,mu2,sigma4) # Get the value of the gauss one point below the max peak\n",
    "        error4 = xgauss - xprofile4# Calculate the error between these points\n",
    "\n",
    "    t = t + 1\n",
    "    if t >= 100:\n",
    "        tolerance2 = tolerance2 + 0.1\n",
    "\n",
    "sigma4 = np.sqrt(sigma4**2)\n",
    "print(\"sigma4 = {}\".format(sigma4))\n",
    "print(\"error2 = xgauss - xprofile2 = {} - {} = {}\".format(xgauss,xprofile4,error4))"
   ]
  },
  {
   "cell_type": "markdown",
   "metadata": {},
   "source": [
    "#### Create function that plots all 4 gaussians"
   ]
  },
  {
   "cell_type": "code",
   "execution_count": 852,
   "metadata": {},
   "outputs": [],
   "source": [
    "# sigma1, sigma3, i1, i3= initialSigma1()\n",
    "# sigma2, sigma4, i2, i4 = initialSigma2()\n",
    "x_all = np.arange(0, 24, 0.1) # entire range of x, both in and out of spec\n",
    "y1 = gauss(x_all, H_offset,A1,mu1,sigma1)\n",
    "y2 = gauss(x_all, H_offset,A1,mu1,sigma2)\n",
    "y3 = gauss(x_all, H_offset,A2,mu2,sigma3)\n",
    "y4 = gauss(x_all, H_offset,A2,mu2,sigma4)"
   ]
  },
  {
   "cell_type": "code",
   "execution_count": 853,
   "metadata": {},
   "outputs": [
    {
     "data": {
      "image/png": "[encoded data removed]",
      "text/plain": [
       "<Figure size 864x432 with 1 Axes>"
      ]
     },
     "metadata": {},
     "output_type": "display_data"
    }
   ],
   "source": [
    "# Household ids\n",
    "# id = [2230]#,1002790,483,3063,5351,12020322,5283,5293,168,7118,156,5239,29,1418,1005536]\n",
    "# houseID = [12020322]\n",
    "# x_all = np.arange(0, 2400, 0.001) # entire range of x, both in and out of spec\n",
    "\n",
    "# build the plot\n",
    "fig, ax = plt.subplots(figsize=(12,6))\n",
    "plt.style.use('fivethirtyeight')  \n",
    "\n",
    "# Plot the households loadprofile\n",
    "fig = plt.plot(describe_household(id = houseID).iloc[0,0:24], linewidth = 1.5)#, linestyle = 'dashed')\n",
    "plt.title(\"Household \"+str(i))\n",
    "\n",
    "# Plot Gaussian fit\n",
    "# ax.plot(x_all[:len(x_all)//4],y2[:len(y2)//4], linewidth = 0.8)\n",
    "\n",
    "# ax.plot(x_all[:],y1[:],linewidth = 0.5, linestyle = 'dotted',color = 'purple')\n",
    "ax.plot(x_all[:10*df['0_x'].values[0]],y1[:10*df['0_x'].values[0]],linewidth = 1.5, color = 'purple',label = \"Gauss 1, Sigma1 = \" + str('{0:.3g}'.format(sigma1)))\n",
    "# ax.plot(x_all[:],y2[:],linewidth = 0.5, linestyle = 'dotted',color = 'red')\n",
    "ax.plot(x_all[10*df['0_x'].values[0]:],y2[10*df['0_x'].values[0]:],linewidth = 1.5,color = 'red', label = \"Gauss 2, Sigma2 = \" + str('{0:.3g}'.format(sigma2)))\n",
    "# ax.plot(x_all[:],y3[:],linewidth = 0.5, linestyle = 'dotted',color = 'cyan')\n",
    "ax.plot(x_all[:10*df['0_y'].values[0]],y3[:10*df['0_y'].values[0]],linewidth = 1.5, color = 'cyan',label = \"Gauss 3, Sigma3 = \" + str('{0:.3g}'.format(sigma3)))\n",
    "# ax.plot(x_all[:],y4[:],linewidth = 0.5, linestyle = 'dotted',color = 'green')\n",
    "ax.plot(x_all[10*df['0_y'].values[0]:],y4[10*df['0_y'].values[0]:],linewidth = 1.5, color = 'green',label = \"Gauss 4, Sigma4 = \" + str('{0:.3g}'.format(sigma4)))\n",
    "\n",
    "plt.legend(loc = \"upper left\")\n",
    "# Set the labels and axis limits\n",
    "ax.set_xlim([0,24])\n",
    "ax.set_xlabel('Time of day')\n",
    "ax.set_ylabel(\"Amplitude\")\n",
    "ax.set_title('Gaussian Curve Fit')\n",
    "\n",
    "# # Save the figure\n",
    "plt.savefig('GaussCurveFit' + str(houseID) + '.png', dpi=72, bbox_inches='tight')\n",
    "plt.show()"
   ]
  },
  {
   "cell_type": "markdown",
   "metadata": {},
   "source": [
    "### Create code that plots the sigma changes"
   ]
  },
  {
   "cell_type": "code",
   "execution_count": 854,
   "metadata": {},
   "outputs": [
    {
     "ename": "TypeError",
     "evalue": "describe_household() missing 1 required positional argument: 'id'",
     "output_type": "error",
     "traceback": [
      "\u001b[1;31m---------------------------------------------------------------------------\u001b[0m",
      "\u001b[1;31mTypeError\u001b[0m                                 Traceback (most recent call last)",
      "\u001b[1;32m<ipython-input-854-5b97bc34fc13>\u001b[0m in \u001b[0;36m<module>\u001b[1;34m\u001b[0m\n\u001b[0;32m     10\u001b[0m \u001b[1;33m\u001b[0m\u001b[0m\n\u001b[0;32m     11\u001b[0m \u001b[1;31m# Plot the households loadprofile\u001b[0m\u001b[1;33m\u001b[0m\u001b[1;33m\u001b[0m\u001b[1;33m\u001b[0m\u001b[0m\n\u001b[1;32m---> 12\u001b[1;33m \u001b[0mfig\u001b[0m \u001b[1;33m=\u001b[0m \u001b[0mplt\u001b[0m\u001b[1;33m.\u001b[0m\u001b[0mplot\u001b[0m\u001b[1;33m(\u001b[0m\u001b[0mdescribe_household\u001b[0m\u001b[1;33m(\u001b[0m\u001b[1;33m)\u001b[0m\u001b[1;33m.\u001b[0m\u001b[0miloc\u001b[0m\u001b[1;33m[\u001b[0m\u001b[1;36m0\u001b[0m\u001b[1;33m,\u001b[0m\u001b[1;36m0\u001b[0m\u001b[1;33m:\u001b[0m\u001b[1;36m24\u001b[0m\u001b[1;33m]\u001b[0m\u001b[1;33m)\u001b[0m\u001b[1;33m\u001b[0m\u001b[1;33m\u001b[0m\u001b[0m\n\u001b[0m\u001b[0;32m     13\u001b[0m \u001b[0mplt\u001b[0m\u001b[1;33m.\u001b[0m\u001b[0mtitle\u001b[0m\u001b[1;33m(\u001b[0m\u001b[1;34m\"Household \"\u001b[0m\u001b[1;33m+\u001b[0m\u001b[0mstr\u001b[0m\u001b[1;33m(\u001b[0m\u001b[0mi\u001b[0m\u001b[1;33m)\u001b[0m\u001b[1;33m)\u001b[0m\u001b[1;33m\u001b[0m\u001b[1;33m\u001b[0m\u001b[0m\n\u001b[0;32m     14\u001b[0m \u001b[1;33m\u001b[0m\u001b[0m\n",
      "\u001b[1;31mTypeError\u001b[0m: describe_household() missing 1 required positional argument: 'id'"
     ]
    },
    {
     "data": {
      "image/png": "[encoded data removed]",
      "text/plain": [
       "<Figure size 864x432 with 1 Axes>"
      ]
     },
     "metadata": {},
     "output_type": "display_data"
    }
   ],
   "source": [
    "y2 = gauss(x_all, H_offset,A1,mu1,initialSigma())\n",
    "# Household ids\n",
    "# id = [2230]#,1002790,483,3063,5351,12020322,5283,5293,168,7118,156,5239,29,1418,1005536]\n",
    "\n",
    "x_all = np.arange(0, 24, 0.001) # entire range of x, both in and out of spec\n",
    "\n",
    "# build the plot\n",
    "fig, ax = plt.subplots(figsize=(12,6))\n",
    "plt.style.use('fivethirtyeight')  \n",
    "\n",
    "# Plot the households loadprofile\n",
    "fig = plt.plot(describe_household().iloc[0,0:24])\n",
    "plt.title(\"Household \"+str(i))\n",
    "\n",
    "# Plot Gaussian fit\n",
    "ax.plot(x_all[:len(x_all)//4],y2[:len(y2)//4], linewidth = 0.8)\n",
    "\n",
    "for i in np.arange(0,1,0.2):\n",
    "    y2 = gauss(x_all, H_offset,A1,mu1,initialSigma()+i)\n",
    "    # Plot Gaussian fit\n",
    "    ax.plot(x_all[:len(x_all)//4],y2[:len(y2)//4],linewidth = 0.5)\n",
    "\n",
    "# Set the labels and axis limits\n",
    "ax.set_xlim([0,24])\n",
    "ax.set_xlabel('Time of day')\n",
    "ax.set_ylabel(\"Amplitude\")\n",
    "ax.set_title('Gaussian Curve Fit')\n",
    "\n",
    "# # Save the figure\n",
    "# plt.savefig('normal_curve.png', dpi=72, bbox_inches='tight')\n",
    "plt.show()"
   ]
  },
  {
   "cell_type": "code",
   "execution_count": null,
   "metadata": {},
   "outputs": [],
   "source": []
  },
  {
   "cell_type": "code",
   "execution_count": null,
   "metadata": {},
   "outputs": [],
   "source": []
  }
 ],
 "metadata": {
  "interpreter": {
   "hash": "52469ae204d1d50c448c04334a11ed7bbfc3a11760631521f4bdc0e8f20089d8"
  },
  "kernelspec": {
   "display_name": "Python 3.9.6 64-bit",
   "language": "python",
   "name": "python3"
  },
  "language_info": {
   "codemirror_mode": {
    "name": "ipython",
    "version": 3
   },
   "file_extension": ".py",
   "mimetype": "text/x-python",
   "name": "python",
   "nbconvert_exporter": "python",
   "pygments_lexer": "ipython3",
   "version": "3.9.6"
  },
  "orig_nbformat": 4
 },
 "nbformat": 4,
 "nbformat_minor": 2
}
