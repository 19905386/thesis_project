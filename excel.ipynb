{
 "cells": [
  {
   "cell_type": "code",
   "execution_count": null,
   "metadata": {},
   "outputs": [],
   "source": [
    "# import openpyxl as xl\n",
    "# from openpyxl.chart import BarChart, Reference\n",
    "  \n",
    "# wb = xl.load_workbook('Acacia annual kWh load profile.xlsx')\n",
    "# sheet = wb['Summary+Design']\n",
    "  \n",
    "# for row in range(2, sheet.max_row + 1): # Access the entries from the third column rows 2 to 4\n",
    "#     cell = sheet.cell(row, 3)\n",
    "#     corrected_price = float(cell.value.replace('$','')) * 0.9 # multiply the values saved in the cell variable with 0.9\n",
    "#     corrected_price_cell = sheet.cell(row, 4)   # Store the corrected prices in column 4\n",
    "#     corrected_price_cell.value = corrected_price\n",
    "\n",
    "# # Create a chart  \n",
    "# values = Reference(sheet, min_row=2, max_row=sheet.max_row, min_col=4, max_col=4) # First value: sheet name, 2nd & 3rd values: select rows 2 to 4, 4th & 5th values: select values only from column 4\n",
    "# chart = BarChart() # Create a chart instance for the bar chart\n",
    "# chart.add_data(values) # Add the values to the chart instance\n",
    "# sheet.add_chart(chart, 'e2') # Add the chart into the sheet in column 5(E2)\n",
    "  \n",
    "# wb.save('Acacia annual kWh load profile2.xlsx')"
   ]
  },
  {
   "cell_type": "markdown",
   "metadata": {},
   "source": [
    "# Automate Excel with Python"
   ]
  },
  {
   "cell_type": "code",
   "execution_count": 36,
   "metadata": {},
   "outputs": [],
   "source": [
    "from openpyxl import Workbook, load_workbook\n",
    "from openpyxl.utils import get_column_letter\n",
    "from openpyxl.styles import Font\n"
   ]
  },
  {
   "cell_type": "code",
   "execution_count": 10,
   "metadata": {},
   "outputs": [],
   "source": [
    "wb = load_workbook('Python_Excel_Book.xlsx') # Open an existing workbook"
   ]
  },
  {
   "cell_type": "code",
   "execution_count": 11,
   "metadata": {},
   "outputs": [
    {
     "name": "stdout",
     "output_type": "stream",
     "text": [
      "<Worksheet \"Sheet1\">\n"
     ]
    }
   ],
   "source": [
    "ws = wb.active\n",
    "print(ws) # print list of all the worksheets"
   ]
  },
  {
   "cell_type": "code",
   "execution_count": 12,
   "metadata": {},
   "outputs": [
    {
     "name": "stdout",
     "output_type": "stream",
     "text": [
      "Names\n"
     ]
    }
   ],
   "source": [
    "print(ws['A1'].value) # Look at value in a cell"
   ]
  },
  {
   "cell_type": "code",
   "execution_count": 13,
   "metadata": {},
   "outputs": [],
   "source": [
    "ws['A2'].value = \"Test\" # Change a value in the cell\n",
    "# or ws['A2'] = \"Test\"\n",
    "wb.save('Python_Excel_Book.xlsx') # Save the changes to the workbook"
   ]
  },
  {
   "cell_type": "code",
   "execution_count": 14,
   "metadata": {},
   "outputs": [
    {
     "name": "stdout",
     "output_type": "stream",
     "text": [
      "['Sheet1']\n"
     ]
    }
   ],
   "source": [
    "print(wb.sheetnames) # Show all sheet names"
   ]
  },
  {
   "cell_type": "code",
   "execution_count": 15,
   "metadata": {},
   "outputs": [
    {
     "name": "stdout",
     "output_type": "stream",
     "text": [
      "['Sheet1', 'Test']\n"
     ]
    }
   ],
   "source": [
    "wb.create_sheet(\"Test\") # Create a new sheet\n",
    "print(wb.sheetnames)"
   ]
  },
  {
   "cell_type": "code",
   "execution_count": 16,
   "metadata": {},
   "outputs": [
    {
     "name": "stdout",
     "output_type": "stream",
     "text": [
      "<Worksheet \"Test\">\n"
     ]
    }
   ],
   "source": [
    "ws = wb['Test'] # Change the sheet\n",
    "print(ws)"
   ]
  },
  {
   "cell_type": "code",
   "execution_count": 21,
   "metadata": {},
   "outputs": [],
   "source": [
    "# Create a new workbook\n",
    "wb = Workbook()\n",
    "# Create a sheet within the sheet\n",
    "ws = wb.active\n",
    "# Change the workbook name\n",
    "ws.title = \"Data\"\n",
    "\n",
    "# Append rows of information to spreadsheet\n",
    "ws.append(['Tim', 'Is', 'Great'])\n",
    "ws.append(['Tim', 'Is', 'Great'])\n",
    "ws.append(['Tim', 'Is', 'Great'])\n",
    "# Save the spreadsheet\n",
    "wb.save('tim.xlsx')"
   ]
  },
  {
   "cell_type": "markdown",
   "metadata": {},
   "source": [
    "#### Selecting and changing multiple cells in excel spreadsheet"
   ]
  },
  {
   "cell_type": "code",
   "execution_count": 28,
   "metadata": {},
   "outputs": [
    {
     "name": "stdout",
     "output_type": "stream",
     "text": [
      "Tim\n",
      "Is\n",
      "Great\n",
      "Tim\n",
      "Is\n",
      "Great\n",
      "Tim\n",
      "Is\n",
      "Great\n"
     ]
    }
   ],
   "source": [
    "wb = load_workbook('tim.xlsx')\n",
    "ws = wb.active\n",
    "\n",
    "for row in range(1,4):\n",
    "    for col in range(1, 4):\n",
    "        #char = chr(65 + col) # Manually get the columns character label, A1, B1 etc.add(). A = 65 + 0, B = 65 + 1\n",
    "        char = get_column_letter(col)\n",
    "        print(ws[char + str(row)].value)\n",
    "        ws[char + str(row)] = char + str(row)\n",
    "        \n",
    "wb.save('tim.xlsx')"
   ]
  },
  {
   "cell_type": "markdown",
   "metadata": {},
   "source": [
    "#### Merging cells"
   ]
  },
  {
   "cell_type": "code",
   "execution_count": 31,
   "metadata": {},
   "outputs": [],
   "source": [
    "wb = load_workbook('tim.xlsx')\n",
    "ws = wb.active\n",
    "\n",
    "ws.merge_cells(\"A1:D1\")\n",
    "ws.unmerge_cells(\"A1:D1\")\n",
    "\n",
    "wb.save('tim.xlsx')"
   ]
  },
  {
   "cell_type": "markdown",
   "metadata": {},
   "source": [
    "#### Insert, Copy, Move, Delete Rows/Columns"
   ]
  },
  {
   "cell_type": "code",
   "execution_count": 34,
   "metadata": {},
   "outputs": [],
   "source": [
    "wb = load_workbook('tim.xlsx')\n",
    "ws = wb.active\n",
    "\n",
    "ws.insert_rows(2)\n",
    "ws.insert_rows(2)\n",
    "ws.delete_rows(2)\n",
    "\n",
    "ws.insert_cols(2)\n",
    "ws.delete_cols(2)\n",
    "\n",
    "wb.save('tim.xlsx')\n",
    "\n",
    "\n"
   ]
  },
  {
   "cell_type": "markdown",
   "metadata": {},
   "source": [
    "# Move range of cells"
   ]
  },
  {
   "cell_type": "code",
   "execution_count": 35,
   "metadata": {},
   "outputs": [],
   "source": [
    "wb = load_workbook('tim.xlsx')\n",
    "ws = wb.active\n",
    "\n",
    "ws.move_range(\"A1:D5\", rows = 2, cols = 2) # Move range of cells A1:D5 two rows down and two cols to the right\n",
    "\n",
    "wb.save('tim.xlsx')"
   ]
  },
  {
   "cell_type": "markdown",
   "metadata": {},
   "source": [
    "# Formulas and Styling in Excel"
   ]
  },
  {
   "cell_type": "code",
   "execution_count": 37,
   "metadata": {},
   "outputs": [],
   "source": [
    "data = {\n",
    "\t\"Joe\": {\n",
    "\t\t\"math\": 65,\n",
    "\t\t\"science\": 78,\n",
    "\t\t\"english\": 98,\n",
    "\t\t\"gym\": 89\n",
    "\t},\n",
    "\t\"Bill\": {\n",
    "\t\t\"math\": 55,\n",
    "\t\t\"science\": 72,\n",
    "\t\t\"english\": 87,\n",
    "\t\t\"gym\": 95\n",
    "\t},\n",
    "\t\"Tim\": {\n",
    "\t\t\"math\": 100,\n",
    "\t\t\"science\": 45,\n",
    "\t\t\"english\": 75,\n",
    "\t\t\"gym\": 92\n",
    "\t},\n",
    "\t\"Sally\": {\n",
    "\t\t\"math\": 30,\n",
    "\t\t\"science\": 25,\n",
    "\t\t\"english\": 45,\n",
    "\t\t\"gym\": 100\n",
    "\t},\n",
    "\t\"Jane\": {\n",
    "\t\t\"math\": 100,\n",
    "\t\t\"science\": 100,\n",
    "\t\t\"english\": 100,\n",
    "\t\t\"gym\": 60\n",
    "\t}\n",
    "}\n",
    "\n",
    "wb = Workbook()\n",
    "ws = wb.active\n",
    "ws.title = \"Grades\"\n",
    "\n",
    "headings = ['Name'] + list(data['Joe'].keys())\n",
    "ws.append(headings)\n",
    "\n",
    "for person in data:\n",
    "\tgrades = list(data[person].values())\n",
    "\tws.append([person] + grades)\n",
    "\n",
    "# Calculate the average grade of the columns\n",
    "for col in range(2, len(data['Joe']) + 2):\n",
    "\tchar = get_column_letter(col)\n",
    "\tws[char + \"7\"] = f\"=SUM({char + '2'}:{char + '6'})/{len(data)}\"\n",
    "\n",
    "# Make the headings bold and change color\n",
    "for col in range(1, 6):\n",
    "\tws[get_column_letter(col) + '1'].font = Font(bold=True, color=\"0099CCFF\")\n",
    "\n",
    "wb.save(\"NewGrades.xlsx\")"
   ]
  },
  {
   "cell_type": "code",
   "execution_count": null,
   "metadata": {},
   "outputs": [],
   "source": []
  }
 ],
 "metadata": {
  "interpreter": {
   "hash": "52469ae204d1d50c448c04334a11ed7bbfc3a11760631521f4bdc0e8f20089d8"
  },
  "kernelspec": {
   "display_name": "Python 3.9.6 64-bit",
   "language": "python",
   "name": "python3"
  },
  "language_info": {
   "codemirror_mode": {
    "name": "ipython",
    "version": 3
   },
   "file_extension": ".py",
   "mimetype": "text/x-python",
   "name": "python",
   "nbconvert_exporter": "python",
   "pygments_lexer": "ipython3",
   "version": "3.9.6"
  },
  "orig_nbformat": 4
 },
 "nbformat": 4,
 "nbformat_minor": 2
}
